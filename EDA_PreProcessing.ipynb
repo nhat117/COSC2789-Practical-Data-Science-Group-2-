{
 "cells": [
  {
   "cell_type": "markdown",
   "metadata": {
    "cell_id": "c2f9ca6204754c6c8fbfce91ac5aea15",
    "deepnote_cell_type": "text-cell-h2",
    "formattedRanges": [],
    "is_collapsed": false,
    "tags": []
   },
   "source": [
    "## 1. Data Pre-Processing"
   ]
  },
  {
   "cell_type": "markdown",
   "metadata": {
    "cell_id": "0cd1a75e52784631a5f6444fa367e678",
    "deepnote_cell_type": "text-cell-h2",
    "formattedRanges": [],
    "is_collapsed": false,
    "tags": []
   },
   "source": [
    "## 1) Import Libraries & Data"
   ]
  },
  {
   "cell_type": "code",
   "execution_count": 1,
   "metadata": {
    "cell_id": "77de3c2f244643cbb49a4e58d37e5503",
    "deepnote_cell_type": "code",
    "deepnote_to_be_reexecuted": false,
    "execution_millis": 901,
    "execution_start": 1673329992820,
    "source_hash": "c9f2b450",
    "tags": []
   },
   "outputs": [],
   "source": [
    "import pandas as pd\n",
    "import numpy as np\n",
    "import matplotlib.pyplot as plt\n",
    "import matplotlib.image as mpimg\n",
    "from pathlib import Path\n",
    "import seaborn as sns\n",
    "import plotly.express as px\n",
    "%matplotlib inline"
   ]
  },
  {
   "cell_type": "code",
   "execution_count": 2,
   "metadata": {
    "cell_id": "c50c5a8583ff4484ada8362c1df55085",
    "deepnote_cell_type": "code",
    "deepnote_to_be_reexecuted": false,
    "execution_millis": 17,
    "execution_start": 1673329993725,
    "source_hash": "61ea062",
    "tags": []
   },
   "outputs": [],
   "source": [
    "df_labels = pd.read_csv('./converted_data/data_labels_mainData.csv')\n",
    "df_extra = pd.read_csv('./converted_data/data_labels_extraData.csv')"
   ]
  },
  {
   "cell_type": "code",
   "execution_count": 3,
   "metadata": {
    "cell_id": "e4f872e22a1b470a8f677094953d674e",
    "deepnote_cell_type": "code",
    "deepnote_table_loading": false,
    "deepnote_table_state": {
     "filters": [],
     "pageIndex": 4,
     "pageSize": 10,
     "sortBy": []
    },
    "deepnote_to_be_reexecuted": false,
    "execution_millis": 20,
    "execution_start": 1673329993748,
    "source_hash": "7c50145f",
    "tags": []
   },
   "outputs": [
    {
     "data": {
      "application/vnd.deepnote.dataframe.v3+json": {
       "column_count": 6,
       "columns": [
        {
         "dtype": "int64",
         "name": "InstanceID",
         "stats": {
          "histogram": [
           {
            "bin_end": 19173.2,
            "bin_start": 18812,
            "count": 81
           },
           {
            "bin_end": 19534.4,
            "bin_start": 19173.2,
            "count": 0
           },
           {
            "bin_end": 19895.6,
            "bin_start": 19534.4,
            "count": 0
           },
           {
            "bin_end": 20256.8,
            "bin_start": 19895.6,
            "count": 0
           },
           {
            "bin_end": 20618,
            "bin_start": 20256.8,
            "count": 0
           },
           {
            "bin_end": 20979.2,
            "bin_start": 20618,
            "count": 0
           },
           {
            "bin_end": 21340.4,
            "bin_start": 20979.2,
            "count": 0
           },
           {
            "bin_end": 21701.6,
            "bin_start": 21340.4,
            "count": 0
           },
           {
            "bin_end": 22062.8,
            "bin_start": 21701.6,
            "count": 0
           },
           {
            "bin_end": 22424,
            "bin_start": 22062.8,
            "count": 19
           }
          ],
          "max": "22424",
          "min": "18812",
          "nan_count": 0,
          "unique_count": 100
         }
        },
        {
         "dtype": "int64",
         "name": "patientID",
         "stats": {
          "histogram": [
           {
            "bin_end": 1.2,
            "bin_start": 1,
            "count": 19
           },
           {
            "bin_end": 1.4,
            "bin_start": 1.2,
            "count": 0
           },
           {
            "bin_end": 1.6,
            "bin_start": 1.4,
            "count": 0
           },
           {
            "bin_end": 1.8,
            "bin_start": 1.6,
            "count": 0
           },
           {
            "bin_end": 2,
            "bin_start": 1.8,
            "count": 0
           },
           {
            "bin_end": 2.2,
            "bin_start": 2,
            "count": 33
           },
           {
            "bin_end": 2.4000000000000004,
            "bin_start": 2.2,
            "count": 0
           },
           {
            "bin_end": 2.6,
            "bin_start": 2.4000000000000004,
            "count": 0
           },
           {
            "bin_end": 2.8,
            "bin_start": 2.6,
            "count": 0
           },
           {
            "bin_end": 3,
            "bin_start": 2.8,
            "count": 48
           }
          ],
          "max": "3",
          "min": "1",
          "nan_count": 0,
          "unique_count": 3
         }
        },
        {
         "dtype": "object",
         "name": "ImageName",
         "stats": {
          "categories": [
           {
            "count": 1,
            "name": "22405.png"
           },
           {
            "count": 1,
            "name": "22406.png"
           },
           {
            "count": 98,
            "name": "98 others"
           }
          ],
          "nan_count": 0,
          "unique_count": 100
         }
        },
        {
         "dtype": "object",
         "name": "cellTypeName",
         "stats": {
          "categories": [
           {
            "count": 67,
            "name": "fibroblast"
           },
           {
            "count": 24,
            "name": "inflammatory"
           },
           {
            "count": 9,
            "name": "others"
           }
          ],
          "nan_count": 0,
          "unique_count": 3
         }
        },
        {
         "dtype": "int64",
         "name": "cellType",
         "stats": {
          "histogram": [
           {
            "bin_end": 0.3,
            "bin_start": 0,
            "count": 67
           },
           {
            "bin_end": 0.6,
            "bin_start": 0.3,
            "count": 0
           },
           {
            "bin_end": 0.8999999999999999,
            "bin_start": 0.6,
            "count": 0
           },
           {
            "bin_end": 1.2,
            "bin_start": 0.8999999999999999,
            "count": 24
           },
           {
            "bin_end": 1.5,
            "bin_start": 1.2,
            "count": 0
           },
           {
            "bin_end": 1.7999999999999998,
            "bin_start": 1.5,
            "count": 0
           },
           {
            "bin_end": 2.1,
            "bin_start": 1.7999999999999998,
            "count": 0
           },
           {
            "bin_end": 2.4,
            "bin_start": 2.1,
            "count": 0
           },
           {
            "bin_end": 2.6999999999999997,
            "bin_start": 2.4,
            "count": 0
           },
           {
            "bin_end": 3,
            "bin_start": 2.6999999999999997,
            "count": 9
           }
          ],
          "max": "3",
          "min": "0",
          "nan_count": 0,
          "unique_count": 3
         }
        },
        {
         "dtype": "int64",
         "name": "isCancerous",
         "stats": {
          "histogram": [
           {
            "bin_end": -0.4,
            "bin_start": -0.5,
            "count": 0
           },
           {
            "bin_end": -0.3,
            "bin_start": -0.4,
            "count": 0
           },
           {
            "bin_end": -0.19999999999999996,
            "bin_start": -0.3,
            "count": 0
           },
           {
            "bin_end": -0.09999999999999998,
            "bin_start": -0.19999999999999996,
            "count": 0
           },
           {
            "bin_end": 0,
            "bin_start": -0.09999999999999998,
            "count": 0
           },
           {
            "bin_end": 0.10000000000000009,
            "bin_start": 0,
            "count": 100
           },
           {
            "bin_end": 0.20000000000000007,
            "bin_start": 0.10000000000000009,
            "count": 0
           },
           {
            "bin_end": 0.30000000000000004,
            "bin_start": 0.20000000000000007,
            "count": 0
           },
           {
            "bin_end": 0.4,
            "bin_start": 0.30000000000000004,
            "count": 0
           },
           {
            "bin_end": 0.5,
            "bin_start": 0.4,
            "count": 0
           }
          ],
          "max": "0",
          "min": "0",
          "nan_count": 0,
          "unique_count": 1
         }
        },
        {
         "dtype": "int64",
         "name": "_deepnote_index_column"
        }
       ],
       "row_count": 100,
       "rows": [
        {
         "ImageName": "19056.png",
         "InstanceID": "19056",
         "_deepnote_index_column": "40",
         "cellType": "1",
         "cellTypeName": "inflammatory",
         "isCancerous": "0",
         "patientID": "2"
        },
        {
         "ImageName": "19057.png",
         "InstanceID": "19057",
         "_deepnote_index_column": "41",
         "cellType": "1",
         "cellTypeName": "inflammatory",
         "isCancerous": "0",
         "patientID": "2"
        },
        {
         "ImageName": "19058.png",
         "InstanceID": "19058",
         "_deepnote_index_column": "42",
         "cellType": "1",
         "cellTypeName": "inflammatory",
         "isCancerous": "0",
         "patientID": "2"
        },
        {
         "ImageName": "19059.png",
         "InstanceID": "19059",
         "_deepnote_index_column": "43",
         "cellType": "1",
         "cellTypeName": "inflammatory",
         "isCancerous": "0",
         "patientID": "2"
        },
        {
         "ImageName": "19060.png",
         "InstanceID": "19060",
         "_deepnote_index_column": "44",
         "cellType": "1",
         "cellTypeName": "inflammatory",
         "isCancerous": "0",
         "patientID": "2"
        },
        {
         "ImageName": "19061.png",
         "InstanceID": "19061",
         "_deepnote_index_column": "45",
         "cellType": "3",
         "cellTypeName": "others",
         "isCancerous": "0",
         "patientID": "2"
        },
        {
         "ImageName": "19062.png",
         "InstanceID": "19062",
         "_deepnote_index_column": "46",
         "cellType": "3",
         "cellTypeName": "others",
         "isCancerous": "0",
         "patientID": "2"
        },
        {
         "ImageName": "19063.png",
         "InstanceID": "19063",
         "_deepnote_index_column": "47",
         "cellType": "3",
         "cellTypeName": "others",
         "isCancerous": "0",
         "patientID": "2"
        },
        {
         "ImageName": "19064.png",
         "InstanceID": "19064",
         "_deepnote_index_column": "48",
         "cellType": "3",
         "cellTypeName": "others",
         "isCancerous": "0",
         "patientID": "2"
        },
        {
         "ImageName": "19066.png",
         "InstanceID": "19066",
         "_deepnote_index_column": "49",
         "cellType": "3",
         "cellTypeName": "others",
         "isCancerous": "0",
         "patientID": "2"
        }
       ]
      },
      "text/html": [
       "<div>\n",
       "<style scoped>\n",
       "    .dataframe tbody tr th:only-of-type {\n",
       "        vertical-align: middle;\n",
       "    }\n",
       "\n",
       "    .dataframe tbody tr th {\n",
       "        vertical-align: top;\n",
       "    }\n",
       "\n",
       "    .dataframe thead th {\n",
       "        text-align: right;\n",
       "    }\n",
       "</style>\n",
       "<table border=\"1\" class=\"dataframe\">\n",
       "  <thead>\n",
       "    <tr style=\"text-align: right;\">\n",
       "      <th></th>\n",
       "      <th>InstanceID</th>\n",
       "      <th>patientID</th>\n",
       "      <th>ImageName</th>\n",
       "      <th>cellTypeName</th>\n",
       "      <th>cellType</th>\n",
       "      <th>isCancerous</th>\n",
       "    </tr>\n",
       "  </thead>\n",
       "  <tbody>\n",
       "    <tr>\n",
       "      <th>0</th>\n",
       "      <td>22405</td>\n",
       "      <td>1</td>\n",
       "      <td>22405.png</td>\n",
       "      <td>fibroblast</td>\n",
       "      <td>0</td>\n",
       "      <td>0</td>\n",
       "    </tr>\n",
       "    <tr>\n",
       "      <th>1</th>\n",
       "      <td>22406</td>\n",
       "      <td>1</td>\n",
       "      <td>22406.png</td>\n",
       "      <td>fibroblast</td>\n",
       "      <td>0</td>\n",
       "      <td>0</td>\n",
       "    </tr>\n",
       "    <tr>\n",
       "      <th>2</th>\n",
       "      <td>22407</td>\n",
       "      <td>1</td>\n",
       "      <td>22407.png</td>\n",
       "      <td>fibroblast</td>\n",
       "      <td>0</td>\n",
       "      <td>0</td>\n",
       "    </tr>\n",
       "    <tr>\n",
       "      <th>3</th>\n",
       "      <td>22408</td>\n",
       "      <td>1</td>\n",
       "      <td>22408.png</td>\n",
       "      <td>fibroblast</td>\n",
       "      <td>0</td>\n",
       "      <td>0</td>\n",
       "    </tr>\n",
       "    <tr>\n",
       "      <th>4</th>\n",
       "      <td>22409</td>\n",
       "      <td>1</td>\n",
       "      <td>22409.png</td>\n",
       "      <td>fibroblast</td>\n",
       "      <td>0</td>\n",
       "      <td>0</td>\n",
       "    </tr>\n",
       "    <tr>\n",
       "      <th>...</th>\n",
       "      <td>...</td>\n",
       "      <td>...</td>\n",
       "      <td>...</td>\n",
       "      <td>...</td>\n",
       "      <td>...</td>\n",
       "      <td>...</td>\n",
       "    </tr>\n",
       "    <tr>\n",
       "      <th>95</th>\n",
       "      <td>18857</td>\n",
       "      <td>3</td>\n",
       "      <td>18857.png</td>\n",
       "      <td>fibroblast</td>\n",
       "      <td>0</td>\n",
       "      <td>0</td>\n",
       "    </tr>\n",
       "    <tr>\n",
       "      <th>96</th>\n",
       "      <td>18858</td>\n",
       "      <td>3</td>\n",
       "      <td>18858.png</td>\n",
       "      <td>fibroblast</td>\n",
       "      <td>0</td>\n",
       "      <td>0</td>\n",
       "    </tr>\n",
       "    <tr>\n",
       "      <th>97</th>\n",
       "      <td>18859</td>\n",
       "      <td>3</td>\n",
       "      <td>18859.png</td>\n",
       "      <td>fibroblast</td>\n",
       "      <td>0</td>\n",
       "      <td>0</td>\n",
       "    </tr>\n",
       "    <tr>\n",
       "      <th>98</th>\n",
       "      <td>18861</td>\n",
       "      <td>3</td>\n",
       "      <td>18861.png</td>\n",
       "      <td>fibroblast</td>\n",
       "      <td>0</td>\n",
       "      <td>0</td>\n",
       "    </tr>\n",
       "    <tr>\n",
       "      <th>99</th>\n",
       "      <td>18862</td>\n",
       "      <td>3</td>\n",
       "      <td>18862.png</td>\n",
       "      <td>fibroblast</td>\n",
       "      <td>0</td>\n",
       "      <td>0</td>\n",
       "    </tr>\n",
       "  </tbody>\n",
       "</table>\n",
       "<p>100 rows × 6 columns</p>\n",
       "</div>"
      ],
      "text/plain": [
       "    InstanceID  patientID  ImageName cellTypeName  cellType  isCancerous\n",
       "0        22405          1  22405.png   fibroblast         0            0\n",
       "1        22406          1  22406.png   fibroblast         0            0\n",
       "2        22407          1  22407.png   fibroblast         0            0\n",
       "3        22408          1  22408.png   fibroblast         0            0\n",
       "4        22409          1  22409.png   fibroblast         0            0\n",
       "..         ...        ...        ...          ...       ...          ...\n",
       "95       18857          3  18857.png   fibroblast         0            0\n",
       "96       18858          3  18858.png   fibroblast         0            0\n",
       "97       18859          3  18859.png   fibroblast         0            0\n",
       "98       18861          3  18861.png   fibroblast         0            0\n",
       "99       18862          3  18862.png   fibroblast         0            0\n",
       "\n",
       "[100 rows x 6 columns]"
      ]
     },
     "execution_count": 50,
     "metadata": {},
     "output_type": "execute_result"
    }
   ],
   "source": [
    "df_labels.head(100)"
   ]
  },
  {
   "cell_type": "code",
   "execution_count": 54,
   "metadata": {
    "cell_id": "cb262e04cb474333bcab3b66fb7b3031",
    "deepnote_cell_type": "code",
    "deepnote_to_be_reexecuted": false,
    "execution_millis": 4,
    "execution_start": 1673334137578,
    "source_hash": "490ed289",
    "tags": []
   },
   "outputs": [
    {
     "data": {
      "text/plain": [
       "cellType\n",
       "0    1888\n",
       "1    2543\n",
       "2    4079\n",
       "3    1386\n",
       "dtype: int64"
      ]
     },
     "execution_count": 54,
     "metadata": {},
     "output_type": "execute_result"
    }
   ],
   "source": [
    "df_celltype = df_labels.groupby(['cellType']).size()\n",
    "df_celltype.head()"
   ]
  },
  {
   "cell_type": "code",
   "execution_count": 3,
   "metadata": {
    "cell_id": "31f15ffe438640a0a467c9d53625a07d",
    "deepnote_cell_type": "visualization",
    "deepnote_to_be_reexecuted": false,
    "execution_millis": 1,
    "execution_start": 1673329993769,
    "source_hash": "b623e53d"
   },
   "outputs": [],
   "source": []
  },
  {
   "cell_type": "code",
   "execution_count": 4,
   "metadata": {
    "cell_id": "2683fb708a184150aae8a480c9d8dae6",
    "deepnote_cell_type": "code",
    "deepnote_to_be_reexecuted": false,
    "execution_millis": 47,
    "execution_start": 1673329993780,
    "source_hash": "92141673",
    "tags": []
   },
   "outputs": [
    {
     "data": {
      "application/vnd.deepnote.dataframe.v3+json": {
       "column_count": 4,
       "columns": [
        {
         "dtype": "int64",
         "name": "InstanceID",
         "stats": {
          "histogram": [
           {
            "bin_end": 12681.4,
            "bin_start": 12681,
            "count": 1
           },
           {
            "bin_end": 12681.8,
            "bin_start": 12681.4,
            "count": 0
           },
           {
            "bin_end": 12682.2,
            "bin_start": 12681.8,
            "count": 1
           },
           {
            "bin_end": 12682.6,
            "bin_start": 12682.2,
            "count": 0
           },
           {
            "bin_end": 12683,
            "bin_start": 12682.6,
            "count": 0
           },
           {
            "bin_end": 12683.4,
            "bin_start": 12683,
            "count": 1
           },
           {
            "bin_end": 12683.8,
            "bin_start": 12683.4,
            "count": 0
           },
           {
            "bin_end": 12684.2,
            "bin_start": 12683.8,
            "count": 1
           },
           {
            "bin_end": 12684.6,
            "bin_start": 12684.2,
            "count": 0
           },
           {
            "bin_end": 12685,
            "bin_start": 12684.6,
            "count": 1
           }
          ],
          "max": "12685",
          "min": "12681",
          "nan_count": 0,
          "unique_count": 5
         }
        },
        {
         "dtype": "int64",
         "name": "patientID",
         "stats": {
          "histogram": [
           {
            "bin_end": 60.6,
            "bin_start": 60.5,
            "count": 0
           },
           {
            "bin_end": 60.7,
            "bin_start": 60.6,
            "count": 0
           },
           {
            "bin_end": 60.8,
            "bin_start": 60.7,
            "count": 0
           },
           {
            "bin_end": 60.9,
            "bin_start": 60.8,
            "count": 0
           },
           {
            "bin_end": 61,
            "bin_start": 60.9,
            "count": 0
           },
           {
            "bin_end": 61.1,
            "bin_start": 61,
            "count": 5
           },
           {
            "bin_end": 61.2,
            "bin_start": 61.1,
            "count": 0
           },
           {
            "bin_end": 61.3,
            "bin_start": 61.2,
            "count": 0
           },
           {
            "bin_end": 61.4,
            "bin_start": 61.3,
            "count": 0
           },
           {
            "bin_end": 61.5,
            "bin_start": 61.4,
            "count": 0
           }
          ],
          "max": "61",
          "min": "61",
          "nan_count": 0,
          "unique_count": 1
         }
        },
        {
         "dtype": "object",
         "name": "ImageName",
         "stats": {
          "categories": [
           {
            "count": 1,
            "name": "12681.png"
           },
           {
            "count": 1,
            "name": "12682.png"
           },
           {
            "count": 3,
            "name": "3 others"
           }
          ],
          "nan_count": 0,
          "unique_count": 5
         }
        },
        {
         "dtype": "int64",
         "name": "isCancerous",
         "stats": {
          "histogram": [
           {
            "bin_end": -0.4,
            "bin_start": -0.5,
            "count": 0
           },
           {
            "bin_end": -0.3,
            "bin_start": -0.4,
            "count": 0
           },
           {
            "bin_end": -0.19999999999999996,
            "bin_start": -0.3,
            "count": 0
           },
           {
            "bin_end": -0.09999999999999998,
            "bin_start": -0.19999999999999996,
            "count": 0
           },
           {
            "bin_end": 0,
            "bin_start": -0.09999999999999998,
            "count": 0
           },
           {
            "bin_end": 0.10000000000000009,
            "bin_start": 0,
            "count": 5
           },
           {
            "bin_end": 0.20000000000000007,
            "bin_start": 0.10000000000000009,
            "count": 0
           },
           {
            "bin_end": 0.30000000000000004,
            "bin_start": 0.20000000000000007,
            "count": 0
           },
           {
            "bin_end": 0.4,
            "bin_start": 0.30000000000000004,
            "count": 0
           },
           {
            "bin_end": 0.5,
            "bin_start": 0.4,
            "count": 0
           }
          ],
          "max": "0",
          "min": "0",
          "nan_count": 0,
          "unique_count": 1
         }
        },
        {
         "dtype": "int64",
         "name": "_deepnote_index_column"
        }
       ],
       "row_count": 5,
       "rows": [
        {
         "ImageName": "12681.png",
         "InstanceID": "12681",
         "_deepnote_index_column": "0",
         "isCancerous": "0",
         "patientID": "61"
        },
        {
         "ImageName": "12682.png",
         "InstanceID": "12682",
         "_deepnote_index_column": "1",
         "isCancerous": "0",
         "patientID": "61"
        },
        {
         "ImageName": "12683.png",
         "InstanceID": "12683",
         "_deepnote_index_column": "2",
         "isCancerous": "0",
         "patientID": "61"
        },
        {
         "ImageName": "12684.png",
         "InstanceID": "12684",
         "_deepnote_index_column": "3",
         "isCancerous": "0",
         "patientID": "61"
        },
        {
         "ImageName": "12685.png",
         "InstanceID": "12685",
         "_deepnote_index_column": "4",
         "isCancerous": "0",
         "patientID": "61"
        }
       ]
      },
      "text/html": [
       "<div>\n",
       "<style scoped>\n",
       "    .dataframe tbody tr th:only-of-type {\n",
       "        vertical-align: middle;\n",
       "    }\n",
       "\n",
       "    .dataframe tbody tr th {\n",
       "        vertical-align: top;\n",
       "    }\n",
       "\n",
       "    .dataframe thead th {\n",
       "        text-align: right;\n",
       "    }\n",
       "</style>\n",
       "<table border=\"1\" class=\"dataframe\">\n",
       "  <thead>\n",
       "    <tr style=\"text-align: right;\">\n",
       "      <th></th>\n",
       "      <th>InstanceID</th>\n",
       "      <th>patientID</th>\n",
       "      <th>ImageName</th>\n",
       "      <th>isCancerous</th>\n",
       "    </tr>\n",
       "  </thead>\n",
       "  <tbody>\n",
       "    <tr>\n",
       "      <th>0</th>\n",
       "      <td>12681</td>\n",
       "      <td>61</td>\n",
       "      <td>12681.png</td>\n",
       "      <td>0</td>\n",
       "    </tr>\n",
       "    <tr>\n",
       "      <th>1</th>\n",
       "      <td>12682</td>\n",
       "      <td>61</td>\n",
       "      <td>12682.png</td>\n",
       "      <td>0</td>\n",
       "    </tr>\n",
       "    <tr>\n",
       "      <th>2</th>\n",
       "      <td>12683</td>\n",
       "      <td>61</td>\n",
       "      <td>12683.png</td>\n",
       "      <td>0</td>\n",
       "    </tr>\n",
       "    <tr>\n",
       "      <th>3</th>\n",
       "      <td>12684</td>\n",
       "      <td>61</td>\n",
       "      <td>12684.png</td>\n",
       "      <td>0</td>\n",
       "    </tr>\n",
       "    <tr>\n",
       "      <th>4</th>\n",
       "      <td>12685</td>\n",
       "      <td>61</td>\n",
       "      <td>12685.png</td>\n",
       "      <td>0</td>\n",
       "    </tr>\n",
       "  </tbody>\n",
       "</table>\n",
       "</div>"
      ],
      "text/plain": [
       "   InstanceID  patientID  ImageName  isCancerous\n",
       "0       12681         61  12681.png            0\n",
       "1       12682         61  12682.png            0\n",
       "2       12683         61  12683.png            0\n",
       "3       12684         61  12684.png            0\n",
       "4       12685         61  12685.png            0"
      ]
     },
     "execution_count": 4,
     "metadata": {},
     "output_type": "execute_result"
    }
   ],
   "source": [
    "df_extra.head()"
   ]
  },
  {
   "cell_type": "markdown",
   "metadata": {
    "cell_id": "77d2c90a465142a9ad339b52efc01b2d",
    "deepnote_cell_type": "text-cell-h2",
    "formattedRanges": [],
    "is_collapsed": false,
    "tags": []
   },
   "source": [
    "## 2) Data Exploration (EDA for df_main)"
   ]
  },
  {
   "cell_type": "markdown",
   "metadata": {
    "cell_id": "71c20b72eb7b487b8782d34a88c323c8",
    "deepnote_cell_type": "text-cell-h3",
    "formattedRanges": [],
    "is_collapsed": false,
    "tags": []
   },
   "source": [
    "### 2.1) Hypothesis"
   ]
  },
  {
   "cell_type": "markdown",
   "metadata": {
    "cell_id": "23386c3ba407495fa10f9a208fa876f1",
    "deepnote_cell_type": "text-cell-callout",
    "formattedRanges": [],
    "is_collapsed": false,
    "tags": []
   },
   "source": [
    "> Hypothesis 1: The percentage of those with cancerous cell is over 60%\n",
    "Hypothesis 2: The percentage of the image being identify as cancerous for each patientID will be over 50%"
   ]
  },
  {
   "cell_type": "markdown",
   "metadata": {
    "cell_id": "ceaf0c35-8641-474f-b439-82b49bd1ff2f",
    "deepnote_cell_type": "text-cell-p",
    "formattedRanges": [],
    "is_collapsed": false,
    "tags": []
   },
   "source": [
    "Hypothesis 3: Cell Type 2  is cancerous cell, the rest is non cancerous"
   ]
  },
  {
   "cell_type": "markdown",
   "metadata": {
    "cell_id": "a907112a-5b84-4222-b18e-7c2e02a7ad87",
    "deepnote_cell_type": "text-cell-p",
    "formattedRanges": [],
    "is_collapsed": false,
    "tags": []
   },
   "source": [
    "Hypothesis 4: Cell Type 2 have highest frequency."
   ]
  },
  {
   "cell_type": "markdown",
   "metadata": {
    "cell_id": "9d36885c-d8e2-4774-9de3-57b79529f82f",
    "deepnote_cell_type": "text-cell-p",
    "formattedRanges": [],
    "is_collapsed": false,
    "tags": []
   },
   "source": [
    "Hypothesis 5: All of the image in the dataset have the same resolution 27x27"
   ]
  },
  {
   "cell_type": "markdown",
   "metadata": {
    "cell_id": "9dab38902b614bbcb539f324d23af409",
    "deepnote_cell_type": "text-cell-h3",
    "formattedRanges": [],
    "is_collapsed": false,
    "tags": []
   },
   "source": [
    "### 2.2) Exploring trends"
   ]
  },
  {
   "cell_type": "code",
   "execution_count": 5,
   "metadata": {
    "cell_id": "1fd6703bbc404306b84c42158e1effca",
    "deepnote_cell_type": "code",
    "deepnote_to_be_reexecuted": false,
    "execution_millis": 2,
    "execution_start": 1673329993825,
    "source_hash": "1f5f536b",
    "tags": []
   },
   "outputs": [
    {
     "data": {
      "text/plain": [
       "InstanceID         22444\n",
       "patientID             60\n",
       "ImageName       9999.png\n",
       "cellTypeName      others\n",
       "cellType               3\n",
       "isCancerous            1\n",
       "dtype: object"
      ]
     },
     "execution_count": 5,
     "metadata": {},
     "output_type": "execute_result"
    }
   ],
   "source": [
    "df_labels.max()"
   ]
  },
  {
   "cell_type": "code",
   "execution_count": 6,
   "metadata": {
    "cell_id": "3cf293db300e4a3fb00b1c2aa1137eab",
    "deepnote_cell_type": "code",
    "deepnote_to_be_reexecuted": false,
    "execution_millis": 33,
    "execution_start": 1673329993826,
    "source_hash": "c6159527",
    "tags": []
   },
   "outputs": [
    {
     "data": {
      "text/plain": [
       "InstanceID     10193.880154\n",
       "patientID         29.762025\n",
       "cellType           1.501516\n",
       "isCancerous        0.412187\n",
       "dtype: float64"
      ]
     },
     "execution_count": 6,
     "metadata": {},
     "output_type": "execute_result"
    }
   ],
   "source": [
    "df_labels.mean()"
   ]
  },
  {
   "cell_type": "markdown",
   "metadata": {
    "cell_id": "a4356034d449460392d320b80c269ea1",
    "deepnote_cell_type": "text-cell-callout",
    "formattedRanges": [],
    "is_collapsed": false,
    "tags": []
   },
   "source": [
    "> As observed from the mean of the dataset, the average percentage of those that have cancer is higher as the mean is around 0.412. From here, we can use this as a starting point to finding out the trend."
   ]
  },
  {
   "cell_type": "code",
   "execution_count": 34,
   "metadata": {
    "cell_id": "2a1f4f06465842d196c6ff53531e2500",
    "deepnote_cell_type": "code",
    "deepnote_to_be_reexecuted": false,
    "execution_millis": 15,
    "execution_start": 1673331934143,
    "source_hash": "6a14f650",
    "tags": []
   },
   "outputs": [
    {
     "data": {
      "application/vnd.deepnote.dataframe.v3+json": {
       "column_count": 3,
       "columns": [
        {
         "dtype": "float64",
         "name": "InstanceID",
         "stats": {
          "histogram": [
           {
            "bin_end": 7318.111754706334,
            "bin_start": 6728.589360137288,
            "count": 1
           },
           {
            "bin_end": 7907.63414927538,
            "bin_start": 7318.111754706334,
            "count": 0
           },
           {
            "bin_end": 8497.156543844425,
            "bin_start": 7907.63414927538,
            "count": 0
           },
           {
            "bin_end": 9086.678938413472,
            "bin_start": 8497.156543844425,
            "count": 0
           },
           {
            "bin_end": 9676.201332982517,
            "bin_start": 9086.678938413472,
            "count": 0
           },
           {
            "bin_end": 10265.723727551562,
            "bin_start": 9676.201332982517,
            "count": 0
           },
           {
            "bin_end": 10855.246122120607,
            "bin_start": 10265.723727551562,
            "count": 0
           },
           {
            "bin_end": 11444.768516689654,
            "bin_start": 10855.246122120607,
            "count": 0
           },
           {
            "bin_end": 12034.2909112587,
            "bin_start": 11444.768516689654,
            "count": 0
           },
           {
            "bin_end": 12623.813305827745,
            "bin_start": 12034.2909112587,
            "count": 1
           }
          ],
          "max": "12623.813305827745",
          "min": "6728.589360137288",
          "nan_count": 0,
          "unique_count": 2
         }
        },
        {
         "dtype": "float64",
         "name": "patientID",
         "stats": {
          "histogram": [
           {
            "bin_end": 29.7410084937998,
            "bin_start": 29.73670017161069,
            "count": 1
           },
           {
            "bin_end": 29.74531681598891,
            "bin_start": 29.7410084937998,
            "count": 0
           },
           {
            "bin_end": 29.749625138178025,
            "bin_start": 29.74531681598891,
            "count": 0
           },
           {
            "bin_end": 29.753933460367136,
            "bin_start": 29.749625138178025,
            "count": 0
           },
           {
            "bin_end": 29.758241782556247,
            "bin_start": 29.753933460367136,
            "count": 0
           },
           {
            "bin_end": 29.76255010474536,
            "bin_start": 29.758241782556247,
            "count": 0
           },
           {
            "bin_end": 29.76685842693447,
            "bin_start": 29.76255010474536,
            "count": 0
           },
           {
            "bin_end": 29.771166749123584,
            "bin_start": 29.76685842693447,
            "count": 0
           },
           {
            "bin_end": 29.775475071312695,
            "bin_start": 29.771166749123584,
            "count": 0
           },
           {
            "bin_end": 29.779783393501805,
            "bin_start": 29.775475071312695,
            "count": 1
           }
          ],
          "max": "29.779783393501805",
          "min": "29.73670017161069",
          "nan_count": 0,
          "unique_count": 2
         }
        },
        {
         "dtype": "float64",
         "name": "cellType",
         "stats": {
          "histogram": [
           {
            "bin_end": 1.23677153171738,
            "bin_start": 1.1519683685748667,
            "count": 1
           },
           {
            "bin_end": 1.3215746948598934,
            "bin_start": 1.23677153171738,
            "count": 0
           },
           {
            "bin_end": 1.4063778580024067,
            "bin_start": 1.3215746948598934,
            "count": 0
           },
           {
            "bin_end": 1.4911810211449201,
            "bin_start": 1.4063778580024067,
            "count": 0
           },
           {
            "bin_end": 1.5759841842874334,
            "bin_start": 1.4911810211449201,
            "count": 0
           },
           {
            "bin_end": 1.6607873474299466,
            "bin_start": 1.5759841842874334,
            "count": 0
           },
           {
            "bin_end": 1.7455905105724598,
            "bin_start": 1.6607873474299466,
            "count": 0
           },
           {
            "bin_end": 1.8303936737149733,
            "bin_start": 1.7455905105724598,
            "count": 0
           },
           {
            "bin_end": 1.9151968368574868,
            "bin_start": 1.8303936737149733,
            "count": 0
           },
           {
            "bin_end": 2,
            "bin_start": 1.9151968368574868,
            "count": 1
           }
          ],
          "max": "2.0",
          "min": "1.1519683685748667",
          "nan_count": 0,
          "unique_count": 2
         }
        },
        {
         "dtype": "int64",
         "name": "_deepnote_index_column"
        }
       ],
       "row_count": 2,
       "rows": [
        {
         "InstanceID": "12623.813305827745",
         "_deepnote_index_column": "0",
         "cellType": "1.1519683685748667",
         "patientID": "29.779783393501805"
        },
        {
         "InstanceID": "6728.589360137288",
         "_deepnote_index_column": "1",
         "cellType": "2.0",
         "patientID": "29.73670017161069"
        }
       ]
      },
      "text/html": [
       "<div>\n",
       "<style scoped>\n",
       "    .dataframe tbody tr th:only-of-type {\n",
       "        vertical-align: middle;\n",
       "    }\n",
       "\n",
       "    .dataframe tbody tr th {\n",
       "        vertical-align: top;\n",
       "    }\n",
       "\n",
       "    .dataframe thead th {\n",
       "        text-align: right;\n",
       "    }\n",
       "</style>\n",
       "<table border=\"1\" class=\"dataframe\">\n",
       "  <thead>\n",
       "    <tr style=\"text-align: right;\">\n",
       "      <th></th>\n",
       "      <th>InstanceID</th>\n",
       "      <th>patientID</th>\n",
       "      <th>cellType</th>\n",
       "    </tr>\n",
       "    <tr>\n",
       "      <th>isCancerous</th>\n",
       "      <th></th>\n",
       "      <th></th>\n",
       "      <th></th>\n",
       "    </tr>\n",
       "  </thead>\n",
       "  <tbody>\n",
       "    <tr>\n",
       "      <th>0</th>\n",
       "      <td>12623.813306</td>\n",
       "      <td>29.779783</td>\n",
       "      <td>1.151968</td>\n",
       "    </tr>\n",
       "    <tr>\n",
       "      <th>1</th>\n",
       "      <td>6728.589360</td>\n",
       "      <td>29.736700</td>\n",
       "      <td>2.000000</td>\n",
       "    </tr>\n",
       "  </tbody>\n",
       "</table>\n",
       "</div>"
      ],
      "text/plain": [
       "               InstanceID  patientID  cellType\n",
       "isCancerous                                   \n",
       "0            12623.813306  29.779783  1.151968\n",
       "1             6728.589360  29.736700  2.000000"
      ]
     },
     "execution_count": 34,
     "metadata": {},
     "output_type": "execute_result"
    }
   ],
   "source": [
    "df_labels.groupby(['isCancerous']).mean()"
   ]
  },
  {
   "cell_type": "code",
   "execution_count": 28,
   "metadata": {
    "cell_id": "e9b1b4860e954a18a4f9327702e47206",
    "deepnote_cell_type": "code",
    "deepnote_table_loading": false,
    "deepnote_table_state": {
     "filters": [],
     "pageIndex": 3,
     "pageSize": 10,
     "sortBy": []
    },
    "deepnote_to_be_reexecuted": false,
    "execution_millis": 0,
    "execution_start": 1673331257040,
    "source_hash": "c1a4f86e",
    "tags": []
   },
   "outputs": [],
   "source": [
    "df_patientmain = df_labels.groupby(['InstanceID']).mean()"
   ]
  },
  {
   "cell_type": "code",
   "execution_count": 29,
   "metadata": {
    "cell_id": "2ff474ff6db946728b6b34d192de6f9f",
    "deepnote_cell_type": "code",
    "deepnote_table_invalid": false,
    "deepnote_table_loading": false,
    "deepnote_table_state": {
     "filters": [],
     "pageIndex": 0,
     "pageSize": 50,
     "sortBy": []
    },
    "deepnote_to_be_reexecuted": false,
    "execution_millis": 4,
    "execution_start": 1673331261039,
    "source_hash": "b2871525",
    "tags": []
   },
   "outputs": [
    {
     "data": {
      "application/vnd.deepnote.dataframe.v3+json": {
       "column_count": 3,
       "columns": [
        {
         "dtype": "int64",
         "name": "patientID",
         "stats": {
          "histogram": [
           {
            "bin_end": 35.6,
            "bin_start": 35.5,
            "count": 0
           },
           {
            "bin_end": 35.7,
            "bin_start": 35.6,
            "count": 0
           },
           {
            "bin_end": 35.8,
            "bin_start": 35.7,
            "count": 0
           },
           {
            "bin_end": 35.9,
            "bin_start": 35.8,
            "count": 0
           },
           {
            "bin_end": 36,
            "bin_start": 35.9,
            "count": 0
           },
           {
            "bin_end": 36.1,
            "bin_start": 36,
            "count": 100
           },
           {
            "bin_end": 36.2,
            "bin_start": 36.1,
            "count": 0
           },
           {
            "bin_end": 36.3,
            "bin_start": 36.2,
            "count": 0
           },
           {
            "bin_end": 36.4,
            "bin_start": 36.3,
            "count": 0
           },
           {
            "bin_end": 36.5,
            "bin_start": 36.4,
            "count": 0
           }
          ],
          "max": "36",
          "min": "36",
          "nan_count": 0,
          "unique_count": 1
         }
        },
        {
         "dtype": "int64",
         "name": "cellType",
         "stats": {
          "histogram": [
           {
            "bin_end": 0.3,
            "bin_start": 0,
            "count": 65
           },
           {
            "bin_end": 0.6,
            "bin_start": 0.3,
            "count": 0
           },
           {
            "bin_end": 0.8999999999999999,
            "bin_start": 0.6,
            "count": 0
           },
           {
            "bin_end": 1.2,
            "bin_start": 0.8999999999999999,
            "count": 11
           },
           {
            "bin_end": 1.5,
            "bin_start": 1.2,
            "count": 0
           },
           {
            "bin_end": 1.7999999999999998,
            "bin_start": 1.5,
            "count": 0
           },
           {
            "bin_end": 2.1,
            "bin_start": 1.7999999999999998,
            "count": 23
           },
           {
            "bin_end": 2.4,
            "bin_start": 2.1,
            "count": 0
           },
           {
            "bin_end": 2.6999999999999997,
            "bin_start": 2.4,
            "count": 0
           },
           {
            "bin_end": 3,
            "bin_start": 2.6999999999999997,
            "count": 1
           }
          ],
          "max": "3",
          "min": "0",
          "nan_count": 0,
          "unique_count": 4
         }
        },
        {
         "dtype": "int64",
         "name": "isCancerous",
         "stats": {
          "histogram": [
           {
            "bin_end": 0.1,
            "bin_start": 0,
            "count": 77
           },
           {
            "bin_end": 0.2,
            "bin_start": 0.1,
            "count": 0
           },
           {
            "bin_end": 0.30000000000000004,
            "bin_start": 0.2,
            "count": 0
           },
           {
            "bin_end": 0.4,
            "bin_start": 0.30000000000000004,
            "count": 0
           },
           {
            "bin_end": 0.5,
            "bin_start": 0.4,
            "count": 0
           },
           {
            "bin_end": 0.6000000000000001,
            "bin_start": 0.5,
            "count": 0
           },
           {
            "bin_end": 0.7000000000000001,
            "bin_start": 0.6000000000000001,
            "count": 0
           },
           {
            "bin_end": 0.8,
            "bin_start": 0.7000000000000001,
            "count": 0
           },
           {
            "bin_end": 0.9,
            "bin_start": 0.8,
            "count": 0
           },
           {
            "bin_end": 1,
            "bin_start": 0.9,
            "count": 23
           }
          ],
          "max": "1",
          "min": "0",
          "nan_count": 0,
          "unique_count": 2
         }
        },
        {
         "dtype": "int64",
         "name": "_deepnote_index_column"
        }
       ],
       "row_count": 100,
       "rows": [
        {
         "_deepnote_index_column": "1",
         "cellType": "0",
         "isCancerous": "0",
         "patientID": "36"
        },
        {
         "_deepnote_index_column": "2",
         "cellType": "0",
         "isCancerous": "0",
         "patientID": "36"
        },
        {
         "_deepnote_index_column": "3",
         "cellType": "0",
         "isCancerous": "0",
         "patientID": "36"
        },
        {
         "_deepnote_index_column": "4",
         "cellType": "0",
         "isCancerous": "0",
         "patientID": "36"
        },
        {
         "_deepnote_index_column": "5",
         "cellType": "0",
         "isCancerous": "0",
         "patientID": "36"
        },
        {
         "_deepnote_index_column": "6",
         "cellType": "0",
         "isCancerous": "0",
         "patientID": "36"
        },
        {
         "_deepnote_index_column": "7",
         "cellType": "0",
         "isCancerous": "0",
         "patientID": "36"
        },
        {
         "_deepnote_index_column": "8",
         "cellType": "0",
         "isCancerous": "0",
         "patientID": "36"
        },
        {
         "_deepnote_index_column": "9",
         "cellType": "0",
         "isCancerous": "0",
         "patientID": "36"
        },
        {
         "_deepnote_index_column": "10",
         "cellType": "0",
         "isCancerous": "0",
         "patientID": "36"
        },
        {
         "_deepnote_index_column": "11",
         "cellType": "0",
         "isCancerous": "0",
         "patientID": "36"
        },
        {
         "_deepnote_index_column": "14",
         "cellType": "0",
         "isCancerous": "0",
         "patientID": "36"
        },
        {
         "_deepnote_index_column": "15",
         "cellType": "0",
         "isCancerous": "0",
         "patientID": "36"
        },
        {
         "_deepnote_index_column": "16",
         "cellType": "0",
         "isCancerous": "0",
         "patientID": "36"
        },
        {
         "_deepnote_index_column": "17",
         "cellType": "0",
         "isCancerous": "0",
         "patientID": "36"
        },
        {
         "_deepnote_index_column": "18",
         "cellType": "0",
         "isCancerous": "0",
         "patientID": "36"
        },
        {
         "_deepnote_index_column": "19",
         "cellType": "0",
         "isCancerous": "0",
         "patientID": "36"
        },
        {
         "_deepnote_index_column": "20",
         "cellType": "0",
         "isCancerous": "0",
         "patientID": "36"
        },
        {
         "_deepnote_index_column": "21",
         "cellType": "0",
         "isCancerous": "0",
         "patientID": "36"
        },
        {
         "_deepnote_index_column": "22",
         "cellType": "0",
         "isCancerous": "0",
         "patientID": "36"
        },
        {
         "_deepnote_index_column": "23",
         "cellType": "0",
         "isCancerous": "0",
         "patientID": "36"
        },
        {
         "_deepnote_index_column": "24",
         "cellType": "0",
         "isCancerous": "0",
         "patientID": "36"
        },
        {
         "_deepnote_index_column": "25",
         "cellType": "0",
         "isCancerous": "0",
         "patientID": "36"
        },
        {
         "_deepnote_index_column": "26",
         "cellType": "0",
         "isCancerous": "0",
         "patientID": "36"
        },
        {
         "_deepnote_index_column": "27",
         "cellType": "0",
         "isCancerous": "0",
         "patientID": "36"
        },
        {
         "_deepnote_index_column": "28",
         "cellType": "0",
         "isCancerous": "0",
         "patientID": "36"
        },
        {
         "_deepnote_index_column": "29",
         "cellType": "0",
         "isCancerous": "0",
         "patientID": "36"
        },
        {
         "_deepnote_index_column": "30",
         "cellType": "0",
         "isCancerous": "0",
         "patientID": "36"
        },
        {
         "_deepnote_index_column": "31",
         "cellType": "0",
         "isCancerous": "0",
         "patientID": "36"
        },
        {
         "_deepnote_index_column": "32",
         "cellType": "0",
         "isCancerous": "0",
         "patientID": "36"
        },
        {
         "_deepnote_index_column": "33",
         "cellType": "0",
         "isCancerous": "0",
         "patientID": "36"
        },
        {
         "_deepnote_index_column": "34",
         "cellType": "0",
         "isCancerous": "0",
         "patientID": "36"
        },
        {
         "_deepnote_index_column": "35",
         "cellType": "0",
         "isCancerous": "0",
         "patientID": "36"
        },
        {
         "_deepnote_index_column": "36",
         "cellType": "0",
         "isCancerous": "0",
         "patientID": "36"
        },
        {
         "_deepnote_index_column": "37",
         "cellType": "0",
         "isCancerous": "0",
         "patientID": "36"
        },
        {
         "_deepnote_index_column": "38",
         "cellType": "0",
         "isCancerous": "0",
         "patientID": "36"
        },
        {
         "_deepnote_index_column": "39",
         "cellType": "0",
         "isCancerous": "0",
         "patientID": "36"
        },
        {
         "_deepnote_index_column": "40",
         "cellType": "0",
         "isCancerous": "0",
         "patientID": "36"
        },
        {
         "_deepnote_index_column": "41",
         "cellType": "0",
         "isCancerous": "0",
         "patientID": "36"
        },
        {
         "_deepnote_index_column": "42",
         "cellType": "0",
         "isCancerous": "0",
         "patientID": "36"
        },
        {
         "_deepnote_index_column": "43",
         "cellType": "0",
         "isCancerous": "0",
         "patientID": "36"
        },
        {
         "_deepnote_index_column": "44",
         "cellType": "0",
         "isCancerous": "0",
         "patientID": "36"
        },
        {
         "_deepnote_index_column": "45",
         "cellType": "0",
         "isCancerous": "0",
         "patientID": "36"
        },
        {
         "_deepnote_index_column": "46",
         "cellType": "0",
         "isCancerous": "0",
         "patientID": "36"
        },
        {
         "_deepnote_index_column": "47",
         "cellType": "0",
         "isCancerous": "0",
         "patientID": "36"
        },
        {
         "_deepnote_index_column": "48",
         "cellType": "0",
         "isCancerous": "0",
         "patientID": "36"
        },
        {
         "_deepnote_index_column": "49",
         "cellType": "0",
         "isCancerous": "0",
         "patientID": "36"
        },
        {
         "_deepnote_index_column": "50",
         "cellType": "0",
         "isCancerous": "0",
         "patientID": "36"
        },
        {
         "_deepnote_index_column": "51",
         "cellType": "0",
         "isCancerous": "0",
         "patientID": "36"
        },
        {
         "_deepnote_index_column": "52",
         "cellType": "0",
         "isCancerous": "0",
         "patientID": "36"
        }
       ]
      },
      "text/html": [
       "<div>\n",
       "<style scoped>\n",
       "    .dataframe tbody tr th:only-of-type {\n",
       "        vertical-align: middle;\n",
       "    }\n",
       "\n",
       "    .dataframe tbody tr th {\n",
       "        vertical-align: top;\n",
       "    }\n",
       "\n",
       "    .dataframe thead th {\n",
       "        text-align: right;\n",
       "    }\n",
       "</style>\n",
       "<table border=\"1\" class=\"dataframe\">\n",
       "  <thead>\n",
       "    <tr style=\"text-align: right;\">\n",
       "      <th></th>\n",
       "      <th>patientID</th>\n",
       "      <th>cellType</th>\n",
       "      <th>isCancerous</th>\n",
       "    </tr>\n",
       "    <tr>\n",
       "      <th>InstanceID</th>\n",
       "      <th></th>\n",
       "      <th></th>\n",
       "      <th></th>\n",
       "    </tr>\n",
       "  </thead>\n",
       "  <tbody>\n",
       "    <tr>\n",
       "      <th>1</th>\n",
       "      <td>36</td>\n",
       "      <td>0</td>\n",
       "      <td>0</td>\n",
       "    </tr>\n",
       "    <tr>\n",
       "      <th>2</th>\n",
       "      <td>36</td>\n",
       "      <td>0</td>\n",
       "      <td>0</td>\n",
       "    </tr>\n",
       "    <tr>\n",
       "      <th>3</th>\n",
       "      <td>36</td>\n",
       "      <td>0</td>\n",
       "      <td>0</td>\n",
       "    </tr>\n",
       "    <tr>\n",
       "      <th>4</th>\n",
       "      <td>36</td>\n",
       "      <td>0</td>\n",
       "      <td>0</td>\n",
       "    </tr>\n",
       "    <tr>\n",
       "      <th>5</th>\n",
       "      <td>36</td>\n",
       "      <td>0</td>\n",
       "      <td>0</td>\n",
       "    </tr>\n",
       "    <tr>\n",
       "      <th>...</th>\n",
       "      <td>...</td>\n",
       "      <td>...</td>\n",
       "      <td>...</td>\n",
       "    </tr>\n",
       "    <tr>\n",
       "      <th>99</th>\n",
       "      <td>36</td>\n",
       "      <td>2</td>\n",
       "      <td>1</td>\n",
       "    </tr>\n",
       "    <tr>\n",
       "      <th>100</th>\n",
       "      <td>36</td>\n",
       "      <td>2</td>\n",
       "      <td>1</td>\n",
       "    </tr>\n",
       "    <tr>\n",
       "      <th>101</th>\n",
       "      <td>36</td>\n",
       "      <td>2</td>\n",
       "      <td>1</td>\n",
       "    </tr>\n",
       "    <tr>\n",
       "      <th>102</th>\n",
       "      <td>36</td>\n",
       "      <td>2</td>\n",
       "      <td>1</td>\n",
       "    </tr>\n",
       "    <tr>\n",
       "      <th>103</th>\n",
       "      <td>36</td>\n",
       "      <td>2</td>\n",
       "      <td>1</td>\n",
       "    </tr>\n",
       "  </tbody>\n",
       "</table>\n",
       "<p>100 rows × 3 columns</p>\n",
       "</div>"
      ],
      "text/plain": [
       "            patientID  cellType  isCancerous\n",
       "InstanceID                                  \n",
       "1                  36         0            0\n",
       "2                  36         0            0\n",
       "3                  36         0            0\n",
       "4                  36         0            0\n",
       "5                  36         0            0\n",
       "...               ...       ...          ...\n",
       "99                 36         2            1\n",
       "100                36         2            1\n",
       "101                36         2            1\n",
       "102                36         2            1\n",
       "103                36         2            1\n",
       "\n",
       "[100 rows x 3 columns]"
      ]
     },
     "execution_count": 30,
     "metadata": {},
     "output_type": "execute_result"
    }
   ],
   "source": [
    "df_patientmain.head(100)"
   ]
  },
  {
   "cell_type": "code",
   "execution_count": 9,
   "metadata": {
    "cell_id": "ebaaca65f0904419bfb031f00efc25aa",
    "deepnote_cell_type": "visualization",
    "deepnote_to_be_reexecuted": false,
    "execution_millis": 1,
    "execution_start": 1673329993871,
    "source_hash": "b623e53d"
   },
   "outputs": [],
   "source": []
  },
  {
   "cell_type": "markdown",
   "metadata": {
    "cell_id": "bf4d1af0621d45819a568c0ae2dc5418",
    "deepnote_cell_type": "text-cell-callout",
    "formattedRanges": [],
    "is_collapsed": false,
    "tags": []
   },
   "source": [
    "> After grouping the dataset by patient ID, we can observed that the dataset contains a total of 60 different patients."
   ]
  },
  {
   "cell_type": "code",
   "execution_count": 10,
   "metadata": {
    "cell_id": "e0fd2d6be7384be794ac3340f036dad3",
    "deepnote_cell_type": "code",
    "deepnote_to_be_reexecuted": false,
    "execution_millis": 2,
    "execution_start": 1673329993875,
    "source_hash": "dc3ca3ee",
    "tags": []
   },
   "outputs": [],
   "source": [
    "df_patientID = df_labels['patientID']"
   ]
  },
  {
   "cell_type": "code",
   "execution_count": 11,
   "metadata": {
    "cell_id": "b6e69466a4a24ea3a33e8b3692e1f18e",
    "deepnote_cell_type": "code",
    "deepnote_to_be_reexecuted": false,
    "execution_millis": 8,
    "execution_start": 1673329993877,
    "source_hash": "b6e0d733",
    "tags": []
   },
   "outputs": [
    {
     "data": {
      "text/plain": [
       "1     0\n",
       "1     0\n",
       "1     0\n",
       "1     0\n",
       "1     0\n",
       "     ..\n",
       "60    0\n",
       "60    0\n",
       "60    0\n",
       "60    0\n",
       "60    0\n",
       "Name: isCancerous, Length: 9896, dtype: int64"
      ]
     },
     "execution_count": 11,
     "metadata": {},
     "output_type": "execute_result"
    }
   ],
   "source": [
    "df_labels.loc[df_patientID,'isCancerous']"
   ]
  },
  {
   "cell_type": "markdown",
   "metadata": {
    "cell_id": "461939f5d842449eb8621aa489772b99",
    "deepnote_cell_type": "text-cell-h3",
    "formattedRanges": [],
    "is_collapsed": false,
    "tags": []
   },
   "source": [
    "### 2.3) Plotting patients with cancerous cells"
   ]
  },
  {
   "cell_type": "code",
   "execution_count": 12,
   "metadata": {
    "cell_id": "aac3a3c66f8c4d27a7dbc088b9b64fc1",
    "deepnote_cell_type": "code",
    "deepnote_to_be_reexecuted": false,
    "execution_millis": 331,
    "execution_start": 1673329993895,
    "source_hash": "c233c248",
    "tags": []
   },
   "outputs": [
    {
     "data": {
      "image/png": "[encoded data removed]",
      "text/plain": [
       "<Figure size 640x480 with 1 Axes>"
      ]
     },
     "metadata": {
      "image/png": {
       "height": 455,
       "width": 571
      }
     },
     "output_type": "display_data"
    }
   ],
   "source": [
    "sns.histplot(binwidth=1,\n",
    "            x='patientID',\n",
    "            hue='isCancerous',\n",
    "            data=df_labels,\n",
    "            stat=\"count\",\n",
    "            multiple=\"dodge\")\n",
    "# sns.relplot(x=\"y\", y=\"poutcome\", data=df);\n",
    "plt.title('Patients that have cancerous cells')\n",
    "plt.show()"
   ]
  },
  {
   "cell_type": "code",
   "execution_count": 13,
   "metadata": {
    "cell_id": "929787f8af7c44e39612ef863341dda8",
    "deepnote_cell_type": "code",
    "deepnote_to_be_reexecuted": false,
    "execution_millis": 1338,
    "execution_start": 1673329994228,
    "source_hash": "44e8efea",
    "tags": []
   },
   "outputs": [
    {
     "data": {
      "image/png": "[encoded data removed]",
      "text/plain": [
       "<Figure size 640x480 with 1 Axes>"
      ]
     },
     "metadata": {
      "image/png": {
       "height": 469,
       "width": 629
      }
     },
     "output_type": "display_data"
    }
   ],
   "source": [
    "import seaborn as sns\n",
    "ax = sns.barplot(data= df_labels , x='patientID', y = 'isCancerous')\n",
    "ax.tick_params(axis = 'x', rotation = 90)\n",
    "plt.tight_layout()"
   ]
  },
  {
   "cell_type": "markdown",
   "metadata": {
    "cell_id": "a65e010b1784464fbe6944d11943438a",
    "deepnote_cell_type": "text-cell-callout",
    "formattedRanges": [],
    "is_collapsed": false,
    "tags": []
   },
   "source": [
    "> The bar plot provide us with a clearer view of to which patient (identify with patient ID) to have cancerous cells. And as observed, a lot of the patients doesn't have any cancerous cells (0), but we still can not precisely determine the percentage of each group."
   ]
  },
  {
   "cell_type": "markdown",
   "metadata": {
    "cell_id": "fe9ca512e80c4318b2e1d96ae093932f",
    "deepnote_cell_type": "text-cell-h3",
    "formattedRanges": [],
    "is_collapsed": false,
    "tags": []
   },
   "source": [
    "### 2.4) The percentage of those with cancerous cell is over 60%"
   ]
  },
  {
   "cell_type": "code",
   "execution_count": 14,
   "metadata": {
    "cell_id": "f21606524171476ba088ccc1fdfecbb4",
    "deepnote_cell_type": "code",
    "deepnote_to_be_reexecuted": false,
    "execution_millis": 3,
    "execution_start": 1673329995567,
    "source_hash": "881d012b",
    "tags": []
   },
   "outputs": [
    {
     "data": {
      "text/plain": [
       "0    5817\n",
       "1    4079\n",
       "Name: isCancerous, dtype: int64"
      ]
     },
     "execution_count": 14,
     "metadata": {},
     "output_type": "execute_result"
    }
   ],
   "source": [
    "df_labels['isCancerous'].value_counts()\n"
   ]
  },
  {
   "cell_type": "code",
   "execution_count": 15,
   "metadata": {
    "cell_id": "5e733d9544fa4442a0139900c0f54757",
    "deepnote_cell_type": "code",
    "deepnote_to_be_reexecuted": false,
    "execution_millis": 61,
    "execution_start": 1673329995612,
    "source_hash": "5f4bffe1",
    "tags": []
   },
   "outputs": [
    {
     "data": {
      "text/plain": [
       "<matplotlib.legend.Legend at 0x7fc077ee7f10>"
      ]
     },
     "execution_count": 15,
     "metadata": {},
     "output_type": "execute_result"
    },
    {
     "data": {
      "image/png": "[encoded data removed]",
      "text/plain": [
       "<Figure size 640x480 with 1 Axes>"
      ]
     },
     "metadata": {
      "image/png": {
       "height": 389,
       "width": 389
      }
     },
     "output_type": "display_data"
    }
   ],
   "source": [
    "data = df_labels['isCancerous'].value_counts()\n",
    "classes = ['0','1'] \n",
    "\n",
    "plt.pie(data, labels = classes, autopct = '%1.2f%%')\n",
    "plt.legend()"
   ]
  },
  {
   "cell_type": "markdown",
   "metadata": {
    "cell_id": "f5e06f48a99d4f93b0b8cff638a40ce5",
    "deepnote_cell_type": "text-cell-callout",
    "formattedRanges": [],
    "is_collapsed": false,
    "tags": []
   },
   "source": [
    "> As observed from the pie chart, the percentage of those that does not have cancerous cells is higher than those without. The percentage of those the data that have cancerous cells is only at around 41%. This disprove our initial hypothesis of 'the percentage of those with cancerous cell is over 60%'."
   ]
  },
  {
   "cell_type": "markdown",
   "metadata": {
    "cell_id": "7c55e68daf8549cbb2f9ce9bda1d1446",
    "deepnote_cell_type": "text-cell-h3",
    "formattedRanges": [],
    "is_collapsed": false,
    "tags": []
   },
   "source": [
    "### 2.5) The percentage of the image being identify as cancerous for each patientID will be over 50%"
   ]
  },
  {
   "cell_type": "code",
   "execution_count": 36,
   "metadata": {
    "cell_id": "d95739baa3c4409cbd6b8e0909a97014",
    "deepnote_cell_type": "code",
    "deepnote_to_be_reexecuted": false,
    "execution_millis": 0,
    "execution_start": 1673332302777,
    "source_hash": "3d7b40c4",
    "tags": []
   },
   "outputs": [],
   "source": [
    "df_patient1 = df_labels.groupby(['patientID']).size()"
   ]
  },
  {
   "cell_type": "code",
   "execution_count": 45,
   "metadata": {
    "cell_id": "5fc7634809d648e28481a00028517bc8",
    "deepnote_cell_type": "code",
    "deepnote_to_be_reexecuted": false,
    "execution_millis": 2,
    "execution_start": 1673332751624,
    "source_hash": "43a0cd19",
    "tags": []
   },
   "outputs": [
    {
     "data": {
      "text/plain": [
       "patientID\n",
       "1      19\n",
       "2      33\n",
       "3     136\n",
       "4     127\n",
       "5     169\n",
       "6     198\n",
       "7     253\n",
       "8     332\n",
       "9     348\n",
       "10    302\n",
       "11     56\n",
       "12    130\n",
       "13    180\n",
       "14    207\n",
       "15    125\n",
       "16    111\n",
       "17    310\n",
       "18    320\n",
       "19    158\n",
       "20    325\n",
       "21    224\n",
       "22    152\n",
       "23    254\n",
       "24    192\n",
       "25    180\n",
       "26    157\n",
       "27     17\n",
       "28     15\n",
       "29    355\n",
       "30    110\n",
       "31    137\n",
       "32     99\n",
       "33    163\n",
       "34     14\n",
       "35     11\n",
       "36    128\n",
       "37     71\n",
       "38     84\n",
       "39    105\n",
       "40    209\n",
       "41    250\n",
       "42    136\n",
       "43    137\n",
       "44    121\n",
       "45     74\n",
       "46    120\n",
       "47    133\n",
       "48    147\n",
       "49    187\n",
       "50    195\n",
       "51    286\n",
       "52    178\n",
       "53    132\n",
       "54    389\n",
       "55    263\n",
       "56     92\n",
       "57    149\n",
       "58    161\n",
       "59    115\n",
       "60    115\n",
       "dtype: int64"
      ]
     },
     "execution_count": 45,
     "metadata": {},
     "output_type": "execute_result"
    }
   ],
   "source": [
    "df_patient1.head(100)"
   ]
  },
  {
   "cell_type": "code",
   "execution_count": 49,
   "metadata": {
    "cell_id": "2dddcc1c767b40b7ac1cf362f8f02327",
    "deepnote_cell_type": "code",
    "deepnote_to_be_reexecuted": false,
    "execution_millis": 21,
    "execution_start": 1673333056856,
    "source_hash": "64325807",
    "tags": []
   },
   "outputs": [
    {
     "data": {
      "application/vnd.deepnote.dataframe.v3+json": {
       "column_count": 6,
       "columns": [
        {
         "dtype": "int64",
         "name": "InstanceID",
         "stats": {
          "histogram": [
           {
            "bin_end": 19240.7,
            "bin_start": 18887,
            "count": 81
           },
           {
            "bin_end": 19594.4,
            "bin_start": 19240.7,
            "count": 0
           },
           {
            "bin_end": 19948.1,
            "bin_start": 19594.4,
            "count": 0
           },
           {
            "bin_end": 20301.8,
            "bin_start": 19948.1,
            "count": 0
           },
           {
            "bin_end": 20655.5,
            "bin_start": 20301.8,
            "count": 0
           },
           {
            "bin_end": 21009.2,
            "bin_start": 20655.5,
            "count": 0
           },
           {
            "bin_end": 21362.9,
            "bin_start": 21009.2,
            "count": 0
           },
           {
            "bin_end": 21716.6,
            "bin_start": 21362.9,
            "count": 0
           },
           {
            "bin_end": 22070.3,
            "bin_start": 21716.6,
            "count": 0
           },
           {
            "bin_end": 22424,
            "bin_start": 22070.3,
            "count": 19
           }
          ],
          "max": "22424",
          "min": "18887",
          "nan_count": 0,
          "unique_count": 100
         }
        },
        {
         "dtype": "int64",
         "name": "patientID",
         "stats": {
          "histogram": [
           {
            "bin_end": 1.2,
            "bin_start": 1,
            "count": 19
           },
           {
            "bin_end": 1.4,
            "bin_start": 1.2,
            "count": 0
           },
           {
            "bin_end": 1.6,
            "bin_start": 1.4,
            "count": 0
           },
           {
            "bin_end": 1.8,
            "bin_start": 1.6,
            "count": 0
           },
           {
            "bin_end": 2,
            "bin_start": 1.8,
            "count": 0
           },
           {
            "bin_end": 2.2,
            "bin_start": 2,
            "count": 33
           },
           {
            "bin_end": 2.4000000000000004,
            "bin_start": 2.2,
            "count": 0
           },
           {
            "bin_end": 2.6,
            "bin_start": 2.4000000000000004,
            "count": 0
           },
           {
            "bin_end": 2.8,
            "bin_start": 2.6,
            "count": 0
           },
           {
            "bin_end": 3,
            "bin_start": 2.8,
            "count": 48
           }
          ],
          "max": "3",
          "min": "1",
          "nan_count": 0,
          "unique_count": 3
         }
        },
        {
         "dtype": "object",
         "name": "ImageName",
         "stats": {
          "categories": [
           {
            "count": 1,
            "name": "22405.png"
           },
           {
            "count": 1,
            "name": "22424.png"
           },
           {
            "count": 98,
            "name": "98 others"
           }
          ],
          "nan_count": 0,
          "unique_count": 100
         }
        },
        {
         "dtype": "object",
         "name": "cellTypeName",
         "stats": {
          "categories": [
           {
            "count": 62,
            "name": "inflammatory"
           },
           {
            "count": 19,
            "name": "fibroblast"
           },
           {
            "count": 19,
            "name": "others"
           }
          ],
          "nan_count": 0,
          "unique_count": 3
         }
        },
        {
         "dtype": "int64",
         "name": "cellType",
         "stats": {
          "histogram": [
           {
            "bin_end": 0.3,
            "bin_start": 0,
            "count": 19
           },
           {
            "bin_end": 0.6,
            "bin_start": 0.3,
            "count": 0
           },
           {
            "bin_end": 0.8999999999999999,
            "bin_start": 0.6,
            "count": 0
           },
           {
            "bin_end": 1.2,
            "bin_start": 0.8999999999999999,
            "count": 62
           },
           {
            "bin_end": 1.5,
            "bin_start": 1.2,
            "count": 0
           },
           {
            "bin_end": 1.7999999999999998,
            "bin_start": 1.5,
            "count": 0
           },
           {
            "bin_end": 2.1,
            "bin_start": 1.7999999999999998,
            "count": 0
           },
           {
            "bin_end": 2.4,
            "bin_start": 2.1,
            "count": 0
           },
           {
            "bin_end": 2.6999999999999997,
            "bin_start": 2.4,
            "count": 0
           },
           {
            "bin_end": 3,
            "bin_start": 2.6999999999999997,
            "count": 19
           }
          ],
          "max": "3",
          "min": "0",
          "nan_count": 0,
          "unique_count": 3
         }
        },
        {
         "dtype": "int64",
         "name": "isCancerous",
         "stats": {
          "histogram": [
           {
            "bin_end": -0.4,
            "bin_start": -0.5,
            "count": 0
           },
           {
            "bin_end": -0.3,
            "bin_start": -0.4,
            "count": 0
           },
           {
            "bin_end": -0.19999999999999996,
            "bin_start": -0.3,
            "count": 0
           },
           {
            "bin_end": -0.09999999999999998,
            "bin_start": -0.19999999999999996,
            "count": 0
           },
           {
            "bin_end": 0,
            "bin_start": -0.09999999999999998,
            "count": 0
           },
           {
            "bin_end": 0.10000000000000009,
            "bin_start": 0,
            "count": 100
           },
           {
            "bin_end": 0.20000000000000007,
            "bin_start": 0.10000000000000009,
            "count": 0
           },
           {
            "bin_end": 0.30000000000000004,
            "bin_start": 0.20000000000000007,
            "count": 0
           },
           {
            "bin_end": 0.4,
            "bin_start": 0.30000000000000004,
            "count": 0
           },
           {
            "bin_end": 0.5,
            "bin_start": 0.4,
            "count": 0
           }
          ],
          "max": "0",
          "min": "0",
          "nan_count": 0,
          "unique_count": 1
         }
        },
        {
         "dtype": "int64",
         "name": "_deepnote_index_column"
        }
       ],
       "row_count": 100,
       "rows": [
        {
         "ImageName": "22405.png",
         "InstanceID": "22405",
         "_deepnote_index_column": "0",
         "cellType": "0",
         "cellTypeName": "fibroblast",
         "isCancerous": "0",
         "patientID": "1"
        },
        {
         "ImageName": "22424.png",
         "InstanceID": "22424",
         "_deepnote_index_column": "18",
         "cellType": "3",
         "cellTypeName": "others",
         "isCancerous": "0",
         "patientID": "1"
        },
        {
         "ImageName": "22422.png",
         "InstanceID": "22422",
         "_deepnote_index_column": "16",
         "cellType": "1",
         "cellTypeName": "inflammatory",
         "isCancerous": "0",
         "patientID": "1"
        },
        {
         "ImageName": "22421.png",
         "InstanceID": "22421",
         "_deepnote_index_column": "15",
         "cellType": "1",
         "cellTypeName": "inflammatory",
         "isCancerous": "0",
         "patientID": "1"
        },
        {
         "ImageName": "22420.png",
         "InstanceID": "22420",
         "_deepnote_index_column": "14",
         "cellType": "1",
         "cellTypeName": "inflammatory",
         "isCancerous": "0",
         "patientID": "1"
        },
        {
         "ImageName": "22419.png",
         "InstanceID": "22419",
         "_deepnote_index_column": "13",
         "cellType": "1",
         "cellTypeName": "inflammatory",
         "isCancerous": "0",
         "patientID": "1"
        },
        {
         "ImageName": "22418.png",
         "InstanceID": "22418",
         "_deepnote_index_column": "12",
         "cellType": "1",
         "cellTypeName": "inflammatory",
         "isCancerous": "0",
         "patientID": "1"
        },
        {
         "ImageName": "22417.png",
         "InstanceID": "22417",
         "_deepnote_index_column": "11",
         "cellType": "1",
         "cellTypeName": "inflammatory",
         "isCancerous": "0",
         "patientID": "1"
        },
        {
         "ImageName": "22415.png",
         "InstanceID": "22415",
         "_deepnote_index_column": "10",
         "cellType": "0",
         "cellTypeName": "fibroblast",
         "isCancerous": "0",
         "patientID": "1"
        },
        {
         "ImageName": "22423.png",
         "InstanceID": "22423",
         "_deepnote_index_column": "17",
         "cellType": "3",
         "cellTypeName": "others",
         "isCancerous": "0",
         "patientID": "1"
        }
       ]
      },
      "text/html": [
       "<div>\n",
       "<style scoped>\n",
       "    .dataframe tbody tr th:only-of-type {\n",
       "        vertical-align: middle;\n",
       "    }\n",
       "\n",
       "    .dataframe tbody tr th {\n",
       "        vertical-align: top;\n",
       "    }\n",
       "\n",
       "    .dataframe thead th {\n",
       "        text-align: right;\n",
       "    }\n",
       "</style>\n",
       "<table border=\"1\" class=\"dataframe\">\n",
       "  <thead>\n",
       "    <tr style=\"text-align: right;\">\n",
       "      <th></th>\n",
       "      <th>InstanceID</th>\n",
       "      <th>patientID</th>\n",
       "      <th>ImageName</th>\n",
       "      <th>cellTypeName</th>\n",
       "      <th>cellType</th>\n",
       "      <th>isCancerous</th>\n",
       "    </tr>\n",
       "  </thead>\n",
       "  <tbody>\n",
       "    <tr>\n",
       "      <th>0</th>\n",
       "      <td>22405</td>\n",
       "      <td>1</td>\n",
       "      <td>22405.png</td>\n",
       "      <td>fibroblast</td>\n",
       "      <td>0</td>\n",
       "      <td>0</td>\n",
       "    </tr>\n",
       "    <tr>\n",
       "      <th>18</th>\n",
       "      <td>22424</td>\n",
       "      <td>1</td>\n",
       "      <td>22424.png</td>\n",
       "      <td>others</td>\n",
       "      <td>3</td>\n",
       "      <td>0</td>\n",
       "    </tr>\n",
       "    <tr>\n",
       "      <th>16</th>\n",
       "      <td>22422</td>\n",
       "      <td>1</td>\n",
       "      <td>22422.png</td>\n",
       "      <td>inflammatory</td>\n",
       "      <td>1</td>\n",
       "      <td>0</td>\n",
       "    </tr>\n",
       "    <tr>\n",
       "      <th>15</th>\n",
       "      <td>22421</td>\n",
       "      <td>1</td>\n",
       "      <td>22421.png</td>\n",
       "      <td>inflammatory</td>\n",
       "      <td>1</td>\n",
       "      <td>0</td>\n",
       "    </tr>\n",
       "    <tr>\n",
       "      <th>14</th>\n",
       "      <td>22420</td>\n",
       "      <td>1</td>\n",
       "      <td>22420.png</td>\n",
       "      <td>inflammatory</td>\n",
       "      <td>1</td>\n",
       "      <td>0</td>\n",
       "    </tr>\n",
       "    <tr>\n",
       "      <th>...</th>\n",
       "      <td>...</td>\n",
       "      <td>...</td>\n",
       "      <td>...</td>\n",
       "      <td>...</td>\n",
       "      <td>...</td>\n",
       "      <td>...</td>\n",
       "    </tr>\n",
       "    <tr>\n",
       "      <th>178</th>\n",
       "      <td>18947</td>\n",
       "      <td>3</td>\n",
       "      <td>18947.png</td>\n",
       "      <td>others</td>\n",
       "      <td>3</td>\n",
       "      <td>0</td>\n",
       "    </tr>\n",
       "    <tr>\n",
       "      <th>177</th>\n",
       "      <td>18946</td>\n",
       "      <td>3</td>\n",
       "      <td>18946.png</td>\n",
       "      <td>inflammatory</td>\n",
       "      <td>1</td>\n",
       "      <td>0</td>\n",
       "    </tr>\n",
       "    <tr>\n",
       "      <th>176</th>\n",
       "      <td>18945</td>\n",
       "      <td>3</td>\n",
       "      <td>18945.png</td>\n",
       "      <td>inflammatory</td>\n",
       "      <td>1</td>\n",
       "      <td>0</td>\n",
       "    </tr>\n",
       "    <tr>\n",
       "      <th>175</th>\n",
       "      <td>18944</td>\n",
       "      <td>3</td>\n",
       "      <td>18944.png</td>\n",
       "      <td>inflammatory</td>\n",
       "      <td>1</td>\n",
       "      <td>0</td>\n",
       "    </tr>\n",
       "    <tr>\n",
       "      <th>174</th>\n",
       "      <td>18943</td>\n",
       "      <td>3</td>\n",
       "      <td>18943.png</td>\n",
       "      <td>inflammatory</td>\n",
       "      <td>1</td>\n",
       "      <td>0</td>\n",
       "    </tr>\n",
       "  </tbody>\n",
       "</table>\n",
       "<p>100 rows × 6 columns</p>\n",
       "</div>"
      ],
      "text/plain": [
       "     InstanceID  patientID  ImageName  cellTypeName  cellType  isCancerous\n",
       "0         22405          1  22405.png    fibroblast         0            0\n",
       "18        22424          1  22424.png        others         3            0\n",
       "16        22422          1  22422.png  inflammatory         1            0\n",
       "15        22421          1  22421.png  inflammatory         1            0\n",
       "14        22420          1  22420.png  inflammatory         1            0\n",
       "..          ...        ...        ...           ...       ...          ...\n",
       "178       18947          3  18947.png        others         3            0\n",
       "177       18946          3  18946.png  inflammatory         1            0\n",
       "176       18945          3  18945.png  inflammatory         1            0\n",
       "175       18944          3  18944.png  inflammatory         1            0\n",
       "174       18943          3  18943.png  inflammatory         1            0\n",
       "\n",
       "[100 rows x 6 columns]"
      ]
     },
     "execution_count": 49,
     "metadata": {},
     "output_type": "execute_result"
    }
   ],
   "source": [
    "df_labels.sort_values('patientID').head(100)"
   ]
  },
  {
   "cell_type": "markdown",
   "metadata": {
    "cell_id": "c901cbba10424abba716a29060c1ae06",
    "deepnote_cell_type": "text-cell-h3",
    "formattedRanges": [],
    "is_collapsed": false,
    "tags": []
   },
   "source": [
    "### 2.6) Cell Type 2 is Cancerous, the rest is non-cancerous"
   ]
  },
  {
   "cell_type": "code",
   "execution_count": 62,
   "metadata": {
    "cell_id": "de26eb281b524b93b5b10468b3f80855",
    "deepnote_cell_type": "code",
    "deepnote_to_be_reexecuted": false,
    "execution_millis": 187,
    "execution_start": 1673356166217,
    "source_hash": "1e7b03d6",
    "tags": []
   },
   "outputs": [
    {
     "data": {
      "image/png": "[encoded data removed]",
      "text/plain": [
       "<Figure size 640x480 with 1 Axes>"
      ]
     },
     "metadata": {
      "image/png": {
       "height": 455,
       "width": 580
      }
     },
     "output_type": "display_data"
    }
   ],
   "source": [
    "df_labels['cellType'].plot(kind = 'hist', bins = 10)\n",
    "plt.title ('Cell type Frequencies histogram')\n",
    "plt.xlabel('cellType')\n",
    "plt.show()"
   ]
  },
  {
   "cell_type": "code",
   "execution_count": 72,
   "metadata": {
    "cell_id": "50d3b8f6f9f84b0c90171ae2989ef915",
    "deepnote_cell_type": "code",
    "deepnote_to_be_reexecuted": false,
    "execution_millis": 37,
    "execution_start": 1673356562727,
    "source_hash": "7c2e785e",
    "tags": []
   },
   "outputs": [
    {
     "data": {
      "text/html": [
       "<html>\n",
       "<head><meta charset=\"utf-8\" /></head>\n",
       "<body>\n",
       "    <div>            <script src=\"https://cdnjs.cloudflare.com/ajax/libs/mathjax/2.7.5/MathJax.js?config=TeX-AMS-MML_SVG\"></script><script type=\"text/javascript\">if (window.MathJax && window.MathJax.Hub && window.MathJax.Hub.Config) {window.MathJax.Hub.Config({SVG: {font: \"STIX-Web\"}});}</script>                <script type=\"text/javascript\">window.PlotlyConfig = {MathJaxConfig: 'local'};</script>\n",
       "        <script src=\"https://cdn.plot.ly/plotly-2.14.0.min.js\"></script>                <div id=\"a343866a-eeb4-4c3a-8764-90785e14f946\" class=\"plotly-graph-div\" style=\"height:525px; width:100%;\"></div>            <script type=\"text/javascript\">                                    window.PLOTLYENV=window.PLOTLYENV || {};                                    if (document.getElementById(\"a343866a-eeb4-4c3a-8764-90785e14f946\")) {                    Plotly.newPlot(                        \"a343866a-eeb4-4c3a-8764-90785e14f946\",                        [{\"alignmentgroup\":\"True\",\"hovertemplate\":\"cellTypeName=%{x}<br>Frequency from Total Patients=%{y}<extra></extra>\",\"legendgroup\":\"\",\"marker\":{\"color\":\"#636efa\",\"pattern\":{\"shape\":\"\"}},\"name\":\"\",\"offsetgroup\":\"\",\"orientation\":\"v\",\"showlegend\":false,\"textposition\":\"auto\",\"texttemplate\":\"%{y}\",\"x\":[\"epithelial\",\"fibroblast\",\"inflammatory\",\"others\"],\"xaxis\":\"x\",\"y\":[57.0,88.0,100.0,93.0],\"yaxis\":\"y\",\"type\":\"bar\"}],                        {\"template\":{\"data\":{\"histogram2dcontour\":[{\"type\":\"histogram2dcontour\",\"colorbar\":{\"outlinewidth\":0,\"ticks\":\"\"},\"colorscale\":[[0.0,\"#0d0887\"],[0.1111111111111111,\"#46039f\"],[0.2222222222222222,\"#7201a8\"],[0.3333333333333333,\"#9c179e\"],[0.4444444444444444,\"#bd3786\"],[0.5555555555555556,\"#d8576b\"],[0.6666666666666666,\"#ed7953\"],[0.7777777777777778,\"#fb9f3a\"],[0.8888888888888888,\"#fdca26\"],[1.0,\"#f0f921\"]]}],\"choropleth\":[{\"type\":\"choropleth\",\"colorbar\":{\"outlinewidth\":0,\"ticks\":\"\"}}],\"histogram2d\":[{\"type\":\"histogram2d\",\"colorbar\":{\"outlinewidth\":0,\"ticks\":\"\"},\"colorscale\":[[0.0,\"#0d0887\"],[0.1111111111111111,\"#46039f\"],[0.2222222222222222,\"#7201a8\"],[0.3333333333333333,\"#9c179e\"],[0.4444444444444444,\"#bd3786\"],[0.5555555555555556,\"#d8576b\"],[0.6666666666666666,\"#ed7953\"],[0.7777777777777778,\"#fb9f3a\"],[0.8888888888888888,\"#fdca26\"],[1.0,\"#f0f921\"]]}],\"heatmap\":[{\"type\":\"heatmap\",\"colorbar\":{\"outlinewidth\":0,\"ticks\":\"\"},\"colorscale\":[[0.0,\"#0d0887\"],[0.1111111111111111,\"#46039f\"],[0.2222222222222222,\"#7201a8\"],[0.3333333333333333,\"#9c179e\"],[0.4444444444444444,\"#bd3786\"],[0.5555555555555556,\"#d8576b\"],[0.6666666666666666,\"#ed7953\"],[0.7777777777777778,\"#fb9f3a\"],[0.8888888888888888,\"#fdca26\"],[1.0,\"#f0f921\"]]}],\"heatmapgl\":[{\"type\":\"heatmapgl\",\"colorbar\":{\"outlinewidth\":0,\"ticks\":\"\"},\"colorscale\":[[0.0,\"#0d0887\"],[0.1111111111111111,\"#46039f\"],[0.2222222222222222,\"#7201a8\"],[0.3333333333333333,\"#9c179e\"],[0.4444444444444444,\"#bd3786\"],[0.5555555555555556,\"#d8576b\"],[0.6666666666666666,\"#ed7953\"],[0.7777777777777778,\"#fb9f3a\"],[0.8888888888888888,\"#fdca26\"],[1.0,\"#f0f921\"]]}],\"contourcarpet\":[{\"type\":\"contourcarpet\",\"colorbar\":{\"outlinewidth\":0,\"ticks\":\"\"}}],\"contour\":[{\"type\":\"contour\",\"colorbar\":{\"outlinewidth\":0,\"ticks\":\"\"},\"colorscale\":[[0.0,\"#0d0887\"],[0.1111111111111111,\"#46039f\"],[0.2222222222222222,\"#7201a8\"],[0.3333333333333333,\"#9c179e\"],[0.4444444444444444,\"#bd3786\"],[0.5555555555555556,\"#d8576b\"],[0.6666666666666666,\"#ed7953\"],[0.7777777777777778,\"#fb9f3a\"],[0.8888888888888888,\"#fdca26\"],[1.0,\"#f0f921\"]]}],\"surface\":[{\"type\":\"surface\",\"colorbar\":{\"outlinewidth\":0,\"ticks\":\"\"},\"colorscale\":[[0.0,\"#0d0887\"],[0.1111111111111111,\"#46039f\"],[0.2222222222222222,\"#7201a8\"],[0.3333333333333333,\"#9c179e\"],[0.4444444444444444,\"#bd3786\"],[0.5555555555555556,\"#d8576b\"],[0.6666666666666666,\"#ed7953\"],[0.7777777777777778,\"#fb9f3a\"],[0.8888888888888888,\"#fdca26\"],[1.0,\"#f0f921\"]]}],\"mesh3d\":[{\"type\":\"mesh3d\",\"colorbar\":{\"outlinewidth\":0,\"ticks\":\"\"}}],\"scatter\":[{\"fillpattern\":{\"fillmode\":\"overlay\",\"size\":10,\"solidity\":0.2},\"type\":\"scatter\"}],\"parcoords\":[{\"type\":\"parcoords\",\"line\":{\"colorbar\":{\"outlinewidth\":0,\"ticks\":\"\"}}}],\"scatterpolargl\":[{\"type\":\"scatterpolargl\",\"marker\":{\"colorbar\":{\"outlinewidth\":0,\"ticks\":\"\"}}}],\"bar\":[{\"error_x\":{\"color\":\"#2a3f5f\"},\"error_y\":{\"color\":\"#2a3f5f\"},\"marker\":{\"line\":{\"color\":\"#E5ECF6\",\"width\":0.5},\"pattern\":{\"fillmode\":\"overlay\",\"size\":10,\"solidity\":0.2}},\"type\":\"bar\"}],\"scattergeo\":[{\"type\":\"scattergeo\",\"marker\":{\"colorbar\":{\"outlinewidth\":0,\"ticks\":\"\"}}}],\"scatterpolar\":[{\"type\":\"scatterpolar\",\"marker\":{\"colorbar\":{\"outlinewidth\":0,\"ticks\":\"\"}}}],\"histogram\":[{\"marker\":{\"pattern\":{\"fillmode\":\"overlay\",\"size\":10,\"solidity\":0.2}},\"type\":\"histogram\"}],\"scattergl\":[{\"type\":\"scattergl\",\"marker\":{\"colorbar\":{\"outlinewidth\":0,\"ticks\":\"\"}}}],\"scatter3d\":[{\"type\":\"scatter3d\",\"line\":{\"colorbar\":{\"outlinewidth\":0,\"ticks\":\"\"}},\"marker\":{\"colorbar\":{\"outlinewidth\":0,\"ticks\":\"\"}}}],\"scattermapbox\":[{\"type\":\"scattermapbox\",\"marker\":{\"colorbar\":{\"outlinewidth\":0,\"ticks\":\"\"}}}],\"scatterternary\":[{\"type\":\"scatterternary\",\"marker\":{\"colorbar\":{\"outlinewidth\":0,\"ticks\":\"\"}}}],\"scattercarpet\":[{\"type\":\"scattercarpet\",\"marker\":{\"colorbar\":{\"outlinewidth\":0,\"ticks\":\"\"}}}],\"carpet\":[{\"aaxis\":{\"endlinecolor\":\"#2a3f5f\",\"gridcolor\":\"white\",\"linecolor\":\"white\",\"minorgridcolor\":\"white\",\"startlinecolor\":\"#2a3f5f\"},\"baxis\":{\"endlinecolor\":\"#2a3f5f\",\"gridcolor\":\"white\",\"linecolor\":\"white\",\"minorgridcolor\":\"white\",\"startlinecolor\":\"#2a3f5f\"},\"type\":\"carpet\"}],\"table\":[{\"cells\":{\"fill\":{\"color\":\"#EBF0F8\"},\"line\":{\"color\":\"white\"}},\"header\":{\"fill\":{\"color\":\"#C8D4E3\"},\"line\":{\"color\":\"white\"}},\"type\":\"table\"}],\"barpolar\":[{\"marker\":{\"line\":{\"color\":\"#E5ECF6\",\"width\":0.5},\"pattern\":{\"fillmode\":\"overlay\",\"size\":10,\"solidity\":0.2}},\"type\":\"barpolar\"}],\"pie\":[{\"automargin\":true,\"type\":\"pie\"}]},\"layout\":{\"autotypenumbers\":\"strict\",\"colorway\":[\"#636efa\",\"#EF553B\",\"#00cc96\",\"#ab63fa\",\"#FFA15A\",\"#19d3f3\",\"#FF6692\",\"#B6E880\",\"#FF97FF\",\"#FECB52\"],\"font\":{\"color\":\"#2a3f5f\"},\"hovermode\":\"closest\",\"hoverlabel\":{\"align\":\"left\"},\"paper_bgcolor\":\"white\",\"plot_bgcolor\":\"#E5ECF6\",\"polar\":{\"bgcolor\":\"#E5ECF6\",\"angularaxis\":{\"gridcolor\":\"white\",\"linecolor\":\"white\",\"ticks\":\"\"},\"radialaxis\":{\"gridcolor\":\"white\",\"linecolor\":\"white\",\"ticks\":\"\"}},\"ternary\":{\"bgcolor\":\"#E5ECF6\",\"aaxis\":{\"gridcolor\":\"white\",\"linecolor\":\"white\",\"ticks\":\"\"},\"baxis\":{\"gridcolor\":\"white\",\"linecolor\":\"white\",\"ticks\":\"\"},\"caxis\":{\"gridcolor\":\"white\",\"linecolor\":\"white\",\"ticks\":\"\"}},\"coloraxis\":{\"colorbar\":{\"outlinewidth\":0,\"ticks\":\"\"}},\"colorscale\":{\"sequential\":[[0.0,\"#0d0887\"],[0.1111111111111111,\"#46039f\"],[0.2222222222222222,\"#7201a8\"],[0.3333333333333333,\"#9c179e\"],[0.4444444444444444,\"#bd3786\"],[0.5555555555555556,\"#d8576b\"],[0.6666666666666666,\"#ed7953\"],[0.7777777777777778,\"#fb9f3a\"],[0.8888888888888888,\"#fdca26\"],[1.0,\"#f0f921\"]],\"sequentialminus\":[[0.0,\"#0d0887\"],[0.1111111111111111,\"#46039f\"],[0.2222222222222222,\"#7201a8\"],[0.3333333333333333,\"#9c179e\"],[0.4444444444444444,\"#bd3786\"],[0.5555555555555556,\"#d8576b\"],[0.6666666666666666,\"#ed7953\"],[0.7777777777777778,\"#fb9f3a\"],[0.8888888888888888,\"#fdca26\"],[1.0,\"#f0f921\"]],\"diverging\":[[0,\"#8e0152\"],[0.1,\"#c51b7d\"],[0.2,\"#de77ae\"],[0.3,\"#f1b6da\"],[0.4,\"#fde0ef\"],[0.5,\"#f7f7f7\"],[0.6,\"#e6f5d0\"],[0.7,\"#b8e186\"],[0.8,\"#7fbc41\"],[0.9,\"#4d9221\"],[1,\"#276419\"]]},\"xaxis\":{\"gridcolor\":\"white\",\"linecolor\":\"white\",\"ticks\":\"\",\"title\":{\"standoff\":15},\"zerolinecolor\":\"white\",\"automargin\":true,\"zerolinewidth\":2},\"yaxis\":{\"gridcolor\":\"white\",\"linecolor\":\"white\",\"ticks\":\"\",\"title\":{\"standoff\":15},\"zerolinecolor\":\"white\",\"automargin\":true,\"zerolinewidth\":2},\"scene\":{\"xaxis\":{\"backgroundcolor\":\"#E5ECF6\",\"gridcolor\":\"white\",\"linecolor\":\"white\",\"showbackground\":true,\"ticks\":\"\",\"zerolinecolor\":\"white\",\"gridwidth\":2},\"yaxis\":{\"backgroundcolor\":\"#E5ECF6\",\"gridcolor\":\"white\",\"linecolor\":\"white\",\"showbackground\":true,\"ticks\":\"\",\"zerolinecolor\":\"white\",\"gridwidth\":2},\"zaxis\":{\"backgroundcolor\":\"#E5ECF6\",\"gridcolor\":\"white\",\"linecolor\":\"white\",\"showbackground\":true,\"ticks\":\"\",\"zerolinecolor\":\"white\",\"gridwidth\":2}},\"shapedefaults\":{\"line\":{\"color\":\"#2a3f5f\"}},\"annotationdefaults\":{\"arrowcolor\":\"#2a3f5f\",\"arrowhead\":0,\"arrowwidth\":1},\"geo\":{\"bgcolor\":\"white\",\"landcolor\":\"#E5ECF6\",\"subunitcolor\":\"white\",\"showland\":true,\"showlakes\":true,\"lakecolor\":\"white\"},\"title\":{\"x\":0.05},\"mapbox\":{\"style\":\"light\"}}},\"xaxis\":{\"anchor\":\"y\",\"domain\":[0.0,1.0],\"title\":{\"text\":\"cellTypeName\"}},\"yaxis\":{\"anchor\":\"x\",\"domain\":[0.0,1.0],\"title\":{\"text\":\"Frequency from Total Patients\"}},\"legend\":{\"tracegroupgap\":0},\"title\":{\"text\":\"Cell Type Frequency Bar Chart\"},\"barmode\":\"relative\"},                        {\"responsive\": true}                    ).then(function(){\n",
       "                            \n",
       "var gd = document.getElementById('a343866a-eeb4-4c3a-8764-90785e14f946');\n",
       "var x = new MutationObserver(function (mutations, observer) {{\n",
       "        var display = window.getComputedStyle(gd).display;\n",
       "        if (!display || display === 'none') {{\n",
       "            console.log([gd, 'removed!']);\n",
       "            Plotly.purge(gd);\n",
       "            observer.disconnect();\n",
       "        }}\n",
       "}});\n",
       "\n",
       "// Listen for the removal of the full notebook cells\n",
       "var notebookContainer = gd.closest('#notebook-container');\n",
       "if (notebookContainer) {{\n",
       "    x.observe(notebookContainer, {childList: true});\n",
       "}}\n",
       "\n",
       "// Listen for the clearing of the current output cell\n",
       "var outputEl = gd.closest('.output');\n",
       "if (outputEl) {{\n",
       "    x.observe(outputEl, {childList: true});\n",
       "}}\n",
       "\n",
       "                        })                };                            </script>        </div>\n",
       "</body>\n",
       "</html>"
      ]
     },
     "metadata": {},
     "output_type": "display_data"
    }
   ],
   "source": [
    "# group by frequency of cell types from total patitents by cell type name\n",
    "total_each_cell = df_labels.groupby('cellTypeName', as_index=False).agg({'patientID': 'nunique'})\n",
    "\n",
    "# total number of patients\n",
    "total_patient = df_labels['patientID'].nunique()\n",
    "\n",
    "# create new percentage column based on cell type frequency\n",
    "total_each_cell['percent'] = [round((i*100)/total_patient,0) for i in total_each_cell['patientID']]\n",
    "\n",
    "# sketch bar chart\n",
    "fig = px.bar(\n",
    "    total_each_cell,\n",
    "    x=\"cellTypeName\",\n",
    "    y=\"percent\",\n",
    "    labels={\"percent\": \"Frequency from Total Patients\", \"celltypename\": \"Cell Name\"},\n",
    "    text_auto= True,\n",
    "    title = \"Cell Type Frequency Bar Chart\"\n",
    ")\n",
    "fig.show()"
   ]
  },
  {
   "cell_type": "markdown",
   "metadata": {
    "cell_id": "3a472af177f142549937981d467634cf",
    "deepnote_cell_type": "text-cell-callout",
    "formattedRanges": [],
    "is_collapsed": false,
    "tags": []
   },
   "source": [
    "> As seen from the histogram, cell type 2 does have the highest frequencies out of the data. With the the least being cell type 3."
   ]
  },
  {
   "cell_type": "markdown",
   "metadata": {
    "created_in_deepnote_cell": true,
    "deepnote_cell_type": "markdown",
    "tags": []
   },
   "source": [
    "<a style='text-decoration:none;line-height:16px;display:flex;color:#5B5B62;padding:10px;justify-content:end;' href='https://deepnote.com?utm_source=created-in-deepnote-cell&projectId=8d871b9e-4e37-4fce-a22e-8733be6e4afc' target=\"_blank\">\n",
    "<img alt='Created in deepnote.com' style='display:inline;max-height:16px;margin:0px;margin-right:7.5px;' src='data:image/svg+xml;base64,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' > </img>\n",
    "Created in <span style='font-weight:600;margin-left:4px;'>Deepnote</span></a>"
   ]
  }
 ],
 "metadata": {
  "deepnote": {},
  "deepnote_execution_queue": [],
  "deepnote_notebook_id": "3a6f522ba5854258b4efcf7eb1931df2",
  "deepnote_persisted_session": {
   "createdAt": "2023-01-12T12:37:03.492Z"
  },
  "kernelspec": {
   "display_name": "Python 3",
   "language": "python",
   "name": "python3"
  },
  "language_info": {
   "codemirror_mode": {
    "name": "ipython",
    "version": 3
   },
   "file_extension": ".py",
   "mimetype": "text/x-python",
   "name": "python",
   "nbconvert_exporter": "python",
   "pygments_lexer": "ipython3",
   "version": "3.10.8 (main, Oct 13 2022, 09:48:40) [Clang 14.0.0 (clang-1400.0.29.102)]"
  },
  "vscode": {
   "interpreter": {
    "hash": "b0fa6594d8f4cbf19f97940f81e996739fb7646882a419484c72d19e05852a7e"
   }
  }
 },
 "nbformat": 4,
 "nbformat_minor": 4
}

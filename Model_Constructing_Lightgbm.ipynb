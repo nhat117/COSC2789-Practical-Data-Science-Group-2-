{
 "cells": [
  {
   "cell_type": "markdown",
   "metadata": {
    "cell_id": "b1e8b5bb0b9f43e4b4135cba7cd2f254",
    "deepnote_cell_type": "markdown",
    "tags": []
   },
   "source": [
    "### Load data and import necessary library"
   ]
  },
  {
   "cell_type": "code",
   "execution_count": 1,
   "metadata": {
    "cell_id": "d6b07d3b3da14b0bba1c468a4118671e",
    "deepnote_cell_type": "code",
    "deepnote_to_be_reexecuted": false,
    "execution_millis": 2,
    "execution_start": 1673277732127,
    "source_hash": "bedbe15b",
    "tags": []
   },
   "outputs": [
    {
     "name": "stderr",
     "output_type": "stream",
     "text": [
      "/opt/homebrew/Caskroom/miniforge/base/envs/tensorflow/lib/python3.9/site-packages/scipy/__init__.py:146: UserWarning: A NumPy version >=1.16.5 and <1.23.0 is required for this version of SciPy (detected version 1.24.1\n",
      "  warnings.warn(f\"A NumPy version >={np_minversion} and <{np_maxversion}\"\n"
     ]
    }
   ],
   "source": [
    "#Import necessary library\n",
    "import pickle as pkl\n",
    "from itertools import cycle\n",
    "from sklearn.preprocessing import label_binarize\n",
    "import pandas as pd, numpy as np, matplotlib.pyplot as plt, seaborn as sns\n",
    "import matplotlib.style as style; style.use('fivethirtyeight')\n",
    "from lightgbm import LGBMClassifier\n",
    "from scipy.stats import zscore, norm\n",
    "from sklearn.metrics import roc_curve, auc\n",
    "from sklearn.metrics import confusion_matrix, plot_confusion_matrix\n",
    "from sklearn.metrics import classification_report, confusion_matrix, roc_auc_score, roc_curve, accuracy_score\n",
    "from sklearn.model_selection import train_test_split, GridSearchCV, StratifiedKFold\n",
    "import itertools\n",
    "import os\n",
    "import shutil\n",
    "import random\n",
    "import glob\n",
    "import matplotlib.pyplot as plt\n",
    "import warnings\n",
    "\n",
    "warnings.simplefilter(action='ignore', category=FutureWarning)"
   ]
  },
  {
   "cell_type": "code",
   "execution_count": 2,
   "metadata": {
    "cell_id": "8e574d233ce44a2eaaa2345f9695b9d7",
    "deepnote_cell_type": "code",
    "deepnote_to_be_reexecuted": false,
    "execution_millis": 4539,
    "execution_start": 1673277732509,
    "source_hash": "8f233cc6",
    "tags": []
   },
   "outputs": [],
   "source": [
    "# Import data\n",
    "task1 = pd.read_csv('./converted_data/converted_data.csv')\n",
    "task2 = pd.read_csv('./converted_data/df_labels_balanced_converted.csv')"
   ]
  },
  {
   "cell_type": "code",
   "execution_count": 3,
   "metadata": {
    "cell_id": "1a8e7dc7fc034bcdaa93510476e67d94",
    "deepnote_cell_type": "code",
    "deepnote_to_be_reexecuted": false,
    "execution_millis": 474,
    "execution_start": 1673277737114,
    "source_hash": "71b984ab",
    "tags": []
   },
   "outputs": [
    {
     "data": {
      "text/html": [
       "<div>\n",
       "<style scoped>\n",
       "    .dataframe tbody tr th:only-of-type {\n",
       "        vertical-align: middle;\n",
       "    }\n",
       "\n",
       "    .dataframe tbody tr th {\n",
       "        vertical-align: top;\n",
       "    }\n",
       "\n",
       "    .dataframe thead th {\n",
       "        text-align: right;\n",
       "    }\n",
       "</style>\n",
       "<table border=\"1\" class=\"dataframe\">\n",
       "  <thead>\n",
       "    <tr style=\"text-align: right;\">\n",
       "      <th></th>\n",
       "      <th>iscancerous</th>\n",
       "      <th>p0</th>\n",
       "      <th>p1</th>\n",
       "      <th>p2</th>\n",
       "      <th>p3</th>\n",
       "      <th>p4</th>\n",
       "      <th>p5</th>\n",
       "      <th>p6</th>\n",
       "      <th>p7</th>\n",
       "      <th>p8</th>\n",
       "      <th>...</th>\n",
       "      <th>p2177</th>\n",
       "      <th>p2178</th>\n",
       "      <th>p2179</th>\n",
       "      <th>p2180</th>\n",
       "      <th>p2181</th>\n",
       "      <th>p2182</th>\n",
       "      <th>p2183</th>\n",
       "      <th>p2184</th>\n",
       "      <th>p2185</th>\n",
       "      <th>p2186</th>\n",
       "    </tr>\n",
       "  </thead>\n",
       "  <tbody>\n",
       "    <tr>\n",
       "      <th>0</th>\n",
       "      <td>0</td>\n",
       "      <td>164</td>\n",
       "      <td>124</td>\n",
       "      <td>180</td>\n",
       "      <td>146</td>\n",
       "      <td>108</td>\n",
       "      <td>169</td>\n",
       "      <td>172</td>\n",
       "      <td>134</td>\n",
       "      <td>199</td>\n",
       "      <td>...</td>\n",
       "      <td>222</td>\n",
       "      <td>163</td>\n",
       "      <td>115</td>\n",
       "      <td>188</td>\n",
       "      <td>160</td>\n",
       "      <td>113</td>\n",
       "      <td>185</td>\n",
       "      <td>168</td>\n",
       "      <td>122</td>\n",
       "      <td>191</td>\n",
       "    </tr>\n",
       "    <tr>\n",
       "      <th>1</th>\n",
       "      <td>0</td>\n",
       "      <td>241</td>\n",
       "      <td>236</td>\n",
       "      <td>240</td>\n",
       "      <td>242</td>\n",
       "      <td>234</td>\n",
       "      <td>239</td>\n",
       "      <td>240</td>\n",
       "      <td>229</td>\n",
       "      <td>237</td>\n",
       "      <td>...</td>\n",
       "      <td>158</td>\n",
       "      <td>151</td>\n",
       "      <td>107</td>\n",
       "      <td>179</td>\n",
       "      <td>138</td>\n",
       "      <td>91</td>\n",
       "      <td>175</td>\n",
       "      <td>101</td>\n",
       "      <td>54</td>\n",
       "      <td>142</td>\n",
       "    </tr>\n",
       "    <tr>\n",
       "      <th>2</th>\n",
       "      <td>0</td>\n",
       "      <td>250</td>\n",
       "      <td>240</td>\n",
       "      <td>252</td>\n",
       "      <td>254</td>\n",
       "      <td>244</td>\n",
       "      <td>255</td>\n",
       "      <td>239</td>\n",
       "      <td>228</td>\n",
       "      <td>246</td>\n",
       "      <td>...</td>\n",
       "      <td>230</td>\n",
       "      <td>243</td>\n",
       "      <td>216</td>\n",
       "      <td>237</td>\n",
       "      <td>239</td>\n",
       "      <td>209</td>\n",
       "      <td>231</td>\n",
       "      <td>246</td>\n",
       "      <td>213</td>\n",
       "      <td>238</td>\n",
       "    </tr>\n",
       "    <tr>\n",
       "      <th>3</th>\n",
       "      <td>0</td>\n",
       "      <td>255</td>\n",
       "      <td>237</td>\n",
       "      <td>255</td>\n",
       "      <td>243</td>\n",
       "      <td>224</td>\n",
       "      <td>242</td>\n",
       "      <td>238</td>\n",
       "      <td>222</td>\n",
       "      <td>233</td>\n",
       "      <td>...</td>\n",
       "      <td>187</td>\n",
       "      <td>202</td>\n",
       "      <td>118</td>\n",
       "      <td>163</td>\n",
       "      <td>183</td>\n",
       "      <td>97</td>\n",
       "      <td>147</td>\n",
       "      <td>200</td>\n",
       "      <td>114</td>\n",
       "      <td>167</td>\n",
       "    </tr>\n",
       "    <tr>\n",
       "      <th>4</th>\n",
       "      <td>0</td>\n",
       "      <td>222</td>\n",
       "      <td>198</td>\n",
       "      <td>219</td>\n",
       "      <td>230</td>\n",
       "      <td>204</td>\n",
       "      <td>227</td>\n",
       "      <td>218</td>\n",
       "      <td>186</td>\n",
       "      <td>215</td>\n",
       "      <td>...</td>\n",
       "      <td>245</td>\n",
       "      <td>244</td>\n",
       "      <td>212</td>\n",
       "      <td>229</td>\n",
       "      <td>241</td>\n",
       "      <td>204</td>\n",
       "      <td>226</td>\n",
       "      <td>235</td>\n",
       "      <td>195</td>\n",
       "      <td>221</td>\n",
       "    </tr>\n",
       "  </tbody>\n",
       "</table>\n",
       "<p>5 rows × 2188 columns</p>\n",
       "</div>"
      ],
      "text/plain": [
       "   iscancerous   p0   p1   p2   p3   p4   p5   p6   p7   p8  ...  p2177  \\\n",
       "0            0  164  124  180  146  108  169  172  134  199  ...    222   \n",
       "1            0  241  236  240  242  234  239  240  229  237  ...    158   \n",
       "2            0  250  240  252  254  244  255  239  228  246  ...    230   \n",
       "3            0  255  237  255  243  224  242  238  222  233  ...    187   \n",
       "4            0  222  198  219  230  204  227  218  186  215  ...    245   \n",
       "\n",
       "   p2178  p2179  p2180  p2181  p2182  p2183  p2184  p2185  p2186  \n",
       "0    163    115    188    160    113    185    168    122    191  \n",
       "1    151    107    179    138     91    175    101     54    142  \n",
       "2    243    216    237    239    209    231    246    213    238  \n",
       "3    202    118    163    183     97    147    200    114    167  \n",
       "4    244    212    229    241    204    226    235    195    221  \n",
       "\n",
       "[5 rows x 2188 columns]"
      ]
     },
     "execution_count": 3,
     "metadata": {},
     "output_type": "execute_result"
    }
   ],
   "source": [
    "task1.head()"
   ]
  },
  {
   "cell_type": "markdown",
   "metadata": {
    "cell_id": "337b367d4293439cbf3402050fb42f57",
    "deepnote_cell_type": "markdown",
    "tags": []
   },
   "source": [
    "## Evaluation Metrics"
   ]
  },
  {
   "cell_type": "code",
   "execution_count": 4,
   "metadata": {},
   "outputs": [],
   "source": [
    "def plot_multiclass_roc(clf, X_test, y_test):\n",
    "    figsize=(17, 6)\n",
    "    y_score = clf.predict_proba(X_test)\n",
    "    n_classes = len(np.unique(y_test))\n",
    "\n",
    "\n",
    "    # structures\n",
    "    fpr = dict()\n",
    "    tpr = dict()\n",
    "    roc_auc = dict()\n",
    "\n",
    "    # calculate dummies once\n",
    "    y_test_dummies = pd.get_dummies(y_test, drop_first=False).values\n",
    "    for i in range(n_classes):\n",
    "        fpr[i], tpr[i], _ = roc_curve(y_test_dummies[:, i], y_score[:, i])\n",
    "        roc_auc[i] = auc(fpr[i], tpr[i])\n",
    "\n",
    "    # roc for each class\n",
    "    fig, ax = plt.subplots(figsize=figsize)\n",
    "    ax.plot([0, 1], [0, 1], 'k--')\n",
    "    ax.set_xlim([0.0, 1.0])\n",
    "    ax.set_ylim([0.0, 1.05])\n",
    "    ax.set_xlabel('False Positive Rate')\n",
    "    ax.set_ylabel('True Positive Rate')\n",
    "    ax.set_title('Receiver operating characteristic example')\n",
    "    for i in range(n_classes):\n",
    "        ax.plot(fpr[i], tpr[i], label='ROC curve (area = %0.2f) for label %i' % (roc_auc[i], i))\n",
    "    ax.legend(loc=\"best\")\n",
    "    ax.grid(alpha=.4)\n",
    "    sns.despine()\n",
    "    plt.show()\n"
   ]
  },
  {
   "cell_type": "code",
   "execution_count": 5,
   "metadata": {
    "cell_id": "e01a046ac1aa48e2b4eacc29553fcbbc",
    "deepnote_cell_type": "code",
    "deepnote_to_be_reexecuted": false,
    "execution_millis": 239257,
    "execution_start": 1673277737590,
    "source_hash": "eda5dadb",
    "tags": []
   },
   "outputs": [],
   "source": [
    "from sklearn.metrics import RocCurveDisplay\n",
    "# Use this function to train and evaluate the model. If the model is a neural network, \n",
    "# change model_type to 'tf' and specified the trainning epochs\n",
    "def train_and_plot(model, X_train , y_train, X_test, y_test, model_type = 'sk', epochs = 0):\n",
    "\n",
    "    if model_type == 'sk' :\n",
    "        model.fit(X_train, y_train)\n",
    "        print('Model accuracy for train set: {0:.3f}'.format(model.score(X_train, y_train)))\n",
    "        print('Model accuracy for test set: {0:.3f}'.format(model.score(X_test, y_test)))\n",
    "        \n",
    "        # fpr, tpr, thresholds = macro_roc(y_test, model.predict(X_test), n_classes = len(y_train.value_counts()))\n",
    "        # roc_curve(y_test, model.predict_proba(X_test)[:,1])\n",
    "    elif model_type == 'tf' :\n",
    "        model.fit(X_train, y_train, epochs = epochs, verbose = 2)\n",
    "        print('Model accuracy for train set: {0:.3f}'.format(model.evaluate(X_train, y_train, verbose=0)[1]))\n",
    "        print('Model accuracy for test set: {0:.3f}'.format(model.evaluate(X_test, y_test, verbose=0)[1]))\n",
    "        fpr, tpr, thresholds = roc_curve(y_test, model.predict(X_test))\n",
    "    \n",
    "    y_pred = model.predict(X_test)\n",
    "\n",
    "    # Classification Report\n",
    "    print('\\n{}'.format(classification_report(y_test, y_pred)))\n",
    "\n",
    "    # Confusion Matrix\n",
    "    cm = confusion_matrix(y_test, y_pred)\n",
    "    print('\\nConfusion Matrix:\\n', cm)\n",
    "    plot_confusion_matrix(model, X_test, y_test)\n",
    "    plt.title('Confusion Matrix')\n",
    "\n",
    "    # Accuracy Score\n",
    "    auc = accuracy_score(y_test, y_pred)\n",
    "    print('\\nAccuracy Score: ', auc.round(3))\n",
    "    \n",
    "    plot_multiclass_roc(model, X_test, y_test)\n",
    "    \n",
    "    \n",
    "    return model"
   ]
  },
  {
   "cell_type": "markdown",
   "metadata": {
    "cell_id": "2cf820fec5174f8da0c2fbce56281f2a",
    "deepnote_cell_type": "markdown",
    "tags": []
   },
   "source": [
    "## Traditional Machine learning model"
   ]
  },
  {
   "attachments": {},
   "cell_type": "markdown",
   "metadata": {},
   "source": [
    "## Task 1"
   ]
  },
  {
   "cell_type": "code",
   "execution_count": 6,
   "metadata": {
    "cell_id": "a95f9c7085214de580c556b9dd270822",
    "deepnote_cell_type": "code",
    "deepnote_to_be_reexecuted": false,
    "execution_millis": 3,
    "execution_start": 1673277738113,
    "source_hash": "8bd64349",
    "tags": []
   },
   "outputs": [],
   "source": [
    "def set_gen(input_df, key = 'iscancerous') :\n",
    "    X = input_df.drop(key, axis = 1)\n",
    "    y = input_df[key]\n",
    "    X_train, X_test, y_train, y_test = train_test_split(X,y,test_size=0.3, random_state=42, shuffle = True, stratify = y)\n",
    "    return X_train, X_test, y_train, y_test"
   ]
  },
  {
   "cell_type": "code",
   "execution_count": 7,
   "metadata": {
    "cell_id": "8a96087ad8cc4962b8f6dd2a96120ad2",
    "deepnote_cell_type": "code",
    "deepnote_to_be_reexecuted": false,
    "execution_millis": 191,
    "execution_start": 1673277738167,
    "source_hash": "5ba81089",
    "tags": []
   },
   "outputs": [],
   "source": [
    "X_train_1, X_test_1, y_train_1, y_test_1 = set_gen(task1)"
   ]
  },
  {
   "cell_type": "code",
   "execution_count": 8,
   "metadata": {
    "cell_id": "0d78a03b1c3f43e484f7bb4ca27ea3d4",
    "deepnote_cell_type": "code",
    "deepnote_to_be_reexecuted": false,
    "execution_millis": 4,
    "execution_start": 1673277738400,
    "source_hash": "17ed6bcf",
    "tags": []
   },
   "outputs": [
    {
     "name": "stdout",
     "output_type": "stream",
     "text": [
      "(18270, 2187)\n",
      "(18270,)\n",
      "(7830, 2187)\n",
      "(7830,)\n"
     ]
    }
   ],
   "source": [
    "print(X_train_1.shape)\n",
    "print(y_train_1.shape)\n",
    "print(X_test_1.shape)\n",
    "print(y_test_1.shape)"
   ]
  },
  {
   "cell_type": "code",
   "execution_count": 9,
   "metadata": {
    "cell_id": "3b95fd243c24496a933bd993fc3b36c1",
    "deepnote_cell_type": "code",
    "deepnote_to_be_reexecuted": false,
    "execution_millis": 39621,
    "execution_start": 1673277738401,
    "source_hash": "1d80406f",
    "tags": []
   },
   "outputs": [
    {
     "name": "stdout",
     "output_type": "stream",
     "text": [
      "[LightGBM] [Warning] Unknown parameter: use_label_encoder\n",
      "Model accuracy for train set: 0.979\n",
      "Model accuracy for test set: 0.912\n",
      "\n",
      "              precision    recall  f1-score   support\n",
      "\n",
      "           0       0.92      0.90      0.91      3915\n",
      "           1       0.90      0.93      0.91      3915\n",
      "\n",
      "    accuracy                           0.91      7830\n",
      "   macro avg       0.91      0.91      0.91      7830\n",
      "weighted avg       0.91      0.91      0.91      7830\n",
      "\n",
      "\n",
      "Confusion Matrix:\n",
      " [[3511  404]\n",
      " [ 288 3627]]\n",
      "\n",
      "Accuracy Score:  0.912\n"
     ]
    },
    {
     "data": {
      "image/png": "[encoded data removed]",
      "text/plain": [
       "<Figure size 640x480 with 2 Axes>"
      ]
     },
     "metadata": {},
     "output_type": "display_data"
    },
    {
     "data": {
      "image/png": "[encoded data removed]",
      "text/plain": [
       "<Figure size 1700x600 with 1 Axes>"
      ]
     },
     "metadata": {},
     "output_type": "display_data"
    }
   ],
   "source": [
    "lgbm_clf = LGBMClassifier(random_state=42, use_label_encoder=False, n_jobs=-1)\n",
    "lgbm_vanilla = train_and_plot(lgbm_clf, X_train_1, y_train_1, X_test_1, y_test_1)"
   ]
  },
  {
   "cell_type": "code",
   "execution_count": 10,
   "metadata": {
    "cell_id": "457cfadfbe5a486ea5b6b25b462b3a7f",
    "deepnote_cell_type": "code",
    "deepnote_to_be_reexecuted": false,
    "execution_millis": 13,
    "execution_start": 1673277800686,
    "source_hash": "ef708085",
    "tags": []
   },
   "outputs": [],
   "source": [
    "# save model\n",
    "pkl.dump(lgbm_vanilla, open('./model_result/lgbm_standard.pkl', \"wb\"))"
   ]
  },
  {
   "attachments": {},
   "cell_type": "markdown",
   "metadata": {
    "cell_id": "da7b6fecf6434d1a8fe1f6f2c31bdc4b",
    "deepnote_cell_type": "markdown",
    "tags": []
   },
   "source": [
    "### LightGBM Hyperparameter tunning"
   ]
  },
  {
   "cell_type": "code",
   "execution_count": 11,
   "metadata": {},
   "outputs": [
    {
     "name": "stdout",
     "output_type": "stream",
     "text": [
      "Requirement already satisfied: optuna in /opt/homebrew/Caskroom/miniforge/base/envs/tensorflow/lib/python3.9/site-packages (3.0.5)\n",
      "Requirement already satisfied: PyYAML in /opt/homebrew/Caskroom/miniforge/base/envs/tensorflow/lib/python3.9/site-packages (from optuna) (6.0)\n",
      "Requirement already satisfied: importlib-metadata<5.0.0 in /opt/homebrew/Caskroom/miniforge/base/envs/tensorflow/lib/python3.9/site-packages (from optuna) (4.11.3)\n",
      "Requirement already satisfied: packaging>=20.0 in /opt/homebrew/Caskroom/miniforge/base/envs/tensorflow/lib/python3.9/site-packages (from optuna) (22.0)\n",
      "Requirement already satisfied: cliff in /opt/homebrew/Caskroom/miniforge/base/envs/tensorflow/lib/python3.9/site-packages (from optuna) (4.1.0)\n",
      "Requirement already satisfied: alembic>=1.5.0 in /opt/homebrew/Caskroom/miniforge/base/envs/tensorflow/lib/python3.9/site-packages (from optuna) (1.9.1)\n",
      "Requirement already satisfied: numpy in /opt/homebrew/Caskroom/miniforge/base/envs/tensorflow/lib/python3.9/site-packages (from optuna) (1.24.1)\n",
      "Requirement already satisfied: tqdm in /opt/homebrew/Caskroom/miniforge/base/envs/tensorflow/lib/python3.9/site-packages (from optuna) (4.64.1)\n",
      "Requirement already satisfied: cmaes>=0.8.2 in /opt/homebrew/Caskroom/miniforge/base/envs/tensorflow/lib/python3.9/site-packages (from optuna) (0.9.1)\n",
      "Requirement already satisfied: sqlalchemy>=1.3.0 in /opt/homebrew/Caskroom/miniforge/base/envs/tensorflow/lib/python3.9/site-packages (from optuna) (1.4.46)\n",
      "Requirement already satisfied: scipy<1.9.0,>=1.7.0 in /opt/homebrew/Caskroom/miniforge/base/envs/tensorflow/lib/python3.9/site-packages (from optuna) (1.8.1)\n",
      "Requirement already satisfied: colorlog in /opt/homebrew/Caskroom/miniforge/base/envs/tensorflow/lib/python3.9/site-packages (from optuna) (6.7.0)\n",
      "Requirement already satisfied: Mako in /opt/homebrew/Caskroom/miniforge/base/envs/tensorflow/lib/python3.9/site-packages (from alembic>=1.5.0->optuna) (1.2.4)\n",
      "Requirement already satisfied: zipp>=0.5 in /opt/homebrew/Caskroom/miniforge/base/envs/tensorflow/lib/python3.9/site-packages (from importlib-metadata<5.0.0->optuna) (3.8.0)\n",
      "Requirement already satisfied: stevedore>=2.0.1 in /opt/homebrew/Caskroom/miniforge/base/envs/tensorflow/lib/python3.9/site-packages (from cliff->optuna) (4.1.1)\n",
      "Requirement already satisfied: cmd2>=1.0.0 in /opt/homebrew/Caskroom/miniforge/base/envs/tensorflow/lib/python3.9/site-packages (from cliff->optuna) (2.4.2)\n",
      "Requirement already satisfied: PrettyTable>=0.7.2 in /opt/homebrew/Caskroom/miniforge/base/envs/tensorflow/lib/python3.9/site-packages (from cliff->optuna) (3.6.0)\n",
      "Requirement already satisfied: autopage>=0.4.0 in /opt/homebrew/Caskroom/miniforge/base/envs/tensorflow/lib/python3.9/site-packages (from cliff->optuna) (0.5.1)\n",
      "Requirement already satisfied: attrs>=16.3.0 in /opt/homebrew/Caskroom/miniforge/base/envs/tensorflow/lib/python3.9/site-packages (from cmd2>=1.0.0->cliff->optuna) (22.1.0)\n",
      "Requirement already satisfied: wcwidth>=0.1.7 in /opt/homebrew/Caskroom/miniforge/base/envs/tensorflow/lib/python3.9/site-packages (from cmd2>=1.0.0->cliff->optuna) (0.2.5)\n",
      "Requirement already satisfied: pyperclip>=1.6 in /opt/homebrew/Caskroom/miniforge/base/envs/tensorflow/lib/python3.9/site-packages (from cmd2>=1.0.0->cliff->optuna) (1.8.2)\n",
      "Requirement already satisfied: pbr!=2.1.0,>=2.0.0 in /opt/homebrew/Caskroom/miniforge/base/envs/tensorflow/lib/python3.9/site-packages (from stevedore>=2.0.1->cliff->optuna) (5.11.0)\n",
      "Requirement already satisfied: MarkupSafe>=0.9.2 in /opt/homebrew/Caskroom/miniforge/base/envs/tensorflow/lib/python3.9/site-packages (from Mako->alembic>=1.5.0->optuna) (2.1.1)\n",
      "Requirement already satisfied: optuna-dashboard in /opt/homebrew/Caskroom/miniforge/base/envs/tensorflow/lib/python3.9/site-packages (0.8.1)\n",
      "Requirement already satisfied: optuna>=2.4.0 in /opt/homebrew/Caskroom/miniforge/base/envs/tensorflow/lib/python3.9/site-packages (from optuna-dashboard) (3.0.5)\n",
      "Requirement already satisfied: packaging in /opt/homebrew/Caskroom/miniforge/base/envs/tensorflow/lib/python3.9/site-packages (from optuna-dashboard) (22.0)\n",
      "Requirement already satisfied: scikit-learn in /opt/homebrew/Caskroom/miniforge/base/envs/tensorflow/lib/python3.9/site-packages (from optuna-dashboard) (1.2.0)\n",
      "Requirement already satisfied: bottle in /opt/homebrew/Caskroom/miniforge/base/envs/tensorflow/lib/python3.9/site-packages (from optuna-dashboard) (0.12.23)\n",
      "Requirement already satisfied: scipy<1.9.0,>=1.7.0 in /opt/homebrew/Caskroom/miniforge/base/envs/tensorflow/lib/python3.9/site-packages (from optuna>=2.4.0->optuna-dashboard) (1.8.1)\n",
      "Requirement already satisfied: colorlog in /opt/homebrew/Caskroom/miniforge/base/envs/tensorflow/lib/python3.9/site-packages (from optuna>=2.4.0->optuna-dashboard) (6.7.0)\n",
      "Requirement already satisfied: tqdm in /opt/homebrew/Caskroom/miniforge/base/envs/tensorflow/lib/python3.9/site-packages (from optuna>=2.4.0->optuna-dashboard) (4.64.1)\n",
      "Requirement already satisfied: PyYAML in /opt/homebrew/Caskroom/miniforge/base/envs/tensorflow/lib/python3.9/site-packages (from optuna>=2.4.0->optuna-dashboard) (6.0)\n",
      "Requirement already satisfied: importlib-metadata<5.0.0 in /opt/homebrew/Caskroom/miniforge/base/envs/tensorflow/lib/python3.9/site-packages (from optuna>=2.4.0->optuna-dashboard) (4.11.3)\n",
      "Requirement already satisfied: cliff in /opt/homebrew/Caskroom/miniforge/base/envs/tensorflow/lib/python3.9/site-packages (from optuna>=2.4.0->optuna-dashboard) (4.1.0)\n",
      "Requirement already satisfied: alembic>=1.5.0 in /opt/homebrew/Caskroom/miniforge/base/envs/tensorflow/lib/python3.9/site-packages (from optuna>=2.4.0->optuna-dashboard) (1.9.1)\n",
      "Requirement already satisfied: sqlalchemy>=1.3.0 in /opt/homebrew/Caskroom/miniforge/base/envs/tensorflow/lib/python3.9/site-packages (from optuna>=2.4.0->optuna-dashboard) (1.4.46)\n",
      "Requirement already satisfied: numpy in /opt/homebrew/Caskroom/miniforge/base/envs/tensorflow/lib/python3.9/site-packages (from optuna>=2.4.0->optuna-dashboard) (1.24.1)\n",
      "Requirement already satisfied: cmaes>=0.8.2 in /opt/homebrew/Caskroom/miniforge/base/envs/tensorflow/lib/python3.9/site-packages (from optuna>=2.4.0->optuna-dashboard) (0.9.1)\n",
      "Requirement already satisfied: joblib>=1.1.1 in /opt/homebrew/Caskroom/miniforge/base/envs/tensorflow/lib/python3.9/site-packages (from scikit-learn->optuna-dashboard) (1.1.1)\n",
      "Requirement already satisfied: threadpoolctl>=2.0.0 in /opt/homebrew/Caskroom/miniforge/base/envs/tensorflow/lib/python3.9/site-packages (from scikit-learn->optuna-dashboard) (2.2.0)\n",
      "Requirement already satisfied: Mako in /opt/homebrew/Caskroom/miniforge/base/envs/tensorflow/lib/python3.9/site-packages (from alembic>=1.5.0->optuna>=2.4.0->optuna-dashboard) (1.2.4)\n",
      "Requirement already satisfied: zipp>=0.5 in /opt/homebrew/Caskroom/miniforge/base/envs/tensorflow/lib/python3.9/site-packages (from importlib-metadata<5.0.0->optuna>=2.4.0->optuna-dashboard) (3.8.0)\n",
      "Requirement already satisfied: autopage>=0.4.0 in /opt/homebrew/Caskroom/miniforge/base/envs/tensorflow/lib/python3.9/site-packages (from cliff->optuna>=2.4.0->optuna-dashboard) (0.5.1)\n",
      "Requirement already satisfied: PrettyTable>=0.7.2 in /opt/homebrew/Caskroom/miniforge/base/envs/tensorflow/lib/python3.9/site-packages (from cliff->optuna>=2.4.0->optuna-dashboard) (3.6.0)\n",
      "Requirement already satisfied: cmd2>=1.0.0 in /opt/homebrew/Caskroom/miniforge/base/envs/tensorflow/lib/python3.9/site-packages (from cliff->optuna>=2.4.0->optuna-dashboard) (2.4.2)\n",
      "Requirement already satisfied: stevedore>=2.0.1 in /opt/homebrew/Caskroom/miniforge/base/envs/tensorflow/lib/python3.9/site-packages (from cliff->optuna>=2.4.0->optuna-dashboard) (4.1.1)\n",
      "Requirement already satisfied: pyperclip>=1.6 in /opt/homebrew/Caskroom/miniforge/base/envs/tensorflow/lib/python3.9/site-packages (from cmd2>=1.0.0->cliff->optuna>=2.4.0->optuna-dashboard) (1.8.2)\n",
      "Requirement already satisfied: wcwidth>=0.1.7 in /opt/homebrew/Caskroom/miniforge/base/envs/tensorflow/lib/python3.9/site-packages (from cmd2>=1.0.0->cliff->optuna>=2.4.0->optuna-dashboard) (0.2.5)\n",
      "Requirement already satisfied: attrs>=16.3.0 in /opt/homebrew/Caskroom/miniforge/base/envs/tensorflow/lib/python3.9/site-packages (from cmd2>=1.0.0->cliff->optuna>=2.4.0->optuna-dashboard) (22.1.0)\n",
      "Requirement already satisfied: pbr!=2.1.0,>=2.0.0 in /opt/homebrew/Caskroom/miniforge/base/envs/tensorflow/lib/python3.9/site-packages (from stevedore>=2.0.1->cliff->optuna>=2.4.0->optuna-dashboard) (5.11.0)\n",
      "Requirement already satisfied: MarkupSafe>=0.9.2 in /opt/homebrew/Caskroom/miniforge/base/envs/tensorflow/lib/python3.9/site-packages (from Mako->alembic>=1.5.0->optuna>=2.4.0->optuna-dashboard) (2.1.1)\n"
     ]
    }
   ],
   "source": [
    "!pip3 install optuna\n",
    "! pip install optuna-dashboard\n",
    "## Run this command in a seperate terminal- min trail is 100\n",
    "# optuna-dashboard sqlite:///db.sqlite3"
   ]
  },
  {
   "cell_type": "code",
   "execution_count": 24,
   "metadata": {
    "cell_id": "efb34158a004483388145ed057d5cff1",
    "deepnote_cell_type": "code",
    "deepnote_to_be_reexecuted": false,
    "execution_millis": 403231,
    "execution_start": 1673281009768,
    "source_hash": "e1126a81",
    "tags": []
   },
   "outputs": [
    {
     "name": "stderr",
     "output_type": "stream",
     "text": [
      "\u001b[32m[I 2023-01-15 20:45:27,012]\u001b[0m A new study created in RDB with name: lgbm_100_2\u001b[0m\n"
     ]
    }
   ],
   "source": [
    "from sklearn.pipeline import Pipeline\n",
    "from sklearn.preprocessing import StandardScaler, MinMaxScaler, RobustScaler\n",
    "from sklearn.decomposition import PCA\n",
    "import optuna\n",
    "\n",
    "\n",
    "def objective(trial):\n",
    "    \n",
    "    scalers = trial.suggest_categorical(\"scalers\", ['minmax', 'standard', 'robust'])\n",
    "\n",
    "    # (b) Define your scalers\n",
    "    if scalers == \"minmax\":\n",
    "        scaler = MinMaxScaler()\n",
    "    elif scalers == \"standard\":\n",
    "        scaler = StandardScaler()\n",
    "    else:\n",
    "        scaler = RobustScaler()\n",
    "    \n",
    "    # -- Instantiate dimensionality reduction\n",
    "     # (a) List all dimensionality reduction options\n",
    "    dim_red = trial.suggest_categorical(\"dim_red\", [\"PCA\", None])\n",
    "\n",
    "    # (b) Define the PCA algorithm and its hyperparameters\n",
    "    if dim_red == \"PCA\":\n",
    "        pca_n_components=trial.suggest_int(\"pca_n_components\", 2, 40) # suggest an integer from 2 to 30\n",
    "        dimen_red_algorithm=PCA(n_components=pca_n_components)\n",
    "    # (c) No dimensionality reduction option\n",
    "    else:\n",
    "        dimen_red_algorithm='passthrough'\n",
    "    \n",
    "    pipeline = Pipeline([\n",
    "        (\"scaler\", scaler),\n",
    "        (\"dim_red\", dimen_red_algorithm),\n",
    "        #Can change if gpu support is implementted\n",
    "        (\"lgbm\", LGBMClassifier(n_jobs=-1))\n",
    "    ])\n",
    "    \n",
    "        \n",
    "    \"\"\"Define the objective function\"\"\"\n",
    "    # params = {\n",
    "    #     'lgbm__max_depth': trial.suggest_int('max_depth', 1, 9),\n",
    "    #     'lgbm__learning_rate': trial.suggest_loguniform('learning_rate', 0.01, 1.0),\n",
    "    #     'lgbm__n_estimators': trial.suggest_int('n_estimators', 50, 500),\n",
    "    #     'lgbm__min_child_weight': trial.suggest_int('min_child_weight', 1, 10),\n",
    "    #     'lgbm__gamma': trial.suggest_loguniform('gamma', 1e-8, 1.0),\n",
    "    #     'lgbm__subsample': trial.suggest_loguniform('subsample', 0.01, 1.0),\n",
    "    #     'lgbm__colsample_bytree': trial.suggest_loguniform('colsample_bytree', 0.01, 1.0),\n",
    "    #     'lgbm__reg_alpha': trial.suggest_loguniform('reg_alpha', 1e-8, 1.0),\n",
    "    #     'lgbm__reg_lambda': trial.suggest_loguniform('reg_lambda', 1e-8, 1.0),\n",
    "    #     'lgbm__eval_metric': 'mlogloss'\n",
    "    # }\n",
    "\n",
    "    params = {\n",
    "        \"lgbm__metric\": \"mlogloss\",\n",
    "        \"lgbm__verbosity\": -1,\n",
    "        \"lgbm__boosting_type\": \"gbdt\",\n",
    "        \"lgbm__lambda_l1\": trial.suggest_float(\"lambda_l1\", 1e-8, 10.0, log=True),\n",
    "        \"lgbm__lambda_l2\": trial.suggest_float(\"lambda_l2\", 1e-8, 10.0, log=True),\n",
    "        \"lgbm__num_leaves\": trial.suggest_int(\"num_leaves\", 2, 256),\n",
    "        \"lgbm__feature_fraction\": trial.suggest_float(\"feature_fraction\", 0.4, 1.0),\n",
    "        \"lgbm__bagging_fraction\": trial.suggest_float(\"bagging_fraction\", 0.4, 1.0),\n",
    "        \"lgbm__bagging_freq\": trial.suggest_int(\"bagging_freq\", 1, 7),\n",
    "        \"lgbm__min_child_samples\": trial.suggest_int(\"min_child_samples\", 5, 100),\n",
    "    }\n",
    "\n",
    "\n",
    "    # Fit the model\n",
    "    model = pipeline.set_params(**params)\n",
    "    model.fit(X_train_1, y_train_1)\n",
    "\n",
    "    # Make predictions\n",
    "    y_pred = model.predict(X_test_1)\n",
    "\n",
    "    # Evaluate predictions\n",
    "    accuracy = accuracy_score(y_test_1, y_pred)\n",
    "    return accuracy\n",
    "\n",
    "study = optuna.create_study(direction='maximize',\n",
    "                            storage=\"sqlite:///db.sqlite3\",  # Specify the storage URL here.\n",
    "                            study_name=\"lgbm_100_2\")"
   ]
  },
  {
   "cell_type": "code",
   "execution_count": 25,
   "metadata": {},
   "outputs": [
    {
     "name": "stdout",
     "output_type": "stream",
     "text": [
      "[LightGBM] [Warning] feature_fraction is set=0.923245222414509, colsample_bytree=1.0 will be ignored. Current value: feature_fraction=0.923245222414509\n",
      "[LightGBM] [Warning] bagging_freq is set=3, subsample_freq=0 will be ignored. Current value: bagging_freq=3\n",
      "[LightGBM] [Warning] bagging_fraction is set=0.43071622190244835, subsample=1.0 will be ignored. Current value: bagging_fraction=0.43071622190244835\n",
      "[LightGBM] [Warning] lambda_l2 is set=1.4214824891804918e-07, reg_lambda=0.0 will be ignored. Current value: lambda_l2=1.4214824891804918e-07\n",
      "[LightGBM] [Warning] lambda_l1 is set=2.8004281171939757e-05, reg_alpha=0.0 will be ignored. Current value: lambda_l1=2.8004281171939757e-05\n"
     ]
    },
    {
     "name": "stderr",
     "output_type": "stream",
     "text": [
      "\u001b[32m[I 2023-01-15 20:45:34,790]\u001b[0m Trial 0 finished with value: 0.8862068965517241 and parameters: {'scalers': 'minmax', 'dim_red': None, 'lambda_l1': 2.8004281171939757e-05, 'lambda_l2': 1.4214824891804918e-07, 'num_leaves': 10, 'feature_fraction': 0.923245222414509, 'bagging_fraction': 0.43071622190244835, 'bagging_freq': 3, 'min_child_samples': 61}. Best is trial 0 with value: 0.8862068965517241.\u001b[0m\n"
     ]
    },
    {
     "name": "stdout",
     "output_type": "stream",
     "text": [
      "[LightGBM] [Warning] feature_fraction is set=0.8871048106542617, colsample_bytree=1.0 will be ignored. Current value: feature_fraction=0.8871048106542617\n",
      "[LightGBM] [Warning] bagging_freq is set=7, subsample_freq=0 will be ignored. Current value: bagging_freq=7\n",
      "[LightGBM] [Warning] bagging_fraction is set=0.8084533619052932, subsample=1.0 will be ignored. Current value: bagging_fraction=0.8084533619052932\n",
      "[LightGBM] [Warning] lambda_l2 is set=1.2718898739580265e-06, reg_lambda=0.0 will be ignored. Current value: lambda_l2=1.2718898739580265e-06\n",
      "[LightGBM] [Warning] lambda_l1 is set=5.993906154006017, reg_alpha=0.0 will be ignored. Current value: lambda_l1=5.993906154006017\n"
     ]
    },
    {
     "name": "stderr",
     "output_type": "stream",
     "text": [
      "\u001b[32m[I 2023-01-15 20:45:44,102]\u001b[0m Trial 1 finished with value: 0.8832694763729246 and parameters: {'scalers': 'robust', 'dim_red': 'PCA', 'pca_n_components': 15, 'lambda_l1': 5.993906154006017, 'lambda_l2': 1.2718898739580265e-06, 'num_leaves': 105, 'feature_fraction': 0.8871048106542617, 'bagging_fraction': 0.8084533619052932, 'bagging_freq': 7, 'min_child_samples': 87}. Best is trial 0 with value: 0.8862068965517241.\u001b[0m\n"
     ]
    },
    {
     "name": "stdout",
     "output_type": "stream",
     "text": [
      "[LightGBM] [Warning] feature_fraction is set=0.8269410780802836, colsample_bytree=1.0 will be ignored. Current value: feature_fraction=0.8269410780802836\n",
      "[LightGBM] [Warning] bagging_freq is set=5, subsample_freq=0 will be ignored. Current value: bagging_freq=5\n",
      "[LightGBM] [Warning] bagging_fraction is set=0.7665221849433561, subsample=1.0 will be ignored. Current value: bagging_fraction=0.7665221849433561\n",
      "[LightGBM] [Warning] lambda_l2 is set=0.5810084131466965, reg_lambda=0.0 will be ignored. Current value: lambda_l2=0.5810084131466965\n",
      "[LightGBM] [Warning] lambda_l1 is set=0.006417285502819344, reg_alpha=0.0 will be ignored. Current value: lambda_l1=0.006417285502819344\n"
     ]
    },
    {
     "name": "stderr",
     "output_type": "stream",
     "text": [
      "\u001b[32m[I 2023-01-15 20:45:55,943]\u001b[0m Trial 2 finished with value: 0.9126436781609195 and parameters: {'scalers': 'robust', 'dim_red': 'PCA', 'pca_n_components': 35, 'lambda_l1': 0.006417285502819344, 'lambda_l2': 0.5810084131466965, 'num_leaves': 113, 'feature_fraction': 0.8269410780802836, 'bagging_fraction': 0.7665221849433561, 'bagging_freq': 5, 'min_child_samples': 64}. Best is trial 2 with value: 0.9126436781609195.\u001b[0m\n"
     ]
    },
    {
     "name": "stdout",
     "output_type": "stream",
     "text": [
      "[LightGBM] [Warning] feature_fraction is set=0.5262347282971986, colsample_bytree=1.0 will be ignored. Current value: feature_fraction=0.5262347282971986\n",
      "[LightGBM] [Warning] bagging_freq is set=4, subsample_freq=0 will be ignored. Current value: bagging_freq=4\n",
      "[LightGBM] [Warning] bagging_fraction is set=0.7944075645337849, subsample=1.0 will be ignored. Current value: bagging_fraction=0.7944075645337849\n",
      "[LightGBM] [Warning] lambda_l2 is set=0.0005464619932870051, reg_lambda=0.0 will be ignored. Current value: lambda_l2=0.0005464619932870051\n",
      "[LightGBM] [Warning] lambda_l1 is set=0.06818504546986755, reg_alpha=0.0 will be ignored. Current value: lambda_l1=0.06818504546986755\n"
     ]
    },
    {
     "name": "stderr",
     "output_type": "stream",
     "text": [
      "\u001b[32m[I 2023-01-15 20:46:29,678]\u001b[0m Trial 3 finished with value: 0.9204342273307791 and parameters: {'scalers': 'minmax', 'dim_red': None, 'lambda_l1': 0.06818504546986755, 'lambda_l2': 0.0005464619932870051, 'num_leaves': 167, 'feature_fraction': 0.5262347282971986, 'bagging_fraction': 0.7944075645337849, 'bagging_freq': 4, 'min_child_samples': 41}. Best is trial 3 with value: 0.9204342273307791.\u001b[0m\n"
     ]
    },
    {
     "name": "stdout",
     "output_type": "stream",
     "text": [
      "[LightGBM] [Warning] feature_fraction is set=0.6943525929319772, colsample_bytree=1.0 will be ignored. Current value: feature_fraction=0.6943525929319772\n",
      "[LightGBM] [Warning] bagging_freq is set=5, subsample_freq=0 will be ignored. Current value: bagging_freq=5\n",
      "[LightGBM] [Warning] bagging_fraction is set=0.8545243911965072, subsample=1.0 will be ignored. Current value: bagging_fraction=0.8545243911965072\n",
      "[LightGBM] [Warning] lambda_l2 is set=7.815206747718313e-07, reg_lambda=0.0 will be ignored. Current value: lambda_l2=7.815206747718313e-07\n",
      "[LightGBM] [Warning] lambda_l1 is set=1.7028242654914798e-05, reg_alpha=0.0 will be ignored. Current value: lambda_l1=1.7028242654914798e-05\n"
     ]
    },
    {
     "name": "stderr",
     "output_type": "stream",
     "text": [
      "\u001b[32m[I 2023-01-15 20:47:23,585]\u001b[0m Trial 4 finished with value: 0.9197956577266923 and parameters: {'scalers': 'minmax', 'dim_red': None, 'lambda_l1': 1.7028242654914798e-05, 'lambda_l2': 7.815206747718313e-07, 'num_leaves': 242, 'feature_fraction': 0.6943525929319772, 'bagging_fraction': 0.8545243911965072, 'bagging_freq': 5, 'min_child_samples': 46}. Best is trial 3 with value: 0.9204342273307791.\u001b[0m\n"
     ]
    },
    {
     "name": "stdout",
     "output_type": "stream",
     "text": [
      "[LightGBM] [Warning] feature_fraction is set=0.5335414263149876, colsample_bytree=1.0 will be ignored. Current value: feature_fraction=0.5335414263149876\n",
      "[LightGBM] [Warning] bagging_freq is set=3, subsample_freq=0 will be ignored. Current value: bagging_freq=3\n",
      "[LightGBM] [Warning] bagging_fraction is set=0.6186049122732471, subsample=1.0 will be ignored. Current value: bagging_fraction=0.6186049122732471\n",
      "[LightGBM] [Warning] lambda_l2 is set=0.06684547830888285, reg_lambda=0.0 will be ignored. Current value: lambda_l2=0.06684547830888285\n",
      "[LightGBM] [Warning] lambda_l1 is set=7.353589449064196e-08, reg_alpha=0.0 will be ignored. Current value: lambda_l1=7.353589449064196e-08\n"
     ]
    },
    {
     "name": "stderr",
     "output_type": "stream",
     "text": [
      "\u001b[32m[I 2023-01-15 20:47:31,716]\u001b[0m Trial 5 finished with value: 0.890676883780332 and parameters: {'scalers': 'standard', 'dim_red': 'PCA', 'pca_n_components': 17, 'lambda_l1': 7.353589449064196e-08, 'lambda_l2': 0.06684547830888285, 'num_leaves': 102, 'feature_fraction': 0.5335414263149876, 'bagging_fraction': 0.6186049122732471, 'bagging_freq': 3, 'min_child_samples': 97}. Best is trial 3 with value: 0.9204342273307791.\u001b[0m\n"
     ]
    },
    {
     "name": "stdout",
     "output_type": "stream",
     "text": [
      "[LightGBM] [Warning] feature_fraction is set=0.5640497903670945, colsample_bytree=1.0 will be ignored. Current value: feature_fraction=0.5640497903670945\n",
      "[LightGBM] [Warning] bagging_freq is set=6, subsample_freq=0 will be ignored. Current value: bagging_freq=6\n",
      "[LightGBM] [Warning] bagging_fraction is set=0.5249608525197322, subsample=1.0 will be ignored. Current value: bagging_fraction=0.5249608525197322\n",
      "[LightGBM] [Warning] lambda_l2 is set=1.5581833526713595e-05, reg_lambda=0.0 will be ignored. Current value: lambda_l2=1.5581833526713595e-05\n",
      "[LightGBM] [Warning] lambda_l1 is set=0.013084450852989045, reg_alpha=0.0 will be ignored. Current value: lambda_l1=0.013084450852989045\n"
     ]
    },
    {
     "name": "stderr",
     "output_type": "stream",
     "text": [
      "\u001b[32m[I 2023-01-15 20:48:04,601]\u001b[0m Trial 6 finished with value: 0.9187739463601533 and parameters: {'scalers': 'robust', 'dim_red': None, 'lambda_l1': 0.013084450852989045, 'lambda_l2': 1.5581833526713595e-05, 'num_leaves': 182, 'feature_fraction': 0.5640497903670945, 'bagging_fraction': 0.5249608525197322, 'bagging_freq': 6, 'min_child_samples': 33}. Best is trial 3 with value: 0.9204342273307791.\u001b[0m\n"
     ]
    },
    {
     "name": "stdout",
     "output_type": "stream",
     "text": [
      "[LightGBM] [Warning] feature_fraction is set=0.7124271345952827, colsample_bytree=1.0 will be ignored. Current value: feature_fraction=0.7124271345952827\n",
      "[LightGBM] [Warning] bagging_freq is set=1, subsample_freq=0 will be ignored. Current value: bagging_freq=1\n",
      "[LightGBM] [Warning] bagging_fraction is set=0.8289938995120346, subsample=1.0 will be ignored. Current value: bagging_fraction=0.8289938995120346\n",
      "[LightGBM] [Warning] lambda_l2 is set=0.00020029797875615007, reg_lambda=0.0 will be ignored. Current value: lambda_l2=0.00020029797875615007\n",
      "[LightGBM] [Warning] lambda_l1 is set=0.00971402119130235, reg_alpha=0.0 will be ignored. Current value: lambda_l1=0.00971402119130235\n"
     ]
    },
    {
     "name": "stderr",
     "output_type": "stream",
     "text": [
      "\u001b[32m[I 2023-01-15 20:48:44,418]\u001b[0m Trial 7 finished with value: 0.9077905491698595 and parameters: {'scalers': 'robust', 'dim_red': None, 'lambda_l1': 0.00971402119130235, 'lambda_l2': 0.00020029797875615007, 'num_leaves': 25, 'feature_fraction': 0.7124271345952827, 'bagging_fraction': 0.8289938995120346, 'bagging_freq': 1, 'min_child_samples': 29}. Best is trial 3 with value: 0.9204342273307791.\u001b[0m\n"
     ]
    },
    {
     "name": "stdout",
     "output_type": "stream",
     "text": [
      "[LightGBM] [Warning] feature_fraction is set=0.8999132929488796, colsample_bytree=1.0 will be ignored. Current value: feature_fraction=0.8999132929488796\n",
      "[LightGBM] [Warning] bagging_freq is set=1, subsample_freq=0 will be ignored. Current value: bagging_freq=1\n",
      "[LightGBM] [Warning] bagging_fraction is set=0.7879175457240161, subsample=1.0 will be ignored. Current value: bagging_fraction=0.7879175457240161\n",
      "[LightGBM] [Warning] lambda_l2 is set=0.0057664527053034025, reg_lambda=0.0 will be ignored. Current value: lambda_l2=0.0057664527053034025\n",
      "[LightGBM] [Warning] lambda_l1 is set=5.205053193930097e-06, reg_alpha=0.0 will be ignored. Current value: lambda_l1=5.205053193930097e-06\n"
     ]
    },
    {
     "name": "stderr",
     "output_type": "stream",
     "text": [
      "\u001b[32m[I 2023-01-15 20:51:22,784]\u001b[0m Trial 8 finished with value: 0.9189016602809706 and parameters: {'scalers': 'robust', 'dim_red': None, 'lambda_l1': 5.205053193930097e-06, 'lambda_l2': 0.0057664527053034025, 'num_leaves': 209, 'feature_fraction': 0.8999132929488796, 'bagging_fraction': 0.7879175457240161, 'bagging_freq': 1, 'min_child_samples': 8}. Best is trial 3 with value: 0.9204342273307791.\u001b[0m\n"
     ]
    },
    {
     "name": "stdout",
     "output_type": "stream",
     "text": [
      "[LightGBM] [Warning] feature_fraction is set=0.6983859136163607, colsample_bytree=1.0 will be ignored. Current value: feature_fraction=0.6983859136163607\n",
      "[LightGBM] [Warning] bagging_freq is set=6, subsample_freq=0 will be ignored. Current value: bagging_freq=6\n",
      "[LightGBM] [Warning] bagging_fraction is set=0.741239927345835, subsample=1.0 will be ignored. Current value: bagging_fraction=0.741239927345835\n",
      "[LightGBM] [Warning] lambda_l2 is set=0.00041476031167129453, reg_lambda=0.0 will be ignored. Current value: lambda_l2=0.00041476031167129453\n",
      "[LightGBM] [Warning] lambda_l1 is set=2.4485980290300474e-08, reg_alpha=0.0 will be ignored. Current value: lambda_l1=2.4485980290300474e-08\n"
     ]
    },
    {
     "name": "stderr",
     "output_type": "stream",
     "text": [
      "\u001b[32m[I 2023-01-15 20:52:25,357]\u001b[0m Trial 9 finished with value: 0.9195402298850575 and parameters: {'scalers': 'standard', 'dim_red': None, 'lambda_l1': 2.4485980290300474e-08, 'lambda_l2': 0.00041476031167129453, 'num_leaves': 186, 'feature_fraction': 0.6983859136163607, 'bagging_fraction': 0.741239927345835, 'bagging_freq': 6, 'min_child_samples': 9}. Best is trial 3 with value: 0.9204342273307791.\u001b[0m\n"
     ]
    },
    {
     "name": "stdout",
     "output_type": "stream",
     "text": [
      "[LightGBM] [Warning] feature_fraction is set=0.4664216260955645, colsample_bytree=1.0 will be ignored. Current value: feature_fraction=0.4664216260955645\n",
      "[LightGBM] [Warning] bagging_freq is set=3, subsample_freq=0 will be ignored. Current value: bagging_freq=3\n",
      "[LightGBM] [Warning] bagging_fraction is set=0.9735271112140976, subsample=1.0 will be ignored. Current value: bagging_fraction=0.9735271112140976\n",
      "[LightGBM] [Warning] lambda_l2 is set=5.692683694262682, reg_lambda=0.0 will be ignored. Current value: lambda_l2=5.692683694262682\n",
      "[LightGBM] [Warning] lambda_l1 is set=1.1033908979571134, reg_alpha=0.0 will be ignored. Current value: lambda_l1=1.1033908979571134\n"
     ]
    },
    {
     "name": "stderr",
     "output_type": "stream",
     "text": [
      "\u001b[32m[I 2023-01-15 20:52:47,097]\u001b[0m Trial 10 finished with value: 0.9196679438058748 and parameters: {'scalers': 'minmax', 'dim_red': None, 'lambda_l1': 1.1033908979571134, 'lambda_l2': 5.692683694262682, 'num_leaves': 154, 'feature_fraction': 0.4664216260955645, 'bagging_fraction': 0.9735271112140976, 'bagging_freq': 3, 'min_child_samples': 43}. Best is trial 3 with value: 0.9204342273307791.\u001b[0m\n"
     ]
    },
    {
     "name": "stdout",
     "output_type": "stream",
     "text": [
      "[LightGBM] [Warning] feature_fraction is set=0.6583579794205688, colsample_bytree=1.0 will be ignored. Current value: feature_fraction=0.6583579794205688\n",
      "[LightGBM] [Warning] bagging_freq is set=4, subsample_freq=0 will be ignored. Current value: bagging_freq=4\n",
      "[LightGBM] [Warning] bagging_fraction is set=0.9437717235325457, subsample=1.0 will be ignored. Current value: bagging_fraction=0.9437717235325457\n",
      "[LightGBM] [Warning] lambda_l2 is set=1.1071857921062827e-08, reg_lambda=0.0 will be ignored. Current value: lambda_l2=1.1071857921062827e-08\n",
      "[LightGBM] [Warning] lambda_l1 is set=0.000134507761558518, reg_alpha=0.0 will be ignored. Current value: lambda_l1=0.000134507761558518\n"
     ]
    },
    {
     "name": "stderr",
     "output_type": "stream",
     "text": [
      "\u001b[32m[I 2023-01-15 20:53:40,082]\u001b[0m Trial 11 finished with value: 0.919029374201788 and parameters: {'scalers': 'minmax', 'dim_red': None, 'lambda_l1': 0.000134507761558518, 'lambda_l2': 1.1071857921062827e-08, 'num_leaves': 248, 'feature_fraction': 0.6583579794205688, 'bagging_fraction': 0.9437717235325457, 'bagging_freq': 4, 'min_child_samples': 50}. Best is trial 3 with value: 0.9204342273307791.\u001b[0m\n"
     ]
    },
    {
     "name": "stdout",
     "output_type": "stream",
     "text": [
      "[LightGBM] [Warning] feature_fraction is set=0.4044997008221709, colsample_bytree=1.0 will be ignored. Current value: feature_fraction=0.4044997008221709\n",
      "[LightGBM] [Warning] bagging_freq is set=5, subsample_freq=0 will be ignored. Current value: bagging_freq=5\n",
      "[LightGBM] [Warning] bagging_fraction is set=0.8928507906715762, subsample=1.0 will be ignored. Current value: bagging_fraction=0.8928507906715762\n",
      "[LightGBM] [Warning] lambda_l2 is set=1.167617992882162e-05, reg_lambda=0.0 will be ignored. Current value: lambda_l2=1.167617992882162e-05\n",
      "[LightGBM] [Warning] lambda_l1 is set=1.5481338016700701e-06, reg_alpha=0.0 will be ignored. Current value: lambda_l1=1.5481338016700701e-06\n"
     ]
    },
    {
     "name": "stderr",
     "output_type": "stream",
     "text": [
      "\u001b[32m[I 2023-01-15 20:54:10,767]\u001b[0m Trial 12 finished with value: 0.9213282247765007 and parameters: {'scalers': 'minmax', 'dim_red': None, 'lambda_l1': 1.5481338016700701e-06, 'lambda_l2': 1.167617992882162e-05, 'num_leaves': 256, 'feature_fraction': 0.4044997008221709, 'bagging_fraction': 0.8928507906715762, 'bagging_freq': 5, 'min_child_samples': 69}. Best is trial 12 with value: 0.9213282247765007.\u001b[0m\n"
     ]
    },
    {
     "name": "stdout",
     "output_type": "stream",
     "text": [
      "[LightGBM] [Warning] feature_fraction is set=0.40749457349847623, colsample_bytree=1.0 will be ignored. Current value: feature_fraction=0.40749457349847623\n",
      "[LightGBM] [Warning] bagging_freq is set=4, subsample_freq=0 will be ignored. Current value: bagging_freq=4\n",
      "[LightGBM] [Warning] bagging_fraction is set=0.6408312977230429, subsample=1.0 will be ignored. Current value: bagging_fraction=0.6408312977230429\n",
      "[LightGBM] [Warning] lambda_l2 is set=9.37728673706993e-05, reg_lambda=0.0 will be ignored. Current value: lambda_l2=9.37728673706993e-05\n",
      "[LightGBM] [Warning] lambda_l1 is set=7.139248591841196e-07, reg_alpha=0.0 will be ignored. Current value: lambda_l1=7.139248591841196e-07\n"
     ]
    },
    {
     "name": "stderr",
     "output_type": "stream",
     "text": [
      "\u001b[32m[I 2023-01-15 20:54:23,538]\u001b[0m Trial 13 finished with value: 0.9177522349936144 and parameters: {'scalers': 'minmax', 'dim_red': None, 'lambda_l1': 7.139248591841196e-07, 'lambda_l2': 9.37728673706993e-05, 'num_leaves': 55, 'feature_fraction': 0.40749457349847623, 'bagging_fraction': 0.6408312977230429, 'bagging_freq': 4, 'min_child_samples': 77}. Best is trial 12 with value: 0.9213282247765007.\u001b[0m\n"
     ]
    },
    {
     "name": "stdout",
     "output_type": "stream",
     "text": [
      "[LightGBM] [Warning] feature_fraction is set=0.40823517419347255, colsample_bytree=1.0 will be ignored. Current value: feature_fraction=0.40823517419347255\n",
      "[LightGBM] [Warning] bagging_freq is set=5, subsample_freq=0 will be ignored. Current value: bagging_freq=5\n",
      "[LightGBM] [Warning] bagging_fraction is set=0.9021146218316226, subsample=1.0 will be ignored. Current value: bagging_fraction=0.9021146218316226\n",
      "[LightGBM] [Warning] lambda_l2 is set=0.004996115560531625, reg_lambda=0.0 will be ignored. Current value: lambda_l2=0.004996115560531625\n",
      "[LightGBM] [Warning] lambda_l1 is set=0.12023968529862868, reg_alpha=0.0 will be ignored. Current value: lambda_l1=0.12023968529862868\n"
     ]
    },
    {
     "name": "stderr",
     "output_type": "stream",
     "text": [
      "\u001b[32m[I 2023-01-15 20:54:46,627]\u001b[0m Trial 14 finished with value: 0.9218390804597701 and parameters: {'scalers': 'minmax', 'dim_red': None, 'lambda_l1': 0.12023968529862868, 'lambda_l2': 0.004996115560531625, 'num_leaves': 215, 'feature_fraction': 0.40823517419347255, 'bagging_fraction': 0.9021146218316226, 'bagging_freq': 5, 'min_child_samples': 70}. Best is trial 14 with value: 0.9218390804597701.\u001b[0m\n"
     ]
    },
    {
     "name": "stdout",
     "output_type": "stream",
     "text": [
      "[LightGBM] [Warning] feature_fraction is set=0.4095467600123573, colsample_bytree=1.0 will be ignored. Current value: feature_fraction=0.4095467600123573\n",
      "[LightGBM] [Warning] bagging_freq is set=7, subsample_freq=0 will be ignored. Current value: bagging_freq=7\n",
      "[LightGBM] [Warning] bagging_fraction is set=0.9062210839184046, subsample=1.0 will be ignored. Current value: bagging_fraction=0.9062210839184046\n",
      "[LightGBM] [Warning] lambda_l2 is set=0.010162553414596959, reg_lambda=0.0 will be ignored. Current value: lambda_l2=0.010162553414596959\n",
      "[LightGBM] [Warning] lambda_l1 is set=0.0004464641086690405, reg_alpha=0.0 will be ignored. Current value: lambda_l1=0.0004464641086690405\n"
     ]
    },
    {
     "name": "stderr",
     "output_type": "stream",
     "text": [
      "\u001b[32m[I 2023-01-15 20:54:54,933]\u001b[0m Trial 15 finished with value: 0.7835249042145593 and parameters: {'scalers': 'minmax', 'dim_red': 'PCA', 'pca_n_components': 4, 'lambda_l1': 0.0004464641086690405, 'lambda_l2': 0.010162553414596959, 'num_leaves': 217, 'feature_fraction': 0.4095467600123573, 'bagging_fraction': 0.9062210839184046, 'bagging_freq': 7, 'min_child_samples': 73}. Best is trial 14 with value: 0.9218390804597701.\u001b[0m\n"
     ]
    },
    {
     "name": "stdout",
     "output_type": "stream",
     "text": [
      "[LightGBM] [Warning] feature_fraction is set=0.4832394852761873, colsample_bytree=1.0 will be ignored. Current value: feature_fraction=0.4832394852761873\n",
      "[LightGBM] [Warning] bagging_freq is set=5, subsample_freq=0 will be ignored. Current value: bagging_freq=5\n",
      "[LightGBM] [Warning] bagging_fraction is set=0.89700000640126, subsample=1.0 will be ignored. Current value: bagging_fraction=0.89700000640126\n",
      "[LightGBM] [Warning] lambda_l2 is set=1.1794030740675595e-05, reg_lambda=0.0 will be ignored. Current value: lambda_l2=1.1794030740675595e-05\n",
      "[LightGBM] [Warning] lambda_l1 is set=1.1446203791521368e-06, reg_alpha=0.0 will be ignored. Current value: lambda_l1=1.1446203791521368e-06\n"
     ]
    },
    {
     "name": "stderr",
     "output_type": "stream",
     "text": [
      "\u001b[32m[I 2023-01-15 20:55:24,275]\u001b[0m Trial 16 finished with value: 0.9200510855683269 and parameters: {'scalers': 'minmax', 'dim_red': None, 'lambda_l1': 1.1446203791521368e-06, 'lambda_l2': 1.1794030740675595e-05, 'num_leaves': 252, 'feature_fraction': 0.4832394852761873, 'bagging_fraction': 0.89700000640126, 'bagging_freq': 5, 'min_child_samples': 80}. Best is trial 14 with value: 0.9218390804597701.\u001b[0m\n"
     ]
    },
    {
     "name": "stdout",
     "output_type": "stream",
     "text": [
      "[LightGBM] [Warning] feature_fraction is set=0.6191233691345246, colsample_bytree=1.0 will be ignored. Current value: feature_fraction=0.6191233691345246\n",
      "[LightGBM] [Warning] bagging_freq is set=6, subsample_freq=0 will be ignored. Current value: bagging_freq=6\n",
      "[LightGBM] [Warning] bagging_fraction is set=0.9907738532722965, subsample=1.0 will be ignored. Current value: bagging_fraction=0.9907738532722965\n",
      "[LightGBM] [Warning] lambda_l2 is set=0.0026148251132928923, reg_lambda=0.0 will be ignored. Current value: lambda_l2=0.0026148251132928923\n",
      "[LightGBM] [Warning] lambda_l1 is set=0.26987458638640105, reg_alpha=0.0 will be ignored. Current value: lambda_l1=0.26987458638640105\n"
     ]
    },
    {
     "name": "stderr",
     "output_type": "stream",
     "text": [
      "\u001b[32m[I 2023-01-15 20:55:57,929]\u001b[0m Trial 17 finished with value: 0.9157088122605364 and parameters: {'scalers': 'standard', 'dim_red': None, 'lambda_l1': 0.26987458638640105, 'lambda_l2': 0.0026148251132928923, 'num_leaves': 217, 'feature_fraction': 0.6191233691345246, 'bagging_fraction': 0.9907738532722965, 'bagging_freq': 6, 'min_child_samples': 65}. Best is trial 14 with value: 0.9218390804597701.\u001b[0m\n"
     ]
    },
    {
     "name": "stdout",
     "output_type": "stream",
     "text": [
      "[LightGBM] [Warning] feature_fraction is set=0.7720124677003797, colsample_bytree=1.0 will be ignored. Current value: feature_fraction=0.7720124677003797\n",
      "[LightGBM] [Warning] bagging_freq is set=2, subsample_freq=0 will be ignored. Current value: bagging_freq=2\n",
      "[LightGBM] [Warning] bagging_fraction is set=0.6943933649632796, subsample=1.0 will be ignored. Current value: bagging_fraction=0.6943933649632796\n",
      "[LightGBM] [Warning] lambda_l2 is set=0.11247632411382306, reg_lambda=0.0 will be ignored. Current value: lambda_l2=0.11247632411382306\n",
      "[LightGBM] [Warning] lambda_l1 is set=0.001524165473099841, reg_alpha=0.0 will be ignored. Current value: lambda_l1=0.001524165473099841\n"
     ]
    },
    {
     "name": "stderr",
     "output_type": "stream",
     "text": [
      "\u001b[32m[I 2023-01-15 20:56:09,569]\u001b[0m Trial 18 finished with value: 0.9057471264367816 and parameters: {'scalers': 'minmax', 'dim_red': 'PCA', 'pca_n_components': 40, 'lambda_l1': 0.001524165473099841, 'lambda_l2': 0.11247632411382306, 'num_leaves': 148, 'feature_fraction': 0.7720124677003797, 'bagging_fraction': 0.6943933649632796, 'bagging_freq': 2, 'min_child_samples': 93}. Best is trial 14 with value: 0.9218390804597701.\u001b[0m\n"
     ]
    },
    {
     "name": "stdout",
     "output_type": "stream",
     "text": [
      "[LightGBM] [Warning] feature_fraction is set=0.6004956447993375, colsample_bytree=1.0 will be ignored. Current value: feature_fraction=0.6004956447993375\n",
      "[LightGBM] [Warning] bagging_freq is set=5, subsample_freq=0 will be ignored. Current value: bagging_freq=5\n",
      "[LightGBM] [Warning] bagging_fraction is set=0.8899298749701539, subsample=1.0 will be ignored. Current value: bagging_fraction=0.8899298749701539\n",
      "[LightGBM] [Warning] lambda_l2 is set=1.76149214979037e-05, reg_lambda=0.0 will be ignored. Current value: lambda_l2=1.76149214979037e-05\n",
      "[LightGBM] [Warning] lambda_l1 is set=1.3365507366045765e-07, reg_alpha=0.0 will be ignored. Current value: lambda_l1=1.3365507366045765e-07\n"
     ]
    },
    {
     "name": "stderr",
     "output_type": "stream",
     "text": [
      "\u001b[32m[I 2023-01-15 20:56:50,992]\u001b[0m Trial 19 finished with value: 0.9213282247765007 and parameters: {'scalers': 'minmax', 'dim_red': None, 'lambda_l1': 1.3365507366045765e-07, 'lambda_l2': 1.76149214979037e-05, 'num_leaves': 199, 'feature_fraction': 0.6004956447993375, 'bagging_fraction': 0.8899298749701539, 'bagging_freq': 5, 'min_child_samples': 58}. Best is trial 14 with value: 0.9218390804597701.\u001b[0m\n"
     ]
    },
    {
     "name": "stdout",
     "output_type": "stream",
     "text": [
      "[LightGBM] [Warning] feature_fraction is set=0.9861550572392216, colsample_bytree=1.0 will be ignored. Current value: feature_fraction=0.9861550572392216\n",
      "[LightGBM] [Warning] bagging_freq is set=6, subsample_freq=0 will be ignored. Current value: bagging_freq=6\n",
      "[LightGBM] [Warning] bagging_fraction is set=0.702193560999626, subsample=1.0 will be ignored. Current value: bagging_fraction=0.702193560999626\n",
      "[LightGBM] [Warning] lambda_l2 is set=0.027879548645449635, reg_lambda=0.0 will be ignored. Current value: lambda_l2=0.027879548645449635\n",
      "[LightGBM] [Warning] lambda_l1 is set=1.1085133742773492e-08, reg_alpha=0.0 will be ignored. Current value: lambda_l1=1.1085133742773492e-08\n"
     ]
    },
    {
     "name": "stderr",
     "output_type": "stream",
     "text": [
      "\u001b[32m[I 2023-01-15 20:57:19,478]\u001b[0m Trial 20 finished with value: 0.9178799489144317 and parameters: {'scalers': 'standard', 'dim_red': None, 'lambda_l1': 1.1085133742773492e-08, 'lambda_l2': 0.027879548645449635, 'num_leaves': 75, 'feature_fraction': 0.9861550572392216, 'bagging_fraction': 0.702193560999626, 'bagging_freq': 6, 'min_child_samples': 56}. Best is trial 14 with value: 0.9218390804597701.\u001b[0m\n"
     ]
    },
    {
     "name": "stdout",
     "output_type": "stream",
     "text": [
      "[LightGBM] [Warning] feature_fraction is set=0.45470829139411956, colsample_bytree=1.0 will be ignored. Current value: feature_fraction=0.45470829139411956\n",
      "[LightGBM] [Warning] bagging_freq is set=5, subsample_freq=0 will be ignored. Current value: bagging_freq=5\n",
      "[LightGBM] [Warning] bagging_fraction is set=0.8783694441001673, subsample=1.0 will be ignored. Current value: bagging_fraction=0.8783694441001673\n",
      "[LightGBM] [Warning] lambda_l2 is set=1.3780659786884607e-05, reg_lambda=0.0 will be ignored. Current value: lambda_l2=1.3780659786884607e-05\n",
      "[LightGBM] [Warning] lambda_l1 is set=5.109452814052019e-07, reg_alpha=0.0 will be ignored. Current value: lambda_l1=5.109452814052019e-07\n"
     ]
    },
    {
     "name": "stderr",
     "output_type": "stream",
     "text": [
      "\u001b[32m[I 2023-01-15 20:57:55,518]\u001b[0m Trial 21 finished with value: 0.9217113665389527 and parameters: {'scalers': 'minmax', 'dim_red': None, 'lambda_l1': 5.109452814052019e-07, 'lambda_l2': 1.3780659786884607e-05, 'num_leaves': 201, 'feature_fraction': 0.45470829139411956, 'bagging_fraction': 0.8783694441001673, 'bagging_freq': 5, 'min_child_samples': 70}. Best is trial 14 with value: 0.9218390804597701.\u001b[0m\n"
     ]
    },
    {
     "name": "stdout",
     "output_type": "stream",
     "text": [
      "[LightGBM] [Warning] feature_fraction is set=0.5816499405911423, colsample_bytree=1.0 will be ignored. Current value: feature_fraction=0.5816499405911423\n",
      "[LightGBM] [Warning] bagging_freq is set=4, subsample_freq=0 will be ignored. Current value: bagging_freq=4\n",
      "[LightGBM] [Warning] bagging_fraction is set=0.8705080567422835, subsample=1.0 will be ignored. Current value: bagging_fraction=0.8705080567422835\n",
      "[LightGBM] [Warning] lambda_l2 is set=1.2257456317807677e-06, reg_lambda=0.0 will be ignored. Current value: lambda_l2=1.2257456317807677e-06\n",
      "[LightGBM] [Warning] lambda_l1 is set=1.813533924696711e-07, reg_alpha=0.0 will be ignored. Current value: lambda_l1=1.813533924696711e-07\n"
     ]
    },
    {
     "name": "stderr",
     "output_type": "stream",
     "text": [
      "\u001b[32m[I 2023-01-15 20:58:26,429]\u001b[0m Trial 22 finished with value: 0.9237547892720307 and parameters: {'scalers': 'minmax', 'dim_red': None, 'lambda_l1': 1.813533924696711e-07, 'lambda_l2': 1.2257456317807677e-06, 'num_leaves': 201, 'feature_fraction': 0.5816499405911423, 'bagging_fraction': 0.8705080567422835, 'bagging_freq': 4, 'min_child_samples': 85}. Best is trial 22 with value: 0.9237547892720307.\u001b[0m\n"
     ]
    },
    {
     "name": "stdout",
     "output_type": "stream",
     "text": [
      "[LightGBM] [Warning] feature_fraction is set=0.4844429987838868, colsample_bytree=1.0 will be ignored. Current value: feature_fraction=0.4844429987838868\n",
      "[LightGBM] [Warning] bagging_freq is set=4, subsample_freq=0 will be ignored. Current value: bagging_freq=4\n",
      "[LightGBM] [Warning] bagging_fraction is set=0.8459001071832074, subsample=1.0 will be ignored. Current value: bagging_fraction=0.8459001071832074\n",
      "[LightGBM] [Warning] lambda_l2 is set=7.119040811436556e-07, reg_lambda=0.0 will be ignored. Current value: lambda_l2=7.119040811436556e-07\n",
      "[LightGBM] [Warning] lambda_l1 is set=1.8075787315170418e-07, reg_alpha=0.0 will be ignored. Current value: lambda_l1=1.8075787315170418e-07\n"
     ]
    },
    {
     "name": "stderr",
     "output_type": "stream",
     "text": [
      "\u001b[32m[I 2023-01-15 20:58:53,694]\u001b[0m Trial 23 finished with value: 0.918007662835249 and parameters: {'scalers': 'minmax', 'dim_red': None, 'lambda_l1': 1.8075787315170418e-07, 'lambda_l2': 7.119040811436556e-07, 'num_leaves': 134, 'feature_fraction': 0.4844429987838868, 'bagging_fraction': 0.8459001071832074, 'bagging_freq': 4, 'min_child_samples': 82}. Best is trial 22 with value: 0.9237547892720307.\u001b[0m\n"
     ]
    },
    {
     "name": "stdout",
     "output_type": "stream",
     "text": [
      "[LightGBM] [Warning] feature_fraction is set=0.4578107401592099, colsample_bytree=1.0 will be ignored. Current value: feature_fraction=0.4578107401592099\n",
      "[LightGBM] [Warning] bagging_freq is set=3, subsample_freq=0 will be ignored. Current value: bagging_freq=3\n",
      "[LightGBM] [Warning] bagging_fraction is set=0.9424536839185425, subsample=1.0 will be ignored. Current value: bagging_fraction=0.9424536839185425\n",
      "[LightGBM] [Warning] lambda_l2 is set=5.374602989580227e-08, reg_lambda=0.0 will be ignored. Current value: lambda_l2=5.374602989580227e-08\n",
      "[LightGBM] [Warning] lambda_l1 is set=0.0001243042863629217, reg_alpha=0.0 will be ignored. Current value: lambda_l1=0.0001243042863629217\n"
     ]
    },
    {
     "name": "stderr",
     "output_type": "stream",
     "text": [
      "\u001b[32m[I 2023-01-15 21:06:41,314]\u001b[0m Trial 24 finished with value: 0.9196679438058748 and parameters: {'scalers': 'minmax', 'dim_red': None, 'lambda_l1': 0.0001243042863629217, 'lambda_l2': 5.374602989580227e-08, 'num_leaves': 228, 'feature_fraction': 0.4578107401592099, 'bagging_fraction': 0.9424536839185425, 'bagging_freq': 3, 'min_child_samples': 84}. Best is trial 22 with value: 0.9237547892720307.\u001b[0m\n"
     ]
    },
    {
     "name": "stdout",
     "output_type": "stream",
     "text": [
      "[LightGBM] [Warning] feature_fraction is set=0.540150022496982, colsample_bytree=1.0 will be ignored. Current value: feature_fraction=0.540150022496982\n",
      "[LightGBM] [Warning] bagging_freq is set=2, subsample_freq=0 will be ignored. Current value: bagging_freq=2\n",
      "[LightGBM] [Warning] bagging_fraction is set=0.9337743657350954, subsample=1.0 will be ignored. Current value: bagging_fraction=0.9337743657350954\n",
      "[LightGBM] [Warning] lambda_l2 is set=3.540955975605931e-06, reg_lambda=0.0 will be ignored. Current value: lambda_l2=3.540955975605931e-06\n",
      "[LightGBM] [Warning] lambda_l1 is set=1.060259635130054e-05, reg_alpha=0.0 will be ignored. Current value: lambda_l1=1.060259635130054e-05\n"
     ]
    },
    {
     "name": "stderr",
     "output_type": "stream",
     "text": [
      "\u001b[32m[I 2023-01-15 21:07:03,717]\u001b[0m Trial 25 finished with value: 0.9217113665389527 and parameters: {'scalers': 'minmax', 'dim_red': None, 'lambda_l1': 1.060259635130054e-05, 'lambda_l2': 3.540955975605931e-06, 'num_leaves': 181, 'feature_fraction': 0.540150022496982, 'bagging_fraction': 0.9337743657350954, 'bagging_freq': 2, 'min_child_samples': 90}. Best is trial 22 with value: 0.9237547892720307.\u001b[0m\n"
     ]
    },
    {
     "name": "stdout",
     "output_type": "stream",
     "text": [
      "[LightGBM] [Warning] feature_fraction is set=0.5665935382967369, colsample_bytree=1.0 will be ignored. Current value: feature_fraction=0.5665935382967369\n",
      "[LightGBM] [Warning] bagging_freq is set=2, subsample_freq=0 will be ignored. Current value: bagging_freq=2\n",
      "[LightGBM] [Warning] bagging_fraction is set=0.9425190727606589, subsample=1.0 will be ignored. Current value: bagging_fraction=0.9425190727606589\n",
      "[LightGBM] [Warning] lambda_l2 is set=2.3983295923376694e-06, reg_lambda=0.0 will be ignored. Current value: lambda_l2=2.3983295923376694e-06\n",
      "[LightGBM] [Warning] lambda_l1 is set=7.277985076154621e-06, reg_alpha=0.0 will be ignored. Current value: lambda_l1=7.277985076154621e-06\n"
     ]
    },
    {
     "name": "stderr",
     "output_type": "stream",
     "text": [
      "\u001b[32m[I 2023-01-15 21:07:10,202]\u001b[0m Trial 26 finished with value: 0.910727969348659 and parameters: {'scalers': 'minmax', 'dim_red': 'PCA', 'pca_n_components': 29, 'lambda_l1': 7.277985076154621e-06, 'lambda_l2': 2.3983295923376694e-06, 'num_leaves': 172, 'feature_fraction': 0.5665935382967369, 'bagging_fraction': 0.9425190727606589, 'bagging_freq': 2, 'min_child_samples': 91}. Best is trial 22 with value: 0.9237547892720307.\u001b[0m\n"
     ]
    },
    {
     "name": "stdout",
     "output_type": "stream",
     "text": [
      "[LightGBM] [Warning] feature_fraction is set=0.4511452836700365, colsample_bytree=1.0 will be ignored. Current value: feature_fraction=0.4511452836700365\n",
      "[LightGBM] [Warning] bagging_freq is set=4, subsample_freq=0 will be ignored. Current value: bagging_freq=4\n",
      "[LightGBM] [Warning] bagging_fraction is set=0.8568018667727707, subsample=1.0 will be ignored. Current value: bagging_fraction=0.8568018667727707\n",
      "[LightGBM] [Warning] lambda_l2 is set=6.11795968530421e-05, reg_lambda=0.0 will be ignored. Current value: lambda_l2=6.11795968530421e-05\n",
      "[LightGBM] [Warning] lambda_l1 is set=0.0010627967343560466, reg_alpha=0.0 will be ignored. Current value: lambda_l1=0.0010627967343560466\n"
     ]
    },
    {
     "name": "stderr",
     "output_type": "stream",
     "text": [
      "\u001b[32m[I 2023-01-15 21:07:28,394]\u001b[0m Trial 27 finished with value: 0.9223499361430396 and parameters: {'scalers': 'minmax', 'dim_red': None, 'lambda_l1': 0.0010627967343560466, 'lambda_l2': 6.11795968530421e-05, 'num_leaves': 200, 'feature_fraction': 0.4511452836700365, 'bagging_fraction': 0.8568018667727707, 'bagging_freq': 4, 'min_child_samples': 72}. Best is trial 22 with value: 0.9237547892720307.\u001b[0m\n"
     ]
    },
    {
     "name": "stdout",
     "output_type": "stream",
     "text": [
      "[LightGBM] [Warning] feature_fraction is set=0.5029290504969871, colsample_bytree=1.0 will be ignored. Current value: feature_fraction=0.5029290504969871\n",
      "[LightGBM] [Warning] bagging_freq is set=4, subsample_freq=0 will be ignored. Current value: bagging_freq=4\n",
      "[LightGBM] [Warning] bagging_fraction is set=0.743331586613024, subsample=1.0 will be ignored. Current value: bagging_fraction=0.743331586613024\n",
      "[LightGBM] [Warning] lambda_l2 is set=0.001272111224312603, reg_lambda=0.0 will be ignored. Current value: lambda_l2=0.001272111224312603\n",
      "[LightGBM] [Warning] lambda_l1 is set=0.07342914575008187, reg_alpha=0.0 will be ignored. Current value: lambda_l1=0.07342914575008187\n"
     ]
    },
    {
     "name": "stderr",
     "output_type": "stream",
     "text": [
      "\u001b[32m[I 2023-01-15 21:07:42,033]\u001b[0m Trial 28 finished with value: 0.9209450830140485 and parameters: {'scalers': 'minmax', 'dim_red': None, 'lambda_l1': 0.07342914575008187, 'lambda_l2': 0.001272111224312603, 'num_leaves': 232, 'feature_fraction': 0.5029290504969871, 'bagging_fraction': 0.743331586613024, 'bagging_freq': 4, 'min_child_samples': 100}. Best is trial 22 with value: 0.9237547892720307.\u001b[0m\n"
     ]
    },
    {
     "name": "stdout",
     "output_type": "stream",
     "text": [
      "[LightGBM] [Warning] feature_fraction is set=0.6285583281687342, colsample_bytree=1.0 will be ignored. Current value: feature_fraction=0.6285583281687342\n",
      "[LightGBM] [Warning] bagging_freq is set=3, subsample_freq=0 will be ignored. Current value: bagging_freq=3\n",
      "[LightGBM] [Warning] bagging_fraction is set=0.4834729577816297, subsample=1.0 will be ignored. Current value: bagging_fraction=0.4834729577816297\n",
      "[LightGBM] [Warning] lambda_l2 is set=0.00010768378926915605, reg_lambda=0.0 will be ignored. Current value: lambda_l2=0.00010768378926915605\n",
      "[LightGBM] [Warning] lambda_l1 is set=0.0008774693558029708, reg_alpha=0.0 will be ignored. Current value: lambda_l1=0.0008774693558029708\n"
     ]
    },
    {
     "name": "stderr",
     "output_type": "stream",
     "text": [
      "\u001b[32m[I 2023-01-15 21:07:58,964]\u001b[0m Trial 29 finished with value: 0.9174968071519796 and parameters: {'scalers': 'standard', 'dim_red': None, 'lambda_l1': 0.0008774693558029708, 'lambda_l2': 0.00010768378926915605, 'num_leaves': 156, 'feature_fraction': 0.6285583281687342, 'bagging_fraction': 0.4834729577816297, 'bagging_freq': 3, 'min_child_samples': 77}. Best is trial 22 with value: 0.9237547892720307.\u001b[0m\n"
     ]
    },
    {
     "name": "stdout",
     "output_type": "stream",
     "text": [
      "[LightGBM] [Warning] feature_fraction is set=0.45073782887791924, colsample_bytree=1.0 will be ignored. Current value: feature_fraction=0.45073782887791924\n",
      "[LightGBM] [Warning] bagging_freq is set=4, subsample_freq=0 will be ignored. Current value: bagging_freq=4\n",
      "[LightGBM] [Warning] bagging_fraction is set=0.40517805502839627, subsample=1.0 will be ignored. Current value: bagging_fraction=0.40517805502839627\n",
      "[LightGBM] [Warning] lambda_l2 is set=2.811576493297359e-07, reg_lambda=0.0 will be ignored. Current value: lambda_l2=2.811576493297359e-07\n",
      "[LightGBM] [Warning] lambda_l1 is set=0.00319627762659352, reg_alpha=0.0 will be ignored. Current value: lambda_l1=0.00319627762659352\n"
     ]
    },
    {
     "name": "stderr",
     "output_type": "stream",
     "text": [
      "\u001b[32m[I 2023-01-15 21:08:10,379]\u001b[0m Trial 30 finished with value: 0.916602809706258 and parameters: {'scalers': 'minmax', 'dim_red': None, 'lambda_l1': 0.00319627762659352, 'lambda_l2': 2.811576493297359e-07, 'num_leaves': 195, 'feature_fraction': 0.45073782887791924, 'bagging_fraction': 0.40517805502839627, 'bagging_freq': 4, 'min_child_samples': 62}. Best is trial 22 with value: 0.9237547892720307.\u001b[0m\n"
     ]
    },
    {
     "name": "stdout",
     "output_type": "stream",
     "text": [
      "[LightGBM] [Warning] feature_fraction is set=0.4336112102790443, colsample_bytree=1.0 will be ignored. Current value: feature_fraction=0.4336112102790443\n",
      "[LightGBM] [Warning] bagging_freq is set=5, subsample_freq=0 will be ignored. Current value: bagging_freq=5\n",
      "[LightGBM] [Warning] bagging_fraction is set=0.8573302741186685, subsample=1.0 will be ignored. Current value: bagging_fraction=0.8573302741186685\n",
      "[LightGBM] [Warning] lambda_l2 is set=3.401826341633912e-05, reg_lambda=0.0 will be ignored. Current value: lambda_l2=3.401826341633912e-05\n",
      "[LightGBM] [Warning] lambda_l1 is set=0.00012371242827048778, reg_alpha=0.0 will be ignored. Current value: lambda_l1=0.00012371242827048778\n"
     ]
    },
    {
     "name": "stderr",
     "output_type": "stream",
     "text": [
      "\u001b[32m[I 2023-01-15 21:08:28,891]\u001b[0m Trial 31 finished with value: 0.9209450830140485 and parameters: {'scalers': 'minmax', 'dim_red': None, 'lambda_l1': 0.00012371242827048778, 'lambda_l2': 3.401826341633912e-05, 'num_leaves': 204, 'feature_fraction': 0.4336112102790443, 'bagging_fraction': 0.8573302741186685, 'bagging_freq': 5, 'min_child_samples': 72}. Best is trial 22 with value: 0.9237547892720307.\u001b[0m\n"
     ]
    },
    {
     "name": "stdout",
     "output_type": "stream",
     "text": [
      "[LightGBM] [Warning] feature_fraction is set=0.5643754860920224, colsample_bytree=1.0 will be ignored. Current value: feature_fraction=0.5643754860920224\n",
      "[LightGBM] [Warning] bagging_freq is set=2, subsample_freq=0 will be ignored. Current value: bagging_freq=2\n",
      "[LightGBM] [Warning] bagging_fraction is set=0.9332956071147073, subsample=1.0 will be ignored. Current value: bagging_fraction=0.9332956071147073\n",
      "[LightGBM] [Warning] lambda_l2 is set=3.292556125451555e-06, reg_lambda=0.0 will be ignored. Current value: lambda_l2=3.292556125451555e-06\n",
      "[LightGBM] [Warning] lambda_l1 is set=8.910223858484766, reg_alpha=0.0 will be ignored. Current value: lambda_l1=8.910223858484766\n"
     ]
    },
    {
     "name": "stderr",
     "output_type": "stream",
     "text": [
      "\u001b[32m[I 2023-01-15 21:08:37,936]\u001b[0m Trial 32 finished with value: 0.909323116219668 and parameters: {'scalers': 'minmax', 'dim_red': None, 'lambda_l1': 8.910223858484766, 'lambda_l2': 3.292556125451555e-06, 'num_leaves': 227, 'feature_fraction': 0.5643754860920224, 'bagging_fraction': 0.9332956071147073, 'bagging_freq': 2, 'min_child_samples': 88}. Best is trial 22 with value: 0.9237547892720307.\u001b[0m\n"
     ]
    },
    {
     "name": "stdout",
     "output_type": "stream",
     "text": [
      "[LightGBM] [Warning] feature_fraction is set=0.5134185081184308, colsample_bytree=1.0 will be ignored. Current value: feature_fraction=0.5134185081184308\n",
      "[LightGBM] [Warning] bagging_freq is set=2, subsample_freq=0 will be ignored. Current value: bagging_freq=2\n",
      "[LightGBM] [Warning] bagging_fraction is set=0.9977160282311052, subsample=1.0 will be ignored. Current value: bagging_fraction=0.9977160282311052\n",
      "[LightGBM] [Warning] lambda_l2 is set=1.753986078902373e-07, reg_lambda=0.0 will be ignored. Current value: lambda_l2=1.753986078902373e-07\n",
      "[LightGBM] [Warning] lambda_l1 is set=2.799408044701504e-05, reg_alpha=0.0 will be ignored. Current value: lambda_l1=2.799408044701504e-05\n"
     ]
    },
    {
     "name": "stderr",
     "output_type": "stream",
     "text": [
      "\u001b[32m[I 2023-01-15 21:09:00,674]\u001b[0m Trial 33 finished with value: 0.9167305236270753 and parameters: {'scalers': 'minmax', 'dim_red': None, 'lambda_l1': 2.799408044701504e-05, 'lambda_l2': 1.753986078902373e-07, 'num_leaves': 183, 'feature_fraction': 0.5134185081184308, 'bagging_fraction': 0.9977160282311052, 'bagging_freq': 2, 'min_child_samples': 85}. Best is trial 22 with value: 0.9237547892720307.\u001b[0m\n"
     ]
    },
    {
     "name": "stdout",
     "output_type": "stream",
     "text": [
      "[LightGBM] [Warning] feature_fraction is set=0.4398432075686369, colsample_bytree=1.0 will be ignored. Current value: feature_fraction=0.4398432075686369\n",
      "[LightGBM] [Warning] bagging_freq is set=5, subsample_freq=0 will be ignored. Current value: bagging_freq=5\n",
      "[LightGBM] [Warning] bagging_fraction is set=0.8079688101424418, subsample=1.0 will be ignored. Current value: bagging_fraction=0.8079688101424418\n",
      "[LightGBM] [Warning] lambda_l2 is set=3.972734248356868e-05, reg_lambda=0.0 will be ignored. Current value: lambda_l2=3.972734248356868e-05\n",
      "[LightGBM] [Warning] lambda_l1 is set=0.03775865609919296, reg_alpha=0.0 will be ignored. Current value: lambda_l1=0.03775865609919296\n"
     ]
    },
    {
     "name": "stderr",
     "output_type": "stream",
     "text": [
      "\u001b[32m[I 2023-01-15 21:09:04,736]\u001b[0m Trial 34 finished with value: 0.6818646232439336 and parameters: {'scalers': 'minmax', 'dim_red': 'PCA', 'pca_n_components': 2, 'lambda_l1': 0.03775865609919296, 'lambda_l2': 3.972734248356868e-05, 'num_leaves': 130, 'feature_fraction': 0.4398432075686369, 'bagging_fraction': 0.8079688101424418, 'bagging_freq': 5, 'min_child_samples': 67}. Best is trial 22 with value: 0.9237547892720307.\u001b[0m\n"
     ]
    },
    {
     "name": "stdout",
     "output_type": "stream",
     "text": [
      "[LightGBM] [Warning] feature_fraction is set=0.5402733306334795, colsample_bytree=1.0 will be ignored. Current value: feature_fraction=0.5402733306334795\n",
      "[LightGBM] [Warning] bagging_freq is set=7, subsample_freq=0 will be ignored. Current value: bagging_freq=7\n",
      "[LightGBM] [Warning] bagging_fraction is set=0.9645385681203953, subsample=1.0 will be ignored. Current value: bagging_fraction=0.9645385681203953\n",
      "[LightGBM] [Warning] lambda_l2 is set=3.6050287388478983e-06, reg_lambda=0.0 will be ignored. Current value: lambda_l2=3.6050287388478983e-06\n",
      "[LightGBM] [Warning] lambda_l1 is set=0.9266063160025148, reg_alpha=0.0 will be ignored. Current value: lambda_l1=0.9266063160025148\n"
     ]
    },
    {
     "name": "stderr",
     "output_type": "stream",
     "text": [
      "\u001b[32m[I 2023-01-15 21:09:24,982]\u001b[0m Trial 35 finished with value: 0.9194125159642401 and parameters: {'scalers': 'robust', 'dim_red': None, 'lambda_l1': 0.9266063160025148, 'lambda_l2': 3.6050287388478983e-06, 'num_leaves': 171, 'feature_fraction': 0.5402733306334795, 'bagging_fraction': 0.9645385681203953, 'bagging_freq': 7, 'min_child_samples': 94}. Best is trial 22 with value: 0.9237547892720307.\u001b[0m\n"
     ]
    },
    {
     "name": "stdout",
     "output_type": "stream",
     "text": [
      "[LightGBM] [Warning] feature_fraction is set=0.4945087895876281, colsample_bytree=1.0 will be ignored. Current value: feature_fraction=0.4945087895876281\n",
      "[LightGBM] [Warning] bagging_freq is set=4, subsample_freq=0 will be ignored. Current value: bagging_freq=4\n",
      "[LightGBM] [Warning] bagging_fraction is set=0.8717545732010578, subsample=1.0 will be ignored. Current value: bagging_fraction=0.8717545732010578\n",
      "[LightGBM] [Warning] lambda_l2 is set=5.1024177208536184e-08, reg_lambda=0.0 will be ignored. Current value: lambda_l2=5.1024177208536184e-08\n",
      "[LightGBM] [Warning] lambda_l1 is set=2.587039126972244e-06, reg_alpha=0.0 will be ignored. Current value: lambda_l1=2.587039126972244e-06\n"
     ]
    },
    {
     "name": "stderr",
     "output_type": "stream",
     "text": [
      "\u001b[32m[I 2023-01-15 21:09:47,179]\u001b[0m Trial 36 finished with value: 0.9215836526181354 and parameters: {'scalers': 'minmax', 'dim_red': None, 'lambda_l1': 2.587039126972244e-06, 'lambda_l2': 5.1024177208536184e-08, 'num_leaves': 235, 'feature_fraction': 0.4945087895876281, 'bagging_fraction': 0.8717545732010578, 'bagging_freq': 4, 'min_child_samples': 74}. Best is trial 22 with value: 0.9237547892720307.\u001b[0m\n"
     ]
    },
    {
     "name": "stdout",
     "output_type": "stream",
     "text": [
      "[LightGBM] [Warning] feature_fraction is set=0.592435908844831, colsample_bytree=1.0 will be ignored. Current value: feature_fraction=0.592435908844831\n",
      "[LightGBM] [Warning] bagging_freq is set=3, subsample_freq=0 will be ignored. Current value: bagging_freq=3\n",
      "[LightGBM] [Warning] bagging_fraction is set=0.9158795917638676, subsample=1.0 will be ignored. Current value: bagging_fraction=0.9158795917638676\n",
      "[LightGBM] [Warning] lambda_l2 is set=0.0006695637414164302, reg_lambda=0.0 will be ignored. Current value: lambda_l2=0.0006695637414164302\n",
      "[LightGBM] [Warning] lambda_l1 is set=1.482113631419843e-05, reg_alpha=0.0 will be ignored. Current value: lambda_l1=1.482113631419843e-05\n"
     ]
    },
    {
     "name": "stderr",
     "output_type": "stream",
     "text": [
      "\u001b[32m[I 2023-01-15 21:09:52,594]\u001b[0m Trial 37 finished with value: 0.9057471264367816 and parameters: {'scalers': 'minmax', 'dim_red': 'PCA', 'pca_n_components': 25, 'lambda_l1': 1.482113631419843e-05, 'lambda_l2': 0.0006695637414164302, 'num_leaves': 110, 'feature_fraction': 0.592435908844831, 'bagging_fraction': 0.9158795917638676, 'bagging_freq': 3, 'min_child_samples': 87}. Best is trial 22 with value: 0.9237547892720307.\u001b[0m\n"
     ]
    },
    {
     "name": "stdout",
     "output_type": "stream",
     "text": [
      "[LightGBM] [Warning] feature_fraction is set=0.5381262442813359, colsample_bytree=1.0 will be ignored. Current value: feature_fraction=0.5381262442813359\n",
      "[LightGBM] [Warning] bagging_freq is set=1, subsample_freq=0 will be ignored. Current value: bagging_freq=1\n",
      "[LightGBM] [Warning] bagging_fraction is set=0.8281498135245275, subsample=1.0 will be ignored. Current value: bagging_fraction=0.8281498135245275\n",
      "[LightGBM] [Warning] lambda_l2 is set=3.741322905676107e-07, reg_lambda=0.0 will be ignored. Current value: lambda_l2=3.741322905676107e-07\n",
      "[LightGBM] [Warning] lambda_l1 is set=4.459087893285084e-05, reg_alpha=0.0 will be ignored. Current value: lambda_l1=4.459087893285084e-05\n"
     ]
    },
    {
     "name": "stderr",
     "output_type": "stream",
     "text": [
      "\u001b[32m[I 2023-01-15 21:10:19,250]\u001b[0m Trial 38 finished with value: 0.9204342273307791 and parameters: {'scalers': 'robust', 'dim_red': None, 'lambda_l1': 4.459087893285084e-05, 'lambda_l2': 3.741322905676107e-07, 'num_leaves': 216, 'feature_fraction': 0.5381262442813359, 'bagging_fraction': 0.8281498135245275, 'bagging_freq': 1, 'min_child_samples': 79}. Best is trial 22 with value: 0.9237547892720307.\u001b[0m\n"
     ]
    },
    {
     "name": "stdout",
     "output_type": "stream",
     "text": [
      "[LightGBM] [Warning] feature_fraction is set=0.6640118966501982, colsample_bytree=1.0 will be ignored. Current value: feature_fraction=0.6640118966501982\n",
      "[LightGBM] [Warning] bagging_freq is set=3, subsample_freq=0 will be ignored. Current value: bagging_freq=3\n",
      "[LightGBM] [Warning] bagging_fraction is set=0.7836623211962945, subsample=1.0 will be ignored. Current value: bagging_fraction=0.7836623211962945\n",
      "[LightGBM] [Warning] lambda_l2 is set=0.32021096456082415, reg_lambda=0.0 will be ignored. Current value: lambda_l2=0.32021096456082415\n",
      "[LightGBM] [Warning] lambda_l1 is set=1.5101777486440855, reg_alpha=0.0 will be ignored. Current value: lambda_l1=1.5101777486440855\n"
     ]
    },
    {
     "name": "stderr",
     "output_type": "stream",
     "text": [
      "\u001b[32m[I 2023-01-15 21:10:30,831]\u001b[0m Trial 39 finished with value: 0.9163473818646233 and parameters: {'scalers': 'minmax', 'dim_red': None, 'lambda_l1': 1.5101777486440855, 'lambda_l2': 0.32021096456082415, 'num_leaves': 188, 'feature_fraction': 0.6640118966501982, 'bagging_fraction': 0.7836623211962945, 'bagging_freq': 3, 'min_child_samples': 98}. Best is trial 22 with value: 0.9237547892720307.\u001b[0m\n"
     ]
    },
    {
     "name": "stdout",
     "output_type": "stream",
     "text": [
      "[LightGBM] [Warning] feature_fraction is set=0.8087384701053533, colsample_bytree=1.0 will be ignored. Current value: feature_fraction=0.8087384701053533\n",
      "[LightGBM] [Warning] bagging_freq is set=6, subsample_freq=0 will be ignored. Current value: bagging_freq=6\n",
      "[LightGBM] [Warning] bagging_fraction is set=0.8236786439244655, subsample=1.0 will be ignored. Current value: bagging_fraction=0.8236786439244655\n",
      "[LightGBM] [Warning] lambda_l2 is set=0.00016563575472768678, reg_lambda=0.0 will be ignored. Current value: lambda_l2=0.00016563575472768678\n",
      "[LightGBM] [Warning] lambda_l1 is set=2.9187103925081724e-07, reg_alpha=0.0 will be ignored. Current value: lambda_l1=2.9187103925081724e-07\n"
     ]
    },
    {
     "name": "stderr",
     "output_type": "stream",
     "text": [
      "\u001b[32m[I 2023-01-15 21:10:52,591]\u001b[0m Trial 40 finished with value: 0.919029374201788 and parameters: {'scalers': 'standard', 'dim_red': None, 'lambda_l1': 2.9187103925081724e-07, 'lambda_l2': 0.00016563575472768678, 'num_leaves': 90, 'feature_fraction': 0.8087384701053533, 'bagging_fraction': 0.8236786439244655, 'bagging_freq': 6, 'min_child_samples': 52}. Best is trial 22 with value: 0.9237547892720307.\u001b[0m\n"
     ]
    },
    {
     "name": "stdout",
     "output_type": "stream",
     "text": [
      "[LightGBM] [Warning] feature_fraction is set=0.43128079939326613, colsample_bytree=1.0 will be ignored. Current value: feature_fraction=0.43128079939326613\n",
      "[LightGBM] [Warning] bagging_freq is set=5, subsample_freq=0 will be ignored. Current value: bagging_freq=5\n",
      "[LightGBM] [Warning] bagging_fraction is set=0.8457456329732992, subsample=1.0 will be ignored. Current value: bagging_fraction=0.8457456329732992\n",
      "[LightGBM] [Warning] lambda_l2 is set=1.4875471396488475e-06, reg_lambda=0.0 will be ignored. Current value: lambda_l2=1.4875471396488475e-06\n",
      "[LightGBM] [Warning] lambda_l1 is set=5.928658584364693e-07, reg_alpha=0.0 will be ignored. Current value: lambda_l1=5.928658584364693e-07\n"
     ]
    },
    {
     "name": "stderr",
     "output_type": "stream",
     "text": [
      "\u001b[32m[I 2023-01-15 21:11:16,399]\u001b[0m Trial 41 finished with value: 0.922477650063857 and parameters: {'scalers': 'minmax', 'dim_red': None, 'lambda_l1': 5.928658584364693e-07, 'lambda_l2': 1.4875471396488475e-06, 'num_leaves': 201, 'feature_fraction': 0.43128079939326613, 'bagging_fraction': 0.8457456329732992, 'bagging_freq': 5, 'min_child_samples': 69}. Best is trial 22 with value: 0.9237547892720307.\u001b[0m\n"
     ]
    },
    {
     "name": "stdout",
     "output_type": "stream",
     "text": [
      "[LightGBM] [Warning] feature_fraction is set=0.4309218108087204, colsample_bytree=1.0 will be ignored. Current value: feature_fraction=0.4309218108087204\n",
      "[LightGBM] [Warning] bagging_freq is set=4, subsample_freq=0 will be ignored. Current value: bagging_freq=4\n",
      "[LightGBM] [Warning] bagging_fraction is set=0.8604138553304701, subsample=1.0 will be ignored. Current value: bagging_fraction=0.8604138553304701\n",
      "[LightGBM] [Warning] lambda_l2 is set=1.3687976465320225e-06, reg_lambda=0.0 will be ignored. Current value: lambda_l2=1.3687976465320225e-06\n",
      "[LightGBM] [Warning] lambda_l1 is set=5.655371535200584e-08, reg_alpha=0.0 will be ignored. Current value: lambda_l1=5.655371535200584e-08\n"
     ]
    },
    {
     "name": "stderr",
     "output_type": "stream",
     "text": [
      "\u001b[32m[I 2023-01-15 21:11:47,628]\u001b[0m Trial 42 finished with value: 0.9191570881226053 and parameters: {'scalers': 'minmax', 'dim_red': None, 'lambda_l1': 5.655371535200584e-08, 'lambda_l2': 1.3687976465320225e-06, 'num_leaves': 180, 'feature_fraction': 0.4309218108087204, 'bagging_fraction': 0.8604138553304701, 'bagging_freq': 4, 'min_child_samples': 60}. Best is trial 22 with value: 0.9237547892720307.\u001b[0m\n"
     ]
    },
    {
     "name": "stdout",
     "output_type": "stream",
     "text": [
      "[LightGBM] [Warning] feature_fraction is set=0.47112871501116993, colsample_bytree=1.0 will be ignored. Current value: feature_fraction=0.47112871501116993\n",
      "[LightGBM] [Warning] bagging_freq is set=5, subsample_freq=0 will be ignored. Current value: bagging_freq=5\n",
      "[LightGBM] [Warning] bagging_fraction is set=0.7612629157516064, subsample=1.0 will be ignored. Current value: bagging_fraction=0.7612629157516064\n",
      "[LightGBM] [Warning] lambda_l2 is set=6.521425398954661e-06, reg_lambda=0.0 will be ignored. Current value: lambda_l2=6.521425398954661e-06\n",
      "[LightGBM] [Warning] lambda_l1 is set=4.0138746970969905e-07, reg_alpha=0.0 will be ignored. Current value: lambda_l1=4.0138746970969905e-07\n"
     ]
    },
    {
     "name": "stderr",
     "output_type": "stream",
     "text": [
      "\u001b[32m[I 2023-01-15 21:12:21,517]\u001b[0m Trial 43 finished with value: 0.9220945083014048 and parameters: {'scalers': 'minmax', 'dim_red': None, 'lambda_l1': 4.0138746970969905e-07, 'lambda_l2': 6.521425398954661e-06, 'num_leaves': 203, 'feature_fraction': 0.47112871501116993, 'bagging_fraction': 0.7612629157516064, 'bagging_freq': 5, 'min_child_samples': 70}. Best is trial 22 with value: 0.9237547892720307.\u001b[0m\n"
     ]
    },
    {
     "name": "stdout",
     "output_type": "stream",
     "text": [
      "[LightGBM] [Warning] feature_fraction is set=0.40240111413661095, colsample_bytree=1.0 will be ignored. Current value: feature_fraction=0.40240111413661095\n",
      "[LightGBM] [Warning] bagging_freq is set=5, subsample_freq=0 will be ignored. Current value: bagging_freq=5\n",
      "[LightGBM] [Warning] bagging_fraction is set=0.7504789134699428, subsample=1.0 will be ignored. Current value: bagging_fraction=0.7504789134699428\n",
      "[LightGBM] [Warning] lambda_l2 is set=5.350050661507311e-05, reg_lambda=0.0 will be ignored. Current value: lambda_l2=5.350050661507311e-05\n",
      "[LightGBM] [Warning] lambda_l1 is set=7.526885537505781e-08, reg_alpha=0.0 will be ignored. Current value: lambda_l1=7.526885537505781e-08\n"
     ]
    },
    {
     "name": "stderr",
     "output_type": "stream",
     "text": [
      "\u001b[32m[I 2023-01-15 21:12:41,625]\u001b[0m Trial 44 finished with value: 0.9201787994891443 and parameters: {'scalers': 'robust', 'dim_red': None, 'lambda_l1': 7.526885537505781e-08, 'lambda_l2': 5.350050661507311e-05, 'num_leaves': 164, 'feature_fraction': 0.40240111413661095, 'bagging_fraction': 0.7504789134699428, 'bagging_freq': 5, 'min_child_samples': 76}. Best is trial 22 with value: 0.9237547892720307.\u001b[0m\n"
     ]
    },
    {
     "name": "stdout",
     "output_type": "stream",
     "text": [
      "[LightGBM] [Warning] feature_fraction is set=0.4806148986484368, colsample_bytree=1.0 will be ignored. Current value: feature_fraction=0.4806148986484368\n",
      "[LightGBM] [Warning] bagging_freq is set=6, subsample_freq=0 will be ignored. Current value: bagging_freq=6\n",
      "[LightGBM] [Warning] bagging_fraction is set=0.7710514924185068, subsample=1.0 will be ignored. Current value: bagging_fraction=0.7710514924185068\n",
      "[LightGBM] [Warning] lambda_l2 is set=8.785996026571982e-07, reg_lambda=0.0 will be ignored. Current value: lambda_l2=8.785996026571982e-07\n",
      "[LightGBM] [Warning] lambda_l1 is set=0.020013335106002825, reg_alpha=0.0 will be ignored. Current value: lambda_l1=0.020013335106002825\n"
     ]
    },
    {
     "name": "stderr",
     "output_type": "stream",
     "text": [
      "\u001b[32m[I 2023-01-15 21:13:06,671]\u001b[0m Trial 45 finished with value: 0.9213282247765007 and parameters: {'scalers': 'minmax', 'dim_red': None, 'lambda_l1': 0.020013335106002825, 'lambda_l2': 8.785996026571982e-07, 'num_leaves': 210, 'feature_fraction': 0.4806148986484368, 'bagging_fraction': 0.7710514924185068, 'bagging_freq': 6, 'min_child_samples': 65}. Best is trial 22 with value: 0.9237547892720307.\u001b[0m\n"
     ]
    },
    {
     "name": "stdout",
     "output_type": "stream",
     "text": [
      "[LightGBM] [Warning] feature_fraction is set=0.749878647462147, colsample_bytree=1.0 will be ignored. Current value: feature_fraction=0.749878647462147\n",
      "[LightGBM] [Warning] bagging_freq is set=5, subsample_freq=0 will be ignored. Current value: bagging_freq=5\n",
      "[LightGBM] [Warning] bagging_fraction is set=0.7211624206979766, subsample=1.0 will be ignored. Current value: bagging_fraction=0.7211624206979766\n",
      "[LightGBM] [Warning] lambda_l2 is set=6.718704005197507e-08, reg_lambda=0.0 will be ignored. Current value: lambda_l2=6.718704005197507e-08\n",
      "[LightGBM] [Warning] lambda_l1 is set=3.0722040566579564e-06, reg_alpha=0.0 will be ignored. Current value: lambda_l1=3.0722040566579564e-06\n"
     ]
    },
    {
     "name": "stderr",
     "output_type": "stream",
     "text": [
      "\u001b[32m[I 2023-01-15 21:13:39,050]\u001b[0m Trial 46 finished with value: 0.9215836526181354 and parameters: {'scalers': 'minmax', 'dim_red': None, 'lambda_l1': 3.0722040566579564e-06, 'lambda_l2': 6.718704005197507e-08, 'num_leaves': 244, 'feature_fraction': 0.749878647462147, 'bagging_fraction': 0.7211624206979766, 'bagging_freq': 5, 'min_child_samples': 54}. Best is trial 22 with value: 0.9237547892720307.\u001b[0m\n"
     ]
    },
    {
     "name": "stdout",
     "output_type": "stream",
     "text": [
      "[LightGBM] [Warning] feature_fraction is set=0.4243681012858236, colsample_bytree=1.0 will be ignored. Current value: feature_fraction=0.4243681012858236\n",
      "[LightGBM] [Warning] bagging_freq is set=4, subsample_freq=0 will be ignored. Current value: bagging_freq=4\n",
      "[LightGBM] [Warning] bagging_fraction is set=0.6674730408665832, subsample=1.0 will be ignored. Current value: bagging_fraction=0.6674730408665832\n",
      "[LightGBM] [Warning] lambda_l2 is set=0.009222372881860586, reg_lambda=0.0 will be ignored. Current value: lambda_l2=0.009222372881860586\n",
      "[LightGBM] [Warning] lambda_l1 is set=2.3371252919348377e-08, reg_alpha=0.0 will be ignored. Current value: lambda_l1=2.3371252919348377e-08\n"
     ]
    },
    {
     "name": "stderr",
     "output_type": "stream",
     "text": [
      "\u001b[32m[I 2023-01-15 21:13:49,774]\u001b[0m Trial 47 finished with value: 0.8950191570881226 and parameters: {'scalers': 'minmax', 'dim_red': 'PCA', 'pca_n_components': 12, 'lambda_l1': 2.3371252919348377e-08, 'lambda_l2': 0.009222372881860586, 'num_leaves': 195, 'feature_fraction': 0.4243681012858236, 'bagging_fraction': 0.6674730408665832, 'bagging_freq': 4, 'min_child_samples': 13}. Best is trial 22 with value: 0.9237547892720307.\u001b[0m\n"
     ]
    },
    {
     "name": "stdout",
     "output_type": "stream",
     "text": [
      "[LightGBM] [Warning] feature_fraction is set=0.5106827837232818, colsample_bytree=1.0 will be ignored. Current value: feature_fraction=0.5106827837232818\n",
      "[LightGBM] [Warning] bagging_freq is set=5, subsample_freq=0 will be ignored. Current value: bagging_freq=5\n",
      "[LightGBM] [Warning] bagging_fraction is set=0.8066637546909391, subsample=1.0 will be ignored. Current value: bagging_fraction=0.8066637546909391\n",
      "[LightGBM] [Warning] lambda_l2 is set=0.00029624012066967745, reg_lambda=0.0 will be ignored. Current value: lambda_l2=0.00029624012066967745\n",
      "[LightGBM] [Warning] lambda_l1 is set=0.004619063871187584, reg_alpha=0.0 will be ignored. Current value: lambda_l1=0.004619063871187584\n"
     ]
    },
    {
     "name": "stderr",
     "output_type": "stream",
     "text": [
      "\u001b[32m[I 2023-01-15 21:14:19,072]\u001b[0m Trial 48 finished with value: 0.9220945083014048 and parameters: {'scalers': 'minmax', 'dim_red': None, 'lambda_l1': 0.004619063871187584, 'lambda_l2': 0.00029624012066967745, 'num_leaves': 146, 'feature_fraction': 0.5106827837232818, 'bagging_fraction': 0.8066637546909391, 'bagging_freq': 5, 'min_child_samples': 47}. Best is trial 22 with value: 0.9237547892720307.\u001b[0m\n"
     ]
    },
    {
     "name": "stdout",
     "output_type": "stream",
     "text": [
      "[LightGBM] [Warning] feature_fraction is set=0.513163175796925, colsample_bytree=1.0 will be ignored. Current value: feature_fraction=0.513163175796925\n",
      "[LightGBM] [Warning] bagging_freq is set=4, subsample_freq=0 will be ignored. Current value: bagging_freq=4\n",
      "[LightGBM] [Warning] bagging_fraction is set=0.790462267922771, subsample=1.0 will be ignored. Current value: bagging_fraction=0.790462267922771\n",
      "[LightGBM] [Warning] lambda_l2 is set=0.0003878696502823646, reg_lambda=0.0 will be ignored. Current value: lambda_l2=0.0003878696502823646\n",
      "[LightGBM] [Warning] lambda_l1 is set=0.0022017245465536382, reg_alpha=0.0 will be ignored. Current value: lambda_l1=0.0022017245465536382\n"
     ]
    },
    {
     "name": "stderr",
     "output_type": "stream",
     "text": [
      "\u001b[32m[I 2023-01-15 21:15:07,766]\u001b[0m Trial 49 finished with value: 0.921455938697318 and parameters: {'scalers': 'robust', 'dim_red': None, 'lambda_l1': 0.0022017245465536382, 'lambda_l2': 0.0003878696502823646, 'num_leaves': 148, 'feature_fraction': 0.513163175796925, 'bagging_fraction': 0.790462267922771, 'bagging_freq': 4, 'min_child_samples': 37}. Best is trial 22 with value: 0.9237547892720307.\u001b[0m\n"
     ]
    },
    {
     "name": "stdout",
     "output_type": "stream",
     "text": [
      "[LightGBM] [Warning] feature_fraction is set=0.5768211144821298, colsample_bytree=1.0 will be ignored. Current value: feature_fraction=0.5768211144821298\n",
      "[LightGBM] [Warning] bagging_freq is set=6, subsample_freq=0 will be ignored. Current value: bagging_freq=6\n",
      "[LightGBM] [Warning] bagging_fraction is set=0.8073857440762552, subsample=1.0 will be ignored. Current value: bagging_fraction=0.8073857440762552\n",
      "[LightGBM] [Warning] lambda_l2 is set=6.972787463598239e-06, reg_lambda=0.0 will be ignored. Current value: lambda_l2=6.972787463598239e-06\n",
      "[LightGBM] [Warning] lambda_l1 is set=0.0002921399334249128, reg_alpha=0.0 will be ignored. Current value: lambda_l1=0.0002921399334249128\n"
     ]
    },
    {
     "name": "stderr",
     "output_type": "stream",
     "text": [
      "\u001b[32m[I 2023-01-15 21:15:11,237]\u001b[0m Trial 50 finished with value: 0.8597701149425288 and parameters: {'scalers': 'minmax', 'dim_red': None, 'lambda_l1': 0.0002921399334249128, 'lambda_l2': 6.972787463598239e-06, 'num_leaves': 3, 'feature_fraction': 0.5768211144821298, 'bagging_fraction': 0.8073857440762552, 'bagging_freq': 6, 'min_child_samples': 48}. Best is trial 22 with value: 0.9237547892720307.\u001b[0m\n"
     ]
    },
    {
     "name": "stdout",
     "output_type": "stream",
     "text": [
      "[LightGBM] [Warning] feature_fraction is set=0.4670323259533263, colsample_bytree=1.0 will be ignored. Current value: feature_fraction=0.4670323259533263\n",
      "[LightGBM] [Warning] bagging_freq is set=5, subsample_freq=0 will be ignored. Current value: bagging_freq=5\n",
      "[LightGBM] [Warning] bagging_fraction is set=0.8445606069358125, subsample=1.0 will be ignored. Current value: bagging_fraction=0.8445606069358125\n",
      "[LightGBM] [Warning] lambda_l2 is set=0.002011708269997473, reg_lambda=0.0 will be ignored. Current value: lambda_l2=0.002011708269997473\n",
      "[LightGBM] [Warning] lambda_l1 is set=0.004725384778575593, reg_alpha=0.0 will be ignored. Current value: lambda_l1=0.004725384778575593\n"
     ]
    },
    {
     "name": "stderr",
     "output_type": "stream",
     "text": [
      "\u001b[32m[I 2023-01-15 21:16:06,788]\u001b[0m Trial 51 finished with value: 0.9231162196679438 and parameters: {'scalers': 'minmax', 'dim_red': None, 'lambda_l1': 0.004725384778575593, 'lambda_l2': 0.002011708269997473, 'num_leaves': 222, 'feature_fraction': 0.4670323259533263, 'bagging_fraction': 0.8445606069358125, 'bagging_freq': 5, 'min_child_samples': 43}. Best is trial 22 with value: 0.9237547892720307.\u001b[0m\n"
     ]
    },
    {
     "name": "stdout",
     "output_type": "stream",
     "text": [
      "[LightGBM] [Warning] feature_fraction is set=0.47582682497824647, colsample_bytree=1.0 will be ignored. Current value: feature_fraction=0.47582682497824647\n",
      "[LightGBM] [Warning] bagging_freq is set=5, subsample_freq=0 will be ignored. Current value: bagging_freq=5\n",
      "[LightGBM] [Warning] bagging_fraction is set=0.8290532320329752, subsample=1.0 will be ignored. Current value: bagging_fraction=0.8290532320329752\n",
      "[LightGBM] [Warning] lambda_l2 is set=0.001291943564611756, reg_lambda=0.0 will be ignored. Current value: lambda_l2=0.001291943564611756\n",
      "[LightGBM] [Warning] lambda_l1 is set=0.007822725769411148, reg_alpha=0.0 will be ignored. Current value: lambda_l1=0.007822725769411148\n"
     ]
    },
    {
     "name": "stderr",
     "output_type": "stream",
     "text": [
      "\u001b[32m[I 2023-01-15 21:17:25,801]\u001b[0m Trial 52 finished with value: 0.9201787994891443 and parameters: {'scalers': 'minmax', 'dim_red': None, 'lambda_l1': 0.007822725769411148, 'lambda_l2': 0.001291943564611756, 'num_leaves': 236, 'feature_fraction': 0.47582682497824647, 'bagging_fraction': 0.8290532320329752, 'bagging_freq': 5, 'min_child_samples': 25}. Best is trial 22 with value: 0.9237547892720307.\u001b[0m\n"
     ]
    },
    {
     "name": "stdout",
     "output_type": "stream",
     "text": [
      "[LightGBM] [Warning] feature_fraction is set=0.520579832663669, colsample_bytree=1.0 will be ignored. Current value: feature_fraction=0.520579832663669\n",
      "[LightGBM] [Warning] bagging_freq is set=4, subsample_freq=0 will be ignored. Current value: bagging_freq=4\n",
      "[LightGBM] [Warning] bagging_fraction is set=0.595494791318491, subsample=1.0 will be ignored. Current value: bagging_fraction=0.595494791318491\n",
      "[LightGBM] [Warning] lambda_l2 is set=8.449673503531675e-05, reg_lambda=0.0 will be ignored. Current value: lambda_l2=8.449673503531675e-05\n",
      "[LightGBM] [Warning] lambda_l1 is set=0.0009806625298665655, reg_alpha=0.0 will be ignored. Current value: lambda_l1=0.0009806625298665655\n"
     ]
    },
    {
     "name": "stderr",
     "output_type": "stream",
     "text": [
      "\u001b[32m[I 2023-01-15 21:18:02,734]\u001b[0m Trial 53 finished with value: 0.921455938697318 and parameters: {'scalers': 'minmax', 'dim_red': None, 'lambda_l1': 0.0009806625298665655, 'lambda_l2': 8.449673503531675e-05, 'num_leaves': 220, 'feature_fraction': 0.520579832663669, 'bagging_fraction': 0.595494791318491, 'bagging_freq': 4, 'min_child_samples': 39}. Best is trial 22 with value: 0.9237547892720307.\u001b[0m\n"
     ]
    },
    {
     "name": "stdout",
     "output_type": "stream",
     "text": [
      "[LightGBM] [Warning] feature_fraction is set=0.4653322880224661, colsample_bytree=1.0 will be ignored. Current value: feature_fraction=0.4653322880224661\n",
      "[LightGBM] [Warning] bagging_freq is set=5, subsample_freq=0 will be ignored. Current value: bagging_freq=5\n",
      "[LightGBM] [Warning] bagging_fraction is set=0.843786727489483, subsample=1.0 will be ignored. Current value: bagging_fraction=0.843786727489483\n",
      "[LightGBM] [Warning] lambda_l2 is set=0.00020651936365006018, reg_lambda=0.0 will be ignored. Current value: lambda_l2=0.00020651936365006018\n",
      "[LightGBM] [Warning] lambda_l1 is set=0.020881734679808757, reg_alpha=0.0 will be ignored. Current value: lambda_l1=0.020881734679808757\n"
     ]
    },
    {
     "name": "stderr",
     "output_type": "stream",
     "text": [
      "\u001b[32m[I 2023-01-15 21:18:38,502]\u001b[0m Trial 54 finished with value: 0.9189016602809706 and parameters: {'scalers': 'minmax', 'dim_red': None, 'lambda_l1': 0.020881734679808757, 'lambda_l2': 0.00020651936365006018, 'num_leaves': 205, 'feature_fraction': 0.4653322880224661, 'bagging_fraction': 0.843786727489483, 'bagging_freq': 5, 'min_child_samples': 43}. Best is trial 22 with value: 0.9237547892720307.\u001b[0m\n"
     ]
    },
    {
     "name": "stdout",
     "output_type": "stream",
     "text": [
      "[LightGBM] [Warning] feature_fraction is set=0.4958557067823889, colsample_bytree=1.0 will be ignored. Current value: feature_fraction=0.4958557067823889\n",
      "[LightGBM] [Warning] bagging_freq is set=6, subsample_freq=0 will be ignored. Current value: bagging_freq=6\n",
      "[LightGBM] [Warning] bagging_fraction is set=0.7635212367382513, subsample=1.0 will be ignored. Current value: bagging_fraction=0.7635212367382513\n",
      "[LightGBM] [Warning] lambda_l2 is set=7.37705997081356e-06, reg_lambda=0.0 will be ignored. Current value: lambda_l2=7.37705997081356e-06\n",
      "[LightGBM] [Warning] lambda_l1 is set=0.00036095634933157306, reg_alpha=0.0 will be ignored. Current value: lambda_l1=0.00036095634933157306\n"
     ]
    },
    {
     "name": "stderr",
     "output_type": "stream",
     "text": [
      "\u001b[32m[I 2023-01-15 21:19:07,193]\u001b[0m Trial 55 finished with value: 0.918007662835249 and parameters: {'scalers': 'minmax', 'dim_red': None, 'lambda_l1': 0.00036095634933157306, 'lambda_l2': 7.37705997081356e-06, 'num_leaves': 120, 'feature_fraction': 0.4958557067823889, 'bagging_fraction': 0.7635212367382513, 'bagging_freq': 6, 'min_child_samples': 33}. Best is trial 22 with value: 0.9237547892720307.\u001b[0m\n"
     ]
    },
    {
     "name": "stdout",
     "output_type": "stream",
     "text": [
      "[LightGBM] [Warning] feature_fraction is set=0.4474173190085887, colsample_bytree=1.0 will be ignored. Current value: feature_fraction=0.4474173190085887\n",
      "[LightGBM] [Warning] bagging_freq is set=5, subsample_freq=0 will be ignored. Current value: bagging_freq=5\n",
      "[LightGBM] [Warning] bagging_fraction is set=0.7274083640976288, subsample=1.0 will be ignored. Current value: bagging_fraction=0.7274083640976288\n",
      "[LightGBM] [Warning] lambda_l2 is set=0.001045999094390733, reg_lambda=0.0 will be ignored. Current value: lambda_l2=0.001045999094390733\n",
      "[LightGBM] [Warning] lambda_l1 is set=0.0041665052938424235, reg_alpha=0.0 will be ignored. Current value: lambda_l1=0.0041665052938424235\n"
     ]
    },
    {
     "name": "stderr",
     "output_type": "stream",
     "text": [
      "\u001b[32m[I 2023-01-15 21:19:38,828]\u001b[0m Trial 56 finished with value: 0.9215836526181354 and parameters: {'scalers': 'standard', 'dim_red': None, 'lambda_l1': 0.0041665052938424235, 'lambda_l2': 0.001045999094390733, 'num_leaves': 191, 'feature_fraction': 0.4474173190085887, 'bagging_fraction': 0.7274083640976288, 'bagging_freq': 5, 'min_child_samples': 49}. Best is trial 22 with value: 0.9237547892720307.\u001b[0m\n"
     ]
    },
    {
     "name": "stdout",
     "output_type": "stream",
     "text": [
      "[LightGBM] [Warning] feature_fraction is set=0.4208377052899007, colsample_bytree=1.0 will be ignored. Current value: feature_fraction=0.4208377052899007\n",
      "[LightGBM] [Warning] bagging_freq is set=5, subsample_freq=0 will be ignored. Current value: bagging_freq=5\n",
      "[LightGBM] [Warning] bagging_fraction is set=0.8061340862062913, subsample=1.0 will be ignored. Current value: bagging_fraction=0.8061340862062913\n",
      "[LightGBM] [Warning] lambda_l2 is set=0.02948532333225327, reg_lambda=0.0 will be ignored. Current value: lambda_l2=0.02948532333225327\n",
      "[LightGBM] [Warning] lambda_l1 is set=5.88827481810102e-07, reg_alpha=0.0 will be ignored. Current value: lambda_l1=5.88827481810102e-07\n"
     ]
    },
    {
     "name": "stderr",
     "output_type": "stream",
     "text": [
      "\u001b[32m[I 2023-01-15 21:20:07,661]\u001b[0m Trial 57 finished with value: 0.9187739463601533 and parameters: {'scalers': 'minmax', 'dim_red': None, 'lambda_l1': 5.88827481810102e-07, 'lambda_l2': 0.02948532333225327, 'num_leaves': 225, 'feature_fraction': 0.4208377052899007, 'bagging_fraction': 0.8061340862062913, 'bagging_freq': 5, 'min_child_samples': 46}. Best is trial 22 with value: 0.9237547892720307.\u001b[0m\n"
     ]
    },
    {
     "name": "stdout",
     "output_type": "stream",
     "text": [
      "[LightGBM] [Warning] feature_fraction is set=0.5400558578333424, colsample_bytree=1.0 will be ignored. Current value: feature_fraction=0.5400558578333424\n",
      "[LightGBM] [Warning] bagging_freq is set=4, subsample_freq=0 will be ignored. Current value: bagging_freq=4\n",
      "[LightGBM] [Warning] bagging_fraction is set=0.8451994987185882, subsample=1.0 will be ignored. Current value: bagging_fraction=0.8451994987185882\n",
      "[LightGBM] [Warning] lambda_l2 is set=2.1184973814385174e-05, reg_lambda=0.0 will be ignored. Current value: lambda_l2=2.1184973814385174e-05\n",
      "[LightGBM] [Warning] lambda_l1 is set=0.0073168790201542586, reg_alpha=0.0 will be ignored. Current value: lambda_l1=0.0073168790201542586\n"
     ]
    },
    {
     "name": "stderr",
     "output_type": "stream",
     "text": [
      "\u001b[32m[I 2023-01-15 21:20:14,418]\u001b[0m Trial 58 finished with value: 0.888250319284802 and parameters: {'scalers': 'minmax', 'dim_red': 'PCA', 'pca_n_components': 29, 'lambda_l1': 0.0073168790201542586, 'lambda_l2': 2.1184973814385174e-05, 'num_leaves': 40, 'feature_fraction': 0.5400558578333424, 'bagging_fraction': 0.8451994987185882, 'bagging_freq': 4, 'min_child_samples': 60}. Best is trial 22 with value: 0.9237547892720307.\u001b[0m\n"
     ]
    },
    {
     "name": "stdout",
     "output_type": "stream",
     "text": [
      "[LightGBM] [Warning] feature_fraction is set=0.46521951522807886, colsample_bytree=1.0 will be ignored. Current value: feature_fraction=0.46521951522807886\n",
      "[LightGBM] [Warning] bagging_freq is set=5, subsample_freq=0 will be ignored. Current value: bagging_freq=5\n",
      "[LightGBM] [Warning] bagging_fraction is set=0.8769841637980408, subsample=1.0 will be ignored. Current value: bagging_fraction=0.8769841637980408\n",
      "[LightGBM] [Warning] lambda_l2 is set=0.003964087325548933, reg_lambda=0.0 will be ignored. Current value: lambda_l2=0.003964087325548933\n",
      "[LightGBM] [Warning] lambda_l1 is set=1.1874543321476552e-06, reg_alpha=0.0 will be ignored. Current value: lambda_l1=1.1874543321476552e-06\n"
     ]
    },
    {
     "name": "stderr",
     "output_type": "stream",
     "text": [
      "\u001b[32m[I 2023-01-15 21:20:38,752]\u001b[0m Trial 59 finished with value: 0.9219667943805875 and parameters: {'scalers': 'minmax', 'dim_red': None, 'lambda_l1': 1.1874543321476552e-06, 'lambda_l2': 0.003964087325548933, 'num_leaves': 164, 'feature_fraction': 0.46521951522807886, 'bagging_fraction': 0.8769841637980408, 'bagging_freq': 5, 'min_child_samples': 57}. Best is trial 22 with value: 0.9237547892720307.\u001b[0m\n"
     ]
    },
    {
     "name": "stdout",
     "output_type": "stream",
     "text": [
      "[LightGBM] [Warning] feature_fraction is set=0.6145550698124473, colsample_bytree=1.0 will be ignored. Current value: feature_fraction=0.6145550698124473\n",
      "[LightGBM] [Warning] bagging_freq is set=6, subsample_freq=0 will be ignored. Current value: bagging_freq=6\n",
      "[LightGBM] [Warning] bagging_fraction is set=0.9109562124116006, subsample=1.0 will be ignored. Current value: bagging_fraction=0.9109562124116006\n",
      "[LightGBM] [Warning] lambda_l2 is set=1.0333742828457153e-08, reg_lambda=0.0 will be ignored. Current value: lambda_l2=1.0333742828457153e-08\n",
      "[LightGBM] [Warning] lambda_l1 is set=2.578443068173816e-07, reg_alpha=0.0 will be ignored. Current value: lambda_l1=2.578443068173816e-07\n"
     ]
    },
    {
     "name": "stderr",
     "output_type": "stream",
     "text": [
      "\u001b[32m[I 2023-01-15 21:21:03,263]\u001b[0m Trial 60 finished with value: 0.9205619412515964 and parameters: {'scalers': 'minmax', 'dim_red': None, 'lambda_l1': 2.578443068173816e-07, 'lambda_l2': 1.0333742828457153e-08, 'num_leaves': 138, 'feature_fraction': 0.6145550698124473, 'bagging_fraction': 0.9109562124116006, 'bagging_freq': 6, 'min_child_samples': 68}. Best is trial 22 with value: 0.9237547892720307.\u001b[0m\n"
     ]
    },
    {
     "name": "stdout",
     "output_type": "stream",
     "text": [
      "[LightGBM] [Warning] feature_fraction is set=0.4686481335753114, colsample_bytree=1.0 will be ignored. Current value: feature_fraction=0.4686481335753114\n",
      "[LightGBM] [Warning] bagging_freq is set=5, subsample_freq=0 will be ignored. Current value: bagging_freq=5\n",
      "[LightGBM] [Warning] bagging_fraction is set=0.8874280190132096, subsample=1.0 will be ignored. Current value: bagging_fraction=0.8874280190132096\n",
      "[LightGBM] [Warning] lambda_l2 is set=0.0043125633372437374, reg_lambda=0.0 will be ignored. Current value: lambda_l2=0.0043125633372437374\n",
      "[LightGBM] [Warning] lambda_l1 is set=1.9599476137015147e-06, reg_alpha=0.0 will be ignored. Current value: lambda_l1=1.9599476137015147e-06\n"
     ]
    },
    {
     "name": "stderr",
     "output_type": "stream",
     "text": [
      "\u001b[32m[I 2023-01-15 21:21:29,947]\u001b[0m Trial 61 finished with value: 0.9209450830140485 and parameters: {'scalers': 'minmax', 'dim_red': None, 'lambda_l1': 1.9599476137015147e-06, 'lambda_l2': 0.0043125633372437374, 'num_leaves': 164, 'feature_fraction': 0.4686481335753114, 'bagging_fraction': 0.8874280190132096, 'bagging_freq': 5, 'min_child_samples': 56}. Best is trial 22 with value: 0.9237547892720307.\u001b[0m\n"
     ]
    },
    {
     "name": "stdout",
     "output_type": "stream",
     "text": [
      "[LightGBM] [Warning] feature_fraction is set=0.4983903321747937, colsample_bytree=1.0 will be ignored. Current value: feature_fraction=0.4983903321747937\n",
      "[LightGBM] [Warning] bagging_freq is set=5, subsample_freq=0 will be ignored. Current value: bagging_freq=5\n",
      "[LightGBM] [Warning] bagging_fraction is set=0.8646862048217169, subsample=1.0 will be ignored. Current value: bagging_fraction=0.8646862048217169\n",
      "[LightGBM] [Warning] lambda_l2 is set=1.6424736390384124e-06, reg_lambda=0.0 will be ignored. Current value: lambda_l2=1.6424736390384124e-06\n",
      "[LightGBM] [Warning] lambda_l1 is set=1.0737073024482905e-07, reg_alpha=0.0 will be ignored. Current value: lambda_l1=1.0737073024482905e-07\n"
     ]
    },
    {
     "name": "stderr",
     "output_type": "stream",
     "text": [
      "\u001b[32m[I 2023-01-15 21:21:59,431]\u001b[0m Trial 62 finished with value: 0.9189016602809706 and parameters: {'scalers': 'minmax', 'dim_red': None, 'lambda_l1': 1.0737073024482905e-07, 'lambda_l2': 1.6424736390384124e-06, 'num_leaves': 175, 'feature_fraction': 0.4983903321747937, 'bagging_fraction': 0.8646862048217169, 'bagging_freq': 5, 'min_child_samples': 44}. Best is trial 22 with value: 0.9237547892720307.\u001b[0m\n"
     ]
    },
    {
     "name": "stdout",
     "output_type": "stream",
     "text": [
      "[LightGBM] [Warning] feature_fraction is set=0.4507783128572605, colsample_bytree=1.0 will be ignored. Current value: feature_fraction=0.4507783128572605\n",
      "[LightGBM] [Warning] bagging_freq is set=4, subsample_freq=0 will be ignored. Current value: bagging_freq=4\n",
      "[LightGBM] [Warning] bagging_fraction is set=0.8267928641944094, subsample=1.0 will be ignored. Current value: bagging_fraction=0.8267928641944094\n",
      "[LightGBM] [Warning] lambda_l2 is set=0.0019774888227786017, reg_lambda=0.0 will be ignored. Current value: lambda_l2=0.0019774888227786017\n",
      "[LightGBM] [Warning] lambda_l1 is set=1.0355927617025818e-06, reg_alpha=0.0 will be ignored. Current value: lambda_l1=1.0355927617025818e-06\n"
     ]
    },
    {
     "name": "stderr",
     "output_type": "stream",
     "text": [
      "\u001b[32m[I 2023-01-15 21:22:29,439]\u001b[0m Trial 63 finished with value: 0.9194125159642401 and parameters: {'scalers': 'minmax', 'dim_red': None, 'lambda_l1': 1.0355927617025818e-06, 'lambda_l2': 0.0019774888227786017, 'num_leaves': 210, 'feature_fraction': 0.4507783128572605, 'bagging_fraction': 0.8267928641944094, 'bagging_freq': 4, 'min_child_samples': 51}. Best is trial 22 with value: 0.9237547892720307.\u001b[0m\n"
     ]
    },
    {
     "name": "stdout",
     "output_type": "stream",
     "text": [
      "[LightGBM] [Warning] feature_fraction is set=0.5213381930900628, colsample_bytree=1.0 will be ignored. Current value: feature_fraction=0.5213381930900628\n",
      "[LightGBM] [Warning] bagging_freq is set=5, subsample_freq=0 will be ignored. Current value: bagging_freq=5\n",
      "[LightGBM] [Warning] bagging_fraction is set=0.7765420029311423, subsample=1.0 will be ignored. Current value: bagging_fraction=0.7765420029311423\n",
      "[LightGBM] [Warning] lambda_l2 is set=0.0005667242268467954, reg_lambda=0.0 will be ignored. Current value: lambda_l2=0.0005667242268467954\n",
      "[LightGBM] [Warning] lambda_l1 is set=3.111056626664838e-08, reg_alpha=0.0 will be ignored. Current value: lambda_l1=3.111056626664838e-08\n"
     ]
    },
    {
     "name": "stderr",
     "output_type": "stream",
     "text": [
      "\u001b[32m[I 2023-01-15 21:22:52,411]\u001b[0m Trial 64 finished with value: 0.9199233716475096 and parameters: {'scalers': 'minmax', 'dim_red': None, 'lambda_l1': 3.111056626664838e-08, 'lambda_l2': 0.0005667242268467954, 'num_leaves': 143, 'feature_fraction': 0.5213381930900628, 'bagging_fraction': 0.7765420029311423, 'bagging_freq': 5, 'min_child_samples': 64}. Best is trial 22 with value: 0.9237547892720307.\u001b[0m\n"
     ]
    },
    {
     "name": "stdout",
     "output_type": "stream",
     "text": [
      "[LightGBM] [Warning] feature_fraction is set=0.5510297121550969, colsample_bytree=1.0 will be ignored. Current value: feature_fraction=0.5510297121550969\n",
      "[LightGBM] [Warning] bagging_freq is set=4, subsample_freq=0 will be ignored. Current value: bagging_freq=4\n",
      "[LightGBM] [Warning] bagging_fraction is set=0.8836710646569476, subsample=1.0 will be ignored. Current value: bagging_fraction=0.8836710646569476\n",
      "[LightGBM] [Warning] lambda_l2 is set=0.023514656024087668, reg_lambda=0.0 will be ignored. Current value: lambda_l2=0.023514656024087668\n",
      "[LightGBM] [Warning] lambda_l1 is set=3.5103841031531363e-07, reg_alpha=0.0 will be ignored. Current value: lambda_l1=3.5103841031531363e-07\n"
     ]
    },
    {
     "name": "stderr",
     "output_type": "stream",
     "text": [
      "\u001b[32m[I 2023-01-15 21:23:16,855]\u001b[0m Trial 65 finished with value: 0.9227330779054917 and parameters: {'scalers': 'minmax', 'dim_red': None, 'lambda_l1': 3.5103841031531363e-07, 'lambda_l2': 0.023514656024087668, 'num_leaves': 154, 'feature_fraction': 0.5510297121550969, 'bagging_fraction': 0.8836710646569476, 'bagging_freq': 4, 'min_child_samples': 82}. Best is trial 22 with value: 0.9237547892720307.\u001b[0m\n"
     ]
    },
    {
     "name": "stdout",
     "output_type": "stream",
     "text": [
      "[LightGBM] [Warning] feature_fraction is set=0.6693742292782412, colsample_bytree=1.0 will be ignored. Current value: feature_fraction=0.6693742292782412\n",
      "[LightGBM] [Warning] bagging_freq is set=4, subsample_freq=0 will be ignored. Current value: bagging_freq=4\n",
      "[LightGBM] [Warning] bagging_fraction is set=0.9222752085502104, subsample=1.0 will be ignored. Current value: bagging_fraction=0.9222752085502104\n",
      "[LightGBM] [Warning] lambda_l2 is set=0.032450434660290774, reg_lambda=0.0 will be ignored. Current value: lambda_l2=0.032450434660290774\n",
      "[LightGBM] [Warning] lambda_l1 is set=1.0650527014853782e-08, reg_alpha=0.0 will be ignored. Current value: lambda_l1=1.0650527014853782e-08\n"
     ]
    },
    {
     "name": "stderr",
     "output_type": "stream",
     "text": [
      "\u001b[32m[I 2023-01-15 21:23:40,911]\u001b[0m Trial 66 finished with value: 0.9205619412515964 and parameters: {'scalers': 'minmax', 'dim_red': None, 'lambda_l1': 1.0650527014853782e-08, 'lambda_l2': 0.032450434660290774, 'num_leaves': 118, 'feature_fraction': 0.6693742292782412, 'bagging_fraction': 0.9222752085502104, 'bagging_freq': 4, 'min_child_samples': 82}. Best is trial 22 with value: 0.9237547892720307.\u001b[0m\n"
     ]
    },
    {
     "name": "stdout",
     "output_type": "stream",
     "text": [
      "[LightGBM] [Warning] feature_fraction is set=0.5550205154112933, colsample_bytree=1.0 will be ignored. Current value: feature_fraction=0.5550205154112933\n",
      "[LightGBM] [Warning] bagging_freq is set=3, subsample_freq=0 will be ignored. Current value: bagging_freq=3\n",
      "[LightGBM] [Warning] bagging_fraction is set=0.7967728950495747, subsample=1.0 will be ignored. Current value: bagging_fraction=0.7967728950495747\n",
      "[LightGBM] [Warning] lambda_l2 is set=1.2845748233807988, reg_lambda=0.0 will be ignored. Current value: lambda_l2=1.2845748233807988\n",
      "[LightGBM] [Warning] lambda_l1 is set=4.510814338055287e-07, reg_alpha=0.0 will be ignored. Current value: lambda_l1=4.510814338055287e-07\n"
     ]
    },
    {
     "name": "stderr",
     "output_type": "stream",
     "text": [
      "\u001b[32m[I 2023-01-15 21:23:59,871]\u001b[0m Trial 67 finished with value: 0.9196679438058748 and parameters: {'scalers': 'standard', 'dim_red': None, 'lambda_l1': 4.510814338055287e-07, 'lambda_l2': 1.2845748233807988, 'num_leaves': 200, 'feature_fraction': 0.5550205154112933, 'bagging_fraction': 0.7967728950495747, 'bagging_freq': 3, 'min_child_samples': 73}. Best is trial 22 with value: 0.9237547892720307.\u001b[0m\n"
     ]
    },
    {
     "name": "stdout",
     "output_type": "stream",
     "text": [
      "[LightGBM] [Warning] feature_fraction is set=0.6358215178982088, colsample_bytree=1.0 will be ignored. Current value: feature_fraction=0.6358215178982088\n",
      "[LightGBM] [Warning] bagging_freq is set=4, subsample_freq=0 will be ignored. Current value: bagging_freq=4\n",
      "[LightGBM] [Warning] bagging_fraction is set=0.9710139743098823, subsample=1.0 will be ignored. Current value: bagging_fraction=0.9710139743098823\n",
      "[LightGBM] [Warning] lambda_l2 is set=0.08154223290870259, reg_lambda=0.0 will be ignored. Current value: lambda_l2=0.08154223290870259\n",
      "[LightGBM] [Warning] lambda_l1 is set=0.004114084018213626, reg_alpha=0.0 will be ignored. Current value: lambda_l1=0.004114084018213626\n"
     ]
    },
    {
     "name": "stderr",
     "output_type": "stream",
     "text": [
      "\u001b[32m[I 2023-01-15 21:24:23,433]\u001b[0m Trial 68 finished with value: 0.9182630906768838 and parameters: {'scalers': 'minmax', 'dim_red': None, 'lambda_l1': 0.004114084018213626, 'lambda_l2': 0.08154223290870259, 'num_leaves': 99, 'feature_fraction': 0.6358215178982088, 'bagging_fraction': 0.9710139743098823, 'bagging_freq': 4, 'min_child_samples': 80}. Best is trial 22 with value: 0.9237547892720307.\u001b[0m\n"
     ]
    },
    {
     "name": "stdout",
     "output_type": "stream",
     "text": [
      "[LightGBM] [Warning] feature_fraction is set=0.5947043764417255, colsample_bytree=1.0 will be ignored. Current value: feature_fraction=0.5947043764417255\n",
      "[LightGBM] [Warning] bagging_freq is set=4, subsample_freq=0 will be ignored. Current value: bagging_freq=4\n",
      "[LightGBM] [Warning] bagging_fraction is set=0.758489791722116, subsample=1.0 will be ignored. Current value: bagging_fraction=0.758489791722116\n",
      "[LightGBM] [Warning] lambda_l2 is set=5.390171160511704e-07, reg_lambda=0.0 will be ignored. Current value: lambda_l2=5.390171160511704e-07\n",
      "[LightGBM] [Warning] lambda_l1 is set=7.728008511690662e-05, reg_alpha=0.0 will be ignored. Current value: lambda_l1=7.728008511690662e-05\n"
     ]
    },
    {
     "name": "stderr",
     "output_type": "stream",
     "text": [
      "\u001b[32m[I 2023-01-15 21:24:46,453]\u001b[0m Trial 69 finished with value: 0.9205619412515964 and parameters: {'scalers': 'minmax', 'dim_red': None, 'lambda_l1': 7.728008511690662e-05, 'lambda_l2': 5.390171160511704e-07, 'num_leaves': 154, 'feature_fraction': 0.5947043764417255, 'bagging_fraction': 0.758489791722116, 'bagging_freq': 4, 'min_child_samples': 83}. Best is trial 22 with value: 0.9237547892720307.\u001b[0m\n"
     ]
    },
    {
     "name": "stdout",
     "output_type": "stream",
     "text": [
      "[LightGBM] [Warning] feature_fraction is set=0.8740821689405268, colsample_bytree=1.0 will be ignored. Current value: feature_fraction=0.8740821689405268\n",
      "[LightGBM] [Warning] bagging_freq is set=3, subsample_freq=0 will be ignored. Current value: bagging_freq=3\n",
      "[LightGBM] [Warning] bagging_fraction is set=0.8913275600042411, subsample=1.0 will be ignored. Current value: bagging_fraction=0.8913275600042411\n",
      "[LightGBM] [Warning] lambda_l2 is set=0.01518687290099967, reg_lambda=0.0 will be ignored. Current value: lambda_l2=0.01518687290099967\n",
      "[LightGBM] [Warning] lambda_l1 is set=4.806115783570365e-06, reg_alpha=0.0 will be ignored. Current value: lambda_l1=4.806115783570365e-06\n"
     ]
    },
    {
     "name": "stderr",
     "output_type": "stream",
     "text": [
      "\u001b[32m[I 2023-01-15 21:24:56,792]\u001b[0m Trial 70 finished with value: 0.8996168582375479 and parameters: {'scalers': 'robust', 'dim_red': 'PCA', 'pca_n_components': 9, 'lambda_l1': 4.806115783570365e-06, 'lambda_l2': 0.01518687290099967, 'num_leaves': 239, 'feature_fraction': 0.8740821689405268, 'bagging_fraction': 0.8913275600042411, 'bagging_freq': 3, 'min_child_samples': 28}. Best is trial 22 with value: 0.9237547892720307.\u001b[0m\n"
     ]
    },
    {
     "name": "stdout",
     "output_type": "stream",
     "text": [
      "[LightGBM] [Warning] feature_fraction is set=0.47876110322681065, colsample_bytree=1.0 will be ignored. Current value: feature_fraction=0.47876110322681065\n",
      "[LightGBM] [Warning] bagging_freq is set=5, subsample_freq=0 will be ignored. Current value: bagging_freq=5\n",
      "[LightGBM] [Warning] bagging_fraction is set=0.8680992085331645, subsample=1.0 will be ignored. Current value: bagging_fraction=0.8680992085331645\n",
      "[LightGBM] [Warning] lambda_l2 is set=0.003428152196466545, reg_lambda=0.0 will be ignored. Current value: lambda_l2=0.003428152196466545\n",
      "[LightGBM] [Warning] lambda_l1 is set=2.2035985975027043e-07, reg_alpha=0.0 will be ignored. Current value: lambda_l1=2.2035985975027043e-07\n"
     ]
    },
    {
     "name": "stderr",
     "output_type": "stream",
     "text": [
      "\u001b[32m[I 2023-01-15 21:25:21,507]\u001b[0m Trial 71 finished with value: 0.9201787994891443 and parameters: {'scalers': 'minmax', 'dim_red': None, 'lambda_l1': 2.2035985975027043e-07, 'lambda_l2': 0.003428152196466545, 'num_leaves': 157, 'feature_fraction': 0.47876110322681065, 'bagging_fraction': 0.8680992085331645, 'bagging_freq': 5, 'min_child_samples': 76}. Best is trial 22 with value: 0.9237547892720307.\u001b[0m\n"
     ]
    },
    {
     "name": "stdout",
     "output_type": "stream",
     "text": [
      "[LightGBM] [Warning] feature_fraction is set=0.5074122827759074, colsample_bytree=1.0 will be ignored. Current value: feature_fraction=0.5074122827759074\n",
      "[LightGBM] [Warning] bagging_freq is set=5, subsample_freq=0 will be ignored. Current value: bagging_freq=5\n",
      "[LightGBM] [Warning] bagging_fraction is set=0.8837232267322309, subsample=1.0 will be ignored. Current value: bagging_fraction=0.8837232267322309\n",
      "[LightGBM] [Warning] lambda_l2 is set=0.009698107087691367, reg_lambda=0.0 will be ignored. Current value: lambda_l2=0.009698107087691367\n",
      "[LightGBM] [Warning] lambda_l1 is set=1.2053178783285346e-06, reg_alpha=0.0 will be ignored. Current value: lambda_l1=1.2053178783285346e-06\n"
     ]
    },
    {
     "name": "stderr",
     "output_type": "stream",
     "text": [
      "\u001b[32m[I 2023-01-15 21:26:10,554]\u001b[0m Trial 72 finished with value: 0.9217113665389527 and parameters: {'scalers': 'minmax', 'dim_red': None, 'lambda_l1': 1.2053178783285346e-06, 'lambda_l2': 0.009698107087691367, 'num_leaves': 176, 'feature_fraction': 0.5074122827759074, 'bagging_fraction': 0.8837232267322309, 'bagging_freq': 5, 'min_child_samples': 70}. Best is trial 22 with value: 0.9237547892720307.\u001b[0m\n"
     ]
    },
    {
     "name": "stdout",
     "output_type": "stream",
     "text": [
      "[LightGBM] [Warning] feature_fraction is set=0.4282283382707618, colsample_bytree=1.0 will be ignored. Current value: feature_fraction=0.4282283382707618\n",
      "[LightGBM] [Warning] bagging_freq is set=5, subsample_freq=0 will be ignored. Current value: bagging_freq=5\n",
      "[LightGBM] [Warning] bagging_fraction is set=0.8193817795289954, subsample=1.0 will be ignored. Current value: bagging_fraction=0.8193817795289954\n",
      "[LightGBM] [Warning] lambda_l2 is set=0.0021994111547662116, reg_lambda=0.0 will be ignored. Current value: lambda_l2=0.0021994111547662116\n",
      "[LightGBM] [Warning] lambda_l1 is set=0.0012722572237960639, reg_alpha=0.0 will be ignored. Current value: lambda_l1=0.0012722572237960639\n"
     ]
    },
    {
     "name": "stderr",
     "output_type": "stream",
     "text": [
      "\u001b[32m[I 2023-01-15 21:26:38,519]\u001b[0m Trial 73 finished with value: 0.9222222222222223 and parameters: {'scalers': 'minmax', 'dim_red': None, 'lambda_l1': 0.0012722572237960639, 'lambda_l2': 0.0021994111547662116, 'num_leaves': 189, 'feature_fraction': 0.4282283382707618, 'bagging_fraction': 0.8193817795289954, 'bagging_freq': 5, 'min_child_samples': 56}. Best is trial 22 with value: 0.9237547892720307.\u001b[0m\n"
     ]
    },
    {
     "name": "stdout",
     "output_type": "stream",
     "text": [
      "[LightGBM] [Warning] feature_fraction is set=0.42742674511449735, colsample_bytree=1.0 will be ignored. Current value: feature_fraction=0.42742674511449735\n",
      "[LightGBM] [Warning] bagging_freq is set=4, subsample_freq=0 will be ignored. Current value: bagging_freq=4\n",
      "[LightGBM] [Warning] bagging_fraction is set=0.8415621085480104, subsample=1.0 will be ignored. Current value: bagging_fraction=0.8415621085480104\n",
      "[LightGBM] [Warning] lambda_l2 is set=0.0002726041381034619, reg_lambda=0.0 will be ignored. Current value: lambda_l2=0.0002726041381034619\n",
      "[LightGBM] [Warning] lambda_l1 is set=0.0007770928121305561, reg_alpha=0.0 will be ignored. Current value: lambda_l1=0.0007770928121305561\n"
     ]
    },
    {
     "name": "stderr",
     "output_type": "stream",
     "text": [
      "\u001b[32m[I 2023-01-15 21:27:10,969]\u001b[0m Trial 74 finished with value: 0.9200510855683269 and parameters: {'scalers': 'minmax', 'dim_red': None, 'lambda_l1': 0.0007770928121305561, 'lambda_l2': 0.0002726041381034619, 'num_leaves': 191, 'feature_fraction': 0.42742674511449735, 'bagging_fraction': 0.8415621085480104, 'bagging_freq': 4, 'min_child_samples': 40}. Best is trial 22 with value: 0.9237547892720307.\u001b[0m\n"
     ]
    },
    {
     "name": "stdout",
     "output_type": "stream",
     "text": [
      "[LightGBM] [Warning] feature_fraction is set=0.44451065527982636, colsample_bytree=1.0 will be ignored. Current value: feature_fraction=0.44451065527982636\n",
      "[LightGBM] [Warning] bagging_freq is set=4, subsample_freq=0 will be ignored. Current value: bagging_freq=4\n",
      "[LightGBM] [Warning] bagging_fraction is set=0.8183566172849182, subsample=1.0 will be ignored. Current value: bagging_fraction=0.8183566172849182\n",
      "[LightGBM] [Warning] lambda_l2 is set=7.006175249479413e-06, reg_lambda=0.0 will be ignored. Current value: lambda_l2=7.006175249479413e-06\n",
      "[LightGBM] [Warning] lambda_l1 is set=0.002867838432225903, reg_alpha=0.0 will be ignored. Current value: lambda_l1=0.002867838432225903\n"
     ]
    },
    {
     "name": "stderr",
     "output_type": "stream",
     "text": [
      "\u001b[32m[I 2023-01-15 21:28:08,966]\u001b[0m Trial 75 finished with value: 0.9234993614303959 and parameters: {'scalers': 'minmax', 'dim_red': None, 'lambda_l1': 0.002867838432225903, 'lambda_l2': 7.006175249479413e-06, 'num_leaves': 223, 'feature_fraction': 0.44451065527982636, 'bagging_fraction': 0.8183566172849182, 'bagging_freq': 4, 'min_child_samples': 63}. Best is trial 22 with value: 0.9237547892720307.\u001b[0m\n"
     ]
    },
    {
     "name": "stdout",
     "output_type": "stream",
     "text": [
      "[LightGBM] [Warning] feature_fraction is set=0.4009532285745649, colsample_bytree=1.0 will be ignored. Current value: feature_fraction=0.4009532285745649\n",
      "[LightGBM] [Warning] bagging_freq is set=4, subsample_freq=0 will be ignored. Current value: bagging_freq=4\n",
      "[LightGBM] [Warning] bagging_fraction is set=0.8298518864070569, subsample=1.0 will be ignored. Current value: bagging_fraction=0.8298518864070569\n",
      "[LightGBM] [Warning] lambda_l2 is set=5.350982139577096e-06, reg_lambda=0.0 will be ignored. Current value: lambda_l2=5.350982139577096e-06\n",
      "[LightGBM] [Warning] lambda_l1 is set=0.0013111177468408737, reg_alpha=0.0 will be ignored. Current value: lambda_l1=0.0013111177468408737\n"
     ]
    },
    {
     "name": "stderr",
     "output_type": "stream",
     "text": [
      "\u001b[32m[I 2023-01-15 21:29:09,570]\u001b[0m Trial 76 finished with value: 0.9196679438058748 and parameters: {'scalers': 'minmax', 'dim_red': None, 'lambda_l1': 0.0013111177468408737, 'lambda_l2': 5.350982139577096e-06, 'num_leaves': 249, 'feature_fraction': 0.4009532285745649, 'bagging_fraction': 0.8298518864070569, 'bagging_freq': 4, 'min_child_samples': 61}. Best is trial 22 with value: 0.9237547892720307.\u001b[0m\n"
     ]
    },
    {
     "name": "stdout",
     "output_type": "stream",
     "text": [
      "[LightGBM] [Warning] feature_fraction is set=0.441761343643132, colsample_bytree=1.0 will be ignored. Current value: feature_fraction=0.441761343643132\n",
      "[LightGBM] [Warning] bagging_freq is set=4, subsample_freq=0 will be ignored. Current value: bagging_freq=4\n",
      "[LightGBM] [Warning] bagging_fraction is set=0.8514850157034435, subsample=1.0 will be ignored. Current value: bagging_fraction=0.8514850157034435\n",
      "[LightGBM] [Warning] lambda_l2 is set=2.2662319324192706e-05, reg_lambda=0.0 will be ignored. Current value: lambda_l2=2.2662319324192706e-05\n",
      "[LightGBM] [Warning] lambda_l1 is set=0.00023863718956345677, reg_alpha=0.0 will be ignored. Current value: lambda_l1=0.00023863718956345677\n"
     ]
    },
    {
     "name": "stderr",
     "output_type": "stream",
     "text": [
      "\u001b[32m[I 2023-01-15 21:30:08,741]\u001b[0m Trial 77 finished with value: 0.918007662835249 and parameters: {'scalers': 'minmax', 'dim_red': None, 'lambda_l1': 0.00023863718956345677, 'lambda_l2': 2.2662319324192706e-05, 'num_leaves': 210, 'feature_fraction': 0.441761343643132, 'bagging_fraction': 0.8514850157034435, 'bagging_freq': 4, 'min_child_samples': 66}. Best is trial 22 with value: 0.9237547892720307.\u001b[0m\n"
     ]
    },
    {
     "name": "stdout",
     "output_type": "stream",
     "text": [
      "[LightGBM] [Warning] feature_fraction is set=0.422031122537543, colsample_bytree=1.0 will be ignored. Current value: feature_fraction=0.422031122537543\n",
      "[LightGBM] [Warning] bagging_freq is set=4, subsample_freq=0 will be ignored. Current value: bagging_freq=4\n",
      "[LightGBM] [Warning] bagging_fraction is set=0.9008782927002417, subsample=1.0 will be ignored. Current value: bagging_fraction=0.9008782927002417\n",
      "[LightGBM] [Warning] lambda_l2 is set=0.22933945599961467, reg_lambda=0.0 will be ignored. Current value: lambda_l2=0.22933945599961467\n",
      "[LightGBM] [Warning] lambda_l1 is set=0.014624837271593152, reg_alpha=0.0 will be ignored. Current value: lambda_l1=0.014624837271593152\n"
     ]
    },
    {
     "name": "stderr",
     "output_type": "stream",
     "text": [
      "\u001b[32m[I 2023-01-15 21:31:00,723]\u001b[0m Trial 78 finished with value: 0.9200510855683269 and parameters: {'scalers': 'minmax', 'dim_red': None, 'lambda_l1': 0.014624837271593152, 'lambda_l2': 0.22933945599961467, 'num_leaves': 219, 'feature_fraction': 0.422031122537543, 'bagging_fraction': 0.9008782927002417, 'bagging_freq': 4, 'min_child_samples': 63}. Best is trial 22 with value: 0.9237547892720307.\u001b[0m\n"
     ]
    },
    {
     "name": "stdout",
     "output_type": "stream",
     "text": [
      "[LightGBM] [Warning] feature_fraction is set=0.453602357871742, colsample_bytree=1.0 will be ignored. Current value: feature_fraction=0.453602357871742\n",
      "[LightGBM] [Warning] bagging_freq is set=4, subsample_freq=0 will be ignored. Current value: bagging_freq=4\n",
      "[LightGBM] [Warning] bagging_fraction is set=0.8173145839480372, subsample=1.0 will be ignored. Current value: bagging_fraction=0.8173145839480372\n",
      "[LightGBM] [Warning] lambda_l2 is set=2.214303146080994e-06, reg_lambda=0.0 will be ignored. Current value: lambda_l2=2.214303146080994e-06\n",
      "[LightGBM] [Warning] lambda_l1 is set=0.0006698619270920517, reg_alpha=0.0 will be ignored. Current value: lambda_l1=0.0006698619270920517\n"
     ]
    },
    {
     "name": "stderr",
     "output_type": "stream",
     "text": [
      "\u001b[32m[I 2023-01-15 21:31:52,280]\u001b[0m Trial 79 finished with value: 0.9200510855683269 and parameters: {'scalers': 'standard', 'dim_red': None, 'lambda_l1': 0.0006698619270920517, 'lambda_l2': 2.214303146080994e-06, 'num_leaves': 230, 'feature_fraction': 0.453602357871742, 'bagging_fraction': 0.8173145839480372, 'bagging_freq': 4, 'min_child_samples': 71}. Best is trial 22 with value: 0.9237547892720307.\u001b[0m\n"
     ]
    },
    {
     "name": "stdout",
     "output_type": "stream",
     "text": [
      "[LightGBM] [Warning] feature_fraction is set=0.5544082704096065, colsample_bytree=1.0 will be ignored. Current value: feature_fraction=0.5544082704096065\n",
      "[LightGBM] [Warning] bagging_freq is set=3, subsample_freq=0 will be ignored. Current value: bagging_freq=3\n",
      "[LightGBM] [Warning] bagging_fraction is set=0.7900370203263559, subsample=1.0 will be ignored. Current value: bagging_fraction=0.7900370203263559\n",
      "[LightGBM] [Warning] lambda_l2 is set=7.234265350282708e-05, reg_lambda=0.0 will be ignored. Current value: lambda_l2=7.234265350282708e-05\n",
      "[LightGBM] [Warning] lambda_l1 is set=0.001959987630058268, reg_alpha=0.0 will be ignored. Current value: lambda_l1=0.001959987630058268\n"
     ]
    },
    {
     "name": "stderr",
     "output_type": "stream",
     "text": [
      "\u001b[32m[I 2023-01-15 21:32:21,939]\u001b[0m Trial 80 finished with value: 0.9205619412515964 and parameters: {'scalers': 'minmax', 'dim_red': None, 'lambda_l1': 0.001959987630058268, 'lambda_l2': 7.234265350282708e-05, 'num_leaves': 185, 'feature_fraction': 0.5544082704096065, 'bagging_fraction': 0.7900370203263559, 'bagging_freq': 3, 'min_child_samples': 53}. Best is trial 22 with value: 0.9237547892720307.\u001b[0m\n"
     ]
    },
    {
     "name": "stdout",
     "output_type": "stream",
     "text": [
      "[LightGBM] [Warning] feature_fraction is set=0.4812125470489267, colsample_bytree=1.0 will be ignored. Current value: feature_fraction=0.4812125470489267\n",
      "[LightGBM] [Warning] bagging_freq is set=5, subsample_freq=0 will be ignored. Current value: bagging_freq=5\n",
      "[LightGBM] [Warning] bagging_fraction is set=0.8129837509244047, subsample=1.0 will be ignored. Current value: bagging_fraction=0.8129837509244047\n",
      "[LightGBM] [Warning] lambda_l2 is set=1.0032901804135192e-05, reg_lambda=0.0 will be ignored. Current value: lambda_l2=1.0032901804135192e-05\n",
      "[LightGBM] [Warning] lambda_l1 is set=0.03668661303745544, reg_alpha=0.0 will be ignored. Current value: lambda_l1=0.03668661303745544\n"
     ]
    },
    {
     "name": "stderr",
     "output_type": "stream",
     "text": [
      "\u001b[32m[I 2023-01-15 21:32:44,102]\u001b[0m Trial 81 finished with value: 0.9227330779054917 and parameters: {'scalers': 'minmax', 'dim_red': None, 'lambda_l1': 0.03668661303745544, 'lambda_l2': 1.0032901804135192e-05, 'num_leaves': 224, 'feature_fraction': 0.4812125470489267, 'bagging_fraction': 0.8129837509244047, 'bagging_freq': 5, 'min_child_samples': 75}. Best is trial 22 with value: 0.9237547892720307.\u001b[0m\n"
     ]
    },
    {
     "name": "stdout",
     "output_type": "stream",
     "text": [
      "[LightGBM] [Warning] feature_fraction is set=0.489709551595989, colsample_bytree=1.0 will be ignored. Current value: feature_fraction=0.489709551595989\n",
      "[LightGBM] [Warning] bagging_freq is set=5, subsample_freq=0 will be ignored. Current value: bagging_freq=5\n",
      "[LightGBM] [Warning] bagging_fraction is set=0.857046062426721, subsample=1.0 will be ignored. Current value: bagging_fraction=0.857046062426721\n",
      "[LightGBM] [Warning] lambda_l2 is set=1.1757334534516002e-05, reg_lambda=0.0 will be ignored. Current value: lambda_l2=1.1757334534516002e-05\n",
      "[LightGBM] [Warning] lambda_l1 is set=0.10171761970566982, reg_alpha=0.0 will be ignored. Current value: lambda_l1=0.10171761970566982\n"
     ]
    },
    {
     "name": "stderr",
     "output_type": "stream",
     "text": [
      "\u001b[32m[I 2023-01-15 21:33:04,317]\u001b[0m Trial 82 finished with value: 0.922477650063857 and parameters: {'scalers': 'minmax', 'dim_red': None, 'lambda_l1': 0.10171761970566982, 'lambda_l2': 1.1757334534516002e-05, 'num_leaves': 223, 'feature_fraction': 0.489709551595989, 'bagging_fraction': 0.857046062426721, 'bagging_freq': 5, 'min_child_samples': 79}. Best is trial 22 with value: 0.9237547892720307.\u001b[0m\n"
     ]
    },
    {
     "name": "stdout",
     "output_type": "stream",
     "text": [
      "[LightGBM] [Warning] feature_fraction is set=0.49042452010115106, colsample_bytree=1.0 will be ignored. Current value: feature_fraction=0.49042452010115106\n",
      "[LightGBM] [Warning] bagging_freq is set=5, subsample_freq=0 will be ignored. Current value: bagging_freq=5\n",
      "[LightGBM] [Warning] bagging_fraction is set=0.8584146826469677, subsample=1.0 will be ignored. Current value: bagging_fraction=0.8584146826469677\n",
      "[LightGBM] [Warning] lambda_l2 is set=3.3868591329723436e-05, reg_lambda=0.0 will be ignored. Current value: lambda_l2=3.3868591329723436e-05\n",
      "[LightGBM] [Warning] lambda_l1 is set=0.20752154938658027, reg_alpha=0.0 will be ignored. Current value: lambda_l1=0.20752154938658027\n"
     ]
    },
    {
     "name": "stderr",
     "output_type": "stream",
     "text": [
      "\u001b[32m[I 2023-01-15 21:33:22,896]\u001b[0m Trial 83 finished with value: 0.9220945083014048 and parameters: {'scalers': 'minmax', 'dim_red': None, 'lambda_l1': 0.20752154938658027, 'lambda_l2': 3.3868591329723436e-05, 'num_leaves': 225, 'feature_fraction': 0.49042452010115106, 'bagging_fraction': 0.8584146826469677, 'bagging_freq': 5, 'min_child_samples': 78}. Best is trial 22 with value: 0.9237547892720307.\u001b[0m\n"
     ]
    },
    {
     "name": "stdout",
     "output_type": "stream",
     "text": [
      "[LightGBM] [Warning] feature_fraction is set=0.43548070453350857, colsample_bytree=1.0 will be ignored. Current value: feature_fraction=0.43548070453350857\n",
      "[LightGBM] [Warning] bagging_freq is set=5, subsample_freq=0 will be ignored. Current value: bagging_freq=5\n",
      "[LightGBM] [Warning] bagging_fraction is set=0.9534799926971353, subsample=1.0 will be ignored. Current value: bagging_fraction=0.9534799926971353\n",
      "[LightGBM] [Warning] lambda_l2 is set=9.542985609104653e-07, reg_lambda=0.0 will be ignored. Current value: lambda_l2=9.542985609104653e-07\n",
      "[LightGBM] [Warning] lambda_l1 is set=0.06089951284879344, reg_alpha=0.0 will be ignored. Current value: lambda_l1=0.06089951284879344\n"
     ]
    },
    {
     "name": "stderr",
     "output_type": "stream",
     "text": [
      "\u001b[32m[I 2023-01-15 21:33:43,054]\u001b[0m Trial 84 finished with value: 0.9200510855683269 and parameters: {'scalers': 'minmax', 'dim_red': None, 'lambda_l1': 0.06089951284879344, 'lambda_l2': 9.542985609104653e-07, 'num_leaves': 241, 'feature_fraction': 0.43548070453350857, 'bagging_fraction': 0.9534799926971353, 'bagging_freq': 5, 'min_child_samples': 86}. Best is trial 22 with value: 0.9237547892720307.\u001b[0m\n"
     ]
    },
    {
     "name": "stdout",
     "output_type": "stream",
     "text": [
      "[LightGBM] [Warning] feature_fraction is set=0.5292478315110432, colsample_bytree=1.0 will be ignored. Current value: feature_fraction=0.5292478315110432\n",
      "[LightGBM] [Warning] bagging_freq is set=6, subsample_freq=0 will be ignored. Current value: bagging_freq=6\n",
      "[LightGBM] [Warning] bagging_fraction is set=0.8401474369561983, subsample=1.0 will be ignored. Current value: bagging_fraction=0.8401474369561983\n",
      "[LightGBM] [Warning] lambda_l2 is set=1.3346934776141906e-05, reg_lambda=0.0 will be ignored. Current value: lambda_l2=1.3346934776141906e-05\n",
      "[LightGBM] [Warning] lambda_l1 is set=0.1351202758946821, reg_alpha=0.0 will be ignored. Current value: lambda_l1=0.1351202758946821\n"
     ]
    },
    {
     "name": "stderr",
     "output_type": "stream",
     "text": [
      "\u001b[32m[I 2023-01-15 21:34:04,228]\u001b[0m Trial 85 finished with value: 0.9218390804597701 and parameters: {'scalers': 'minmax', 'dim_red': None, 'lambda_l1': 0.1351202758946821, 'lambda_l2': 1.3346934776141906e-05, 'num_leaves': 214, 'feature_fraction': 0.5292478315110432, 'bagging_fraction': 0.8401474369561983, 'bagging_freq': 6, 'min_child_samples': 75}. Best is trial 22 with value: 0.9237547892720307.\u001b[0m\n"
     ]
    },
    {
     "name": "stdout",
     "output_type": "stream",
     "text": [
      "[LightGBM] [Warning] feature_fraction is set=0.41373903930163325, colsample_bytree=1.0 will be ignored. Current value: feature_fraction=0.41373903930163325\n",
      "[LightGBM] [Warning] bagging_freq is set=4, subsample_freq=0 will be ignored. Current value: bagging_freq=4\n",
      "[LightGBM] [Warning] bagging_fraction is set=0.9180219928501338, subsample=1.0 will be ignored. Current value: bagging_fraction=0.9180219928501338\n",
      "[LightGBM] [Warning] lambda_l2 is set=0.00014593887527358126, reg_lambda=0.0 will be ignored. Current value: lambda_l2=0.00014593887527358126\n",
      "[LightGBM] [Warning] lambda_l1 is set=0.415624204484211, reg_alpha=0.0 will be ignored. Current value: lambda_l1=0.415624204484211\n"
     ]
    },
    {
     "name": "stderr",
     "output_type": "stream",
     "text": [
      "\u001b[32m[I 2023-01-15 21:34:20,533]\u001b[0m Trial 86 finished with value: 0.9195402298850575 and parameters: {'scalers': 'minmax', 'dim_red': None, 'lambda_l1': 0.415624204484211, 'lambda_l2': 0.00014593887527358126, 'num_leaves': 254, 'feature_fraction': 0.41373903930163325, 'bagging_fraction': 0.9180219928501338, 'bagging_freq': 4, 'min_child_samples': 90}. Best is trial 22 with value: 0.9237547892720307.\u001b[0m\n"
     ]
    },
    {
     "name": "stdout",
     "output_type": "stream",
     "text": [
      "[LightGBM] [Warning] feature_fraction is set=0.4638124011385356, colsample_bytree=1.0 will be ignored. Current value: feature_fraction=0.4638124011385356\n",
      "[LightGBM] [Warning] bagging_freq is set=6, subsample_freq=0 will be ignored. Current value: bagging_freq=6\n",
      "[LightGBM] [Warning] bagging_fraction is set=0.8759161994863565, subsample=1.0 will be ignored. Current value: bagging_fraction=0.8759161994863565\n",
      "[LightGBM] [Warning] lambda_l2 is set=3.567609857280124e-06, reg_lambda=0.0 will be ignored. Current value: lambda_l2=3.567609857280124e-06\n",
      "[LightGBM] [Warning] lambda_l1 is set=0.02947261960619408, reg_alpha=0.0 will be ignored. Current value: lambda_l1=0.02947261960619408\n"
     ]
    },
    {
     "name": "stderr",
     "output_type": "stream",
     "text": [
      "\u001b[32m[I 2023-01-15 21:34:28,154]\u001b[0m Trial 87 finished with value: 0.9065134099616858 and parameters: {'scalers': 'robust', 'dim_red': 'PCA', 'pca_n_components': 21, 'lambda_l1': 0.02947261960619408, 'lambda_l2': 3.567609857280124e-06, 'num_leaves': 196, 'feature_fraction': 0.4638124011385356, 'bagging_fraction': 0.8759161994863565, 'bagging_freq': 6, 'min_child_samples': 79}. Best is trial 22 with value: 0.9237547892720307.\u001b[0m\n"
     ]
    },
    {
     "name": "stdout",
     "output_type": "stream",
     "text": [
      "[LightGBM] [Warning] feature_fraction is set=0.48587043744430675, colsample_bytree=1.0 will be ignored. Current value: feature_fraction=0.48587043744430675\n",
      "[LightGBM] [Warning] bagging_freq is set=5, subsample_freq=0 will be ignored. Current value: bagging_freq=5\n",
      "[LightGBM] [Warning] bagging_fraction is set=0.8148838794591585, subsample=1.0 will be ignored. Current value: bagging_fraction=0.8148838794591585\n",
      "[LightGBM] [Warning] lambda_l2 is set=2.072021978376388e-07, reg_lambda=0.0 will be ignored. Current value: lambda_l2=2.072021978376388e-07\n",
      "[LightGBM] [Warning] lambda_l1 is set=0.056414684459129893, reg_alpha=0.0 will be ignored. Current value: lambda_l1=0.056414684459129893\n"
     ]
    },
    {
     "name": "stderr",
     "output_type": "stream",
     "text": [
      "\u001b[32m[I 2023-01-15 21:34:50,474]\u001b[0m Trial 88 finished with value: 0.9197956577266923 and parameters: {'scalers': 'minmax', 'dim_red': None, 'lambda_l1': 0.056414684459129893, 'lambda_l2': 2.072021978376388e-07, 'num_leaves': 221, 'feature_fraction': 0.48587043744430675, 'bagging_fraction': 0.8148838794591585, 'bagging_freq': 5, 'min_child_samples': 81}. Best is trial 22 with value: 0.9237547892720307.\u001b[0m\n"
     ]
    },
    {
     "name": "stdout",
     "output_type": "stream",
     "text": [
      "[LightGBM] [Warning] feature_fraction is set=0.5751505473379189, colsample_bytree=1.0 will be ignored. Current value: feature_fraction=0.5751505473379189\n",
      "[LightGBM] [Warning] bagging_freq is set=4, subsample_freq=0 will be ignored. Current value: bagging_freq=4\n",
      "[LightGBM] [Warning] bagging_fraction is set=0.9030593180381503, subsample=1.0 will be ignored. Current value: bagging_fraction=0.9030593180381503\n",
      "[LightGBM] [Warning] lambda_l2 is set=8.254250639453878e-08, reg_lambda=0.0 will be ignored. Current value: lambda_l2=8.254250639453878e-08\n",
      "[LightGBM] [Warning] lambda_l1 is set=0.010589527687385008, reg_alpha=0.0 will be ignored. Current value: lambda_l1=0.010589527687385008\n"
     ]
    },
    {
     "name": "stderr",
     "output_type": "stream",
     "text": [
      "\u001b[32m[I 2023-01-15 21:35:20,360]\u001b[0m Trial 89 finished with value: 0.9203065134099617 and parameters: {'scalers': 'minmax', 'dim_red': None, 'lambda_l1': 0.010589527687385008, 'lambda_l2': 8.254250639453878e-08, 'num_leaves': 204, 'feature_fraction': 0.5751505473379189, 'bagging_fraction': 0.9030593180381503, 'bagging_freq': 4, 'min_child_samples': 68}. Best is trial 22 with value: 0.9237547892720307.\u001b[0m\n"
     ]
    },
    {
     "name": "stdout",
     "output_type": "stream",
     "text": [
      "[LightGBM] [Warning] feature_fraction is set=0.44008750028774046, colsample_bytree=1.0 will be ignored. Current value: feature_fraction=0.44008750028774046\n",
      "[LightGBM] [Warning] bagging_freq is set=5, subsample_freq=0 will be ignored. Current value: bagging_freq=5\n",
      "[LightGBM] [Warning] bagging_fraction is set=0.9316341937750847, subsample=1.0 will be ignored. Current value: bagging_fraction=0.9316341937750847\n",
      "[LightGBM] [Warning] lambda_l2 is set=5.089134102585127e-07, reg_lambda=0.0 will be ignored. Current value: lambda_l2=5.089134102585127e-07\n",
      "[LightGBM] [Warning] lambda_l1 is set=0.4611761385326996, reg_alpha=0.0 will be ignored. Current value: lambda_l1=0.4611761385326996\n"
     ]
    },
    {
     "name": "stderr",
     "output_type": "stream",
     "text": [
      "\u001b[32m[I 2023-01-15 21:35:37,195]\u001b[0m Trial 90 finished with value: 0.9197956577266923 and parameters: {'scalers': 'minmax', 'dim_red': None, 'lambda_l1': 0.4611761385326996, 'lambda_l2': 5.089134102585127e-07, 'num_leaves': 231, 'feature_fraction': 0.44008750028774046, 'bagging_fraction': 0.9316341937750847, 'bagging_freq': 5, 'min_child_samples': 84}. Best is trial 22 with value: 0.9237547892720307.\u001b[0m\n"
     ]
    },
    {
     "name": "stdout",
     "output_type": "stream",
     "text": [
      "[LightGBM] [Warning] feature_fraction is set=0.49139553664471797, colsample_bytree=1.0 will be ignored. Current value: feature_fraction=0.49139553664471797\n",
      "[LightGBM] [Warning] bagging_freq is set=5, subsample_freq=0 will be ignored. Current value: bagging_freq=5\n",
      "[LightGBM] [Warning] bagging_fraction is set=0.856172925588612, subsample=1.0 will be ignored. Current value: bagging_fraction=0.856172925588612\n",
      "[LightGBM] [Warning] lambda_l2 is set=3.90783547638032e-05, reg_lambda=0.0 will be ignored. Current value: lambda_l2=3.90783547638032e-05\n",
      "[LightGBM] [Warning] lambda_l1 is set=0.12541153915161146, reg_alpha=0.0 will be ignored. Current value: lambda_l1=0.12541153915161146\n"
     ]
    },
    {
     "name": "stderr",
     "output_type": "stream",
     "text": [
      "\u001b[32m[I 2023-01-15 21:35:58,650]\u001b[0m Trial 91 finished with value: 0.9162196679438058 and parameters: {'scalers': 'minmax', 'dim_red': None, 'lambda_l1': 0.12541153915161146, 'lambda_l2': 3.90783547638032e-05, 'num_leaves': 222, 'feature_fraction': 0.49139553664471797, 'bagging_fraction': 0.856172925588612, 'bagging_freq': 5, 'min_child_samples': 77}. Best is trial 22 with value: 0.9237547892720307.\u001b[0m\n"
     ]
    },
    {
     "name": "stdout",
     "output_type": "stream",
     "text": [
      "[LightGBM] [Warning] feature_fraction is set=0.45373500306205117, colsample_bytree=1.0 will be ignored. Current value: feature_fraction=0.45373500306205117\n",
      "[LightGBM] [Warning] bagging_freq is set=5, subsample_freq=0 will be ignored. Current value: bagging_freq=5\n",
      "[LightGBM] [Warning] bagging_fraction is set=0.8602572260953507, subsample=1.0 will be ignored. Current value: bagging_fraction=0.8602572260953507\n",
      "[LightGBM] [Warning] lambda_l2 is set=9.126343331242512e-06, reg_lambda=0.0 will be ignored. Current value: lambda_l2=9.126343331242512e-06\n",
      "[LightGBM] [Warning] lambda_l1 is set=0.26809657796784664, reg_alpha=0.0 will be ignored. Current value: lambda_l1=0.26809657796784664\n"
     ]
    },
    {
     "name": "stderr",
     "output_type": "stream",
     "text": [
      "\u001b[32m[I 2023-01-15 21:36:21,795]\u001b[0m Trial 92 finished with value: 0.9218390804597701 and parameters: {'scalers': 'minmax', 'dim_red': None, 'lambda_l1': 0.26809657796784664, 'lambda_l2': 9.126343331242512e-06, 'num_leaves': 214, 'feature_fraction': 0.45373500306205117, 'bagging_fraction': 0.8602572260953507, 'bagging_freq': 5, 'min_child_samples': 73}. Best is trial 22 with value: 0.9237547892720307.\u001b[0m\n"
     ]
    },
    {
     "name": "stdout",
     "output_type": "stream",
     "text": [
      "[LightGBM] [Warning] feature_fraction is set=0.5073972787074102, colsample_bytree=1.0 will be ignored. Current value: feature_fraction=0.5073972787074102\n",
      "[LightGBM] [Warning] bagging_freq is set=5, subsample_freq=0 will be ignored. Current value: bagging_freq=5\n",
      "[LightGBM] [Warning] bagging_fraction is set=0.8441093300825896, subsample=1.0 will be ignored. Current value: bagging_fraction=0.8441093300825896\n",
      "[LightGBM] [Warning] lambda_l2 is set=3.3944971798360295e-05, reg_lambda=0.0 will be ignored. Current value: lambda_l2=3.3944971798360295e-05\n",
      "[LightGBM] [Warning] lambda_l1 is set=0.0001651534583522234, reg_alpha=0.0 will be ignored. Current value: lambda_l1=0.0001651534583522234\n"
     ]
    },
    {
     "name": "stderr",
     "output_type": "stream",
     "text": [
      "\u001b[32m[I 2023-01-15 21:36:45,521]\u001b[0m Trial 93 finished with value: 0.921455938697318 and parameters: {'scalers': 'minmax', 'dim_red': None, 'lambda_l1': 0.0001651534583522234, 'lambda_l2': 3.3944971798360295e-05, 'num_leaves': 246, 'feature_fraction': 0.5073972787074102, 'bagging_fraction': 0.8441093300825896, 'bagging_freq': 5, 'min_child_samples': 87}. Best is trial 22 with value: 0.9237547892720307.\u001b[0m\n"
     ]
    },
    {
     "name": "stdout",
     "output_type": "stream",
     "text": [
      "[LightGBM] [Warning] feature_fraction is set=0.5535179436341635, colsample_bytree=1.0 will be ignored. Current value: feature_fraction=0.5535179436341635\n",
      "[LightGBM] [Warning] bagging_freq is set=4, subsample_freq=0 will be ignored. Current value: bagging_freq=4\n",
      "[LightGBM] [Warning] bagging_fraction is set=0.8007504983675856, subsample=1.0 will be ignored. Current value: bagging_fraction=0.8007504983675856\n",
      "[LightGBM] [Warning] lambda_l2 is set=0.0008897553282015149, reg_lambda=0.0 will be ignored. Current value: lambda_l2=0.0008897553282015149\n",
      "[LightGBM] [Warning] lambda_l1 is set=0.0032091118799620548, reg_alpha=0.0 will be ignored. Current value: lambda_l1=0.0032091118799620548\n"
     ]
    },
    {
     "name": "stderr",
     "output_type": "stream",
     "text": [
      "\u001b[32m[I 2023-01-15 21:37:26,794]\u001b[0m Trial 94 finished with value: 0.9172413793103448 and parameters: {'scalers': 'minmax', 'dim_red': None, 'lambda_l1': 0.0032091118799620548, 'lambda_l2': 0.0008897553282015149, 'num_leaves': 209, 'feature_fraction': 0.5535179436341635, 'bagging_fraction': 0.8007504983675856, 'bagging_freq': 4, 'min_child_samples': 36}. Best is trial 22 with value: 0.9237547892720307.\u001b[0m\n"
     ]
    },
    {
     "name": "stdout",
     "output_type": "stream",
     "text": [
      "[LightGBM] [Warning] feature_fraction is set=0.527847972060653, colsample_bytree=1.0 will be ignored. Current value: feature_fraction=0.527847972060653\n",
      "[LightGBM] [Warning] bagging_freq is set=4, subsample_freq=0 will be ignored. Current value: bagging_freq=4\n",
      "[LightGBM] [Warning] bagging_fraction is set=0.8177621187385096, subsample=1.0 will be ignored. Current value: bagging_fraction=0.8177621187385096\n",
      "[LightGBM] [Warning] lambda_l2 is set=5.027651227379027e-06, reg_lambda=0.0 will be ignored. Current value: lambda_l2=5.027651227379027e-06\n",
      "[LightGBM] [Warning] lambda_l1 is set=0.000459811214009049, reg_alpha=0.0 will be ignored. Current value: lambda_l1=0.000459811214009049\n"
     ]
    },
    {
     "name": "stderr",
     "output_type": "stream",
     "text": [
      "\u001b[32m[I 2023-01-15 21:38:01,615]\u001b[0m Trial 95 finished with value: 0.9217113665389527 and parameters: {'scalers': 'minmax', 'dim_red': None, 'lambda_l1': 0.000459811214009049, 'lambda_l2': 5.027651227379027e-06, 'num_leaves': 190, 'feature_fraction': 0.527847972060653, 'bagging_fraction': 0.8177621187385096, 'bagging_freq': 4, 'min_child_samples': 47}. Best is trial 22 with value: 0.9237547892720307.\u001b[0m\n"
     ]
    },
    {
     "name": "stdout",
     "output_type": "stream",
     "text": [
      "[LightGBM] [Warning] feature_fraction is set=0.47580511700470984, colsample_bytree=1.0 will be ignored. Current value: feature_fraction=0.47580511700470984\n",
      "[LightGBM] [Warning] bagging_freq is set=5, subsample_freq=0 will be ignored. Current value: bagging_freq=5\n",
      "[LightGBM] [Warning] bagging_fraction is set=0.7804987077256533, subsample=1.0 will be ignored. Current value: bagging_fraction=0.7804987077256533\n",
      "[LightGBM] [Warning] lambda_l2 is set=0.002208596626550188, reg_lambda=0.0 will be ignored. Current value: lambda_l2=0.002208596626550188\n",
      "[LightGBM] [Warning] lambda_l1 is set=0.006310563027367609, reg_alpha=0.0 will be ignored. Current value: lambda_l1=0.006310563027367609\n"
     ]
    },
    {
     "name": "stderr",
     "output_type": "stream",
     "text": [
      "\u001b[32m[I 2023-01-15 21:38:29,208]\u001b[0m Trial 96 finished with value: 0.921455938697318 and parameters: {'scalers': 'minmax', 'dim_red': None, 'lambda_l1': 0.006310563027367609, 'lambda_l2': 0.002208596626550188, 'num_leaves': 198, 'feature_fraction': 0.47580511700470984, 'bagging_fraction': 0.7804987077256533, 'bagging_freq': 5, 'min_child_samples': 58}. Best is trial 22 with value: 0.9237547892720307.\u001b[0m\n"
     ]
    },
    {
     "name": "stdout",
     "output_type": "stream",
     "text": [
      "[LightGBM] [Warning] feature_fraction is set=0.7227910016315602, colsample_bytree=1.0 will be ignored. Current value: feature_fraction=0.7227910016315602\n",
      "[LightGBM] [Warning] bagging_freq is set=6, subsample_freq=0 will be ignored. Current value: bagging_freq=6\n",
      "[LightGBM] [Warning] bagging_fraction is set=0.8334163423715529, subsample=1.0 will be ignored. Current value: bagging_fraction=0.8334163423715529\n",
      "[LightGBM] [Warning] lambda_l2 is set=0.0002799534434243792, reg_lambda=0.0 will be ignored. Current value: lambda_l2=0.0002799534434243792\n",
      "[LightGBM] [Warning] lambda_l1 is set=0.0017639743458308535, reg_alpha=0.0 will be ignored. Current value: lambda_l1=0.0017639743458308535\n"
     ]
    },
    {
     "name": "stderr",
     "output_type": "stream",
     "text": [
      "\u001b[32m[I 2023-01-15 21:39:03,828]\u001b[0m Trial 97 finished with value: 0.9199233716475096 and parameters: {'scalers': 'minmax', 'dim_red': None, 'lambda_l1': 0.0017639743458308535, 'lambda_l2': 0.0002799534434243792, 'num_leaves': 235, 'feature_fraction': 0.7227910016315602, 'bagging_fraction': 0.8334163423715529, 'bagging_freq': 6, 'min_child_samples': 44}. Best is trial 22 with value: 0.9237547892720307.\u001b[0m\n"
     ]
    },
    {
     "name": "stdout",
     "output_type": "stream",
     "text": [
      "[LightGBM] [Warning] feature_fraction is set=0.4182607263560122, colsample_bytree=1.0 will be ignored. Current value: feature_fraction=0.4182607263560122\n",
      "[LightGBM] [Warning] bagging_freq is set=5, subsample_freq=0 will be ignored. Current value: bagging_freq=5\n",
      "[LightGBM] [Warning] bagging_fraction is set=0.5305690489259786, subsample=1.0 will be ignored. Current value: bagging_fraction=0.5305690489259786\n",
      "[LightGBM] [Warning] lambda_l2 is set=2.3675694982839353e-06, reg_lambda=0.0 will be ignored. Current value: lambda_l2=2.3675694982839353e-06\n",
      "[LightGBM] [Warning] lambda_l1 is set=0.005591040003335025, reg_alpha=0.0 will be ignored. Current value: lambda_l1=0.005591040003335025\n"
     ]
    },
    {
     "name": "stderr",
     "output_type": "stream",
     "text": [
      "\u001b[32m[I 2023-01-15 21:39:16,460]\u001b[0m Trial 98 finished with value: 0.919029374201788 and parameters: {'scalers': 'minmax', 'dim_red': None, 'lambda_l1': 0.005591040003335025, 'lambda_l2': 2.3675694982839353e-06, 'num_leaves': 180, 'feature_fraction': 0.4182607263560122, 'bagging_fraction': 0.5305690489259786, 'bagging_freq': 5, 'min_child_samples': 93}. Best is trial 22 with value: 0.9237547892720307.\u001b[0m\n"
     ]
    },
    {
     "name": "stdout",
     "output_type": "stream",
     "text": [
      "[LightGBM] [Warning] feature_fraction is set=0.489227452772339, colsample_bytree=1.0 will be ignored. Current value: feature_fraction=0.489227452772339\n",
      "[LightGBM] [Warning] bagging_freq is set=4, subsample_freq=0 will be ignored. Current value: bagging_freq=4\n",
      "[LightGBM] [Warning] bagging_fraction is set=0.8640336939945442, subsample=1.0 will be ignored. Current value: bagging_fraction=0.8640336939945442\n",
      "[LightGBM] [Warning] lambda_l2 is set=5.383122934037259e-05, reg_lambda=0.0 will be ignored. Current value: lambda_l2=5.383122934037259e-05\n",
      "[LightGBM] [Warning] lambda_l1 is set=1.2325605370929231, reg_alpha=0.0 will be ignored. Current value: lambda_l1=1.2325605370929231\n"
     ]
    },
    {
     "name": "stderr",
     "output_type": "stream",
     "text": [
      "\u001b[32m[I 2023-01-15 21:39:30,268]\u001b[0m Trial 99 finished with value: 0.9197956577266923 and parameters: {'scalers': 'standard', 'dim_red': None, 'lambda_l1': 1.2325605370929231, 'lambda_l2': 5.383122934037259e-05, 'num_leaves': 227, 'feature_fraction': 0.489227452772339, 'bagging_fraction': 0.8640336939945442, 'bagging_freq': 4, 'min_child_samples': 79}. Best is trial 22 with value: 0.9237547892720307.\u001b[0m\n"
     ]
    }
   ],
   "source": [
    "study.optimize(objective, n_trials=100)"
   ]
  },
  {
   "cell_type": "code",
   "execution_count": null,
   "metadata": {
    "cell_id": "336f7cb70151470aa5ed30ee454dcb9c",
    "deepnote_cell_type": "code",
    "deepnote_to_be_reexecuted": true,
    "execution_millis": 5,
    "execution_start": 1673281002975,
    "source_hash": "6f6e107e",
    "tags": []
   },
   "outputs": [
    {
     "name": "stdout",
     "output_type": "stream",
     "text": [
      "Number of finished trials: 100\n",
      "Best trial:\n",
      "  Value: 0.9237547892720307\n",
      "  Params: \n",
      "    bagging_fraction: 0.8705080567422835\n",
      "    bagging_freq: 4\n",
      "    dim_red: None\n",
      "    feature_fraction: 0.5816499405911423\n",
      "    lambda_l1: 1.813533924696711e-07\n",
      "    lambda_l2: 1.2257456317807677e-06\n",
      "    min_child_samples: 85\n",
      "    num_leaves: 201\n",
      "    scalers: minmax\n"
     ]
    }
   ],
   "source": [
    "def print_res(input_study):\n",
    "    print('Number of finished trials: {}'.format(len(input_study.trials)))\n",
    "    print('Best trial:')\n",
    "    trial = input_study.best_trial\n",
    "\n",
    "    print('  Value: {}'.format(trial.value))\n",
    "    print('  Params: ')\n",
    "\n",
    "    for key, value in trial.params.items():\n",
    "        print('    {}: {}'.format(key, value))\n",
    "\n",
    "print_res(study)"
   ]
  },
  {
   "cell_type": "code",
   "execution_count": null,
   "metadata": {},
   "outputs": [],
   "source": [
    "# Save the model to a pickle file\n",
    "with open(\"./model_result/lgm_tuned.pkl\", \"wb\") as f:\n",
    "    pkl.dump(study.best_trial, f)"
   ]
  },
  {
   "cell_type": "code",
   "execution_count": null,
   "metadata": {},
   "outputs": [],
   "source": [
    "def get_params(input_study) :\n",
    "    params = {k: v for k, v in input_study.best_params.items() if k not in ('dim_red', 'scalers')}\n",
    "    change = []\n",
    "    for k,v in dict(params).items():\n",
    "        tmp_name = k\n",
    "        if 'lgbm' not in tmp_name :\n",
    "            res = f\"lgbm__{tmp_name}\"\n",
    "            params[res] = params.pop(tmp_name)\n",
    "            change.append(res)\n",
    "    return params\n",
    "\n",
    "params = get_params(study)"
   ]
  },
  {
   "cell_type": "code",
   "execution_count": null,
   "metadata": {},
   "outputs": [
    {
     "data": {
      "text/plain": [
       "{'lgbm__bagging_fraction': 0.8705080567422835,\n",
       " 'lgbm__bagging_freq': 4,\n",
       " 'lgbm__feature_fraction': 0.5816499405911423,\n",
       " 'lgbm__lambda_l1': 1.813533924696711e-07,\n",
       " 'lgbm__lambda_l2': 1.2257456317807677e-06,\n",
       " 'lgbm__min_child_samples': 85,\n",
       " 'lgbm__num_leaves': 201}"
      ]
     },
     "execution_count": 29,
     "metadata": {},
     "output_type": "execute_result"
    }
   ],
   "source": [
    "params"
   ]
  },
  {
   "cell_type": "code",
   "execution_count": null,
   "metadata": {},
   "outputs": [
    {
     "data": {
      "text/plain": [
       "Pipeline(steps=[('scaler', MinMaxScaler()),\n",
       "                ('lgbm',\n",
       "                 LGBMClassifier(bagging_fraction=0.8705080567422835,\n",
       "                                bagging_freq=4,\n",
       "                                feature_fraction=0.5816499405911423,\n",
       "                                lambda_l1=1.813533924696711e-07,\n",
       "                                lambda_l2=1.2257456317807677e-06,\n",
       "                                min_child_samples=85, num_leaves=201))])"
      ]
     },
     "execution_count": 30,
     "metadata": {},
     "output_type": "execute_result"
    }
   ],
   "source": [
    "# Retrain the model with the parameter\n",
    "pipeline = Pipeline([\n",
    "    (\"scaler\", MinMaxScaler()),\n",
    "    (\"lgbm\", LGBMClassifier(n_jobs=-1))\n",
    "])\n",
    "\n",
    "pipeline.set_params(**params)\n"
   ]
  },
  {
   "cell_type": "code",
   "execution_count": 32,
   "metadata": {},
   "outputs": [
    {
     "name": "stdout",
     "output_type": "stream",
     "text": [
      "[LightGBM] [Warning] bagging_fraction is set=0.8705080567422835, subsample=1.0 will be ignored. Current value: bagging_fraction=0.8705080567422835\n",
      "[LightGBM] [Warning] feature_fraction is set=0.5816499405911423, colsample_bytree=1.0 will be ignored. Current value: feature_fraction=0.5816499405911423\n",
      "[LightGBM] [Warning] bagging_freq is set=4, subsample_freq=0 will be ignored. Current value: bagging_freq=4\n",
      "[LightGBM] [Warning] lambda_l2 is set=1.2257456317807677e-06, reg_lambda=0.0 will be ignored. Current value: lambda_l2=1.2257456317807677e-06\n",
      "[LightGBM] [Warning] lambda_l1 is set=1.813533924696711e-07, reg_alpha=0.0 will be ignored. Current value: lambda_l1=1.813533924696711e-07\n",
      "Model accuracy for train set: 1.000\n",
      "Model accuracy for test set: 0.924\n",
      "\n",
      "              precision    recall  f1-score   support\n",
      "\n",
      "           0       0.93      0.91      0.92      3915\n",
      "           1       0.91      0.94      0.92      3915\n",
      "\n",
      "    accuracy                           0.92      7830\n",
      "   macro avg       0.92      0.92      0.92      7830\n",
      "weighted avg       0.92      0.92      0.92      7830\n",
      "\n",
      "\n",
      "Confusion Matrix:\n",
      " [[3566  349]\n",
      " [ 248 3667]]\n",
      "\n",
      "Accuracy Score:  0.924\n"
     ]
    },
    {
     "data": {
      "image/png": "[encoded data removed]",
      "text/plain": [
       "<Figure size 640x480 with 2 Axes>"
      ]
     },
     "metadata": {},
     "output_type": "display_data"
    },
    {
     "data": {
      "image/png": "[encoded data removed]",
      "text/plain": [
       "<Figure size 1700x600 with 1 Axes>"
      ]
     },
     "metadata": {},
     "output_type": "display_data"
    }
   ],
   "source": [
    "res = train_and_plot(pipeline, X_train = X_train_1, y_train = y_train_1, X_test = X_test_1, y_test = y_test_1)"
   ]
  },
  {
   "cell_type": "markdown",
   "metadata": {
    "cell_id": "c0d741c0e8b74e7faa470a4f610bfc45",
    "deepnote_cell_type": "markdown",
    "tags": []
   },
   "source": [
    "## Task 2"
   ]
  },
  {
   "cell_type": "code",
   "execution_count": 33,
   "metadata": {},
   "outputs": [
    {
     "name": "stdout",
     "output_type": "stream",
     "text": [
      "(11376, 2187)\n",
      "(11376,)\n",
      "(4876, 2187)\n",
      "(4876,)\n"
     ]
    }
   ],
   "source": [
    "X_train_task2, X_test_task2, y_train_task2, y_test_task2 = set_gen(task2, key = 'celltype')\n",
    "print(X_train_task2.shape)\n",
    "print(y_train_task2.shape)\n",
    "print(X_test_task2.shape)\n",
    "print(y_test_task2.shape)"
   ]
  },
  {
   "cell_type": "code",
   "execution_count": 34,
   "metadata": {},
   "outputs": [
    {
     "name": "stdout",
     "output_type": "stream",
     "text": [
      "[LightGBM] [Warning] Unknown parameter: use_label_encoder\n",
      "Model accuracy for train set: 1.000\n",
      "Model accuracy for test set: 0.904\n",
      "\n",
      "              precision    recall  f1-score   support\n",
      "\n",
      "           0       0.90      0.95      0.93      1219\n",
      "           1       0.87      0.88      0.87      1219\n",
      "           2       0.92      0.87      0.90      1219\n",
      "           3       0.93      0.91      0.92      1219\n",
      "\n",
      "    accuracy                           0.90      4876\n",
      "   macro avg       0.90      0.90      0.90      4876\n",
      "weighted avg       0.90      0.90      0.90      4876\n",
      "\n",
      "\n",
      "Confusion Matrix:\n",
      " [[1162   26   23    8]\n",
      " [  37 1072   56   54]\n",
      " [  55   81 1066   17]\n",
      " [  37   57   17 1108]]\n",
      "\n",
      "Accuracy Score:  0.904\n"
     ]
    },
    {
     "data": {
      "image/png": "[encoded data removed]",
      "text/plain": [
       "<Figure size 640x480 with 2 Axes>"
      ]
     },
     "metadata": {},
     "output_type": "display_data"
    },
    {
     "data": {
      "image/png": "[encoded data removed]",
      "text/plain": [
       "<Figure size 1700x600 with 1 Axes>"
      ]
     },
     "metadata": {},
     "output_type": "display_data"
    }
   ],
   "source": [
    "lgbm_clf = LGBMClassifier(random_state=42, use_label_encoder=False, n_jobs=-1)\n",
    "lgbm_vanilla_task2 = train_and_plot(lgbm_clf, X_train_task2, y_train_task2, X_test_task2, y_test_task2)"
   ]
  },
  {
   "attachments": {},
   "cell_type": "markdown",
   "metadata": {},
   "source": [
    "## Tuned LightGBM model"
   ]
  },
  {
   "cell_type": "code",
   "execution_count": 41,
   "metadata": {},
   "outputs": [
    {
     "name": "stderr",
     "output_type": "stream",
     "text": [
      "\u001b[32m[I 2023-01-15 21:52:21,114]\u001b[0m A new study created in RDB with name: task2_lgbmtuned_100_trail\u001b[0m\n"
     ]
    }
   ],
   "source": [
    "def objective(trial):\n",
    "    \n",
    "    scalers = trial.suggest_categorical(\"scalers\", ['minmax', 'standard', 'robust'])\n",
    "#Get minmax scaller\n",
    "\n",
    "    # (b) Define your scalers\n",
    "    if scalers == \"minmax\":\n",
    "        scaler = MinMaxScaler()\n",
    "    elif scalers == \"standard\":\n",
    "        scaler = StandardScaler()\n",
    "    else:\n",
    "        scaler = RobustScaler()\n",
    "    \n",
    "    # -- Instantiate dimensionality reduction\n",
    "     # (a) List all dimensionality reduction options\n",
    "    dim_red = trial.suggest_categorical(\"dim_red\", [\"PCA\", None])\n",
    "\n",
    "    # (b) Define the PCA algorithm and its hyperparameters\n",
    "    if dim_red == \"PCA\":\n",
    "        pca_n_components=trial.suggest_int(\"pca_n_components\", 2, 40) # suggest an integer from 2 to 30\n",
    "        dimen_red_algorithm=PCA(n_components=pca_n_components)\n",
    "    # (c) No dimensionality reduction option\n",
    "    else:\n",
    "        dimen_red_algorithm='passthrough'\n",
    "    \n",
    "    pipeline = Pipeline([\n",
    "        (\"scaler\", scaler),\n",
    "        (\"dim_red\", dimen_red_algorithm),\n",
    "        #Can change if gpu support is implementted\n",
    "        (\"lgbm\", LGBMClassifier(n_jobs=-1))\n",
    "    ])\n",
    "    \n",
    "        \n",
    "    \"\"\"Define the objective function\"\"\"\n",
    "   \n",
    "    params = {\n",
    "        \"lgbm__objective\": \"multiclass\",\n",
    "        \"lgbm__metric\": \"multi_logloss\",\n",
    "        \"lgbm__verbosity\": -1,\n",
    "        \"lgbm__boosting_type\": \"gbdt\",\n",
    "        \"lgbm__lambda_l1\": trial.suggest_float(\"lambda_l1\", 1e-8, 10.0, log=True),\n",
    "        \"lgbm__lambda_l2\": trial.suggest_float(\"lambda_l2\", 1e-8, 10.0, log=True),\n",
    "        \"lgbm__num_leaves\": trial.suggest_int(\"num_leaves\", 2, 256),\n",
    "        \"lgbm__feature_fraction\": trial.suggest_float(\"feature_fraction\", 0.4, 1.0),\n",
    "        \"lgbm__bagging_fraction\": trial.suggest_float(\"bagging_fraction\", 0.4, 1.0),\n",
    "        \"lgbm__bagging_freq\": trial.suggest_int(\"bagging_freq\", 1, 7),\n",
    "        \"lgbm__min_child_samples\": trial.suggest_int(\"min_child_samples\", 5, 100),\n",
    "    }\n",
    "\n",
    "    # Fit the model\n",
    "    model = pipeline.set_params(**params)\n",
    "    model.fit(X_train_task2, y_train_task2)\n",
    "\n",
    "    # Make predictions\n",
    "    y_pred = model.predict(X_test_task2)\n",
    "\n",
    "    # Evaluate predictions\n",
    "    accuracy = accuracy_score(y_test_task2, y_pred)\n",
    "    return accuracy\n",
    "\n",
    "study2 = optuna.create_study(direction='maximize',\n",
    "                            storage=\"sqlite:///db.sqlite3\",  # Specify the storage URL here.\n",
    "                            study_name=\"task2_lgbmtuned_100_trail\")"
   ]
  },
  {
   "cell_type": "code",
   "execution_count": 42,
   "metadata": {},
   "outputs": [
    {
     "name": "stderr",
     "output_type": "stream",
     "text": [
      "\u001b[32m[I 2023-01-15 21:52:36,526]\u001b[0m Trial 0 finished with value: 0.8461853978671042 and parameters: {'scalers': 'robust', 'dim_red': 'PCA', 'pca_n_components': 9, 'lambda_l1': 1.570124669410769, 'lambda_l2': 0.004551421603578827, 'num_leaves': 126, 'feature_fraction': 0.9122140936110243, 'bagging_fraction': 0.5832522904107804, 'bagging_freq': 2, 'min_child_samples': 57}. Best is trial 0 with value: 0.8461853978671042.\u001b[0m\n"
     ]
    },
    {
     "name": "stdout",
     "output_type": "stream",
     "text": [
      "[LightGBM] [Warning] feature_fraction is set=0.7571900091764754, colsample_bytree=1.0 will be ignored. Current value: feature_fraction=0.7571900091764754\n",
      "[LightGBM] [Warning] lambda_l1 is set=0.08320426910179253, reg_alpha=0.0 will be ignored. Current value: lambda_l1=0.08320426910179253\n",
      "[LightGBM] [Warning] bagging_fraction is set=0.8689108885499148, subsample=1.0 will be ignored. Current value: bagging_fraction=0.8689108885499148\n",
      "[LightGBM] [Warning] lambda_l2 is set=0.00012833622766525094, reg_lambda=0.0 will be ignored. Current value: lambda_l2=0.00012833622766525094\n",
      "[LightGBM] [Warning] bagging_freq is set=6, subsample_freq=0 will be ignored. Current value: bagging_freq=6\n"
     ]
    },
    {
     "name": "stderr",
     "output_type": "stream",
     "text": [
      "\u001b[32m[I 2023-01-15 21:54:18,887]\u001b[0m Trial 1 finished with value: 0.9126333059885152 and parameters: {'scalers': 'standard', 'dim_red': None, 'lambda_l1': 0.08320426910179253, 'lambda_l2': 0.00012833622766525094, 'num_leaves': 176, 'feature_fraction': 0.7571900091764754, 'bagging_fraction': 0.8689108885499148, 'bagging_freq': 6, 'min_child_samples': 40}. Best is trial 1 with value: 0.9126333059885152.\u001b[0m\n"
     ]
    },
    {
     "name": "stdout",
     "output_type": "stream",
     "text": [
      "[LightGBM] [Warning] feature_fraction is set=0.5900861628469907, colsample_bytree=1.0 will be ignored. Current value: feature_fraction=0.5900861628469907\n",
      "[LightGBM] [Warning] lambda_l1 is set=0.003887663081621913, reg_alpha=0.0 will be ignored. Current value: lambda_l1=0.003887663081621913\n",
      "[LightGBM] [Warning] bagging_fraction is set=0.7959771040820451, subsample=1.0 will be ignored. Current value: bagging_fraction=0.7959771040820451\n",
      "[LightGBM] [Warning] lambda_l2 is set=1.1867977264479956e-07, reg_lambda=0.0 will be ignored. Current value: lambda_l2=1.1867977264479956e-07\n",
      "[LightGBM] [Warning] bagging_freq is set=4, subsample_freq=0 will be ignored. Current value: bagging_freq=4\n"
     ]
    },
    {
     "name": "stderr",
     "output_type": "stream",
     "text": [
      "\u001b[32m[I 2023-01-15 21:55:10,911]\u001b[0m Trial 2 finished with value: 0.9044298605414274 and parameters: {'scalers': 'robust', 'dim_red': 'PCA', 'pca_n_components': 29, 'lambda_l1': 0.003887663081621913, 'lambda_l2': 1.1867977264479956e-07, 'num_leaves': 164, 'feature_fraction': 0.5900861628469907, 'bagging_fraction': 0.7959771040820451, 'bagging_freq': 4, 'min_child_samples': 7}. Best is trial 1 with value: 0.9126333059885152.\u001b[0m\n"
     ]
    },
    {
     "name": "stdout",
     "output_type": "stream",
     "text": [
      "[LightGBM] [Warning] feature_fraction is set=0.7827265412261417, colsample_bytree=1.0 will be ignored. Current value: feature_fraction=0.7827265412261417\n",
      "[LightGBM] [Warning] lambda_l1 is set=5.288352990608522e-08, reg_alpha=0.0 will be ignored. Current value: lambda_l1=5.288352990608522e-08\n",
      "[LightGBM] [Warning] bagging_fraction is set=0.6128160159817398, subsample=1.0 will be ignored. Current value: bagging_fraction=0.6128160159817398\n",
      "[LightGBM] [Warning] lambda_l2 is set=2.1411400331627815e-05, reg_lambda=0.0 will be ignored. Current value: lambda_l2=2.1411400331627815e-05\n",
      "[LightGBM] [Warning] bagging_freq is set=6, subsample_freq=0 will be ignored. Current value: bagging_freq=6\n"
     ]
    },
    {
     "name": "stderr",
     "output_type": "stream",
     "text": [
      "\u001b[32m[I 2023-01-15 21:55:32,685]\u001b[0m Trial 3 finished with value: 0.9013535684987695 and parameters: {'scalers': 'minmax', 'dim_red': 'PCA', 'pca_n_components': 29, 'lambda_l1': 5.288352990608522e-08, 'lambda_l2': 2.1411400331627815e-05, 'num_leaves': 178, 'feature_fraction': 0.7827265412261417, 'bagging_fraction': 0.6128160159817398, 'bagging_freq': 6, 'min_child_samples': 47}. Best is trial 1 with value: 0.9126333059885152.\u001b[0m\n"
     ]
    },
    {
     "name": "stdout",
     "output_type": "stream",
     "text": [
      "[LightGBM] [Warning] feature_fraction is set=0.9240371776525124, colsample_bytree=1.0 will be ignored. Current value: feature_fraction=0.9240371776525124\n",
      "[LightGBM] [Warning] lambda_l1 is set=1.403430512128382e-07, reg_alpha=0.0 will be ignored. Current value: lambda_l1=1.403430512128382e-07\n",
      "[LightGBM] [Warning] bagging_fraction is set=0.48387074206795677, subsample=1.0 will be ignored. Current value: bagging_fraction=0.48387074206795677\n",
      "[LightGBM] [Warning] lambda_l2 is set=5.916128164961609e-08, reg_lambda=0.0 will be ignored. Current value: lambda_l2=5.916128164961609e-08\n",
      "[LightGBM] [Warning] bagging_freq is set=7, subsample_freq=0 will be ignored. Current value: bagging_freq=7\n"
     ]
    },
    {
     "name": "stderr",
     "output_type": "stream",
     "text": [
      "\u001b[32m[I 2023-01-15 21:55:42,048]\u001b[0m Trial 4 finished with value: 0.8619770303527482 and parameters: {'scalers': 'standard', 'dim_red': 'PCA', 'pca_n_components': 23, 'lambda_l1': 1.403430512128382e-07, 'lambda_l2': 5.916128164961609e-08, 'num_leaves': 100, 'feature_fraction': 0.9240371776525124, 'bagging_fraction': 0.48387074206795677, 'bagging_freq': 7, 'min_child_samples': 93}. Best is trial 1 with value: 0.9126333059885152.\u001b[0m\n"
     ]
    },
    {
     "name": "stdout",
     "output_type": "stream",
     "text": [
      "[LightGBM] [Warning] feature_fraction is set=0.5909795591799333, colsample_bytree=1.0 will be ignored. Current value: feature_fraction=0.5909795591799333\n",
      "[LightGBM] [Warning] lambda_l1 is set=0.3710376252098996, reg_alpha=0.0 will be ignored. Current value: lambda_l1=0.3710376252098996\n",
      "[LightGBM] [Warning] bagging_fraction is set=0.49844127808188643, subsample=1.0 will be ignored. Current value: bagging_fraction=0.49844127808188643\n",
      "[LightGBM] [Warning] lambda_l2 is set=1.9172070402473793e-08, reg_lambda=0.0 will be ignored. Current value: lambda_l2=1.9172070402473793e-08\n",
      "[LightGBM] [Warning] bagging_freq is set=6, subsample_freq=0 will be ignored. Current value: bagging_freq=6\n"
     ]
    },
    {
     "name": "stderr",
     "output_type": "stream",
     "text": [
      "\u001b[32m[I 2023-01-15 21:56:12,254]\u001b[0m Trial 5 finished with value: 0.9005332239540607 and parameters: {'scalers': 'standard', 'dim_red': None, 'lambda_l1': 0.3710376252098996, 'lambda_l2': 1.9172070402473793e-08, 'num_leaves': 98, 'feature_fraction': 0.5909795591799333, 'bagging_fraction': 0.49844127808188643, 'bagging_freq': 6, 'min_child_samples': 90}. Best is trial 1 with value: 0.9126333059885152.\u001b[0m\n"
     ]
    },
    {
     "name": "stdout",
     "output_type": "stream",
     "text": [
      "[LightGBM] [Warning] feature_fraction is set=0.8492743679284007, colsample_bytree=1.0 will be ignored. Current value: feature_fraction=0.8492743679284007\n",
      "[LightGBM] [Warning] lambda_l1 is set=3.593716452966042e-08, reg_alpha=0.0 will be ignored. Current value: lambda_l1=3.593716452966042e-08\n",
      "[LightGBM] [Warning] bagging_fraction is set=0.7568745700613213, subsample=1.0 will be ignored. Current value: bagging_fraction=0.7568745700613213\n",
      "[LightGBM] [Warning] lambda_l2 is set=0.0038211049503136005, reg_lambda=0.0 will be ignored. Current value: lambda_l2=0.0038211049503136005\n",
      "[LightGBM] [Warning] bagging_freq is set=6, subsample_freq=0 will be ignored. Current value: bagging_freq=6\n"
     ]
    },
    {
     "name": "stderr",
     "output_type": "stream",
     "text": [
      "\u001b[32m[I 2023-01-15 21:56:23,868]\u001b[0m Trial 6 finished with value: 0.8962264150943396 and parameters: {'scalers': 'minmax', 'dim_red': 'PCA', 'pca_n_components': 21, 'lambda_l1': 3.593716452966042e-08, 'lambda_l2': 0.0038211049503136005, 'num_leaves': 114, 'feature_fraction': 0.8492743679284007, 'bagging_fraction': 0.7568745700613213, 'bagging_freq': 6, 'min_child_samples': 82}. Best is trial 1 with value: 0.9126333059885152.\u001b[0m\n"
     ]
    },
    {
     "name": "stdout",
     "output_type": "stream",
     "text": [
      "[LightGBM] [Warning] feature_fraction is set=0.46207972087630983, colsample_bytree=1.0 will be ignored. Current value: feature_fraction=0.46207972087630983\n",
      "[LightGBM] [Warning] lambda_l1 is set=0.001064250118578818, reg_alpha=0.0 will be ignored. Current value: lambda_l1=0.001064250118578818\n",
      "[LightGBM] [Warning] bagging_fraction is set=0.90077464143654, subsample=1.0 will be ignored. Current value: bagging_fraction=0.90077464143654\n",
      "[LightGBM] [Warning] lambda_l2 is set=2.875375865894243e-05, reg_lambda=0.0 will be ignored. Current value: lambda_l2=2.875375865894243e-05\n",
      "[LightGBM] [Warning] bagging_freq is set=2, subsample_freq=0 will be ignored. Current value: bagging_freq=2\n"
     ]
    },
    {
     "name": "stderr",
     "output_type": "stream",
     "text": [
      "\u001b[32m[I 2023-01-15 21:56:35,734]\u001b[0m Trial 7 finished with value: 0.8796144380639869 and parameters: {'scalers': 'robust', 'dim_red': 'PCA', 'pca_n_components': 18, 'lambda_l1': 0.001064250118578818, 'lambda_l2': 2.875375865894243e-05, 'num_leaves': 47, 'feature_fraction': 0.46207972087630983, 'bagging_fraction': 0.90077464143654, 'bagging_freq': 2, 'min_child_samples': 23}. Best is trial 1 with value: 0.9126333059885152.\u001b[0m\n"
     ]
    },
    {
     "name": "stdout",
     "output_type": "stream",
     "text": [
      "[LightGBM] [Warning] feature_fraction is set=0.5107680129652113, colsample_bytree=1.0 will be ignored. Current value: feature_fraction=0.5107680129652113\n",
      "[LightGBM] [Warning] lambda_l1 is set=0.29869004350512146, reg_alpha=0.0 will be ignored. Current value: lambda_l1=0.29869004350512146\n",
      "[LightGBM] [Warning] bagging_fraction is set=0.5450701806682859, subsample=1.0 will be ignored. Current value: bagging_fraction=0.5450701806682859\n",
      "[LightGBM] [Warning] lambda_l2 is set=1.3237727688135108e-06, reg_lambda=0.0 will be ignored. Current value: lambda_l2=1.3237727688135108e-06\n",
      "[LightGBM] [Warning] bagging_freq is set=2, subsample_freq=0 will be ignored. Current value: bagging_freq=2\n"
     ]
    },
    {
     "name": "stderr",
     "output_type": "stream",
     "text": [
      "\u001b[32m[I 2023-01-15 21:57:23,132]\u001b[0m Trial 8 finished with value: 0.9105824446267432 and parameters: {'scalers': 'robust', 'dim_red': None, 'lambda_l1': 0.29869004350512146, 'lambda_l2': 1.3237727688135108e-06, 'num_leaves': 161, 'feature_fraction': 0.5107680129652113, 'bagging_fraction': 0.5450701806682859, 'bagging_freq': 2, 'min_child_samples': 41}. Best is trial 1 with value: 0.9126333059885152.\u001b[0m\n"
     ]
    },
    {
     "name": "stdout",
     "output_type": "stream",
     "text": [
      "[LightGBM] [Warning] feature_fraction is set=0.9771472339405464, colsample_bytree=1.0 will be ignored. Current value: feature_fraction=0.9771472339405464\n",
      "[LightGBM] [Warning] lambda_l1 is set=1.2919062449728653e-06, reg_alpha=0.0 will be ignored. Current value: lambda_l1=1.2919062449728653e-06\n",
      "[LightGBM] [Warning] bagging_fraction is set=0.7361699045021317, subsample=1.0 will be ignored. Current value: bagging_fraction=0.7361699045021317\n",
      "[LightGBM] [Warning] lambda_l2 is set=1.0042139950782848e-06, reg_lambda=0.0 will be ignored. Current value: lambda_l2=1.0042139950782848e-06\n",
      "[LightGBM] [Warning] bagging_freq is set=4, subsample_freq=0 will be ignored. Current value: bagging_freq=4\n"
     ]
    },
    {
     "name": "stderr",
     "output_type": "stream",
     "text": [
      "\u001b[32m[I 2023-01-15 21:58:21,927]\u001b[0m Trial 9 finished with value: 0.9138638228055783 and parameters: {'scalers': 'robust', 'dim_red': None, 'lambda_l1': 1.2919062449728653e-06, 'lambda_l2': 1.0042139950782848e-06, 'num_leaves': 87, 'feature_fraction': 0.9771472339405464, 'bagging_fraction': 0.7361699045021317, 'bagging_freq': 4, 'min_child_samples': 89}. Best is trial 9 with value: 0.9138638228055783.\u001b[0m\n"
     ]
    },
    {
     "name": "stdout",
     "output_type": "stream",
     "text": [
      "[LightGBM] [Warning] feature_fraction is set=0.9989785210291903, colsample_bytree=1.0 will be ignored. Current value: feature_fraction=0.9989785210291903\n",
      "[LightGBM] [Warning] lambda_l1 is set=8.949331532692674e-06, reg_alpha=0.0 will be ignored. Current value: lambda_l1=8.949331532692674e-06\n",
      "[LightGBM] [Warning] bagging_fraction is set=0.6771811578902217, subsample=1.0 will be ignored. Current value: bagging_fraction=0.6771811578902217\n",
      "[LightGBM] [Warning] lambda_l2 is set=1.3129484793987383, reg_lambda=0.0 will be ignored. Current value: lambda_l2=1.3129484793987383\n",
      "[LightGBM] [Warning] bagging_freq is set=4, subsample_freq=0 will be ignored. Current value: bagging_freq=4\n"
     ]
    },
    {
     "name": "stderr",
     "output_type": "stream",
     "text": [
      "\u001b[32m[I 2023-01-15 21:59:12,779]\u001b[0m Trial 10 finished with value: 0.9056603773584906 and parameters: {'scalers': 'robust', 'dim_red': None, 'lambda_l1': 8.949331532692674e-06, 'lambda_l2': 1.3129484793987383, 'num_leaves': 248, 'feature_fraction': 0.9989785210291903, 'bagging_fraction': 0.6771811578902217, 'bagging_freq': 4, 'min_child_samples': 70}. Best is trial 9 with value: 0.9138638228055783.\u001b[0m\n"
     ]
    },
    {
     "name": "stdout",
     "output_type": "stream",
     "text": [
      "[LightGBM] [Warning] feature_fraction is set=0.7138686442604365, colsample_bytree=1.0 will be ignored. Current value: feature_fraction=0.7138686442604365\n",
      "[LightGBM] [Warning] lambda_l1 is set=1.0462548039573111e-05, reg_alpha=0.0 will be ignored. Current value: lambda_l1=1.0462548039573111e-05\n",
      "[LightGBM] [Warning] bagging_fraction is set=0.9761901806503521, subsample=1.0 will be ignored. Current value: bagging_fraction=0.9761901806503521\n",
      "[LightGBM] [Warning] lambda_l2 is set=0.0003466973610758488, reg_lambda=0.0 will be ignored. Current value: lambda_l2=0.0003466973610758488\n",
      "[LightGBM] [Warning] bagging_freq is set=5, subsample_freq=0 will be ignored. Current value: bagging_freq=5\n"
     ]
    },
    {
     "name": "stderr",
     "output_type": "stream",
     "text": [
      "\u001b[32m[I 2023-01-15 21:59:27,150]\u001b[0m Trial 11 finished with value: 0.8572600492206727 and parameters: {'scalers': 'standard', 'dim_red': None, 'lambda_l1': 1.0462548039573111e-05, 'lambda_l2': 0.0003466973610758488, 'num_leaves': 13, 'feature_fraction': 0.7138686442604365, 'bagging_fraction': 0.9761901806503521, 'bagging_freq': 5, 'min_child_samples': 63}. Best is trial 9 with value: 0.9138638228055783.\u001b[0m\n"
     ]
    },
    {
     "name": "stdout",
     "output_type": "stream",
     "text": [
      "[LightGBM] [Warning] feature_fraction is set=0.7394764428465048, colsample_bytree=1.0 will be ignored. Current value: feature_fraction=0.7394764428465048\n",
      "[LightGBM] [Warning] lambda_l1 is set=0.019646484946169468, reg_alpha=0.0 will be ignored. Current value: lambda_l1=0.019646484946169468\n",
      "[LightGBM] [Warning] bagging_fraction is set=0.8452330577103059, subsample=1.0 will be ignored. Current value: bagging_fraction=0.8452330577103059\n",
      "[LightGBM] [Warning] lambda_l2 is set=1.7497664622005855e-06, reg_lambda=0.0 will be ignored. Current value: lambda_l2=1.7497664622005855e-06\n",
      "[LightGBM] [Warning] bagging_freq is set=3, subsample_freq=0 will be ignored. Current value: bagging_freq=3\n"
     ]
    },
    {
     "name": "stderr",
     "output_type": "stream",
     "text": [
      "\u001b[32m[I 2023-01-15 22:01:37,506]\u001b[0m Trial 12 finished with value: 0.9073010664479081 and parameters: {'scalers': 'standard', 'dim_red': None, 'lambda_l1': 0.019646484946169468, 'lambda_l2': 1.7497664622005855e-06, 'num_leaves': 227, 'feature_fraction': 0.7394764428465048, 'bagging_fraction': 0.8452330577103059, 'bagging_freq': 3, 'min_child_samples': 33}. Best is trial 9 with value: 0.9138638228055783.\u001b[0m\n"
     ]
    },
    {
     "name": "stdout",
     "output_type": "stream",
     "text": [
      "[LightGBM] [Warning] feature_fraction is set=0.6156131735388107, colsample_bytree=1.0 will be ignored. Current value: feature_fraction=0.6156131735388107\n",
      "[LightGBM] [Warning] lambda_l1 is set=6.546464897170035e-05, reg_alpha=0.0 will be ignored. Current value: lambda_l1=6.546464897170035e-05\n",
      "[LightGBM] [Warning] bagging_fraction is set=0.7189839687515187, subsample=1.0 will be ignored. Current value: bagging_fraction=0.7189839687515187\n",
      "[LightGBM] [Warning] lambda_l2 is set=0.13677535657955422, reg_lambda=0.0 will be ignored. Current value: lambda_l2=0.13677535657955422\n",
      "[LightGBM] [Warning] bagging_freq is set=5, subsample_freq=0 will be ignored. Current value: bagging_freq=5\n"
     ]
    },
    {
     "name": "stderr",
     "output_type": "stream",
     "text": [
      "\u001b[32m[I 2023-01-15 22:02:22,126]\u001b[0m Trial 13 finished with value: 0.9083264971287941 and parameters: {'scalers': 'standard', 'dim_red': None, 'lambda_l1': 6.546464897170035e-05, 'lambda_l2': 0.13677535657955422, 'num_leaves': 71, 'feature_fraction': 0.6156131735388107, 'bagging_fraction': 0.7189839687515187, 'bagging_freq': 5, 'min_child_samples': 74}. Best is trial 9 with value: 0.9138638228055783.\u001b[0m\n"
     ]
    },
    {
     "name": "stdout",
     "output_type": "stream",
     "text": [
      "[LightGBM] [Warning] feature_fraction is set=0.8380607828004142, colsample_bytree=1.0 will be ignored. Current value: feature_fraction=0.8380607828004142\n",
      "[LightGBM] [Warning] lambda_l1 is set=1.938618034336561e-06, reg_alpha=0.0 will be ignored. Current value: lambda_l1=1.938618034336561e-06\n",
      "[LightGBM] [Warning] bagging_fraction is set=0.40718159701336654, subsample=1.0 will be ignored. Current value: bagging_fraction=0.40718159701336654\n",
      "[LightGBM] [Warning] lambda_l2 is set=3.471726681361624e-05, reg_lambda=0.0 will be ignored. Current value: lambda_l2=3.471726681361624e-05\n",
      "[LightGBM] [Warning] bagging_freq is set=7, subsample_freq=0 will be ignored. Current value: bagging_freq=7\n"
     ]
    },
    {
     "name": "stderr",
     "output_type": "stream",
     "text": [
      "\u001b[32m[I 2023-01-15 22:04:19,965]\u001b[0m Trial 14 finished with value: 0.8990976210008204 and parameters: {'scalers': 'minmax', 'dim_red': None, 'lambda_l1': 1.938618034336561e-06, 'lambda_l2': 3.471726681361624e-05, 'num_leaves': 201, 'feature_fraction': 0.8380607828004142, 'bagging_fraction': 0.40718159701336654, 'bagging_freq': 7, 'min_child_samples': 22}. Best is trial 9 with value: 0.9138638228055783.\u001b[0m\n"
     ]
    },
    {
     "name": "stdout",
     "output_type": "stream",
     "text": [
      "[LightGBM] [Warning] feature_fraction is set=0.9902816619815669, colsample_bytree=1.0 will be ignored. Current value: feature_fraction=0.9902816619815669\n",
      "[LightGBM] [Warning] lambda_l1 is set=7.832175002312112, reg_alpha=0.0 will be ignored. Current value: lambda_l1=7.832175002312112\n",
      "[LightGBM] [Warning] bagging_fraction is set=0.9029486079065253, subsample=1.0 will be ignored. Current value: bagging_fraction=0.9029486079065253\n",
      "[LightGBM] [Warning] lambda_l2 is set=0.0011536692951427576, reg_lambda=0.0 will be ignored. Current value: lambda_l2=0.0011536692951427576\n",
      "[LightGBM] [Warning] bagging_freq is set=1, subsample_freq=0 will be ignored. Current value: bagging_freq=1\n"
     ]
    },
    {
     "name": "stderr",
     "output_type": "stream",
     "text": [
      "\u001b[32m[I 2023-01-15 22:04:58,823]\u001b[0m Trial 15 finished with value: 0.8993027071369976 and parameters: {'scalers': 'robust', 'dim_red': None, 'lambda_l1': 7.832175002312112, 'lambda_l2': 0.0011536692951427576, 'num_leaves': 50, 'feature_fraction': 0.9902816619815669, 'bagging_fraction': 0.9029486079065253, 'bagging_freq': 1, 'min_child_samples': 50}. Best is trial 9 with value: 0.9138638228055783.\u001b[0m\n"
     ]
    },
    {
     "name": "stdout",
     "output_type": "stream",
     "text": [
      "[LightGBM] [Warning] feature_fraction is set=0.6571983838474343, colsample_bytree=1.0 will be ignored. Current value: feature_fraction=0.6571983838474343\n",
      "[LightGBM] [Warning] lambda_l1 is set=0.019817984341317218, reg_alpha=0.0 will be ignored. Current value: lambda_l1=0.019817984341317218\n",
      "[LightGBM] [Warning] bagging_fraction is set=0.9954105193253849, subsample=1.0 will be ignored. Current value: bagging_fraction=0.9954105193253849\n",
      "[LightGBM] [Warning] lambda_l2 is set=1.0450230537996076e-06, reg_lambda=0.0 will be ignored. Current value: lambda_l2=1.0450230537996076e-06\n",
      "[LightGBM] [Warning] bagging_freq is set=5, subsample_freq=0 will be ignored. Current value: bagging_freq=5\n"
     ]
    },
    {
     "name": "stderr",
     "output_type": "stream",
     "text": [
      "\u001b[32m[I 2023-01-15 22:05:54,468]\u001b[0m Trial 16 finished with value: 0.9101722723543888 and parameters: {'scalers': 'standard', 'dim_red': None, 'lambda_l1': 0.019817984341317218, 'lambda_l2': 1.0450230537996076e-06, 'num_leaves': 149, 'feature_fraction': 0.6571983838474343, 'bagging_fraction': 0.9954105193253849, 'bagging_freq': 5, 'min_child_samples': 99}. Best is trial 9 with value: 0.9138638228055783.\u001b[0m\n"
     ]
    },
    {
     "name": "stdout",
     "output_type": "stream",
     "text": [
      "[LightGBM] [Warning] feature_fraction is set=0.8242825088400187, colsample_bytree=1.0 will be ignored. Current value: feature_fraction=0.8242825088400187\n",
      "[LightGBM] [Warning] lambda_l1 is set=0.00021927847752285036, reg_alpha=0.0 will be ignored. Current value: lambda_l1=0.00021927847752285036\n",
      "[LightGBM] [Warning] bagging_fraction is set=0.6630697086951098, subsample=1.0 will be ignored. Current value: bagging_fraction=0.6630697086951098\n",
      "[LightGBM] [Warning] lambda_l2 is set=1.2020970764364351e-05, reg_lambda=0.0 will be ignored. Current value: lambda_l2=1.2020970764364351e-05\n",
      "[LightGBM] [Warning] bagging_freq is set=3, subsample_freq=0 will be ignored. Current value: bagging_freq=3\n"
     ]
    },
    {
     "name": "stderr",
     "output_type": "stream",
     "text": [
      "\u001b[32m[I 2023-01-15 22:07:58,387]\u001b[0m Trial 17 finished with value: 0.9134536505332239 and parameters: {'scalers': 'standard', 'dim_red': None, 'lambda_l1': 0.00021927847752285036, 'lambda_l2': 1.2020970764364351e-05, 'num_leaves': 212, 'feature_fraction': 0.8242825088400187, 'bagging_fraction': 0.6630697086951098, 'bagging_freq': 3, 'min_child_samples': 33}. Best is trial 9 with value: 0.9138638228055783.\u001b[0m\n"
     ]
    },
    {
     "name": "stdout",
     "output_type": "stream",
     "text": [
      "[LightGBM] [Warning] feature_fraction is set=0.9049956156166696, colsample_bytree=1.0 will be ignored. Current value: feature_fraction=0.9049956156166696\n",
      "[LightGBM] [Warning] lambda_l1 is set=1.327257897365226e-06, reg_alpha=0.0 will be ignored. Current value: lambda_l1=1.327257897365226e-06\n",
      "[LightGBM] [Warning] bagging_fraction is set=0.659418550563085, subsample=1.0 will be ignored. Current value: bagging_fraction=0.659418550563085\n",
      "[LightGBM] [Warning] lambda_l2 is set=5.093690262889138e-06, reg_lambda=0.0 will be ignored. Current value: lambda_l2=5.093690262889138e-06\n",
      "[LightGBM] [Warning] bagging_freq is set=3, subsample_freq=0 will be ignored. Current value: bagging_freq=3\n"
     ]
    },
    {
     "name": "stderr",
     "output_type": "stream",
     "text": [
      "\u001b[32m[I 2023-01-15 22:11:04,943]\u001b[0m Trial 18 finished with value: 0.9054552912223134 and parameters: {'scalers': 'robust', 'dim_red': None, 'lambda_l1': 1.327257897365226e-06, 'lambda_l2': 5.093690262889138e-06, 'num_leaves': 202, 'feature_fraction': 0.9049956156166696, 'bagging_fraction': 0.659418550563085, 'bagging_freq': 3, 'min_child_samples': 9}. Best is trial 9 with value: 0.9138638228055783.\u001b[0m\n"
     ]
    },
    {
     "name": "stdout",
     "output_type": "stream",
     "text": [
      "[LightGBM] [Warning] feature_fraction is set=0.82141764173941, colsample_bytree=1.0 will be ignored. Current value: feature_fraction=0.82141764173941\n",
      "[LightGBM] [Warning] lambda_l1 is set=0.00016004895456515564, reg_alpha=0.0 will be ignored. Current value: lambda_l1=0.00016004895456515564\n",
      "[LightGBM] [Warning] bagging_fraction is set=0.7912464696875521, subsample=1.0 will be ignored. Current value: bagging_fraction=0.7912464696875521\n",
      "[LightGBM] [Warning] lambda_l2 is set=1.8335192989721525e-07, reg_lambda=0.0 will be ignored. Current value: lambda_l2=1.8335192989721525e-07\n",
      "[LightGBM] [Warning] bagging_freq is set=3, subsample_freq=0 will be ignored. Current value: bagging_freq=3\n"
     ]
    },
    {
     "name": "stderr",
     "output_type": "stream",
     "text": [
      "\u001b[32m[I 2023-01-15 22:13:51,304]\u001b[0m Trial 19 finished with value: 0.9062756357670222 and parameters: {'scalers': 'minmax', 'dim_red': None, 'lambda_l1': 0.00016004895456515564, 'lambda_l2': 1.8335192989721525e-07, 'num_leaves': 256, 'feature_fraction': 0.82141764173941, 'bagging_fraction': 0.7912464696875521, 'bagging_freq': 3, 'min_child_samples': 27}. Best is trial 9 with value: 0.9138638228055783.\u001b[0m\n"
     ]
    },
    {
     "name": "stdout",
     "output_type": "stream",
     "text": [
      "[LightGBM] [Warning] feature_fraction is set=0.9256380967147538, colsample_bytree=1.0 will be ignored. Current value: feature_fraction=0.9256380967147538\n",
      "[LightGBM] [Warning] lambda_l1 is set=4.324326175409729e-07, reg_alpha=0.0 will be ignored. Current value: lambda_l1=4.324326175409729e-07\n",
      "[LightGBM] [Warning] bagging_fraction is set=0.6391902575093211, subsample=1.0 will be ignored. Current value: bagging_fraction=0.6391902575093211\n",
      "[LightGBM] [Warning] lambda_l2 is set=0.025423727778381096, reg_lambda=0.0 will be ignored. Current value: lambda_l2=0.025423727778381096\n",
      "[LightGBM] [Warning] bagging_freq is set=1, subsample_freq=0 will be ignored. Current value: bagging_freq=1\n"
     ]
    },
    {
     "name": "stderr",
     "output_type": "stream",
     "text": [
      "\u001b[32m[I 2023-01-15 22:15:10,751]\u001b[0m Trial 20 finished with value: 0.9093519278096801 and parameters: {'scalers': 'robust', 'dim_red': None, 'lambda_l1': 4.324326175409729e-07, 'lambda_l2': 0.025423727778381096, 'num_leaves': 83, 'feature_fraction': 0.9256380967147538, 'bagging_fraction': 0.6391902575093211, 'bagging_freq': 1, 'min_child_samples': 62}. Best is trial 9 with value: 0.9138638228055783.\u001b[0m\n"
     ]
    },
    {
     "name": "stdout",
     "output_type": "stream",
     "text": [
      "[LightGBM] [Warning] feature_fraction is set=0.7639451185955923, colsample_bytree=1.0 will be ignored. Current value: feature_fraction=0.7639451185955923\n",
      "[LightGBM] [Warning] lambda_l1 is set=2.2121128869841865e-05, reg_alpha=0.0 will be ignored. Current value: lambda_l1=2.2121128869841865e-05\n",
      "[LightGBM] [Warning] bagging_fraction is set=0.7346571496455697, subsample=1.0 will be ignored. Current value: bagging_fraction=0.7346571496455697\n",
      "[LightGBM] [Warning] lambda_l2 is set=0.00012962574815261922, reg_lambda=0.0 will be ignored. Current value: lambda_l2=0.00012962574815261922\n",
      "[LightGBM] [Warning] bagging_freq is set=4, subsample_freq=0 will be ignored. Current value: bagging_freq=4\n"
     ]
    },
    {
     "name": "stderr",
     "output_type": "stream",
     "text": [
      "\u001b[32m[I 2023-01-15 22:17:25,950]\u001b[0m Trial 21 finished with value: 0.912428219852338 and parameters: {'scalers': 'standard', 'dim_red': None, 'lambda_l1': 2.2121128869841865e-05, 'lambda_l2': 0.00012962574815261922, 'num_leaves': 201, 'feature_fraction': 0.7639451185955923, 'bagging_fraction': 0.7346571496455697, 'bagging_freq': 4, 'min_child_samples': 39}. Best is trial 9 with value: 0.9138638228055783.\u001b[0m\n"
     ]
    },
    {
     "name": "stdout",
     "output_type": "stream",
     "text": [
      "[LightGBM] [Warning] feature_fraction is set=0.6764949086540871, colsample_bytree=1.0 will be ignored. Current value: feature_fraction=0.6764949086540871\n",
      "[LightGBM] [Warning] lambda_l1 is set=0.002218594606446008, reg_alpha=0.0 will be ignored. Current value: lambda_l1=0.002218594606446008\n",
      "[LightGBM] [Warning] bagging_fraction is set=0.8417450716847508, subsample=1.0 will be ignored. Current value: bagging_fraction=0.8417450716847508\n",
      "[LightGBM] [Warning] lambda_l2 is set=7.423943046458678e-06, reg_lambda=0.0 will be ignored. Current value: lambda_l2=7.423943046458678e-06\n",
      "[LightGBM] [Warning] bagging_freq is set=4, subsample_freq=0 will be ignored. Current value: bagging_freq=4\n"
     ]
    },
    {
     "name": "stderr",
     "output_type": "stream",
     "text": [
      "\u001b[32m[I 2023-01-15 22:19:27,411]\u001b[0m Trial 22 finished with value: 0.9116078753076292 and parameters: {'scalers': 'standard', 'dim_red': None, 'lambda_l1': 0.002218594606446008, 'lambda_l2': 7.423943046458678e-06, 'num_leaves': 145, 'feature_fraction': 0.6764949086540871, 'bagging_fraction': 0.8417450716847508, 'bagging_freq': 4, 'min_child_samples': 35}. Best is trial 9 with value: 0.9138638228055783.\u001b[0m\n"
     ]
    },
    {
     "name": "stdout",
     "output_type": "stream",
     "text": [
      "[LightGBM] [Warning] feature_fraction is set=0.8673528768785884, colsample_bytree=1.0 will be ignored. Current value: feature_fraction=0.8673528768785884\n",
      "[LightGBM] [Warning] lambda_l1 is set=0.04141878353250561, reg_alpha=0.0 will be ignored. Current value: lambda_l1=0.04141878353250561\n",
      "[LightGBM] [Warning] bagging_fraction is set=0.8894135631987075, subsample=1.0 will be ignored. Current value: bagging_fraction=0.8894135631987075\n",
      "[LightGBM] [Warning] lambda_l2 is set=0.00025326332962955465, reg_lambda=0.0 will be ignored. Current value: lambda_l2=0.00025326332962955465\n",
      "[LightGBM] [Warning] bagging_freq is set=3, subsample_freq=0 will be ignored. Current value: bagging_freq=3\n"
     ]
    },
    {
     "name": "stderr",
     "output_type": "stream",
     "text": [
      "\u001b[32m[I 2023-01-15 22:21:06,380]\u001b[0m Trial 23 finished with value: 0.9062756357670222 and parameters: {'scalers': 'standard', 'dim_red': None, 'lambda_l1': 0.04141878353250561, 'lambda_l2': 0.00025326332962955465, 'num_leaves': 223, 'feature_fraction': 0.8673528768785884, 'bagging_fraction': 0.8894135631987075, 'bagging_freq': 3, 'min_child_samples': 46}. Best is trial 9 with value: 0.9138638228055783.\u001b[0m\n"
     ]
    },
    {
     "name": "stdout",
     "output_type": "stream",
     "text": [
      "[LightGBM] [Warning] feature_fraction is set=0.7911713279870448, colsample_bytree=1.0 will be ignored. Current value: feature_fraction=0.7911713279870448\n",
      "[LightGBM] [Warning] lambda_l1 is set=0.00043018792631081864, reg_alpha=0.0 will be ignored. Current value: lambda_l1=0.00043018792631081864\n",
      "[LightGBM] [Warning] bagging_fraction is set=0.698421312369828, subsample=1.0 will be ignored. Current value: bagging_fraction=0.698421312369828\n",
      "[LightGBM] [Warning] lambda_l2 is set=2.7964656709118864e-07, reg_lambda=0.0 will be ignored. Current value: lambda_l2=2.7964656709118864e-07\n",
      "[LightGBM] [Warning] bagging_freq is set=5, subsample_freq=0 will be ignored. Current value: bagging_freq=5\n"
     ]
    },
    {
     "name": "stderr",
     "output_type": "stream",
     "text": [
      "\u001b[32m[I 2023-01-15 22:23:39,995]\u001b[0m Trial 24 finished with value: 0.911402789171452 and parameters: {'scalers': 'standard', 'dim_red': None, 'lambda_l1': 0.00043018792631081864, 'lambda_l2': 2.7964656709118864e-07, 'num_leaves': 183, 'feature_fraction': 0.7911713279870448, 'bagging_fraction': 0.698421312369828, 'bagging_freq': 5, 'min_child_samples': 18}. Best is trial 9 with value: 0.9138638228055783.\u001b[0m\n"
     ]
    },
    {
     "name": "stdout",
     "output_type": "stream",
     "text": [
      "[LightGBM] [Warning] feature_fraction is set=0.9617934575366027, colsample_bytree=1.0 will be ignored. Current value: feature_fraction=0.9617934575366027\n",
      "[LightGBM] [Warning] lambda_l1 is set=8.872872777256772e-05, reg_alpha=0.0 will be ignored. Current value: lambda_l1=8.872872777256772e-05\n",
      "[LightGBM] [Warning] bagging_fraction is set=0.7813520980837877, subsample=1.0 will be ignored. Current value: bagging_fraction=0.7813520980837877\n",
      "[LightGBM] [Warning] lambda_l2 is set=8.771635134289342e-05, reg_lambda=0.0 will be ignored. Current value: lambda_l2=8.771635134289342e-05\n",
      "[LightGBM] [Warning] bagging_freq is set=4, subsample_freq=0 will be ignored. Current value: bagging_freq=4\n"
     ]
    },
    {
     "name": "stderr",
     "output_type": "stream",
     "text": [
      "\u001b[32m[I 2023-01-15 22:26:25,788]\u001b[0m Trial 25 finished with value: 0.9116078753076292 and parameters: {'scalers': 'standard', 'dim_red': None, 'lambda_l1': 8.872872777256772e-05, 'lambda_l2': 8.771635134289342e-05, 'num_leaves': 224, 'feature_fraction': 0.9617934575366027, 'bagging_fraction': 0.7813520980837877, 'bagging_freq': 4, 'min_child_samples': 30}. Best is trial 9 with value: 0.9138638228055783.\u001b[0m\n"
     ]
    },
    {
     "name": "stdout",
     "output_type": "stream",
     "text": [
      "[LightGBM] [Warning] feature_fraction is set=0.8689955795658207, colsample_bytree=1.0 will be ignored. Current value: feature_fraction=0.8689955795658207\n",
      "[LightGBM] [Warning] lambda_l1 is set=0.07647652272873745, reg_alpha=0.0 will be ignored. Current value: lambda_l1=0.07647652272873745\n",
      "[LightGBM] [Warning] bagging_fraction is set=0.9338916668354502, subsample=1.0 will be ignored. Current value: bagging_fraction=0.9338916668354502\n",
      "[LightGBM] [Warning] lambda_l2 is set=6.927120174161693e-06, reg_lambda=0.0 will be ignored. Current value: lambda_l2=6.927120174161693e-06\n",
      "[LightGBM] [Warning] bagging_freq is set=6, subsample_freq=0 will be ignored. Current value: bagging_freq=6\n"
     ]
    },
    {
     "name": "stderr",
     "output_type": "stream",
     "text": [
      "\u001b[32m[I 2023-01-15 22:27:43,394]\u001b[0m Trial 26 finished with value: 0.9101722723543888 and parameters: {'scalers': 'standard', 'dim_red': None, 'lambda_l1': 0.07647652272873745, 'lambda_l2': 6.927120174161693e-06, 'num_leaves': 133, 'feature_fraction': 0.8689955795658207, 'bagging_fraction': 0.9338916668354502, 'bagging_freq': 6, 'min_child_samples': 56}. Best is trial 9 with value: 0.9138638228055783.\u001b[0m\n"
     ]
    },
    {
     "name": "stdout",
     "output_type": "stream",
     "text": [
      "[LightGBM] [Warning] feature_fraction is set=0.8014329419360758, colsample_bytree=1.0 will be ignored. Current value: feature_fraction=0.8014329419360758\n",
      "[LightGBM] [Warning] lambda_l1 is set=0.006098882369410591, reg_alpha=0.0 will be ignored. Current value: lambda_l1=0.006098882369410591\n",
      "[LightGBM] [Warning] bagging_fraction is set=0.8505995391884635, subsample=1.0 will be ignored. Current value: bagging_fraction=0.8505995391884635\n",
      "[LightGBM] [Warning] lambda_l2 is set=1.650631354218907e-08, reg_lambda=0.0 will be ignored. Current value: lambda_l2=1.650631354218907e-08\n",
      "[LightGBM] [Warning] bagging_freq is set=3, subsample_freq=0 will be ignored. Current value: bagging_freq=3\n"
     ]
    },
    {
     "name": "stderr",
     "output_type": "stream",
     "text": [
      "\u001b[32m[I 2023-01-15 22:27:49,963]\u001b[0m Trial 27 finished with value: 0.7251845775225595 and parameters: {'scalers': 'minmax', 'dim_red': None, 'lambda_l1': 0.006098882369410591, 'lambda_l2': 1.650631354218907e-08, 'num_leaves': 4, 'feature_fraction': 0.8014329419360758, 'bagging_fraction': 0.8505995391884635, 'bagging_freq': 3, 'min_child_samples': 16}. Best is trial 9 with value: 0.9138638228055783.\u001b[0m\n"
     ]
    },
    {
     "name": "stdout",
     "output_type": "stream",
     "text": [
      "[LightGBM] [Warning] feature_fraction is set=0.7278185865224271, colsample_bytree=1.0 will be ignored. Current value: feature_fraction=0.7278185865224271\n",
      "[LightGBM] [Warning] lambda_l1 is set=1.1117240344882306e-08, reg_alpha=0.0 will be ignored. Current value: lambda_l1=1.1117240344882306e-08\n",
      "[LightGBM] [Warning] bagging_fraction is set=0.5822612965748653, subsample=1.0 will be ignored. Current value: bagging_fraction=0.5822612965748653\n",
      "[LightGBM] [Warning] lambda_l2 is set=0.0016191017194985924, reg_lambda=0.0 will be ignored. Current value: lambda_l2=0.0016191017194985924\n",
      "[LightGBM] [Warning] bagging_freq is set=2, subsample_freq=0 will be ignored. Current value: bagging_freq=2\n"
     ]
    },
    {
     "name": "stderr",
     "output_type": "stream",
     "text": [
      "\u001b[32m[I 2023-01-15 22:28:31,713]\u001b[0m Trial 28 finished with value: 0.9105824446267432 and parameters: {'scalers': 'standard', 'dim_red': None, 'lambda_l1': 1.1117240344882306e-08, 'lambda_l2': 0.0016191017194985924, 'num_leaves': 180, 'feature_fraction': 0.7278185865224271, 'bagging_fraction': 0.5822612965748653, 'bagging_freq': 2, 'min_child_samples': 78}. Best is trial 9 with value: 0.9138638228055783.\u001b[0m\n"
     ]
    },
    {
     "name": "stdout",
     "output_type": "stream",
     "text": [
      "[LightGBM] [Warning] feature_fraction is set=0.8971524772371794, colsample_bytree=1.0 will be ignored. Current value: feature_fraction=0.8971524772371794\n",
      "[LightGBM] [Warning] lambda_l1 is set=4.623814550980545, reg_alpha=0.0 will be ignored. Current value: lambda_l1=4.623814550980545\n",
      "[LightGBM] [Warning] bagging_fraction is set=0.6121422483369745, subsample=1.0 will be ignored. Current value: bagging_fraction=0.6121422483369745\n",
      "[LightGBM] [Warning] lambda_l2 is set=0.03064768964225122, reg_lambda=0.0 will be ignored. Current value: lambda_l2=0.03064768964225122\n",
      "[LightGBM] [Warning] bagging_freq is set=5, subsample_freq=0 will be ignored. Current value: bagging_freq=5\n"
     ]
    },
    {
     "name": "stderr",
     "output_type": "stream",
     "text": [
      "\u001b[32m[I 2023-01-15 22:28:41,057]\u001b[0m Trial 29 finished with value: 0.8652584085315833 and parameters: {'scalers': 'robust', 'dim_red': 'PCA', 'pca_n_components': 39, 'lambda_l1': 4.623814550980545, 'lambda_l2': 0.03064768964225122, 'num_leaves': 137, 'feature_fraction': 0.8971524772371794, 'bagging_fraction': 0.6121422483369745, 'bagging_freq': 5, 'min_child_samples': 65}. Best is trial 9 with value: 0.9138638228055783.\u001b[0m\n"
     ]
    },
    {
     "name": "stdout",
     "output_type": "stream",
     "text": [
      "[LightGBM] [Warning] feature_fraction is set=0.943853646092012, colsample_bytree=1.0 will be ignored. Current value: feature_fraction=0.943853646092012\n",
      "[LightGBM] [Warning] lambda_l1 is set=0.7175203915816842, reg_alpha=0.0 will be ignored. Current value: lambda_l1=0.7175203915816842\n",
      "[LightGBM] [Warning] bagging_fraction is set=0.8107059715537996, subsample=1.0 will be ignored. Current value: bagging_fraction=0.8107059715537996\n",
      "[LightGBM] [Warning] lambda_l2 is set=4.368781679109563e-07, reg_lambda=0.0 will be ignored. Current value: lambda_l2=4.368781679109563e-07\n",
      "[LightGBM] [Warning] bagging_freq is set=7, subsample_freq=0 will be ignored. Current value: bagging_freq=7\n"
     ]
    },
    {
     "name": "stderr",
     "output_type": "stream",
     "text": [
      "\u001b[32m[I 2023-01-15 22:29:38,259]\u001b[0m Trial 30 finished with value: 0.9054552912223134 and parameters: {'scalers': 'robust', 'dim_red': None, 'lambda_l1': 0.7175203915816842, 'lambda_l2': 4.368781679109563e-07, 'num_leaves': 121, 'feature_fraction': 0.943853646092012, 'bagging_fraction': 0.8107059715537996, 'bagging_freq': 7, 'min_child_samples': 55}. Best is trial 9 with value: 0.9138638228055783.\u001b[0m\n"
     ]
    },
    {
     "name": "stdout",
     "output_type": "stream",
     "text": [
      "[LightGBM] [Warning] feature_fraction is set=0.7526293289586947, colsample_bytree=1.0 will be ignored. Current value: feature_fraction=0.7526293289586947\n",
      "[LightGBM] [Warning] lambda_l1 is set=1.9380980535641486e-05, reg_alpha=0.0 will be ignored. Current value: lambda_l1=1.9380980535641486e-05\n",
      "[LightGBM] [Warning] bagging_fraction is set=0.7234880026356791, subsample=1.0 will be ignored. Current value: bagging_fraction=0.7234880026356791\n",
      "[LightGBM] [Warning] lambda_l2 is set=0.0001263806423865339, reg_lambda=0.0 will be ignored. Current value: lambda_l2=0.0001263806423865339\n",
      "[LightGBM] [Warning] bagging_freq is set=4, subsample_freq=0 will be ignored. Current value: bagging_freq=4\n"
     ]
    },
    {
     "name": "stderr",
     "output_type": "stream",
     "text": [
      "\u001b[32m[I 2023-01-15 22:32:03,912]\u001b[0m Trial 31 finished with value: 0.9097621000820345 and parameters: {'scalers': 'standard', 'dim_red': None, 'lambda_l1': 1.9380980535641486e-05, 'lambda_l2': 0.0001263806423865339, 'num_leaves': 212, 'feature_fraction': 0.7526293289586947, 'bagging_fraction': 0.7234880026356791, 'bagging_freq': 4, 'min_child_samples': 39}. Best is trial 9 with value: 0.9138638228055783.\u001b[0m\n"
     ]
    },
    {
     "name": "stdout",
     "output_type": "stream",
     "text": [
      "[LightGBM] [Warning] feature_fraction is set=0.7679223633386183, colsample_bytree=1.0 will be ignored. Current value: feature_fraction=0.7679223633386183\n",
      "[LightGBM] [Warning] lambda_l1 is set=2.281663382710937e-06, reg_alpha=0.0 will be ignored. Current value: lambda_l1=2.281663382710937e-06\n",
      "[LightGBM] [Warning] bagging_fraction is set=0.744220793434995, subsample=1.0 will be ignored. Current value: bagging_fraction=0.744220793434995\n",
      "[LightGBM] [Warning] lambda_l2 is set=0.0007060680548680126, reg_lambda=0.0 will be ignored. Current value: lambda_l2=0.0007060680548680126\n",
      "[LightGBM] [Warning] bagging_freq is set=4, subsample_freq=0 will be ignored. Current value: bagging_freq=4\n"
     ]
    },
    {
     "name": "stderr",
     "output_type": "stream",
     "text": [
      "\u001b[32m[I 2023-01-15 22:33:51,056]\u001b[0m Trial 32 finished with value: 0.9116078753076292 and parameters: {'scalers': 'standard', 'dim_red': None, 'lambda_l1': 2.281663382710937e-06, 'lambda_l2': 0.0007060680548680126, 'num_leaves': 197, 'feature_fraction': 0.7679223633386183, 'bagging_fraction': 0.744220793434995, 'bagging_freq': 4, 'min_child_samples': 42}. Best is trial 9 with value: 0.9138638228055783.\u001b[0m\n"
     ]
    },
    {
     "name": "stdout",
     "output_type": "stream",
     "text": [
      "[LightGBM] [Warning] feature_fraction is set=0.6615581231510077, colsample_bytree=1.0 will be ignored. Current value: feature_fraction=0.6615581231510077\n",
      "[LightGBM] [Warning] lambda_l1 is set=2.2708214597622025e-05, reg_alpha=0.0 will be ignored. Current value: lambda_l1=2.2708214597622025e-05\n",
      "[LightGBM] [Warning] bagging_fraction is set=0.6842406428252827, subsample=1.0 will be ignored. Current value: bagging_fraction=0.6842406428252827\n",
      "[LightGBM] [Warning] lambda_l2 is set=6.854557850919486e-05, reg_lambda=0.0 will be ignored. Current value: lambda_l2=6.854557850919486e-05\n",
      "[LightGBM] [Warning] bagging_freq is set=4, subsample_freq=0 will be ignored. Current value: bagging_freq=4\n"
     ]
    },
    {
     "name": "stderr",
     "output_type": "stream",
     "text": [
      "\u001b[32m[I 2023-01-15 22:35:25,253]\u001b[0m Trial 33 finished with value: 0.910377358490566 and parameters: {'scalers': 'standard', 'dim_red': None, 'lambda_l1': 2.2708214597622025e-05, 'lambda_l2': 6.854557850919486e-05, 'num_leaves': 165, 'feature_fraction': 0.6615581231510077, 'bagging_fraction': 0.6842406428252827, 'bagging_freq': 4, 'min_child_samples': 45}. Best is trial 9 with value: 0.9138638228055783.\u001b[0m\n"
     ]
    },
    {
     "name": "stdout",
     "output_type": "stream",
     "text": [
      "[LightGBM] [Warning] feature_fraction is set=0.6951997585243418, colsample_bytree=1.0 will be ignored. Current value: feature_fraction=0.6951997585243418\n",
      "[LightGBM] [Warning] lambda_l1 is set=0.0006962297733612436, reg_alpha=0.0 will be ignored. Current value: lambda_l1=0.0006962297733612436\n",
      "[LightGBM] [Warning] bagging_fraction is set=0.7545119480327949, subsample=1.0 will be ignored. Current value: bagging_fraction=0.7545119480327949\n",
      "[LightGBM] [Warning] lambda_l2 is set=1.4812251655375354e-05, reg_lambda=0.0 will be ignored. Current value: lambda_l2=1.4812251655375354e-05\n",
      "[LightGBM] [Warning] bagging_freq is set=3, subsample_freq=0 will be ignored. Current value: bagging_freq=3\n"
     ]
    },
    {
     "name": "stderr",
     "output_type": "stream",
     "text": [
      "\u001b[32m[I 2023-01-15 22:35:47,759]\u001b[0m Trial 34 finished with value: 0.73318293683347 and parameters: {'scalers': 'standard', 'dim_red': 'PCA', 'pca_n_components': 4, 'lambda_l1': 0.0006962297733612436, 'lambda_l2': 1.4812251655375354e-05, 'num_leaves': 241, 'feature_fraction': 0.6951997585243418, 'bagging_fraction': 0.7545119480327949, 'bagging_freq': 3, 'min_child_samples': 37}. Best is trial 9 with value: 0.9138638228055783.\u001b[0m\n"
     ]
    },
    {
     "name": "stdout",
     "output_type": "stream",
     "text": [
      "[LightGBM] [Warning] feature_fraction is set=0.7817028162836119, colsample_bytree=1.0 will be ignored. Current value: feature_fraction=0.7817028162836119\n",
      "[LightGBM] [Warning] lambda_l1 is set=6.634438799731829e-07, reg_alpha=0.0 will be ignored. Current value: lambda_l1=6.634438799731829e-07\n",
      "[LightGBM] [Warning] bagging_fraction is set=0.6344436486822217, subsample=1.0 will be ignored. Current value: bagging_fraction=0.6344436486822217\n",
      "[LightGBM] [Warning] lambda_l2 is set=3.836863211374138e-06, reg_lambda=0.0 will be ignored. Current value: lambda_l2=3.836863211374138e-06\n",
      "[LightGBM] [Warning] bagging_freq is set=4, subsample_freq=0 will be ignored. Current value: bagging_freq=4\n"
     ]
    },
    {
     "name": "stderr",
     "output_type": "stream",
     "text": [
      "\u001b[32m[I 2023-01-15 22:37:18,232]\u001b[0m Trial 35 finished with value: 0.9081214109926169 and parameters: {'scalers': 'standard', 'dim_red': None, 'lambda_l1': 6.634438799731829e-07, 'lambda_l2': 3.836863211374138e-06, 'num_leaves': 194, 'feature_fraction': 0.7817028162836119, 'bagging_fraction': 0.6344436486822217, 'bagging_freq': 4, 'min_child_samples': 53}. Best is trial 9 with value: 0.9138638228055783.\u001b[0m\n"
     ]
    },
    {
     "name": "stdout",
     "output_type": "stream",
     "text": [
      "[LightGBM] [Warning] feature_fraction is set=0.6305689107025917, colsample_bytree=1.0 will be ignored. Current value: feature_fraction=0.6305689107025917\n",
      "[LightGBM] [Warning] lambda_l1 is set=4.123542942236128e-05, reg_alpha=0.0 will be ignored. Current value: lambda_l1=4.123542942236128e-05\n",
      "[LightGBM] [Warning] bagging_fraction is set=0.5472247958126535, subsample=1.0 will be ignored. Current value: bagging_fraction=0.5472247958126535\n",
      "[LightGBM] [Warning] lambda_l2 is set=0.009684927270179175, reg_lambda=0.0 will be ignored. Current value: lambda_l2=0.009684927270179175\n",
      "[LightGBM] [Warning] bagging_freq is set=6, subsample_freq=0 will be ignored. Current value: bagging_freq=6\n"
     ]
    },
    {
     "name": "stderr",
     "output_type": "stream",
     "text": [
      "\u001b[32m[I 2023-01-15 22:37:41,782]\u001b[0m Trial 36 finished with value: 0.9038146021328958 and parameters: {'scalers': 'standard', 'dim_red': 'PCA', 'pca_n_components': 40, 'lambda_l1': 4.123542942236128e-05, 'lambda_l2': 0.009684927270179175, 'num_leaves': 162, 'feature_fraction': 0.6305689107025917, 'bagging_fraction': 0.5472247958126535, 'bagging_freq': 6, 'min_child_samples': 29}. Best is trial 9 with value: 0.9138638228055783.\u001b[0m\n"
     ]
    },
    {
     "name": "stdout",
     "output_type": "stream",
     "text": [
      "[LightGBM] [Warning] feature_fraction is set=0.8205033971855028, colsample_bytree=1.0 will be ignored. Current value: feature_fraction=0.8205033971855028\n",
      "[LightGBM] [Warning] lambda_l1 is set=1.523622267421571e-07, reg_alpha=0.0 will be ignored. Current value: lambda_l1=1.523622267421571e-07\n",
      "[LightGBM] [Warning] bagging_fraction is set=0.7185831278536498, subsample=1.0 will be ignored. Current value: bagging_fraction=0.7185831278536498\n",
      "[LightGBM] [Warning] lambda_l2 is set=1.740169334343326e-05, reg_lambda=0.0 will be ignored. Current value: lambda_l2=1.740169334343326e-05\n",
      "[LightGBM] [Warning] bagging_freq is set=5, subsample_freq=0 will be ignored. Current value: bagging_freq=5\n"
     ]
    },
    {
     "name": "stderr",
     "output_type": "stream",
     "text": [
      "\u001b[32m[I 2023-01-15 22:38:52,917]\u001b[0m Trial 37 finished with value: 0.9111977030352748 and parameters: {'scalers': 'minmax', 'dim_red': None, 'lambda_l1': 1.523622267421571e-07, 'lambda_l2': 1.740169334343326e-05, 'num_leaves': 237, 'feature_fraction': 0.8205033971855028, 'bagging_fraction': 0.7185831278536498, 'bagging_freq': 5, 'min_child_samples': 89}. Best is trial 9 with value: 0.9138638228055783.\u001b[0m\n"
     ]
    },
    {
     "name": "stdout",
     "output_type": "stream",
     "text": [
      "[LightGBM] [Warning] feature_fraction is set=0.8560881778165337, colsample_bytree=1.0 will be ignored. Current value: feature_fraction=0.8560881778165337\n",
      "[LightGBM] [Warning] lambda_l1 is set=4.2389539024888425e-06, reg_alpha=0.0 will be ignored. Current value: lambda_l1=4.2389539024888425e-06\n",
      "[LightGBM] [Warning] bagging_fraction is set=0.8150947284271819, subsample=1.0 will be ignored. Current value: bagging_fraction=0.8150947284271819\n",
      "[LightGBM] [Warning] lambda_l2 is set=4.0596737517282923e-08, reg_lambda=0.0 will be ignored. Current value: lambda_l2=4.0596737517282923e-08\n",
      "[LightGBM] [Warning] bagging_freq is set=2, subsample_freq=0 will be ignored. Current value: bagging_freq=2\n"
     ]
    },
    {
     "name": "stderr",
     "output_type": "stream",
     "text": [
      "\u001b[32m[I 2023-01-15 22:39:14,679]\u001b[0m Trial 38 finished with value: 0.8910992616899097 and parameters: {'scalers': 'robust', 'dim_red': 'PCA', 'pca_n_components': 13, 'lambda_l1': 4.2389539024888425e-06, 'lambda_l2': 4.0596737517282923e-08, 'num_leaves': 94, 'feature_fraction': 0.8560881778165337, 'bagging_fraction': 0.8150947284271819, 'bagging_freq': 2, 'min_child_samples': 50}. Best is trial 9 with value: 0.9138638228055783.\u001b[0m\n"
     ]
    },
    {
     "name": "stdout",
     "output_type": "stream",
     "text": [
      "[LightGBM] [Warning] feature_fraction is set=0.877947958193294, colsample_bytree=1.0 will be ignored. Current value: feature_fraction=0.877947958193294\n",
      "[LightGBM] [Warning] lambda_l1 is set=0.004148377374650911, reg_alpha=0.0 will be ignored. Current value: lambda_l1=0.004148377374650911\n",
      "[LightGBM] [Warning] bagging_fraction is set=0.7717657986029898, subsample=1.0 will be ignored. Current value: bagging_fraction=0.7717657986029898\n",
      "[LightGBM] [Warning] lambda_l2 is set=0.00020396169955533928, reg_lambda=0.0 will be ignored. Current value: lambda_l2=0.00020396169955533928\n",
      "[LightGBM] [Warning] bagging_freq is set=3, subsample_freq=0 will be ignored. Current value: bagging_freq=3\n"
     ]
    },
    {
     "name": "stderr",
     "output_type": "stream",
     "text": [
      "\u001b[32m[I 2023-01-15 22:41:21,972]\u001b[0m Trial 39 finished with value: 0.9095570139458573 and parameters: {'scalers': 'standard', 'dim_red': None, 'lambda_l1': 0.004148377374650911, 'lambda_l2': 0.00020396169955533928, 'num_leaves': 114, 'feature_fraction': 0.877947958193294, 'bagging_fraction': 0.7717657986029898, 'bagging_freq': 3, 'min_child_samples': 12}. Best is trial 9 with value: 0.9138638228055783.\u001b[0m\n"
     ]
    },
    {
     "name": "stdout",
     "output_type": "stream",
     "text": [
      "[LightGBM] [Warning] feature_fraction is set=0.49863400230298327, colsample_bytree=1.0 will be ignored. Current value: feature_fraction=0.49863400230298327\n",
      "[LightGBM] [Warning] lambda_l1 is set=0.0002503632934172937, reg_alpha=0.0 will be ignored. Current value: lambda_l1=0.0002503632934172937\n",
      "[LightGBM] [Warning] bagging_fraction is set=0.5728892787888813, subsample=1.0 will be ignored. Current value: bagging_fraction=0.5728892787888813\n",
      "[LightGBM] [Warning] lambda_l2 is set=7.570302665744085e-08, reg_lambda=0.0 will be ignored. Current value: lambda_l2=7.570302665744085e-08\n",
      "[LightGBM] [Warning] bagging_freq is set=4, subsample_freq=0 will be ignored. Current value: bagging_freq=4\n"
     ]
    },
    {
     "name": "stderr",
     "output_type": "stream",
     "text": [
      "\u001b[32m[I 2023-01-15 22:43:25,931]\u001b[0m Trial 40 finished with value: 0.9120180475799836 and parameters: {'scalers': 'robust', 'dim_red': None, 'lambda_l1': 0.0002503632934172937, 'lambda_l2': 7.570302665744085e-08, 'num_leaves': 213, 'feature_fraction': 0.49863400230298327, 'bagging_fraction': 0.5728892787888813, 'bagging_freq': 4, 'min_child_samples': 26}. Best is trial 9 with value: 0.9138638228055783.\u001b[0m\n"
     ]
    },
    {
     "name": "stdout",
     "output_type": "stream",
     "text": [
      "[LightGBM] [Warning] feature_fraction is set=0.5320074452651693, colsample_bytree=1.0 will be ignored. Current value: feature_fraction=0.5320074452651693\n",
      "[LightGBM] [Warning] lambda_l1 is set=0.00024951091465231535, reg_alpha=0.0 will be ignored. Current value: lambda_l1=0.00024951091465231535\n",
      "[LightGBM] [Warning] bagging_fraction is set=0.5741651372978827, subsample=1.0 will be ignored. Current value: bagging_fraction=0.5741651372978827\n",
      "[LightGBM] [Warning] lambda_l2 is set=7.159276866015093e-08, reg_lambda=0.0 will be ignored. Current value: lambda_l2=7.159276866015093e-08\n",
      "[LightGBM] [Warning] bagging_freq is set=4, subsample_freq=0 will be ignored. Current value: bagging_freq=4\n"
     ]
    },
    {
     "name": "stderr",
     "output_type": "stream",
     "text": [
      "\u001b[32m[I 2023-01-15 22:45:58,294]\u001b[0m Trial 41 finished with value: 0.9083264971287941 and parameters: {'scalers': 'robust', 'dim_red': None, 'lambda_l1': 0.00024951091465231535, 'lambda_l2': 7.159276866015093e-08, 'num_leaves': 214, 'feature_fraction': 0.5320074452651693, 'bagging_fraction': 0.5741651372978827, 'bagging_freq': 4, 'min_child_samples': 23}. Best is trial 9 with value: 0.9138638228055783.\u001b[0m\n"
     ]
    },
    {
     "name": "stdout",
     "output_type": "stream",
     "text": [
      "[LightGBM] [Warning] feature_fraction is set=0.43662226114230324, colsample_bytree=1.0 will be ignored. Current value: feature_fraction=0.43662226114230324\n",
      "[LightGBM] [Warning] lambda_l1 is set=0.0009521538162719805, reg_alpha=0.0 will be ignored. Current value: lambda_l1=0.0009521538162719805\n",
      "[LightGBM] [Warning] bagging_fraction is set=0.5001152276597075, subsample=1.0 will be ignored. Current value: bagging_fraction=0.5001152276597075\n",
      "[LightGBM] [Warning] lambda_l2 is set=4.585585919310201e-07, reg_lambda=0.0 will be ignored. Current value: lambda_l2=4.585585919310201e-07\n",
      "[LightGBM] [Warning] bagging_freq is set=5, subsample_freq=0 will be ignored. Current value: bagging_freq=5\n"
     ]
    },
    {
     "name": "stderr",
     "output_type": "stream",
     "text": [
      "\u001b[32m[I 2023-01-15 22:49:33,478]\u001b[0m Trial 42 finished with value: 0.910377358490566 and parameters: {'scalers': 'robust', 'dim_red': None, 'lambda_l1': 0.0009521538162719805, 'lambda_l2': 4.585585919310201e-07, 'num_leaves': 186, 'feature_fraction': 0.43662226114230324, 'bagging_fraction': 0.5001152276597075, 'bagging_freq': 5, 'min_child_samples': 5}. Best is trial 9 with value: 0.9138638228055783.\u001b[0m\n"
     ]
    },
    {
     "name": "stdout",
     "output_type": "stream",
     "text": [
      "[LightGBM] [Warning] feature_fraction is set=0.5477925349698112, colsample_bytree=1.0 will be ignored. Current value: feature_fraction=0.5477925349698112\n",
      "[LightGBM] [Warning] lambda_l1 is set=7.001672464681205e-06, reg_alpha=0.0 will be ignored. Current value: lambda_l1=7.001672464681205e-06\n",
      "[LightGBM] [Warning] bagging_fraction is set=0.6085610000959296, subsample=1.0 will be ignored. Current value: bagging_fraction=0.6085610000959296\n",
      "[LightGBM] [Warning] lambda_l2 is set=1.867769921545354e-06, reg_lambda=0.0 will be ignored. Current value: lambda_l2=1.867769921545354e-06\n",
      "[LightGBM] [Warning] bagging_freq is set=3, subsample_freq=0 will be ignored. Current value: bagging_freq=3\n"
     ]
    },
    {
     "name": "stderr",
     "output_type": "stream",
     "text": [
      "\u001b[32m[I 2023-01-15 22:52:26,606]\u001b[0m Trial 43 finished with value: 0.9056603773584906 and parameters: {'scalers': 'robust', 'dim_red': None, 'lambda_l1': 7.001672464681205e-06, 'lambda_l2': 1.867769921545354e-06, 'num_leaves': 212, 'feature_fraction': 0.5477925349698112, 'bagging_fraction': 0.6085610000959296, 'bagging_freq': 3, 'min_child_samples': 33}. Best is trial 9 with value: 0.9138638228055783.\u001b[0m\n"
     ]
    },
    {
     "name": "stdout",
     "output_type": "stream",
     "text": [
      "[LightGBM] [Warning] feature_fraction is set=0.5751996907675705, colsample_bytree=1.0 will be ignored. Current value: feature_fraction=0.5751996907675705\n",
      "[LightGBM] [Warning] lambda_l1 is set=8.913107241341864e-05, reg_alpha=0.0 will be ignored. Current value: lambda_l1=8.913107241341864e-05\n",
      "[LightGBM] [Warning] bagging_fraction is set=0.4675052476132928, subsample=1.0 will be ignored. Current value: bagging_fraction=0.4675052476132928\n",
      "[LightGBM] [Warning] lambda_l2 is set=4.99177854062334e-05, reg_lambda=0.0 will be ignored. Current value: lambda_l2=4.99177854062334e-05\n",
      "[LightGBM] [Warning] bagging_freq is set=4, subsample_freq=0 will be ignored. Current value: bagging_freq=4\n"
     ]
    },
    {
     "name": "stderr",
     "output_type": "stream",
     "text": [
      "\u001b[32m[I 2023-01-15 22:54:14,112]\u001b[0m Trial 44 finished with value: 0.9093519278096801 and parameters: {'scalers': 'robust', 'dim_red': None, 'lambda_l1': 8.913107241341864e-05, 'lambda_l2': 4.99177854062334e-05, 'num_leaves': 171, 'feature_fraction': 0.5751996907675705, 'bagging_fraction': 0.4675052476132928, 'bagging_freq': 4, 'min_child_samples': 43}. Best is trial 9 with value: 0.9138638228055783.\u001b[0m\n"
     ]
    },
    {
     "name": "stdout",
     "output_type": "stream",
     "text": [
      "[LightGBM] [Warning] feature_fraction is set=0.7490171157933541, colsample_bytree=1.0 will be ignored. Current value: feature_fraction=0.7490171157933541\n",
      "[LightGBM] [Warning] lambda_l1 is set=0.00186515320637357, reg_alpha=0.0 will be ignored. Current value: lambda_l1=0.00186515320637357\n",
      "[LightGBM] [Warning] bagging_fraction is set=0.513748103887535, subsample=1.0 will be ignored. Current value: bagging_fraction=0.513748103887535\n",
      "[LightGBM] [Warning] lambda_l2 is set=1.240056747417226e-07, reg_lambda=0.0 will be ignored. Current value: lambda_l2=1.240056747417226e-07\n",
      "[LightGBM] [Warning] bagging_freq is set=4, subsample_freq=0 will be ignored. Current value: bagging_freq=4\n"
     ]
    },
    {
     "name": "stderr",
     "output_type": "stream",
     "text": [
      "\u001b[32m[I 2023-01-15 22:55:41,347]\u001b[0m Trial 45 finished with value: 0.9062756357670222 and parameters: {'scalers': 'robust', 'dim_red': None, 'lambda_l1': 0.00186515320637357, 'lambda_l2': 1.240056747417226e-07, 'num_leaves': 62, 'feature_fraction': 0.7490171157933541, 'bagging_fraction': 0.513748103887535, 'bagging_freq': 4, 'min_child_samples': 27}. Best is trial 9 with value: 0.9138638228055783.\u001b[0m\n"
     ]
    },
    {
     "name": "stdout",
     "output_type": "stream",
     "text": [
      "[LightGBM] [Warning] feature_fraction is set=0.4106903647432768, colsample_bytree=1.0 will be ignored. Current value: feature_fraction=0.4106903647432768\n",
      "[LightGBM] [Warning] lambda_l1 is set=2.7451275490600417e-05, reg_alpha=0.0 will be ignored. Current value: lambda_l1=2.7451275490600417e-05\n",
      "[LightGBM] [Warning] bagging_fraction is set=0.6607083162240035, subsample=1.0 will be ignored. Current value: bagging_fraction=0.6607083162240035\n",
      "[LightGBM] [Warning] lambda_l2 is set=1.1085769216541094e-08, reg_lambda=0.0 will be ignored. Current value: lambda_l2=1.1085769216541094e-08\n",
      "[LightGBM] [Warning] bagging_freq is set=6, subsample_freq=0 will be ignored. Current value: bagging_freq=6\n"
     ]
    },
    {
     "name": "stderr",
     "output_type": "stream",
     "text": [
      "\u001b[32m[I 2023-01-15 22:55:53,363]\u001b[0m Trial 46 finished with value: 0.8673092698933552 and parameters: {'scalers': 'standard', 'dim_red': 'PCA', 'pca_n_components': 31, 'lambda_l1': 2.7451275490600417e-05, 'lambda_l2': 1.1085769216541094e-08, 'num_leaves': 34, 'feature_fraction': 0.4106903647432768, 'bagging_fraction': 0.6607083162240035, 'bagging_freq': 6, 'min_child_samples': 20}. Best is trial 9 with value: 0.9138638228055783.\u001b[0m\n"
     ]
    },
    {
     "name": "stdout",
     "output_type": "stream",
     "text": [
      "[LightGBM] [Warning] feature_fraction is set=0.48184349778754515, colsample_bytree=1.0 will be ignored. Current value: feature_fraction=0.48184349778754515\n",
      "[LightGBM] [Warning] lambda_l1 is set=0.00032258296176628323, reg_alpha=0.0 will be ignored. Current value: lambda_l1=0.00032258296176628323\n",
      "[LightGBM] [Warning] bagging_fraction is set=0.5481277731589349, subsample=1.0 will be ignored. Current value: bagging_fraction=0.5481277731589349\n",
      "[LightGBM] [Warning] lambda_l2 is set=5.504707960953403e-07, reg_lambda=0.0 will be ignored. Current value: lambda_l2=5.504707960953403e-07\n",
      "[LightGBM] [Warning] bagging_freq is set=5, subsample_freq=0 will be ignored. Current value: bagging_freq=5\n"
     ]
    },
    {
     "name": "stderr",
     "output_type": "stream",
     "text": [
      "\u001b[32m[I 2023-01-15 22:57:36,425]\u001b[0m Trial 47 finished with value: 0.9111977030352748 and parameters: {'scalers': 'robust', 'dim_red': None, 'lambda_l1': 0.00032258296176628323, 'lambda_l2': 5.504707960953403e-07, 'num_leaves': 233, 'feature_fraction': 0.48184349778754515, 'bagging_fraction': 0.5481277731589349, 'bagging_freq': 5, 'min_child_samples': 38}. Best is trial 9 with value: 0.9138638228055783.\u001b[0m\n"
     ]
    },
    {
     "name": "stdout",
     "output_type": "stream",
     "text": [
      "[LightGBM] [Warning] feature_fraction is set=0.6868776749650519, colsample_bytree=1.0 will be ignored. Current value: feature_fraction=0.6868776749650519\n",
      "[LightGBM] [Warning] lambda_l1 is set=0.1541727608948868, reg_alpha=0.0 will be ignored. Current value: lambda_l1=0.1541727608948868\n",
      "[LightGBM] [Warning] bagging_fraction is set=0.872566876368386, subsample=1.0 will be ignored. Current value: bagging_fraction=0.872566876368386\n",
      "[LightGBM] [Warning] lambda_l2 is set=3.4367705219465465e-08, reg_lambda=0.0 will be ignored. Current value: lambda_l2=3.4367705219465465e-08\n",
      "[LightGBM] [Warning] bagging_freq is set=2, subsample_freq=0 will be ignored. Current value: bagging_freq=2\n"
     ]
    },
    {
     "name": "stderr",
     "output_type": "stream",
     "text": [
      "\u001b[32m[I 2023-01-15 22:58:47,733]\u001b[0m Trial 48 finished with value: 0.9120180475799836 and parameters: {'scalers': 'minmax', 'dim_red': None, 'lambda_l1': 0.1541727608948868, 'lambda_l2': 3.4367705219465465e-08, 'num_leaves': 152, 'feature_fraction': 0.6868776749650519, 'bagging_fraction': 0.872566876368386, 'bagging_freq': 2, 'min_child_samples': 84}. Best is trial 9 with value: 0.9138638228055783.\u001b[0m\n"
     ]
    },
    {
     "name": "stdout",
     "output_type": "stream",
     "text": [
      "[LightGBM] [Warning] feature_fraction is set=0.7025160149383863, colsample_bytree=1.0 will be ignored. Current value: feature_fraction=0.7025160149383863\n",
      "[LightGBM] [Warning] lambda_l1 is set=0.34139673821694383, reg_alpha=0.0 will be ignored. Current value: lambda_l1=0.34139673821694383\n",
      "[LightGBM] [Warning] bagging_fraction is set=0.9510984979649044, subsample=1.0 will be ignored. Current value: bagging_fraction=0.9510984979649044\n",
      "[LightGBM] [Warning] lambda_l2 is set=5.644101986094061, reg_lambda=0.0 will be ignored. Current value: lambda_l2=5.644101986094061\n",
      "[LightGBM] [Warning] bagging_freq is set=2, subsample_freq=0 will be ignored. Current value: bagging_freq=2\n"
     ]
    },
    {
     "name": "stderr",
     "output_type": "stream",
     "text": [
      "\u001b[32m[I 2023-01-15 22:59:45,389]\u001b[0m Trial 49 finished with value: 0.9062756357670222 and parameters: {'scalers': 'minmax', 'dim_red': None, 'lambda_l1': 0.34139673821694383, 'lambda_l2': 5.644101986094061, 'num_leaves': 101, 'feature_fraction': 0.7025160149383863, 'bagging_fraction': 0.9510984979649044, 'bagging_freq': 2, 'min_child_samples': 86}. Best is trial 9 with value: 0.9138638228055783.\u001b[0m\n"
     ]
    },
    {
     "name": "stdout",
     "output_type": "stream",
     "text": [
      "[LightGBM] [Warning] feature_fraction is set=0.6384463581484175, colsample_bytree=1.0 will be ignored. Current value: feature_fraction=0.6384463581484175\n",
      "[LightGBM] [Warning] lambda_l1 is set=0.14413022562180874, reg_alpha=0.0 will be ignored. Current value: lambda_l1=0.14413022562180874\n",
      "[LightGBM] [Warning] bagging_fraction is set=0.8758539688853487, subsample=1.0 will be ignored. Current value: bagging_fraction=0.8758539688853487\n",
      "[LightGBM] [Warning] lambda_l2 is set=0.0004914106410408087, reg_lambda=0.0 will be ignored. Current value: lambda_l2=0.0004914106410408087\n",
      "[LightGBM] [Warning] bagging_freq is set=1, subsample_freq=0 will be ignored. Current value: bagging_freq=1\n"
     ]
    },
    {
     "name": "stderr",
     "output_type": "stream",
     "text": [
      "\u001b[32m[I 2023-01-15 23:09:12,515]\u001b[0m Trial 50 finished with value: 0.9101722723543888 and parameters: {'scalers': 'minmax', 'dim_red': None, 'lambda_l1': 0.14413022562180874, 'lambda_l2': 0.0004914106410408087, 'num_leaves': 147, 'feature_fraction': 0.6384463581484175, 'bagging_fraction': 0.8758539688853487, 'bagging_freq': 1, 'min_child_samples': 98}. Best is trial 9 with value: 0.9138638228055783.\u001b[0m\n"
     ]
    },
    {
     "name": "stdout",
     "output_type": "stream",
     "text": [
      "[LightGBM] [Warning] feature_fraction is set=0.724731522707555, colsample_bytree=1.0 will be ignored. Current value: feature_fraction=0.724731522707555\n",
      "[LightGBM] [Warning] lambda_l1 is set=0.011047689161011247, reg_alpha=0.0 will be ignored. Current value: lambda_l1=0.011047689161011247\n",
      "[LightGBM] [Warning] bagging_fraction is set=0.8142235056428166, subsample=1.0 will be ignored. Current value: bagging_fraction=0.8142235056428166\n",
      "[LightGBM] [Warning] lambda_l2 is set=4.170593360144713e-08, reg_lambda=0.0 will be ignored. Current value: lambda_l2=4.170593360144713e-08\n",
      "[LightGBM] [Warning] bagging_freq is set=2, subsample_freq=0 will be ignored. Current value: bagging_freq=2\n"
     ]
    },
    {
     "name": "stderr",
     "output_type": "stream",
     "text": [
      "\u001b[32m[I 2023-01-15 23:18:43,329]\u001b[0m Trial 51 finished with value: 0.9122231337161608 and parameters: {'scalers': 'minmax', 'dim_red': None, 'lambda_l1': 0.011047689161011247, 'lambda_l2': 4.170593360144713e-08, 'num_leaves': 173, 'feature_fraction': 0.724731522707555, 'bagging_fraction': 0.8142235056428166, 'bagging_freq': 2, 'min_child_samples': 94}. Best is trial 9 with value: 0.9138638228055783.\u001b[0m\n"
     ]
    },
    {
     "name": "stdout",
     "output_type": "stream",
     "text": [
      "[LightGBM] [Warning] feature_fraction is set=0.7220339699139984, colsample_bytree=1.0 will be ignored. Current value: feature_fraction=0.7220339699139984\n",
      "[LightGBM] [Warning] lambda_l1 is set=0.017066667335182674, reg_alpha=0.0 will be ignored. Current value: lambda_l1=0.017066667335182674\n",
      "[LightGBM] [Warning] bagging_fraction is set=0.8228923600471284, subsample=1.0 will be ignored. Current value: bagging_fraction=0.8228923600471284\n",
      "[LightGBM] [Warning] lambda_l2 is set=3.903101500630856e-08, reg_lambda=0.0 will be ignored. Current value: lambda_l2=3.903101500630856e-08\n",
      "[LightGBM] [Warning] bagging_freq is set=2, subsample_freq=0 will be ignored. Current value: bagging_freq=2\n"
     ]
    },
    {
     "name": "stderr",
     "output_type": "stream",
     "text": [
      "\u001b[32m[I 2023-01-15 23:20:08,102]\u001b[0m Trial 52 finished with value: 0.9091468416735029 and parameters: {'scalers': 'minmax', 'dim_red': None, 'lambda_l1': 0.017066667335182674, 'lambda_l2': 3.903101500630856e-08, 'num_leaves': 156, 'feature_fraction': 0.7220339699139984, 'bagging_fraction': 0.8228923600471284, 'bagging_freq': 2, 'min_child_samples': 82}. Best is trial 9 with value: 0.9138638228055783.\u001b[0m\n"
     ]
    },
    {
     "name": "stdout",
     "output_type": "stream",
     "text": [
      "[LightGBM] [Warning] feature_fraction is set=0.6850281530684674, colsample_bytree=1.0 will be ignored. Current value: feature_fraction=0.6850281530684674\n",
      "[LightGBM] [Warning] lambda_l1 is set=1.155210073810888, reg_alpha=0.0 will be ignored. Current value: lambda_l1=1.155210073810888\n",
      "[LightGBM] [Warning] bagging_fraction is set=0.8703748795701655, subsample=1.0 will be ignored. Current value: bagging_fraction=0.8703748795701655\n",
      "[LightGBM] [Warning] lambda_l2 is set=2.547561442292319e-06, reg_lambda=0.0 will be ignored. Current value: lambda_l2=2.547561442292319e-06\n",
      "[LightGBM] [Warning] bagging_freq is set=2, subsample_freq=0 will be ignored. Current value: bagging_freq=2\n"
     ]
    },
    {
     "name": "stderr",
     "output_type": "stream",
     "text": [
      "\u001b[32m[I 2023-01-15 23:21:09,515]\u001b[0m Trial 53 finished with value: 0.9091468416735029 and parameters: {'scalers': 'minmax', 'dim_red': None, 'lambda_l1': 1.155210073810888, 'lambda_l2': 2.547561442292319e-06, 'num_leaves': 173, 'feature_fraction': 0.6850281530684674, 'bagging_fraction': 0.8703748795701655, 'bagging_freq': 2, 'min_child_samples': 90}. Best is trial 9 with value: 0.9138638228055783.\u001b[0m\n"
     ]
    },
    {
     "name": "stdout",
     "output_type": "stream",
     "text": [
      "[LightGBM] [Warning] feature_fraction is set=0.8179062857894213, colsample_bytree=1.0 will be ignored. Current value: feature_fraction=0.8179062857894213\n",
      "[LightGBM] [Warning] lambda_l1 is set=0.008455214323051845, reg_alpha=0.0 will be ignored. Current value: lambda_l1=0.008455214323051845\n",
      "[LightGBM] [Warning] bagging_fraction is set=0.9114454105665653, subsample=1.0 will be ignored. Current value: bagging_fraction=0.9114454105665653\n",
      "[LightGBM] [Warning] lambda_l2 is set=1.0201150234098915e-06, reg_lambda=0.0 will be ignored. Current value: lambda_l2=1.0201150234098915e-06\n",
      "[LightGBM] [Warning] bagging_freq is set=1, subsample_freq=0 will be ignored. Current value: bagging_freq=1\n"
     ]
    },
    {
     "name": "stderr",
     "output_type": "stream",
     "text": [
      "\u001b[32m[I 2023-01-15 23:22:39,592]\u001b[0m Trial 54 finished with value: 0.9066858080393765 and parameters: {'scalers': 'minmax', 'dim_red': None, 'lambda_l1': 0.008455214323051845, 'lambda_l2': 1.0201150234098915e-06, 'num_leaves': 191, 'feature_fraction': 0.8179062857894213, 'bagging_fraction': 0.9114454105665653, 'bagging_freq': 1, 'min_child_samples': 95}. Best is trial 9 with value: 0.9138638228055783.\u001b[0m\n"
     ]
    },
    {
     "name": "stdout",
     "output_type": "stream",
     "text": [
      "[LightGBM] [Warning] feature_fraction is set=0.7644169841727358, colsample_bytree=1.0 will be ignored. Current value: feature_fraction=0.7644169841727358\n",
      "[LightGBM] [Warning] lambda_l1 is set=0.10696995518737035, reg_alpha=0.0 will be ignored. Current value: lambda_l1=0.10696995518737035\n",
      "[LightGBM] [Warning] bagging_fraction is set=0.7316133568005996, subsample=1.0 will be ignored. Current value: bagging_fraction=0.7316133568005996\n",
      "[LightGBM] [Warning] lambda_l2 is set=1.3584700491633942e-05, reg_lambda=0.0 will be ignored. Current value: lambda_l2=1.3584700491633942e-05\n",
      "[LightGBM] [Warning] bagging_freq is set=3, subsample_freq=0 will be ignored. Current value: bagging_freq=3\n"
     ]
    },
    {
     "name": "stderr",
     "output_type": "stream",
     "text": [
      "\u001b[32m[I 2023-01-15 23:24:14,939]\u001b[0m Trial 55 finished with value: 0.9068908941755537 and parameters: {'scalers': 'minmax', 'dim_red': None, 'lambda_l1': 0.10696995518737035, 'lambda_l2': 1.3584700491633942e-05, 'num_leaves': 155, 'feature_fraction': 0.7644169841727358, 'bagging_fraction': 0.7316133568005996, 'bagging_freq': 3, 'min_child_samples': 83}. Best is trial 9 with value: 0.9138638228055783.\u001b[0m\n"
     ]
    },
    {
     "name": "stdout",
     "output_type": "stream",
     "text": [
      "[LightGBM] [Warning] feature_fraction is set=0.7304158626332434, colsample_bytree=1.0 will be ignored. Current value: feature_fraction=0.7304158626332434\n",
      "[LightGBM] [Warning] lambda_l1 is set=0.02407493630917489, reg_alpha=0.0 will be ignored. Current value: lambda_l1=0.02407493630917489\n",
      "[LightGBM] [Warning] bagging_fraction is set=0.8378628536529261, subsample=1.0 will be ignored. Current value: bagging_fraction=0.8378628536529261\n",
      "[LightGBM] [Warning] lambda_l2 is set=2.714575414232018e-08, reg_lambda=0.0 will be ignored. Current value: lambda_l2=2.714575414232018e-08\n",
      "[LightGBM] [Warning] bagging_freq is set=2, subsample_freq=0 will be ignored. Current value: bagging_freq=2\n"
     ]
    },
    {
     "name": "stderr",
     "output_type": "stream",
     "text": [
      "\u001b[32m[I 2023-01-15 23:25:21,021]\u001b[0m Trial 56 finished with value: 0.9118129614438064 and parameters: {'scalers': 'minmax', 'dim_red': None, 'lambda_l1': 0.02407493630917489, 'lambda_l2': 2.714575414232018e-08, 'num_leaves': 202, 'feature_fraction': 0.7304158626332434, 'bagging_fraction': 0.8378628536529261, 'bagging_freq': 2, 'min_child_samples': 95}. Best is trial 9 with value: 0.9138638228055783.\u001b[0m\n"
     ]
    },
    {
     "name": "stdout",
     "output_type": "stream",
     "text": [
      "[LightGBM] [Warning] feature_fraction is set=0.6642514107210249, colsample_bytree=1.0 will be ignored. Current value: feature_fraction=0.6642514107210249\n",
      "[LightGBM] [Warning] lambda_l1 is set=0.052763768247530166, reg_alpha=0.0 will be ignored. Current value: lambda_l1=0.052763768247530166\n",
      "[LightGBM] [Warning] bagging_fraction is set=0.7854803506487252, subsample=1.0 will be ignored. Current value: bagging_fraction=0.7854803506487252\n",
      "[LightGBM] [Warning] lambda_l2 is set=1.5440683789754505e-07, reg_lambda=0.0 will be ignored. Current value: lambda_l2=1.5440683789754505e-07\n",
      "[LightGBM] [Warning] bagging_freq is set=2, subsample_freq=0 will be ignored. Current value: bagging_freq=2\n"
     ]
    },
    {
     "name": "stderr",
     "output_type": "stream",
     "text": [
      "\u001b[32m[I 2023-01-15 23:27:46,638]\u001b[0m Trial 57 finished with value: 0.9087366694011485 and parameters: {'scalers': 'minmax', 'dim_red': None, 'lambda_l1': 0.052763768247530166, 'lambda_l2': 1.5440683789754505e-07, 'num_leaves': 172, 'feature_fraction': 0.6642514107210249, 'bagging_fraction': 0.7854803506487252, 'bagging_freq': 2, 'min_child_samples': 74}. Best is trial 9 with value: 0.9138638228055783.\u001b[0m\n"
     ]
    },
    {
     "name": "stdout",
     "output_type": "stream",
     "text": [
      "[LightGBM] [Warning] feature_fraction is set=0.836473918675005, colsample_bytree=1.0 will be ignored. Current value: feature_fraction=0.836473918675005\n",
      "[LightGBM] [Warning] lambda_l1 is set=0.1954182836921614, reg_alpha=0.0 will be ignored. Current value: lambda_l1=0.1954182836921614\n",
      "[LightGBM] [Warning] bagging_fraction is set=0.9264449863306544, subsample=1.0 will be ignored. Current value: bagging_fraction=0.9264449863306544\n",
      "[LightGBM] [Warning] lambda_l2 is set=0.0022809834202403762, reg_lambda=0.0 will be ignored. Current value: lambda_l2=0.0022809834202403762\n",
      "[LightGBM] [Warning] bagging_freq is set=3, subsample_freq=0 will be ignored. Current value: bagging_freq=3\n"
     ]
    },
    {
     "name": "stderr",
     "output_type": "stream",
     "text": [
      "\u001b[32m[I 2023-01-15 23:29:20,834]\u001b[0m Trial 58 finished with value: 0.9079163248564397 and parameters: {'scalers': 'standard', 'dim_red': None, 'lambda_l1': 0.1954182836921614, 'lambda_l2': 0.0022809834202403762, 'num_leaves': 141, 'feature_fraction': 0.836473918675005, 'bagging_fraction': 0.9264449863306544, 'bagging_freq': 3, 'min_child_samples': 77}. Best is trial 9 with value: 0.9138638228055783.\u001b[0m\n"
     ]
    },
    {
     "name": "stdout",
     "output_type": "stream",
     "text": [
      "[LightGBM] [Warning] feature_fraction is set=0.7089722640108717, colsample_bytree=1.0 will be ignored. Current value: feature_fraction=0.7089722640108717\n",
      "[LightGBM] [Warning] lambda_l1 is set=2.8121977958891082, reg_alpha=0.0 will be ignored. Current value: lambda_l1=2.8121977958891082\n",
      "[LightGBM] [Warning] bagging_fraction is set=0.7053507656523633, subsample=1.0 will be ignored. Current value: bagging_fraction=0.7053507656523633\n",
      "[LightGBM] [Warning] lambda_l2 is set=3.132438588852469e-05, reg_lambda=0.0 will be ignored. Current value: lambda_l2=3.132438588852469e-05\n",
      "[LightGBM] [Warning] bagging_freq is set=1, subsample_freq=0 will be ignored. Current value: bagging_freq=1\n"
     ]
    },
    {
     "name": "stderr",
     "output_type": "stream",
     "text": [
      "\u001b[32m[I 2023-01-15 23:29:35,286]\u001b[0m Trial 59 finished with value: 0.48461853978671043 and parameters: {'scalers': 'minmax', 'dim_red': 'PCA', 'pca_n_components': 3, 'lambda_l1': 2.8121977958891082, 'lambda_l2': 3.132438588852469e-05, 'num_leaves': 127, 'feature_fraction': 0.7089722640108717, 'bagging_fraction': 0.7053507656523633, 'bagging_freq': 1, 'min_child_samples': 91}. Best is trial 9 with value: 0.9138638228055783.\u001b[0m\n"
     ]
    },
    {
     "name": "stdout",
     "output_type": "stream",
     "text": [
      "[LightGBM] [Warning] feature_fraction is set=0.8041562433556038, colsample_bytree=1.0 will be ignored. Current value: feature_fraction=0.8041562433556038\n",
      "[LightGBM] [Warning] lambda_l1 is set=0.00015693669300283802, reg_alpha=0.0 will be ignored. Current value: lambda_l1=0.00015693669300283802\n",
      "[LightGBM] [Warning] bagging_fraction is set=0.7697494700205583, subsample=1.0 will be ignored. Current value: bagging_fraction=0.7697494700205583\n",
      "[LightGBM] [Warning] lambda_l2 is set=0.00015458913737601227, reg_lambda=0.0 will be ignored. Current value: lambda_l2=0.00015458913737601227\n",
      "[LightGBM] [Warning] bagging_freq is set=4, subsample_freq=0 will be ignored. Current value: bagging_freq=4\n"
     ]
    },
    {
     "name": "stderr",
     "output_type": "stream",
     "text": [
      "\u001b[32m[I 2023-01-15 23:32:50,892]\u001b[0m Trial 60 finished with value: 0.9095570139458573 and parameters: {'scalers': 'robust', 'dim_red': None, 'lambda_l1': 0.00015693669300283802, 'lambda_l2': 0.00015458913737601227, 'num_leaves': 219, 'feature_fraction': 0.8041562433556038, 'bagging_fraction': 0.7697494700205583, 'bagging_freq': 4, 'min_child_samples': 32}. Best is trial 9 with value: 0.9138638228055783.\u001b[0m\n"
     ]
    },
    {
     "name": "stdout",
     "output_type": "stream",
     "text": [
      "[LightGBM] [Warning] feature_fraction is set=0.6069446275727459, colsample_bytree=1.0 will be ignored. Current value: feature_fraction=0.6069446275727459\n",
      "[LightGBM] [Warning] lambda_l1 is set=0.0018521552955389619, reg_alpha=0.0 will be ignored. Current value: lambda_l1=0.0018521552955389619\n",
      "[LightGBM] [Warning] bagging_fraction is set=0.8019599372755759, subsample=1.0 will be ignored. Current value: bagging_fraction=0.8019599372755759\n",
      "[LightGBM] [Warning] lambda_l2 is set=8.94311790060583e-08, reg_lambda=0.0 will be ignored. Current value: lambda_l2=8.94311790060583e-08\n",
      "[LightGBM] [Warning] bagging_freq is set=3, subsample_freq=0 will be ignored. Current value: bagging_freq=3\n"
     ]
    },
    {
     "name": "stderr",
     "output_type": "stream",
     "text": [
      "\u001b[32m[I 2023-01-15 23:33:50,035]\u001b[0m Trial 61 finished with value: 0.9064807219031994 and parameters: {'scalers': 'standard', 'dim_red': None, 'lambda_l1': 0.0018521552955389619, 'lambda_l2': 8.94311790060583e-08, 'num_leaves': 206, 'feature_fraction': 0.6069446275727459, 'bagging_fraction': 0.8019599372755759, 'bagging_freq': 3, 'min_child_samples': 100}. Best is trial 9 with value: 0.9138638228055783.\u001b[0m\n"
     ]
    },
    {
     "name": "stdout",
     "output_type": "stream",
     "text": [
      "[LightGBM] [Warning] feature_fraction is set=0.7731486227246058, colsample_bytree=1.0 will be ignored. Current value: feature_fraction=0.7731486227246058\n",
      "[LightGBM] [Warning] lambda_l1 is set=0.5725831696648769, reg_alpha=0.0 will be ignored. Current value: lambda_l1=0.5725831696648769\n",
      "[LightGBM] [Warning] bagging_fraction is set=0.6767067941597624, subsample=1.0 will be ignored. Current value: bagging_fraction=0.6767067941597624\n",
      "[LightGBM] [Warning] lambda_l2 is set=2.521674731976664e-07, reg_lambda=0.0 will be ignored. Current value: lambda_l2=2.521674731976664e-07\n",
      "[LightGBM] [Warning] bagging_freq is set=7, subsample_freq=0 will be ignored. Current value: bagging_freq=7\n"
     ]
    },
    {
     "name": "stderr",
     "output_type": "stream",
     "text": [
      "\u001b[32m[I 2023-01-15 23:35:29,826]\u001b[0m Trial 62 finished with value: 0.9062756357670222 and parameters: {'scalers': 'minmax', 'dim_red': None, 'lambda_l1': 0.5725831696648769, 'lambda_l2': 2.521674731976664e-07, 'num_leaves': 185, 'feature_fraction': 0.7731486227246058, 'bagging_fraction': 0.6767067941597624, 'bagging_freq': 7, 'min_child_samples': 25}. Best is trial 9 with value: 0.9138638228055783.\u001b[0m\n"
     ]
    },
    {
     "name": "stdout",
     "output_type": "stream",
     "text": [
      "[LightGBM] [Warning] feature_fraction is set=0.9840355098240596, colsample_bytree=1.0 will be ignored. Current value: feature_fraction=0.9840355098240596\n",
      "[LightGBM] [Warning] lambda_l1 is set=0.011508037597462427, reg_alpha=0.0 will be ignored. Current value: lambda_l1=0.011508037597462427\n",
      "[LightGBM] [Warning] bagging_fraction is set=0.8635734699884771, subsample=1.0 will be ignored. Current value: bagging_fraction=0.8635734699884771\n",
      "[LightGBM] [Warning] lambda_l2 is set=1.1301506734594464e-08, reg_lambda=0.0 will be ignored. Current value: lambda_l2=1.1301506734594464e-08\n",
      "[LightGBM] [Warning] bagging_freq is set=4, subsample_freq=0 will be ignored. Current value: bagging_freq=4\n"
     ]
    },
    {
     "name": "stderr",
     "output_type": "stream",
     "text": [
      "\u001b[32m[I 2023-01-15 23:37:33,106]\u001b[0m Trial 63 finished with value: 0.9161197703035275 and parameters: {'scalers': 'standard', 'dim_red': None, 'lambda_l1': 0.011508037597462427, 'lambda_l2': 1.1301506734594464e-08, 'num_leaves': 248, 'feature_fraction': 0.9840355098240596, 'bagging_fraction': 0.8635734699884771, 'bagging_freq': 4, 'min_child_samples': 68}. Best is trial 63 with value: 0.9161197703035275.\u001b[0m\n"
     ]
    },
    {
     "name": "stdout",
     "output_type": "stream",
     "text": [
      "[LightGBM] [Warning] feature_fraction is set=0.9738714911043529, colsample_bytree=1.0 will be ignored. Current value: feature_fraction=0.9738714911043529\n",
      "[LightGBM] [Warning] lambda_l1 is set=0.015677761728768537, reg_alpha=0.0 will be ignored. Current value: lambda_l1=0.015677761728768537\n",
      "[LightGBM] [Warning] bagging_fraction is set=0.8527340926795332, subsample=1.0 will be ignored. Current value: bagging_fraction=0.8527340926795332\n",
      "[LightGBM] [Warning] lambda_l2 is set=1.691908762044926e-08, reg_lambda=0.0 will be ignored. Current value: lambda_l2=1.691908762044926e-08\n",
      "[LightGBM] [Warning] bagging_freq is set=3, subsample_freq=0 will be ignored. Current value: bagging_freq=3\n"
     ]
    },
    {
     "name": "stderr",
     "output_type": "stream",
     "text": [
      "\u001b[32m[I 2023-01-15 23:39:10,994]\u001b[0m Trial 64 finished with value: 0.9128383921246924 and parameters: {'scalers': 'standard', 'dim_red': None, 'lambda_l1': 0.015677761728768537, 'lambda_l2': 1.691908762044926e-08, 'num_leaves': 256, 'feature_fraction': 0.9738714911043529, 'bagging_fraction': 0.8527340926795332, 'bagging_freq': 3, 'min_child_samples': 69}. Best is trial 63 with value: 0.9161197703035275.\u001b[0m\n"
     ]
    },
    {
     "name": "stdout",
     "output_type": "stream",
     "text": [
      "[LightGBM] [Warning] feature_fraction is set=0.9750000256771563, colsample_bytree=1.0 will be ignored. Current value: feature_fraction=0.9750000256771563\n",
      "[LightGBM] [Warning] lambda_l1 is set=0.011628009035594498, reg_alpha=0.0 will be ignored. Current value: lambda_l1=0.011628009035594498\n",
      "[LightGBM] [Warning] bagging_fraction is set=0.8454305185134735, subsample=1.0 will be ignored. Current value: bagging_fraction=0.8454305185134735\n",
      "[LightGBM] [Warning] lambda_l2 is set=1.0707114095174383e-08, reg_lambda=0.0 will be ignored. Current value: lambda_l2=1.0707114095174383e-08\n",
      "[LightGBM] [Warning] bagging_freq is set=3, subsample_freq=0 will be ignored. Current value: bagging_freq=3\n"
     ]
    },
    {
     "name": "stderr",
     "output_type": "stream",
     "text": [
      "\u001b[32m[I 2023-01-15 23:40:48,247]\u001b[0m Trial 65 finished with value: 0.9118129614438064 and parameters: {'scalers': 'standard', 'dim_red': None, 'lambda_l1': 0.011628009035594498, 'lambda_l2': 1.0707114095174383e-08, 'num_leaves': 232, 'feature_fraction': 0.9750000256771563, 'bagging_fraction': 0.8454305185134735, 'bagging_freq': 3, 'min_child_samples': 67}. Best is trial 63 with value: 0.9161197703035275.\u001b[0m\n"
     ]
    },
    {
     "name": "stdout",
     "output_type": "stream",
     "text": [
      "[LightGBM] [Warning] feature_fraction is set=0.9295795846705266, colsample_bytree=1.0 will be ignored. Current value: feature_fraction=0.9295795846705266\n",
      "[LightGBM] [Warning] lambda_l1 is set=0.04362840233939499, reg_alpha=0.0 will be ignored. Current value: lambda_l1=0.04362840233939499\n",
      "[LightGBM] [Warning] bagging_fraction is set=0.8246737156201049, subsample=1.0 will be ignored. Current value: bagging_fraction=0.8246737156201049\n",
      "[LightGBM] [Warning] lambda_l2 is set=2.2154257784133578e-08, reg_lambda=0.0 will be ignored. Current value: lambda_l2=2.2154257784133578e-08\n",
      "[LightGBM] [Warning] bagging_freq is set=4, subsample_freq=0 will be ignored. Current value: bagging_freq=4\n"
     ]
    },
    {
     "name": "stderr",
     "output_type": "stream",
     "text": [
      "\u001b[32m[I 2023-01-15 23:42:23,119]\u001b[0m Trial 66 finished with value: 0.9083264971287941 and parameters: {'scalers': 'standard', 'dim_red': None, 'lambda_l1': 0.04362840233939499, 'lambda_l2': 2.2154257784133578e-08, 'num_leaves': 256, 'feature_fraction': 0.9295795846705266, 'bagging_fraction': 0.8246737156201049, 'bagging_freq': 4, 'min_child_samples': 62}. Best is trial 63 with value: 0.9161197703035275.\u001b[0m\n"
     ]
    },
    {
     "name": "stdout",
     "output_type": "stream",
     "text": [
      "[LightGBM] [Warning] feature_fraction is set=0.9953835390052386, colsample_bytree=1.0 will be ignored. Current value: feature_fraction=0.9953835390052386\n",
      "[LightGBM] [Warning] lambda_l1 is set=0.0030914179656315417, reg_alpha=0.0 will be ignored. Current value: lambda_l1=0.0030914179656315417\n",
      "[LightGBM] [Warning] bagging_fraction is set=0.8890792612706078, subsample=1.0 will be ignored. Current value: bagging_fraction=0.8890792612706078\n",
      "[LightGBM] [Warning] lambda_l2 is set=7.573552953648517e-06, reg_lambda=0.0 will be ignored. Current value: lambda_l2=7.573552953648517e-06\n",
      "[LightGBM] [Warning] bagging_freq is set=3, subsample_freq=0 will be ignored. Current value: bagging_freq=3\n"
     ]
    },
    {
     "name": "stderr",
     "output_type": "stream",
     "text": [
      "\u001b[32m[I 2023-01-15 23:44:29,716]\u001b[0m Trial 67 finished with value: 0.9107875307629204 and parameters: {'scalers': 'standard', 'dim_red': None, 'lambda_l1': 0.0030914179656315417, 'lambda_l2': 7.573552953648517e-06, 'num_leaves': 228, 'feature_fraction': 0.9953835390052386, 'bagging_fraction': 0.8890792612706078, 'bagging_freq': 3, 'min_child_samples': 50}. Best is trial 63 with value: 0.9161197703035275.\u001b[0m\n"
     ]
    },
    {
     "name": "stdout",
     "output_type": "stream",
     "text": [
      "[LightGBM] [Warning] feature_fraction is set=0.9525260032271035, colsample_bytree=1.0 will be ignored. Current value: feature_fraction=0.9525260032271035\n",
      "[LightGBM] [Warning] lambda_l1 is set=1.4156554182067388e-07, reg_alpha=0.0 will be ignored. Current value: lambda_l1=1.4156554182067388e-07\n",
      "[LightGBM] [Warning] bagging_fraction is set=0.9694705277952761, subsample=1.0 will be ignored. Current value: bagging_fraction=0.9694705277952761\n",
      "[LightGBM] [Warning] lambda_l2 is set=9.107844420438671e-07, reg_lambda=0.0 will be ignored. Current value: lambda_l2=9.107844420438671e-07\n",
      "[LightGBM] [Warning] bagging_freq is set=5, subsample_freq=0 will be ignored. Current value: bagging_freq=5\n"
     ]
    },
    {
     "name": "stderr",
     "output_type": "stream",
     "text": [
      "\u001b[32m[I 2023-01-15 23:46:34,413]\u001b[0m Trial 68 finished with value: 0.911402789171452 and parameters: {'scalers': 'standard', 'dim_red': None, 'lambda_l1': 1.4156554182067388e-07, 'lambda_l2': 9.107844420438671e-07, 'num_leaves': 255, 'feature_fraction': 0.9525260032271035, 'bagging_fraction': 0.9694705277952761, 'bagging_freq': 5, 'min_child_samples': 69}. Best is trial 63 with value: 0.9161197703035275.\u001b[0m\n"
     ]
    },
    {
     "name": "stdout",
     "output_type": "stream",
     "text": [
      "[LightGBM] [Warning] feature_fraction is set=0.8985531042397881, colsample_bytree=1.0 will be ignored. Current value: feature_fraction=0.8985531042397881\n",
      "[LightGBM] [Warning] lambda_l1 is set=0.0006465574034785379, reg_alpha=0.0 will be ignored. Current value: lambda_l1=0.0006465574034785379\n",
      "[LightGBM] [Warning] bagging_fraction is set=0.7460809224921148, subsample=1.0 will be ignored. Current value: bagging_fraction=0.7460809224921148\n",
      "[LightGBM] [Warning] lambda_l2 is set=0.00036500703547989526, reg_lambda=0.0 will be ignored. Current value: lambda_l2=0.00036500703547989526\n",
      "[LightGBM] [Warning] bagging_freq is set=4, subsample_freq=0 will be ignored. Current value: bagging_freq=4\n"
     ]
    },
    {
     "name": "stderr",
     "output_type": "stream",
     "text": [
      "\u001b[32m[I 2023-01-15 23:48:16,070]\u001b[0m Trial 69 finished with value: 0.9136587366694011 and parameters: {'scalers': 'standard', 'dim_red': None, 'lambda_l1': 0.0006465574034785379, 'lambda_l2': 0.00036500703547989526, 'num_leaves': 243, 'feature_fraction': 0.8985531042397881, 'bagging_fraction': 0.7460809224921148, 'bagging_freq': 4, 'min_child_samples': 61}. Best is trial 63 with value: 0.9161197703035275.\u001b[0m\n"
     ]
    },
    {
     "name": "stdout",
     "output_type": "stream",
     "text": [
      "[LightGBM] [Warning] feature_fraction is set=0.8983941699163753, colsample_bytree=1.0 will be ignored. Current value: feature_fraction=0.8983941699163753\n",
      "[LightGBM] [Warning] lambda_l1 is set=1.0772653294640395e-05, reg_alpha=0.0 will be ignored. Current value: lambda_l1=1.0772653294640395e-05\n",
      "[LightGBM] [Warning] bagging_fraction is set=0.7486471959670207, subsample=1.0 will be ignored. Current value: bagging_fraction=0.7486471959670207\n",
      "[LightGBM] [Warning] lambda_l2 is set=0.0005016919584651642, reg_lambda=0.0 will be ignored. Current value: lambda_l2=0.0005016919584651642\n",
      "[LightGBM] [Warning] bagging_freq is set=4, subsample_freq=0 will be ignored. Current value: bagging_freq=4\n"
     ]
    },
    {
     "name": "stderr",
     "output_type": "stream",
     "text": [
      "\u001b[32m[I 2023-01-15 23:50:00,985]\u001b[0m Trial 70 finished with value: 0.911402789171452 and parameters: {'scalers': 'standard', 'dim_red': None, 'lambda_l1': 1.0772653294640395e-05, 'lambda_l2': 0.0005016919584651642, 'num_leaves': 249, 'feature_fraction': 0.8983941699163753, 'bagging_fraction': 0.7486471959670207, 'bagging_freq': 4, 'min_child_samples': 59}. Best is trial 63 with value: 0.9161197703035275.\u001b[0m\n"
     ]
    },
    {
     "name": "stdout",
     "output_type": "stream",
     "text": [
      "[LightGBM] [Warning] feature_fraction is set=0.9684694905057754, colsample_bytree=1.0 will be ignored. Current value: feature_fraction=0.9684694905057754\n",
      "[LightGBM] [Warning] lambda_l1 is set=0.005028074007290864, reg_alpha=0.0 will be ignored. Current value: lambda_l1=0.005028074007290864\n",
      "[LightGBM] [Warning] bagging_fraction is set=0.6928304245684711, subsample=1.0 will be ignored. Current value: bagging_fraction=0.6928304245684711\n",
      "[LightGBM] [Warning] lambda_l2 is set=0.0011048598192263822, reg_lambda=0.0 will be ignored. Current value: lambda_l2=0.0011048598192263822\n",
      "[LightGBM] [Warning] bagging_freq is set=4, subsample_freq=0 will be ignored. Current value: bagging_freq=4\n"
     ]
    },
    {
     "name": "stderr",
     "output_type": "stream",
     "text": [
      "\u001b[32m[I 2023-01-15 23:51:14,259]\u001b[0m Trial 71 finished with value: 0.910377358490566 and parameters: {'scalers': 'standard', 'dim_red': None, 'lambda_l1': 0.005028074007290864, 'lambda_l2': 0.0011048598192263822, 'num_leaves': 243, 'feature_fraction': 0.9684694905057754, 'bagging_fraction': 0.6928304245684711, 'bagging_freq': 4, 'min_child_samples': 75}. Best is trial 63 with value: 0.9161197703035275.\u001b[0m\n"
     ]
    },
    {
     "name": "stdout",
     "output_type": "stream",
     "text": [
      "[LightGBM] [Warning] feature_fraction is set=0.9352847336104282, colsample_bytree=1.0 will be ignored. Current value: feature_fraction=0.9352847336104282\n",
      "[LightGBM] [Warning] lambda_l1 is set=0.0005852156789361512, reg_alpha=0.0 will be ignored. Current value: lambda_l1=0.0005852156789361512\n",
      "[LightGBM] [Warning] bagging_fraction is set=0.8582134121761179, subsample=1.0 will be ignored. Current value: bagging_fraction=0.8582134121761179\n",
      "[LightGBM] [Warning] lambda_l2 is set=1.638890006723357e-08, reg_lambda=0.0 will be ignored. Current value: lambda_l2=1.638890006723357e-08\n",
      "[LightGBM] [Warning] bagging_freq is set=5, subsample_freq=0 will be ignored. Current value: bagging_freq=5\n"
     ]
    },
    {
     "name": "stderr",
     "output_type": "stream",
     "text": [
      "\u001b[32m[I 2023-01-15 23:52:52,325]\u001b[0m Trial 72 finished with value: 0.9066858080393765 and parameters: {'scalers': 'standard', 'dim_red': None, 'lambda_l1': 0.0005852156789361512, 'lambda_l2': 1.638890006723357e-08, 'num_leaves': 247, 'feature_fraction': 0.9352847336104282, 'bagging_fraction': 0.8582134121761179, 'bagging_freq': 5, 'min_child_samples': 69}. Best is trial 63 with value: 0.9161197703035275.\u001b[0m\n"
     ]
    },
    {
     "name": "stdout",
     "output_type": "stream",
     "text": [
      "[LightGBM] [Warning] feature_fraction is set=0.916685418060269, colsample_bytree=1.0 will be ignored. Current value: feature_fraction=0.916685418060269\n",
      "[LightGBM] [Warning] lambda_l1 is set=0.03258120045630975, reg_alpha=0.0 will be ignored. Current value: lambda_l1=0.03258120045630975\n",
      "[LightGBM] [Warning] bagging_fraction is set=0.7677164104418365, subsample=1.0 will be ignored. Current value: bagging_fraction=0.7677164104418365\n",
      "[LightGBM] [Warning] lambda_l2 is set=0.004480409682578742, reg_lambda=0.0 will be ignored. Current value: lambda_l2=0.004480409682578742\n",
      "[LightGBM] [Warning] bagging_freq is set=4, subsample_freq=0 will be ignored. Current value: bagging_freq=4\n"
     ]
    },
    {
     "name": "stderr",
     "output_type": "stream",
     "text": [
      "\u001b[32m[I 2023-01-15 23:54:39,408]\u001b[0m Trial 73 finished with value: 0.9097621000820345 and parameters: {'scalers': 'standard', 'dim_red': None, 'lambda_l1': 0.03258120045630975, 'lambda_l2': 0.004480409682578742, 'num_leaves': 235, 'feature_fraction': 0.916685418060269, 'bagging_fraction': 0.7677164104418365, 'bagging_freq': 4, 'min_child_samples': 59}. Best is trial 63 with value: 0.9161197703035275.\u001b[0m\n"
     ]
    },
    {
     "name": "stdout",
     "output_type": "stream",
     "text": [
      "[LightGBM] [Warning] feature_fraction is set=0.9780520951141681, colsample_bytree=1.0 will be ignored. Current value: feature_fraction=0.9780520951141681\n",
      "[LightGBM] [Warning] lambda_l1 is set=0.0011304597646462887, reg_alpha=0.0 will be ignored. Current value: lambda_l1=0.0011304597646462887\n",
      "[LightGBM] [Warning] bagging_fraction is set=0.7943893767860186, subsample=1.0 will be ignored. Current value: bagging_fraction=0.7943893767860186\n",
      "[LightGBM] [Warning] lambda_l2 is set=7.187252883742763e-05, reg_lambda=0.0 will be ignored. Current value: lambda_l2=7.187252883742763e-05\n",
      "[LightGBM] [Warning] bagging_freq is set=4, subsample_freq=0 will be ignored. Current value: bagging_freq=4\n"
     ]
    },
    {
     "name": "stderr",
     "output_type": "stream",
     "text": [
      "\u001b[32m[I 2023-01-15 23:56:55,845]\u001b[0m Trial 74 finished with value: 0.9101722723543888 and parameters: {'scalers': 'standard', 'dim_red': None, 'lambda_l1': 0.0011304597646462887, 'lambda_l2': 7.187252883742763e-05, 'num_leaves': 224, 'feature_fraction': 0.9780520951141681, 'bagging_fraction': 0.7943893767860186, 'bagging_freq': 4, 'min_child_samples': 47}. Best is trial 63 with value: 0.9161197703035275.\u001b[0m\n"
     ]
    },
    {
     "name": "stdout",
     "output_type": "stream",
     "text": [
      "[LightGBM] [Warning] feature_fraction is set=0.955461338988046, colsample_bytree=1.0 will be ignored. Current value: feature_fraction=0.955461338988046\n",
      "[LightGBM] [Warning] lambda_l1 is set=0.009479988981660425, reg_alpha=0.0 will be ignored. Current value: lambda_l1=0.009479988981660425\n",
      "[LightGBM] [Warning] bagging_fraction is set=0.7354128653047216, subsample=1.0 will be ignored. Current value: bagging_fraction=0.7354128653047216\n",
      "[LightGBM] [Warning] lambda_l2 is set=0.00021367228062686876, reg_lambda=0.0 will be ignored. Current value: lambda_l2=0.00021367228062686876\n",
      "[LightGBM] [Warning] bagging_freq is set=3, subsample_freq=0 will be ignored. Current value: bagging_freq=3\n"
     ]
    },
    {
     "name": "stderr",
     "output_type": "stream",
     "text": [
      "\u001b[32m[I 2023-01-15 23:58:19,172]\u001b[0m Trial 75 finished with value: 0.9140689089417555 and parameters: {'scalers': 'standard', 'dim_red': None, 'lambda_l1': 0.009479988981660425, 'lambda_l2': 0.00021367228062686876, 'num_leaves': 241, 'feature_fraction': 0.955461338988046, 'bagging_fraction': 0.7354128653047216, 'bagging_freq': 3, 'min_child_samples': 79}. Best is trial 63 with value: 0.9161197703035275.\u001b[0m\n"
     ]
    },
    {
     "name": "stdout",
     "output_type": "stream",
     "text": [
      "[LightGBM] [Warning] feature_fraction is set=0.8820297533581474, colsample_bytree=1.0 will be ignored. Current value: feature_fraction=0.8820297533581474\n",
      "[LightGBM] [Warning] lambda_l1 is set=3.8713936780170016e-07, reg_alpha=0.0 will be ignored. Current value: lambda_l1=3.8713936780170016e-07\n",
      "[LightGBM] [Warning] bagging_fraction is set=0.7377293157751604, subsample=1.0 will be ignored. Current value: bagging_fraction=0.7377293157751604\n",
      "[LightGBM] [Warning] lambda_l2 is set=0.0003077126713143666, reg_lambda=0.0 will be ignored. Current value: lambda_l2=0.0003077126713143666\n",
      "[LightGBM] [Warning] bagging_freq is set=3, subsample_freq=0 will be ignored. Current value: bagging_freq=3\n"
     ]
    },
    {
     "name": "stderr",
     "output_type": "stream",
     "text": [
      "\u001b[32m[I 2023-01-15 23:58:40,389]\u001b[0m Trial 76 finished with value: 0.8822805578342904 and parameters: {'scalers': 'standard', 'dim_red': 'PCA', 'pca_n_components': 13, 'lambda_l1': 3.8713936780170016e-07, 'lambda_l2': 0.0003077126713143666, 'num_leaves': 245, 'feature_fraction': 0.8820297533581474, 'bagging_fraction': 0.7377293157751604, 'bagging_freq': 3, 'min_child_samples': 80}. Best is trial 63 with value: 0.9161197703035275.\u001b[0m\n"
     ]
    },
    {
     "name": "stdout",
     "output_type": "stream",
     "text": [
      "[LightGBM] [Warning] feature_fraction is set=0.9568618216641871, colsample_bytree=1.0 will be ignored. Current value: feature_fraction=0.9568618216641871\n",
      "[LightGBM] [Warning] lambda_l1 is set=0.06402755438782083, reg_alpha=0.0 will be ignored. Current value: lambda_l1=0.06402755438782083\n",
      "[LightGBM] [Warning] bagging_fraction is set=0.7101113374775883, subsample=1.0 will be ignored. Current value: bagging_fraction=0.7101113374775883\n",
      "[LightGBM] [Warning] lambda_l2 is set=2.413056404499495e-05, reg_lambda=0.0 will be ignored. Current value: lambda_l2=2.413056404499495e-05\n",
      "[LightGBM] [Warning] bagging_freq is set=3, subsample_freq=0 will be ignored. Current value: bagging_freq=3\n"
     ]
    },
    {
     "name": "stderr",
     "output_type": "stream",
     "text": [
      "\u001b[32m[I 2023-01-15 23:59:49,049]\u001b[0m Trial 77 finished with value: 0.9097621000820345 and parameters: {'scalers': 'standard', 'dim_red': None, 'lambda_l1': 0.06402755438782083, 'lambda_l2': 2.413056404499495e-05, 'num_leaves': 220, 'feature_fraction': 0.9568618216641871, 'bagging_fraction': 0.7101113374775883, 'bagging_freq': 3, 'min_child_samples': 72}. Best is trial 63 with value: 0.9161197703035275.\u001b[0m\n"
     ]
    },
    {
     "name": "stdout",
     "output_type": "stream",
     "text": [
      "[LightGBM] [Warning] feature_fraction is set=0.9828433237114247, colsample_bytree=1.0 will be ignored. Current value: feature_fraction=0.9828433237114247\n",
      "[LightGBM] [Warning] lambda_l1 is set=5.673166867793661e-05, reg_alpha=0.0 will be ignored. Current value: lambda_l1=5.673166867793661e-05\n",
      "[LightGBM] [Warning] bagging_fraction is set=0.6486421151590698, subsample=1.0 will be ignored. Current value: bagging_fraction=0.6486421151590698\n",
      "[LightGBM] [Warning] lambda_l2 is set=4.890599272581215e-05, reg_lambda=0.0 will be ignored. Current value: lambda_l2=4.890599272581215e-05\n",
      "[LightGBM] [Warning] bagging_freq is set=3, subsample_freq=0 will be ignored. Current value: bagging_freq=3\n"
     ]
    },
    {
     "name": "stderr",
     "output_type": "stream",
     "text": [
      "\u001b[32m[I 2023-01-16 00:02:28,560]\u001b[0m Trial 78 finished with value: 0.9116078753076292 and parameters: {'scalers': 'standard', 'dim_red': None, 'lambda_l1': 5.673166867793661e-05, 'lambda_l2': 4.890599272581215e-05, 'num_leaves': 239, 'feature_fraction': 0.9828433237114247, 'bagging_fraction': 0.6486421151590698, 'bagging_freq': 3, 'min_child_samples': 40}. Best is trial 63 with value: 0.9161197703035275.\u001b[0m\n"
     ]
    },
    {
     "name": "stdout",
     "output_type": "stream",
     "text": [
      "[LightGBM] [Warning] feature_fraction is set=0.9992134028741577, colsample_bytree=1.0 will be ignored. Current value: feature_fraction=0.9992134028741577\n",
      "[LightGBM] [Warning] lambda_l1 is set=3.2894441468191455e-08, reg_alpha=0.0 will be ignored. Current value: lambda_l1=3.2894441468191455e-08\n",
      "[LightGBM] [Warning] bagging_fraction is set=0.685129616267971, subsample=1.0 will be ignored. Current value: bagging_fraction=0.685129616267971\n",
      "[LightGBM] [Warning] lambda_l2 is set=0.00011084650484757061, reg_lambda=0.0 will be ignored. Current value: lambda_l2=0.00011084650484757061\n",
      "[LightGBM] [Warning] bagging_freq is set=5, subsample_freq=0 will be ignored. Current value: bagging_freq=5\n"
     ]
    },
    {
     "name": "stderr",
     "output_type": "stream",
     "text": [
      "\u001b[32m[I 2023-01-16 00:04:17,372]\u001b[0m Trial 79 finished with value: 0.9081214109926169 and parameters: {'scalers': 'standard', 'dim_red': None, 'lambda_l1': 3.2894441468191455e-08, 'lambda_l2': 0.00011084650484757061, 'num_leaves': 252, 'feature_fraction': 0.9992134028741577, 'bagging_fraction': 0.685129616267971, 'bagging_freq': 5, 'min_child_samples': 64}. Best is trial 63 with value: 0.9161197703035275.\u001b[0m\n"
     ]
    },
    {
     "name": "stdout",
     "output_type": "stream",
     "text": [
      "[LightGBM] [Warning] feature_fraction is set=0.9427648206928381, colsample_bytree=1.0 will be ignored. Current value: feature_fraction=0.9427648206928381\n",
      "[LightGBM] [Warning] lambda_l1 is set=1.1527923418288936e-06, reg_alpha=0.0 will be ignored. Current value: lambda_l1=1.1527923418288936e-06\n",
      "[LightGBM] [Warning] bagging_fraction is set=0.6340758863357504, subsample=1.0 will be ignored. Current value: bagging_fraction=0.6340758863357504\n",
      "[LightGBM] [Warning] lambda_l2 is set=1.0873575859982687e-05, reg_lambda=0.0 will be ignored. Current value: lambda_l2=1.0873575859982687e-05\n",
      "[LightGBM] [Warning] bagging_freq is set=4, subsample_freq=0 will be ignored. Current value: bagging_freq=4\n"
     ]
    },
    {
     "name": "stderr",
     "output_type": "stream",
     "text": [
      "\u001b[32m[I 2023-01-16 00:05:38,697]\u001b[0m Trial 80 finished with value: 0.9058654634946678 and parameters: {'scalers': 'standard', 'dim_red': None, 'lambda_l1': 1.1527923418288936e-06, 'lambda_l2': 1.0873575859982687e-05, 'num_leaves': 209, 'feature_fraction': 0.9427648206928381, 'bagging_fraction': 0.6340758863357504, 'bagging_freq': 4, 'min_child_samples': 87}. Best is trial 63 with value: 0.9161197703035275.\u001b[0m\n"
     ]
    },
    {
     "name": "stdout",
     "output_type": "stream",
     "text": [
      "[LightGBM] [Warning] feature_fraction is set=0.9057061330268672, colsample_bytree=1.0 will be ignored. Current value: feature_fraction=0.9057061330268672\n",
      "[LightGBM] [Warning] lambda_l1 is set=0.012043816858546802, reg_alpha=0.0 will be ignored. Current value: lambda_l1=0.012043816858546802\n",
      "[LightGBM] [Warning] bagging_fraction is set=0.8039470226164611, subsample=1.0 will be ignored. Current value: bagging_fraction=0.8039470226164611\n",
      "[LightGBM] [Warning] lambda_l2 is set=0.0008259482747392049, reg_lambda=0.0 will be ignored. Current value: lambda_l2=0.0008259482747392049\n",
      "[LightGBM] [Warning] bagging_freq is set=4, subsample_freq=0 will be ignored. Current value: bagging_freq=4\n"
     ]
    },
    {
     "name": "stderr",
     "output_type": "stream",
     "text": [
      "\u001b[32m[I 2023-01-16 00:07:21,027]\u001b[0m Trial 81 finished with value: 0.9085315832649713 and parameters: {'scalers': 'standard', 'dim_red': None, 'lambda_l1': 0.012043816858546802, 'lambda_l2': 0.0008259482747392049, 'num_leaves': 230, 'feature_fraction': 0.9057061330268672, 'bagging_fraction': 0.8039470226164611, 'bagging_freq': 4, 'min_child_samples': 66}. Best is trial 63 with value: 0.9161197703035275.\u001b[0m\n"
     ]
    },
    {
     "name": "stdout",
     "output_type": "stream",
     "text": [
      "[LightGBM] [Warning] feature_fraction is set=0.8431387376962857, colsample_bytree=1.0 will be ignored. Current value: feature_fraction=0.8431387376962857\n",
      "[LightGBM] [Warning] lambda_l1 is set=0.003772051016957229, reg_alpha=0.0 will be ignored. Current value: lambda_l1=0.003772051016957229\n",
      "[LightGBM] [Warning] bagging_fraction is set=0.7628055693777257, subsample=1.0 will be ignored. Current value: bagging_fraction=0.7628055693777257\n",
      "[LightGBM] [Warning] lambda_l2 is set=0.00023811967417147506, reg_lambda=0.0 will be ignored. Current value: lambda_l2=0.00023811967417147506\n",
      "[LightGBM] [Warning] bagging_freq is set=6, subsample_freq=0 will be ignored. Current value: bagging_freq=6\n"
     ]
    },
    {
     "name": "stderr",
     "output_type": "stream",
     "text": [
      "\u001b[32m[I 2023-01-16 00:08:44,506]\u001b[0m Trial 82 finished with value: 0.9109926168990976 and parameters: {'scalers': 'standard', 'dim_red': None, 'lambda_l1': 0.003772051016957229, 'lambda_l2': 0.00023811967417147506, 'num_leaves': 241, 'feature_fraction': 0.8431387376962857, 'bagging_fraction': 0.7628055693777257, 'bagging_freq': 6, 'min_child_samples': 72}. Best is trial 63 with value: 0.9161197703035275.\u001b[0m\n"
     ]
    },
    {
     "name": "stdout",
     "output_type": "stream",
     "text": [
      "[LightGBM] [Warning] feature_fraction is set=0.9616994781619131, colsample_bytree=1.0 will be ignored. Current value: feature_fraction=0.9616994781619131\n",
      "[LightGBM] [Warning] lambda_l1 is set=0.008309934220725249, reg_alpha=0.0 will be ignored. Current value: lambda_l1=0.008309934220725249\n",
      "[LightGBM] [Warning] bagging_fraction is set=0.7185717856214465, subsample=1.0 will be ignored. Current value: bagging_fraction=0.7185717856214465\n",
      "[LightGBM] [Warning] lambda_l2 is set=0.007943714864422921, reg_lambda=0.0 will be ignored. Current value: lambda_l2=0.007943714864422921\n",
      "[LightGBM] [Warning] bagging_freq is set=3, subsample_freq=0 will be ignored. Current value: bagging_freq=3\n"
     ]
    },
    {
     "name": "stderr",
     "output_type": "stream",
     "text": [
      "\u001b[32m[I 2023-01-16 00:09:54,998]\u001b[0m Trial 83 finished with value: 0.9075061525840853 and parameters: {'scalers': 'standard', 'dim_red': None, 'lambda_l1': 0.008309934220725249, 'lambda_l2': 0.007943714864422921, 'num_leaves': 191, 'feature_fraction': 0.9616994781619131, 'bagging_fraction': 0.7185717856214465, 'bagging_freq': 3, 'min_child_samples': 79}. Best is trial 63 with value: 0.9161197703035275.\u001b[0m\n"
     ]
    },
    {
     "name": "stdout",
     "output_type": "stream",
     "text": [
      "[LightGBM] [Warning] feature_fraction is set=0.9147964617005849, colsample_bytree=1.0 will be ignored. Current value: feature_fraction=0.9147964617005849\n",
      "[LightGBM] [Warning] lambda_l1 is set=3.2371630332830608e-06, reg_alpha=0.0 will be ignored. Current value: lambda_l1=3.2371630332830608e-06\n",
      "[LightGBM] [Warning] bagging_fraction is set=0.8999506018963764, subsample=1.0 will be ignored. Current value: bagging_fraction=0.8999506018963764\n",
      "[LightGBM] [Warning] lambda_l2 is set=3.2233689631562747e-06, reg_lambda=0.0 will be ignored. Current value: lambda_l2=3.2233689631562747e-06\n",
      "[LightGBM] [Warning] bagging_freq is set=4, subsample_freq=0 will be ignored. Current value: bagging_freq=4\n"
     ]
    },
    {
     "name": "stderr",
     "output_type": "stream",
     "text": [
      "\u001b[32m[I 2023-01-16 00:11:29,652]\u001b[0m Trial 84 finished with value: 0.9138638228055783 and parameters: {'scalers': 'standard', 'dim_red': None, 'lambda_l1': 3.2371630332830608e-06, 'lambda_l2': 3.2233689631562747e-06, 'num_leaves': 196, 'feature_fraction': 0.9147964617005849, 'bagging_fraction': 0.8999506018963764, 'bagging_freq': 4, 'min_child_samples': 95}. Best is trial 63 with value: 0.9161197703035275.\u001b[0m\n"
     ]
    },
    {
     "name": "stdout",
     "output_type": "stream",
     "text": [
      "[LightGBM] [Warning] feature_fraction is set=0.924878029666651, colsample_bytree=1.0 will be ignored. Current value: feature_fraction=0.924878029666651\n",
      "[LightGBM] [Warning] lambda_l1 is set=2.9988261640791277e-06, reg_alpha=0.0 will be ignored. Current value: lambda_l1=2.9988261640791277e-06\n",
      "[LightGBM] [Warning] bagging_fraction is set=0.8879250048164042, subsample=1.0 will be ignored. Current value: bagging_fraction=0.8879250048164042\n",
      "[LightGBM] [Warning] lambda_l2 is set=3.107917455139744e-06, reg_lambda=0.0 will be ignored. Current value: lambda_l2=3.107917455139744e-06\n",
      "[LightGBM] [Warning] bagging_freq is set=4, subsample_freq=0 will be ignored. Current value: bagging_freq=4\n"
     ]
    },
    {
     "name": "stderr",
     "output_type": "stream",
     "text": [
      "\u001b[32m[I 2023-01-16 00:13:59,355]\u001b[0m Trial 85 finished with value: 0.9136587366694011 and parameters: {'scalers': 'standard', 'dim_red': None, 'lambda_l1': 2.9988261640791277e-06, 'lambda_l2': 3.107917455139744e-06, 'num_leaves': 199, 'feature_fraction': 0.924878029666651, 'bagging_fraction': 0.8879250048164042, 'bagging_freq': 4, 'min_child_samples': 59}. Best is trial 63 with value: 0.9161197703035275.\u001b[0m\n"
     ]
    },
    {
     "name": "stdout",
     "output_type": "stream",
     "text": [
      "[LightGBM] [Warning] feature_fraction is set=0.9175541378111027, colsample_bytree=1.0 will be ignored. Current value: feature_fraction=0.9175541378111027\n",
      "[LightGBM] [Warning] lambda_l1 is set=5.355065451624112e-06, reg_alpha=0.0 will be ignored. Current value: lambda_l1=5.355065451624112e-06\n",
      "[LightGBM] [Warning] bagging_fraction is set=0.9103606147174017, subsample=1.0 will be ignored. Current value: bagging_fraction=0.9103606147174017\n",
      "[LightGBM] [Warning] lambda_l2 is set=6.104990336249097e-06, reg_lambda=0.0 will be ignored. Current value: lambda_l2=6.104990336249097e-06\n",
      "[LightGBM] [Warning] bagging_freq is set=4, subsample_freq=0 will be ignored. Current value: bagging_freq=4\n"
     ]
    },
    {
     "name": "stderr",
     "output_type": "stream",
     "text": [
      "\u001b[32m[I 2023-01-16 00:16:14,600]\u001b[0m Trial 86 finished with value: 0.9105824446267432 and parameters: {'scalers': 'standard', 'dim_red': None, 'lambda_l1': 5.355065451624112e-06, 'lambda_l2': 6.104990336249097e-06, 'num_leaves': 217, 'feature_fraction': 0.9175541378111027, 'bagging_fraction': 0.9103606147174017, 'bagging_freq': 4, 'min_child_samples': 59}. Best is trial 63 with value: 0.9161197703035275.\u001b[0m\n"
     ]
    },
    {
     "name": "stdout",
     "output_type": "stream",
     "text": [
      "[LightGBM] [Warning] feature_fraction is set=0.8883144009087576, colsample_bytree=1.0 will be ignored. Current value: feature_fraction=0.8883144009087576\n",
      "[LightGBM] [Warning] lambda_l1 is set=8.777806841582969e-07, reg_alpha=0.0 will be ignored. Current value: lambda_l1=8.777806841582969e-07\n",
      "[LightGBM] [Warning] bagging_fraction is set=0.8960387404386186, subsample=1.0 will be ignored. Current value: bagging_fraction=0.8960387404386186\n",
      "[LightGBM] [Warning] lambda_l2 is set=2.887821394303986e-06, reg_lambda=0.0 will be ignored. Current value: lambda_l2=2.887821394303986e-06\n",
      "[LightGBM] [Warning] bagging_freq is set=5, subsample_freq=0 will be ignored. Current value: bagging_freq=5\n"
     ]
    },
    {
     "name": "stderr",
     "output_type": "stream",
     "text": [
      "\u001b[32m[I 2023-01-16 00:18:45,280]\u001b[0m Trial 87 finished with value: 0.9109926168990976 and parameters: {'scalers': 'standard', 'dim_red': None, 'lambda_l1': 8.777806841582969e-07, 'lambda_l2': 2.887821394303986e-06, 'num_leaves': 249, 'feature_fraction': 0.8883144009087576, 'bagging_fraction': 0.8960387404386186, 'bagging_freq': 5, 'min_child_samples': 52}. Best is trial 63 with value: 0.9161197703035275.\u001b[0m\n"
     ]
    },
    {
     "name": "stdout",
     "output_type": "stream",
     "text": [
      "[LightGBM] [Warning] feature_fraction is set=0.9456607797943434, colsample_bytree=1.0 will be ignored. Current value: feature_fraction=0.9456607797943434\n",
      "[LightGBM] [Warning] lambda_l1 is set=1.903704916839382e-06, reg_alpha=0.0 will be ignored. Current value: lambda_l1=1.903704916839382e-06\n",
      "[LightGBM] [Warning] bagging_fraction is set=0.9312819880642433, subsample=1.0 will be ignored. Current value: bagging_fraction=0.9312819880642433\n",
      "[LightGBM] [Warning] lambda_l2 is set=1.72963428529084e-06, reg_lambda=0.0 will be ignored. Current value: lambda_l2=1.72963428529084e-06\n",
      "[LightGBM] [Warning] bagging_freq is set=4, subsample_freq=0 will be ignored. Current value: bagging_freq=4\n"
     ]
    },
    {
     "name": "stderr",
     "output_type": "stream",
     "text": [
      "\u001b[32m[I 2023-01-16 00:19:12,564]\u001b[0m Trial 88 finished with value: 0.8980721903199343 and parameters: {'scalers': 'standard', 'dim_red': 'PCA', 'pca_n_components': 35, 'lambda_l1': 1.903704916839382e-06, 'lambda_l2': 1.72963428529084e-06, 'num_leaves': 80, 'feature_fraction': 0.9456607797943434, 'bagging_fraction': 0.9312819880642433, 'bagging_freq': 4, 'min_child_samples': 61}. Best is trial 63 with value: 0.9161197703035275.\u001b[0m\n"
     ]
    },
    {
     "name": "stdout",
     "output_type": "stream",
     "text": [
      "[LightGBM] [Warning] feature_fraction is set=0.8580681588239837, colsample_bytree=1.0 will be ignored. Current value: feature_fraction=0.8580681588239837\n",
      "[LightGBM] [Warning] lambda_l1 is set=3.3603144149536073e-06, reg_alpha=0.0 will be ignored. Current value: lambda_l1=3.3603144149536073e-06\n",
      "[LightGBM] [Warning] bagging_fraction is set=0.8336799924611498, subsample=1.0 will be ignored. Current value: bagging_fraction=0.8336799924611498\n",
      "[LightGBM] [Warning] lambda_l2 is set=4.0878980188859826e-06, reg_lambda=0.0 will be ignored. Current value: lambda_l2=4.0878980188859826e-06\n",
      "[LightGBM] [Warning] bagging_freq is set=3, subsample_freq=0 will be ignored. Current value: bagging_freq=3\n"
     ]
    },
    {
     "name": "stderr",
     "output_type": "stream",
     "text": [
      "\u001b[32m[I 2023-01-16 00:21:00,147]\u001b[0m Trial 89 finished with value: 0.9077112387202625 and parameters: {'scalers': 'standard', 'dim_red': None, 'lambda_l1': 3.3603144149536073e-06, 'lambda_l2': 4.0878980188859826e-06, 'num_leaves': 197, 'feature_fraction': 0.8580681588239837, 'bagging_fraction': 0.8336799924611498, 'bagging_freq': 3, 'min_child_samples': 67}. Best is trial 63 with value: 0.9161197703035275.\u001b[0m\n"
     ]
    },
    {
     "name": "stdout",
     "output_type": "stream",
     "text": [
      "[LightGBM] [Warning] feature_fraction is set=0.9261309247771202, colsample_bytree=1.0 will be ignored. Current value: feature_fraction=0.9261309247771202\n",
      "[LightGBM] [Warning] lambda_l1 is set=3.5049679912462116e-07, reg_alpha=0.0 will be ignored. Current value: lambda_l1=3.5049679912462116e-07\n",
      "[LightGBM] [Warning] bagging_fraction is set=0.8559283722274897, subsample=1.0 will be ignored. Current value: bagging_fraction=0.8559283722274897\n",
      "[LightGBM] [Warning] lambda_l2 is set=7.160582444340023e-07, reg_lambda=0.0 will be ignored. Current value: lambda_l2=7.160582444340023e-07\n",
      "[LightGBM] [Warning] bagging_freq is set=4, subsample_freq=0 will be ignored. Current value: bagging_freq=4\n"
     ]
    },
    {
     "name": "stderr",
     "output_type": "stream",
     "text": [
      "\u001b[32m[I 2023-01-16 00:22:54,970]\u001b[0m Trial 90 finished with value: 0.9091468416735029 and parameters: {'scalers': 'standard', 'dim_red': None, 'lambda_l1': 3.5049679912462116e-07, 'lambda_l2': 7.160582444340023e-07, 'num_leaves': 227, 'feature_fraction': 0.9261309247771202, 'bagging_fraction': 0.8559283722274897, 'bagging_freq': 4, 'min_child_samples': 57}. Best is trial 63 with value: 0.9161197703035275.\u001b[0m\n"
     ]
    },
    {
     "name": "stdout",
     "output_type": "stream",
     "text": [
      "[LightGBM] [Warning] feature_fraction is set=0.973847214278583, colsample_bytree=1.0 will be ignored. Current value: feature_fraction=0.973847214278583\n",
      "[LightGBM] [Warning] lambda_l1 is set=0.00011228406604149051, reg_alpha=0.0 will be ignored. Current value: lambda_l1=0.00011228406604149051\n",
      "[LightGBM] [Warning] bagging_fraction is set=0.9476918606437801, subsample=1.0 will be ignored. Current value: bagging_fraction=0.9476918606437801\n",
      "[LightGBM] [Warning] lambda_l2 is set=0.00044612213097636075, reg_lambda=0.0 will be ignored. Current value: lambda_l2=0.00044612213097636075\n",
      "[LightGBM] [Warning] bagging_freq is set=4, subsample_freq=0 will be ignored. Current value: bagging_freq=4\n"
     ]
    },
    {
     "name": "stderr",
     "output_type": "stream",
     "text": [
      "\u001b[32m[I 2023-01-16 00:24:58,376]\u001b[0m Trial 91 finished with value: 0.912428219852338 and parameters: {'scalers': 'standard', 'dim_red': None, 'lambda_l1': 0.00011228406604149051, 'lambda_l2': 0.00044612213097636075, 'num_leaves': 204, 'feature_fraction': 0.973847214278583, 'bagging_fraction': 0.9476918606437801, 'bagging_freq': 4, 'min_child_samples': 44}. Best is trial 63 with value: 0.9161197703035275.\u001b[0m\n"
     ]
    },
    {
     "name": "stdout",
     "output_type": "stream",
     "text": [
      "[LightGBM] [Warning] feature_fraction is set=0.8668433821370528, colsample_bytree=1.0 will be ignored. Current value: feature_fraction=0.8668433821370528\n",
      "[LightGBM] [Warning] lambda_l1 is set=1.3490242196609615e-05, reg_alpha=0.0 will be ignored. Current value: lambda_l1=1.3490242196609615e-05\n",
      "[LightGBM] [Warning] bagging_fraction is set=0.8763061525726066, subsample=1.0 will be ignored. Current value: bagging_fraction=0.8763061525726066\n",
      "[LightGBM] [Warning] lambda_l2 is set=4.732720328567281e-05, reg_lambda=0.0 will be ignored. Current value: lambda_l2=4.732720328567281e-05\n",
      "[LightGBM] [Warning] bagging_freq is set=4, subsample_freq=0 will be ignored. Current value: bagging_freq=4\n"
     ]
    },
    {
     "name": "stderr",
     "output_type": "stream",
     "text": [
      "\u001b[32m[I 2023-01-16 00:25:34,873]\u001b[0m Trial 92 finished with value: 0.9064807219031994 and parameters: {'scalers': 'standard', 'dim_red': None, 'lambda_l1': 1.3490242196609615e-05, 'lambda_l2': 4.732720328567281e-05, 'num_leaves': 37, 'feature_fraction': 0.8668433821370528, 'bagging_fraction': 0.8763061525726066, 'bagging_freq': 4, 'min_child_samples': 37}. Best is trial 63 with value: 0.9161197703035275.\u001b[0m\n"
     ]
    },
    {
     "name": "stdout",
     "output_type": "stream",
     "text": [
      "[LightGBM] [Warning] feature_fraction is set=0.9824416502919187, colsample_bytree=1.0 will be ignored. Current value: feature_fraction=0.9824416502919187\n",
      "[LightGBM] [Warning] lambda_l1 is set=0.0001230498970225134, reg_alpha=0.0 will be ignored. Current value: lambda_l1=0.0001230498970225134\n",
      "[LightGBM] [Warning] bagging_fraction is set=0.9929249097838693, subsample=1.0 will be ignored. Current value: bagging_fraction=0.9929249097838693\n",
      "[LightGBM] [Warning] lambda_l2 is set=0.0024685444289579785, reg_lambda=0.0 will be ignored. Current value: lambda_l2=0.0024685444289579785\n",
      "[LightGBM] [Warning] bagging_freq is set=4, subsample_freq=0 will be ignored. Current value: bagging_freq=4\n"
     ]
    },
    {
     "name": "stderr",
     "output_type": "stream",
     "text": [
      "\u001b[32m[I 2023-01-16 00:26:52,290]\u001b[0m Trial 93 finished with value: 0.911402789171452 and parameters: {'scalers': 'standard', 'dim_red': None, 'lambda_l1': 0.0001230498970225134, 'lambda_l2': 0.0024685444289579785, 'num_leaves': 203, 'feature_fraction': 0.9824416502919187, 'bagging_fraction': 0.9929249097838693, 'bagging_freq': 4, 'min_child_samples': 87}. Best is trial 63 with value: 0.9161197703035275.\u001b[0m\n"
     ]
    },
    {
     "name": "stdout",
     "output_type": "stream",
     "text": [
      "[LightGBM] [Warning] feature_fraction is set=0.9695275274968045, colsample_bytree=1.0 will be ignored. Current value: feature_fraction=0.9695275274968045\n",
      "[LightGBM] [Warning] lambda_l1 is set=4.280990260624107e-05, reg_alpha=0.0 will be ignored. Current value: lambda_l1=4.280990260624107e-05\n",
      "[LightGBM] [Warning] bagging_fraction is set=0.9549483428194905, subsample=1.0 will be ignored. Current value: bagging_fraction=0.9549483428194905\n",
      "[LightGBM] [Warning] lambda_l2 is set=0.0005624643165784071, reg_lambda=0.0 will be ignored. Current value: lambda_l2=0.0005624643165784071\n",
      "[LightGBM] [Warning] bagging_freq is set=3, subsample_freq=0 will be ignored. Current value: bagging_freq=3\n"
     ]
    },
    {
     "name": "stderr",
     "output_type": "stream",
     "text": [
      "\u001b[32m[I 2023-01-16 00:29:15,190]\u001b[0m Trial 94 finished with value: 0.9120180475799836 and parameters: {'scalers': 'standard', 'dim_red': None, 'lambda_l1': 4.280990260624107e-05, 'lambda_l2': 0.0005624643165784071, 'num_leaves': 237, 'feature_fraction': 0.9695275274968045, 'bagging_fraction': 0.9549483428194905, 'bagging_freq': 3, 'min_child_samples': 44}. Best is trial 63 with value: 0.9161197703035275.\u001b[0m\n"
     ]
    },
    {
     "name": "stdout",
     "output_type": "stream",
     "text": [
      "[LightGBM] [Warning] feature_fraction is set=0.9114362197996091, colsample_bytree=1.0 will be ignored. Current value: feature_fraction=0.9114362197996091\n",
      "[LightGBM] [Warning] lambda_l1 is set=3.2226562928389132e-06, reg_alpha=0.0 will be ignored. Current value: lambda_l1=3.2226562928389132e-06\n",
      "[LightGBM] [Warning] bagging_fraction is set=0.9176760385716584, subsample=1.0 will be ignored. Current value: bagging_fraction=0.9176760385716584\n",
      "[LightGBM] [Warning] lambda_l2 is set=0.00018548228370370685, reg_lambda=0.0 will be ignored. Current value: lambda_l2=0.00018548228370370685\n",
      "[LightGBM] [Warning] bagging_freq is set=4, subsample_freq=0 will be ignored. Current value: bagging_freq=4\n"
     ]
    },
    {
     "name": "stderr",
     "output_type": "stream",
     "text": [
      "\u001b[32m[I 2023-01-16 00:31:29,121]\u001b[0m Trial 95 finished with value: 0.9095570139458573 and parameters: {'scalers': 'standard', 'dim_red': None, 'lambda_l1': 3.2226562928389132e-06, 'lambda_l2': 0.00018548228370370685, 'num_leaves': 180, 'feature_fraction': 0.9114362197996091, 'bagging_fraction': 0.9176760385716584, 'bagging_freq': 4, 'min_child_samples': 34}. Best is trial 63 with value: 0.9161197703035275.\u001b[0m\n"
     ]
    },
    {
     "name": "stdout",
     "output_type": "stream",
     "text": [
      "[LightGBM] [Warning] feature_fraction is set=0.7989969059180279, colsample_bytree=1.0 will be ignored. Current value: feature_fraction=0.7989969059180279\n",
      "[LightGBM] [Warning] lambda_l1 is set=2.5183307046779145e-05, reg_alpha=0.0 will be ignored. Current value: lambda_l1=2.5183307046779145e-05\n",
      "[LightGBM] [Warning] bagging_fraction is set=0.8908034174497464, subsample=1.0 will be ignored. Current value: bagging_fraction=0.8908034174497464\n",
      "[LightGBM] [Warning] lambda_l2 is set=9.325916766006137e-06, reg_lambda=0.0 will be ignored. Current value: lambda_l2=9.325916766006137e-06\n",
      "[LightGBM] [Warning] bagging_freq is set=3, subsample_freq=0 will be ignored. Current value: bagging_freq=3\n"
     ]
    },
    {
     "name": "stderr",
     "output_type": "stream",
     "text": [
      "\u001b[32m[I 2023-01-16 00:32:19,296]\u001b[0m Trial 96 finished with value: 0.9120180475799836 and parameters: {'scalers': 'standard', 'dim_red': None, 'lambda_l1': 2.5183307046779145e-05, 'lambda_l2': 9.325916766006137e-06, 'num_leaves': 191, 'feature_fraction': 0.7989969059180279, 'bagging_fraction': 0.8908034174497464, 'bagging_freq': 3, 'min_child_samples': 97}. Best is trial 63 with value: 0.9161197703035275.\u001b[0m\n"
     ]
    },
    {
     "name": "stdout",
     "output_type": "stream",
     "text": [
      "[LightGBM] [Warning] feature_fraction is set=0.937051551644822, colsample_bytree=1.0 will be ignored. Current value: feature_fraction=0.937051551644822\n",
      "[LightGBM] [Warning] lambda_l1 is set=0.00039301162638733823, reg_alpha=0.0 will be ignored. Current value: lambda_l1=0.00039301162638733823\n",
      "[LightGBM] [Warning] bagging_fraction is set=0.9424705393157802, subsample=1.0 will be ignored. Current value: bagging_fraction=0.9424705393157802\n",
      "[LightGBM] [Warning] lambda_l2 is set=0.0003547621128027452, reg_lambda=0.0 will be ignored. Current value: lambda_l2=0.0003547621128027452\n",
      "[LightGBM] [Warning] bagging_freq is set=4, subsample_freq=0 will be ignored. Current value: bagging_freq=4\n"
     ]
    },
    {
     "name": "stderr",
     "output_type": "stream",
     "text": [
      "\u001b[32m[I 2023-01-16 00:33:55,598]\u001b[0m Trial 97 finished with value: 0.910377358490566 and parameters: {'scalers': 'standard', 'dim_red': None, 'lambda_l1': 0.00039301162638733823, 'lambda_l2': 0.0003547621128027452, 'num_leaves': 111, 'feature_fraction': 0.937051551644822, 'bagging_fraction': 0.9424705393157802, 'bagging_freq': 4, 'min_child_samples': 55}. Best is trial 63 with value: 0.9161197703035275.\u001b[0m\n"
     ]
    },
    {
     "name": "stdout",
     "output_type": "stream",
     "text": [
      "[LightGBM] [Warning] feature_fraction is set=0.9573251943377991, colsample_bytree=1.0 will be ignored. Current value: feature_fraction=0.9573251943377991\n",
      "[LightGBM] [Warning] lambda_l1 is set=0.0016960450661515469, reg_alpha=0.0 will be ignored. Current value: lambda_l1=0.0016960450661515469\n",
      "[LightGBM] [Warning] bagging_fraction is set=0.969126655454475, subsample=1.0 will be ignored. Current value: bagging_fraction=0.969126655454475\n",
      "[LightGBM] [Warning] lambda_l2 is set=0.0014682953325895695, reg_lambda=0.0 will be ignored. Current value: lambda_l2=0.0014682953325895695\n",
      "[LightGBM] [Warning] bagging_freq is set=4, subsample_freq=0 will be ignored. Current value: bagging_freq=4\n"
     ]
    },
    {
     "name": "stderr",
     "output_type": "stream",
     "text": [
      "\u001b[32m[I 2023-01-16 00:35:18,880]\u001b[0m Trial 98 finished with value: 0.9097621000820345 and parameters: {'scalers': 'standard', 'dim_red': None, 'lambda_l1': 0.0016960450661515469, 'lambda_l2': 0.0014682953325895695, 'num_leaves': 211, 'feature_fraction': 0.9573251943377991, 'bagging_fraction': 0.969126655454475, 'bagging_freq': 4, 'min_child_samples': 92}. Best is trial 63 with value: 0.9161197703035275.\u001b[0m\n"
     ]
    },
    {
     "name": "stdout",
     "output_type": "stream",
     "text": [
      "[LightGBM] [Warning] feature_fraction is set=0.745238539628401, colsample_bytree=1.0 will be ignored. Current value: feature_fraction=0.745238539628401\n",
      "[LightGBM] [Warning] lambda_l1 is set=6.084248507219277e-07, reg_alpha=0.0 will be ignored. Current value: lambda_l1=6.084248507219277e-07\n",
      "[LightGBM] [Warning] bagging_fraction is set=0.7292985814335019, subsample=1.0 will be ignored. Current value: bagging_fraction=0.7292985814335019\n",
      "[LightGBM] [Warning] lambda_l2 is set=0.29509610216999826, reg_lambda=0.0 will be ignored. Current value: lambda_l2=0.29509610216999826\n",
      "[LightGBM] [Warning] bagging_freq is set=7, subsample_freq=0 will be ignored. Current value: bagging_freq=7\n"
     ]
    },
    {
     "name": "stderr",
     "output_type": "stream",
     "text": [
      "\u001b[32m[I 2023-01-16 00:36:07,481]\u001b[0m Trial 99 finished with value: 0.9089417555373257 and parameters: {'scalers': 'robust', 'dim_red': None, 'lambda_l1': 6.084248507219277e-07, 'lambda_l2': 0.29509610216999826, 'num_leaves': 197, 'feature_fraction': 0.745238539628401, 'bagging_fraction': 0.7292985814335019, 'bagging_freq': 7, 'min_child_samples': 76}. Best is trial 63 with value: 0.9161197703035275.\u001b[0m\n"
     ]
    }
   ],
   "source": [
    "study2.optimize(objective, n_trials=100)"
   ]
  },
  {
   "cell_type": "code",
   "execution_count": 49,
   "metadata": {},
   "outputs": [
    {
     "name": "stdout",
     "output_type": "stream",
     "text": [
      "Number of finished trials: 100\n",
      "Best trial:\n",
      "  Value: 0.9161197703035275\n",
      "  Params: \n",
      "    bagging_fraction: 0.8635734699884771\n",
      "    bagging_freq: 4\n",
      "    dim_red: None\n",
      "    feature_fraction: 0.9840355098240596\n",
      "    lambda_l1: 0.011508037597462427\n",
      "    lambda_l2: 1.1301506734594464e-08\n",
      "    min_child_samples: 68\n",
      "    num_leaves: 248\n",
      "    scalers: standard\n"
     ]
    }
   ],
   "source": [
    "print_res(study2)"
   ]
  },
  {
   "cell_type": "code",
   "execution_count": 50,
   "metadata": {},
   "outputs": [],
   "source": [
    "with open(\"./model_result/task2_lgbm_tuned.pkl\", \"wb\") as f:\n",
    "    pkl.dump(study2.best_trial, f)"
   ]
  },
  {
   "cell_type": "code",
   "execution_count": 51,
   "metadata": {},
   "outputs": [],
   "source": [
    "params_task2 = get_params(study2)"
   ]
  },
  {
   "cell_type": "markdown",
   "metadata": {},
   "source": [
    "### Extract the parameters"
   ]
  },
  {
   "cell_type": "code",
   "execution_count": 52,
   "metadata": {},
   "outputs": [
    {
     "name": "stdout",
     "output_type": "stream",
     "text": [
      "{'lgbm__bagging_fraction': 0.8635734699884771, 'lgbm__bagging_freq': 4, 'lgbm__feature_fraction': 0.9840355098240596, 'lgbm__lambda_l1': 0.011508037597462427, 'lgbm__lambda_l2': 1.1301506734594464e-08, 'lgbm__min_child_samples': 68, 'lgbm__num_leaves': 248}\n"
     ]
    }
   ],
   "source": [
    "print(params_task2)"
   ]
  },
  {
   "cell_type": "code",
   "execution_count": 53,
   "metadata": {},
   "outputs": [
    {
     "data": {
      "text/plain": [
       "Pipeline(steps=[('scaler', MinMaxScaler()),\n",
       "                ('lgbm',\n",
       "                 LGBMClassifier(bagging_fraction=0.8635734699884771,\n",
       "                                bagging_freq=4,\n",
       "                                feature_fraction=0.9840355098240596,\n",
       "                                lambda_l1=0.011508037597462427,\n",
       "                                lambda_l2=1.1301506734594464e-08,\n",
       "                                min_child_samples=68, num_leaves=248))])"
      ]
     },
     "execution_count": 53,
     "metadata": {},
     "output_type": "execute_result"
    }
   ],
   "source": [
    "pipeline_task2_lgbm = Pipeline([\n",
    "    (\"scaler\", MinMaxScaler()),\n",
    "    (\"lgbm\", LGBMClassifier(n_jobs=-1))\n",
    "])\n",
    "\n",
    "pipeline_task2_lgbm.set_params(**params_task2)"
   ]
  },
  {
   "cell_type": "code",
   "execution_count": 54,
   "metadata": {},
   "outputs": [
    {
     "name": "stdout",
     "output_type": "stream",
     "text": [
      "[LightGBM] [Warning] bagging_freq is set=4, subsample_freq=0 will be ignored. Current value: bagging_freq=4\n",
      "[LightGBM] [Warning] lambda_l1 is set=0.011508037597462427, reg_alpha=0.0 will be ignored. Current value: lambda_l1=0.011508037597462427\n",
      "[LightGBM] [Warning] feature_fraction is set=0.9840355098240596, colsample_bytree=1.0 will be ignored. Current value: feature_fraction=0.9840355098240596\n",
      "[LightGBM] [Warning] bagging_fraction is set=0.8635734699884771, subsample=1.0 will be ignored. Current value: bagging_fraction=0.8635734699884771\n",
      "[LightGBM] [Warning] lambda_l2 is set=1.1301506734594464e-08, reg_lambda=0.0 will be ignored. Current value: lambda_l2=1.1301506734594464e-08\n",
      "Model accuracy for train set: 1.000\n",
      "Model accuracy for test set: 0.914\n",
      "\n",
      "              precision    recall  f1-score   support\n",
      "\n",
      "           0       0.91      0.96      0.93      1219\n",
      "           1       0.88      0.89      0.89      1219\n",
      "           2       0.92      0.90      0.91      1219\n",
      "           3       0.96      0.90      0.93      1219\n",
      "\n",
      "    accuracy                           0.91      4876\n",
      "   macro avg       0.91      0.91      0.91      4876\n",
      "weighted avg       0.91      0.91      0.91      4876\n",
      "\n",
      "\n",
      "Confusion Matrix:\n",
      " [[1169   19   17   14]\n",
      " [  44 1089   61   25]\n",
      " [  44   68 1095   12]\n",
      " [  34   66   17 1102]]\n",
      "\n",
      "Accuracy Score:  0.914\n"
     ]
    },
    {
     "data": {
      "image/png": "[encoded data removed]",
      "text/plain": [
       "<Figure size 640x480 with 2 Axes>"
      ]
     },
     "metadata": {},
     "output_type": "display_data"
    },
    {
     "data": {
      "image/png": "[encoded data removed]",
      "text/plain": [
       "<Figure size 1700x600 with 1 Axes>"
      ]
     },
     "metadata": {},
     "output_type": "display_data"
    }
   ],
   "source": [
    "res_lgbm_task2 = train_and_plot(pipeline_task2_lgbm, X_train = X_train_task2, X_test = X_test_task2, y_train = y_train_task2, y_test = y_test_task2)"
   ]
  },
  {
   "cell_type": "markdown",
   "metadata": {
    "created_in_deepnote_cell": true,
    "deepnote_cell_type": "markdown",
    "tags": []
   },
   "source": [
    "<a style='text-decoration:none;line-height:16px;display:flex;color:#5B5B62;padding:10px;justify-content:end;' href='https://deepnote.com?utm_source=created-in-deepnote-cell&projectId=8d871b9e-4e37-4fce-a22e-8733be6e4afc' target=\"_blank\">\n",
    "<img alt='Created in deepnote.com' style='display:inline;max-height:16px;margin:0px;margin-right:7.5px;' src='data:image/svg+xml;base64,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' > </img>\n",
    "Created in <span style='font-weight:600;margin-left:4px;'>Deepnote</span></a>"
   ]
  }
 ],
 "metadata": {
  "deepnote": {},
  "deepnote_execution_queue": [],
  "deepnote_notebook_id": "396c5fff65fe44b38ba5b267246dade6",
  "kernelspec": {
   "display_name": "Python 3 (ipykernel)",
   "language": "python",
   "name": "python3"
  },
  "language_info": {
   "codemirror_mode": {
    "name": "ipython",
    "version": 3
   },
   "file_extension": ".py",
   "mimetype": "text/x-python",
   "name": "python",
   "nbconvert_exporter": "python",
   "pygments_lexer": "ipython3",
   "version": "3.10.8 (main, Oct 13 2022, 09:48:40) [Clang 14.0.0 (clang-1400.0.29.102)]"
  },
  "vscode": {
   "interpreter": {
    "hash": "b0fa6594d8f4cbf19f97940f81e996739fb7646882a419484c72d19e05852a7e"
   }
  }
 },
 "nbformat": 4,
 "nbformat_minor": 4
}

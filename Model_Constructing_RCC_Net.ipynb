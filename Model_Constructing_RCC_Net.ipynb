{
 "cells": [
  {
   "cell_type": "markdown",
   "metadata": {
    "cell_id": "f721ec28c6e7490a83fee0298480a81a",
    "deepnote_cell_height": 82,
    "deepnote_cell_type": "markdown",
    "tags": []
   },
   "source": [
    "# VI. Task 1: Cancerous classification <a class=\"anchor\" id=\"task1\"></a>\n"
   ]
  },
  {
   "cell_type": "markdown",
   "metadata": {
    "cell_id": "338933ab2be14844beecac96859e52e3",
    "deepnote_cell_height": 141,
    "deepnote_cell_type": "markdown",
    "tags": []
   },
   "source": [
    "- Here, we will perform **image classification to detect if a cell is cancerous or not**.\n",
    "- This part is including data preprocessing, setting up evaluation framework, resampling, train test split and modelling.\n"
   ]
  },
  {
   "cell_type": "markdown",
   "metadata": {
    "cell_id": "0999602a58784221b58250467595a40b",
    "deepnote_cell_height": 70,
    "deepnote_cell_type": "markdown",
    "tags": []
   },
   "source": [
    "## 2. Neural Network <a class=\"anchor\" id=\"task1nn\"></a>\n"
   ]
  },
  {
   "cell_type": "code",
   "execution_count": 52,
   "metadata": {
    "cell_id": "8388cfb523ec46ce9e3fe41246813ed4",
    "deepnote_cell_type": "code",
    "deepnote_to_be_reexecuted": true,
    "execution_millis": 7,
    "execution_start": 1652173958336,
    "owner_user_id": "e649c124-72c3-4dd5-a30e-228c9bef5c1c",
    "source_hash": "74bfbdff",
    "tags": []
   },
   "outputs": [],
   "source": [
    "# importing libraries and modules\n",
    "from sklearn.model_selection import train_test_split\n",
    "from imblearn.under_sampling import RandomUnderSampler\n",
    "from imblearn.over_sampling import RandomOverSampler\n",
    "from sklearn.metrics import *\n",
    "from sklearn.neural_network import MLPClassifier\n",
    "import pandas as pd\n",
    "import numpy as np\n",
    "import matplotlib.pyplot as plt\n",
    "import plotly.express as px\n",
    "import os\n",
    "import hashlib\n",
    "import pickle as pkl\n",
    "from collections import defaultdict\n",
    "from PIL import Image, ImageOps\n",
    "import seaborn as sns\n",
    "\n",
    "import keras\n",
    "from keras.models import *\n",
    "from keras.layers import *\n",
    "from keras import backend as K\n",
    "from keras.utils.vis_utils import plot_model\n",
    "from tensorflow.keras.optimizers import Adam\n",
    "from keras.preprocessing.image import ImageDataGenerator\n",
    "from keras.callbacks import ModelCheckpoint, EarlyStopping\n",
    "\n"
   ]
  },
  {
   "cell_type": "markdown",
   "metadata": {
    "cell_id": "fe9fcc346a214bafaba521bba6290312",
    "deepnote_cell_height": 62,
    "deepnote_cell_type": "markdown",
    "tags": []
   },
   "source": [
    "### Preprocessing\n"
   ]
  },
  {
   "cell_type": "markdown",
   "metadata": {
    "cell_id": "0ba740f9a74c4d629c5e86b9e8a1318d",
    "deepnote_cell_type": "markdown"
   },
   "source": [
    "- In task 1, since our target is 'isCancerous' column we will ignore the cellType column for now as we also need more data for the better training process. However, the bigger the dataset size, the better the deep learning process is. Therefore, we need to have more data to prevent the neural network from underfitting and overfitting issues.\n"
   ]
  },
  {
   "cell_type": "code",
   "execution_count": 53,
   "metadata": {
    "cell_id": "e55f2457dc3140ee9bb75965dd26dfb9",
    "deepnote_cell_type": "code",
    "deepnote_to_be_reexecuted": true,
    "execution_millis": 93,
    "execution_start": 1652173692728,
    "source_hash": "f2928cab",
    "tags": []
   },
   "outputs": [],
   "source": [
    "cancer_df=pd.read_csv(\"./converted_data/df_labels_balanced.csv\")\n",
    "converted_data = pd.read_csv('./converted_data/converted_data.csv')\n",
    "img_dir='./patch_images/'\n"
   ]
  },
  {
   "cell_type": "code",
   "execution_count": 54,
   "metadata": {
    "cell_id": "72cbfc91abdf4aaeaea2ed282f154be0",
    "deepnote_cell_type": "code",
    "deepnote_to_be_reexecuted": true,
    "execution_millis": 0,
    "execution_start": 1652173699719,
    "source_hash": "5d68963f",
    "tags": []
   },
   "outputs": [],
   "source": [
    "X_cnn = cancer_df.drop(\"iscancerous\", axis=1)\n",
    "y_cnn = cancer_df[[\"iscancerous\"]]\n"
   ]
  },
  {
   "cell_type": "markdown",
   "metadata": {
    "cell_id": "54ea9f2bd2ba4efdb24b3da72ab8a1aa",
    "deepnote_cell_type": "markdown"
   },
   "source": [
    "- As mentioned in preprocessing section in supervised learning, we will apply the Random Undersampling technique for neural network. As typical neural network models often contains many layers and neuron connections, it will learn the dataset deeply according to the amount of layer of specific model. To have reasonable result, we will prevent the duplication in the training dataset, by not using Over Sampling technique. Instead, the Random UnderSampling technique will be applied for the neural network models.\n",
    "  Additionally, we when see the mount of `is Cancerous` and not `Cancerous` - 7068 and 13207, respectively. It is reasonable to say that after using Random UnderSampling techniques, we still have a dataset of 14138 records to train with, this is moderated dataset size for training process\n"
   ]
  },
  {
   "cell_type": "code",
   "execution_count": 55,
   "metadata": {
    "cell_id": "88a81ab2f50c4f0aa322f0e55fa1e2ce",
    "deepnote_cell_type": "code",
    "deepnote_to_be_reexecuted": true,
    "execution_millis": 1,
    "execution_start": 1652173710657,
    "source_hash": "a51a3fb",
    "tags": []
   },
   "outputs": [],
   "source": [
    "rus = RandomUnderSampler(random_state=42)\n",
    "X_rus_cnn, y_rus_cnn = rus.fit_resample(X_cnn, y_cnn)\n"
   ]
  },
  {
   "cell_type": "code",
   "execution_count": 56,
   "metadata": {
    "cell_id": "aa816a6bd4bf4e589f56f6fe9b3cd16a",
    "deepnote_cell_type": "code",
    "deepnote_to_be_reexecuted": true,
    "execution_millis": 9,
    "execution_start": 1652173710972,
    "source_hash": "219b5c25",
    "tags": []
   },
   "outputs": [],
   "source": [
    "X_rus_cnn[\"iscancerous\"] = y_rus_cnn\n"
   ]
  },
  {
   "cell_type": "code",
   "execution_count": 57,
   "metadata": {
    "cell_id": "5d08b27bee3b44fb85831c4209b33729",
    "deepnote_cell_type": "code",
    "deepnote_to_be_reexecuted": true,
    "execution_millis": 128,
    "execution_start": 1652173711267,
    "source_hash": "3dfc07f8",
    "tags": []
   },
   "outputs": [
    {
     "data": {
      "text/html": [
       "<div>\n",
       "<style scoped>\n",
       "    .dataframe tbody tr th:only-of-type {\n",
       "        vertical-align: middle;\n",
       "    }\n",
       "\n",
       "    .dataframe tbody tr th {\n",
       "        vertical-align: top;\n",
       "    }\n",
       "\n",
       "    .dataframe thead th {\n",
       "        text-align: right;\n",
       "    }\n",
       "</style>\n",
       "<table border=\"1\" class=\"dataframe\">\n",
       "  <thead>\n",
       "    <tr style=\"text-align: right;\">\n",
       "      <th></th>\n",
       "      <th>imagename</th>\n",
       "      <th>celltype</th>\n",
       "      <th>iscancerous</th>\n",
       "    </tr>\n",
       "  </thead>\n",
       "  <tbody>\n",
       "    <tr>\n",
       "      <th>0</th>\n",
       "      <td>16475.png</td>\n",
       "      <td>0</td>\n",
       "      <td>0</td>\n",
       "    </tr>\n",
       "    <tr>\n",
       "      <th>1</th>\n",
       "      <td>17324.png</td>\n",
       "      <td>3</td>\n",
       "      <td>0</td>\n",
       "    </tr>\n",
       "    <tr>\n",
       "      <th>2</th>\n",
       "      <td>11878.png</td>\n",
       "      <td>0</td>\n",
       "      <td>0</td>\n",
       "    </tr>\n",
       "    <tr>\n",
       "      <th>3</th>\n",
       "      <td>17796.png</td>\n",
       "      <td>3</td>\n",
       "      <td>0</td>\n",
       "    </tr>\n",
       "    <tr>\n",
       "      <th>4</th>\n",
       "      <td>17393.png</td>\n",
       "      <td>3</td>\n",
       "      <td>0</td>\n",
       "    </tr>\n",
       "    <tr>\n",
       "      <th>...</th>\n",
       "      <td>...</td>\n",
       "      <td>...</td>\n",
       "      <td>...</td>\n",
       "    </tr>\n",
       "    <tr>\n",
       "      <th>8121</th>\n",
       "      <td>1625.png</td>\n",
       "      <td>2</td>\n",
       "      <td>1</td>\n",
       "    </tr>\n",
       "    <tr>\n",
       "      <th>8122</th>\n",
       "      <td>1626.png</td>\n",
       "      <td>2</td>\n",
       "      <td>1</td>\n",
       "    </tr>\n",
       "    <tr>\n",
       "      <th>8123</th>\n",
       "      <td>1627.png</td>\n",
       "      <td>2</td>\n",
       "      <td>1</td>\n",
       "    </tr>\n",
       "    <tr>\n",
       "      <th>8124</th>\n",
       "      <td>1628.png</td>\n",
       "      <td>2</td>\n",
       "      <td>1</td>\n",
       "    </tr>\n",
       "    <tr>\n",
       "      <th>8125</th>\n",
       "      <td>1629.png</td>\n",
       "      <td>2</td>\n",
       "      <td>1</td>\n",
       "    </tr>\n",
       "  </tbody>\n",
       "</table>\n",
       "<p>8126 rows × 3 columns</p>\n",
       "</div>"
      ],
      "text/plain": [
       "      imagename  celltype  iscancerous\n",
       "0     16475.png         0            0\n",
       "1     17324.png         3            0\n",
       "2     11878.png         0            0\n",
       "3     17796.png         3            0\n",
       "4     17393.png         3            0\n",
       "...         ...       ...          ...\n",
       "8121   1625.png         2            1\n",
       "8122   1626.png         2            1\n",
       "8123   1627.png         2            1\n",
       "8124   1628.png         2            1\n",
       "8125   1629.png         2            1\n",
       "\n",
       "[8126 rows x 3 columns]"
      ]
     },
     "execution_count": 57,
     "metadata": {},
     "output_type": "execute_result"
    }
   ],
   "source": [
    "cancer_df_cnn = X_rus_cnn.copy()\n",
    "cancer_df_cnn\n"
   ]
  },
  {
   "cell_type": "code",
   "execution_count": 58,
   "metadata": {
    "cell_id": "d413630374204bd8a7824d23eef5fbe6",
    "deepnote_cell_type": "code",
    "deepnote_to_be_reexecuted": true,
    "execution_millis": 8,
    "execution_start": 1652173743045,
    "source_hash": "2d44b5a7",
    "tags": []
   },
   "outputs": [
    {
     "data": {
      "text/plain": [
       "0    4063\n",
       "1    4063\n",
       "Name: iscancerous, dtype: int64"
      ]
     },
     "execution_count": 58,
     "metadata": {},
     "output_type": "execute_result"
    }
   ],
   "source": [
    "cancer_df_cnn[\"iscancerous\"].value_counts()\n"
   ]
  },
  {
   "cell_type": "code",
   "execution_count": 59,
   "metadata": {
    "cell_id": "87b45696e1e84a8a9c28f99a59e44015",
    "deepnote_cell_type": "code",
    "deepnote_to_be_reexecuted": true,
    "execution_millis": 87,
    "execution_start": 1652173747297,
    "source_hash": "f012107f",
    "tags": []
   },
   "outputs": [],
   "source": [
    "cancer_df_cnn[\"iscancerous\"] = cancer_df_cnn[\"iscancerous\"].astype(str)\n"
   ]
  },
  {
   "cell_type": "markdown",
   "metadata": {
    "cell_id": "c24dce35622942ed82fdba4741ba013c",
    "deepnote_cell_height": 62,
    "deepnote_cell_type": "markdown",
    "tags": []
   },
   "source": [
    "### Evaluation framework\n"
   ]
  },
  {
   "cell_type": "markdown",
   "metadata": {
    "cell_id": "762ccd79939742babe309c5b8c4c79d8",
    "deepnote_cell_type": "markdown"
   },
   "source": [
    "- Since metrics of Neural Network will be a little bit different from traditional machine learning model. It is necessary to take into consideration epsilon. Therefore, with reference to [this paper](https://github.com/shabbeersh/RCCNet/blob/master/Src/RCCNet.py)\n"
   ]
  },
  {
   "cell_type": "code",
   "execution_count": 60,
   "metadata": {
    "cell_id": "6f5d786395c246d2b5f2ec1f0174bf8c",
    "deepnote_cell_type": "code",
    "deepnote_to_be_reexecuted": true,
    "execution_millis": 0,
    "execution_start": 1652173833367,
    "source_hash": "2e6c7ed6",
    "tags": []
   },
   "outputs": [],
   "source": [
    "def recall_cnn(y_true, y_pred):\n",
    "    true_positives = K.sum(K.round(K.clip(y_true * y_pred, 0, 1)))\n",
    "    possible_positives = K.sum(K.round(K.clip(y_true, 0, 1)))\n",
    "    recall = true_positives / (possible_positives + K.epsilon())\n",
    "    return recall\n",
    "\n",
    "\n",
    "def precision_cnn(y_true, y_pred):\n",
    "    true_positives = K.sum(K.round(K.clip(y_true * y_pred, 0, 1)))\n",
    "    predicted_positives = K.sum(K.round(K.clip(y_pred, 0, 1)))\n",
    "    precision = true_positives / (predicted_positives + K.epsilon())\n",
    "    return precision\n",
    "\n",
    "\n",
    "def f1_cnn(y_true, y_pred):\n",
    "    precision = precision_cnn(y_true, y_pred)\n",
    "    recall = recall_cnn(y_true, y_pred)\n",
    "    return 2 * ((precision * recall) / (precision + recall + K.epsilon()))\n"
   ]
  },
  {
   "cell_type": "code",
   "execution_count": 61,
   "metadata": {
    "cell_id": "ee52530434fd4051976da59222fe5114",
    "deepnote_cell_type": "code",
    "deepnote_to_be_reexecuted": true,
    "execution_millis": 9,
    "execution_start": 1652173836477,
    "source_hash": "7a463d47",
    "tags": []
   },
   "outputs": [],
   "source": [
    "METRICS = [\"accuracy\", recall_cnn, precision_cnn, f1_cnn]\n"
   ]
  },
  {
   "cell_type": "markdown",
   "metadata": {
    "cell_id": "7b37ead7fe5a428da6190f183c532c9c",
    "deepnote_cell_type": "markdown"
   },
   "source": [
    "- We set up function to visualize the training history of the model\n"
   ]
  },
  {
   "cell_type": "code",
   "execution_count": 72,
   "metadata": {
    "cell_id": "8b32b6609457403da3b4b1e913021be2",
    "deepnote_cell_type": "code",
    "deepnote_to_be_reexecuted": true,
    "execution_millis": 0,
    "execution_start": 1652173839679,
    "source_hash": "237db9",
    "tags": []
   },
   "outputs": [],
   "source": [
    "def visualize_history(history):\n",
    "    #  \"Plot Accuracy\"\n",
    "    plt.plot(history.history[\"accuracy\"])\n",
    "    plt.plot(history.history[\"val_accuracy\"])\n",
    "    plt.title(\"model accuracy\")\n",
    "    plt.ylabel(\"accuracy\")\n",
    "    plt.xlabel(\"epoch\")\n",
    "    plt.legend([\"train\", \"validation\"], loc=\"upper left\")\n",
    "    plt.show()\n",
    "\n",
    "    # \"Plot Loss\"\n",
    "    plt.plot(history.history[\"loss\"])\n",
    "    plt.plot(history.history[\"val_loss\"])\n",
    "    plt.title(\"model loss\")\n",
    "    plt.ylabel(\"loss\")\n",
    "    plt.xlabel(\"epoch\")\n",
    "    plt.legend([\"train\", \"validation\"], loc=\"upper left\")\n",
    "    plt.show()\n"
   ]
  },
  {
   "cell_type": "markdown",
   "metadata": {
    "cell_id": "695e5efccdbd4aacb4cec8739175e100",
    "deepnote_cell_type": "markdown"
   },
   "source": [
    "- Since we will use the functions across the model, therefore it is necessary to develop function to work on resuable component.\n",
    "- Inside this function:\n",
    "\n",
    "* `epochs_num`: The number of epochs that we use to train the mode\n",
    "* `Early Stopping`: keras functions in Callbacks to specify the monitor in order to end training. Patience amount is set as 40. This is used to examine plots of performance metric for estimating how noisy the optimization process on data. The mode is set to max, and the metric to keep track is accuracy of validation set. In \"max\" mode it will stop when the quantity monitored has stopped increasing.\n",
    "* `Model Check Point`: to save a model or weights (in a checkpoint file) at some interval, so the model or weights can be loaded later to continue the training from the state saved.\n",
    "  In here we set save_best_only to true :to allow the model is only saved when it is deemed \"best,\" and the most recent best model according to the quantity monitored is not overwritten. In here we also export the model to h5 file and will import it again to evaluate.\n",
    "* `history`: we fill fit model to training and validation iteration to train a CNN models. Step per epoch will equal the size of corresponding training and validation iteration. We apply callbacks on early stopping and model checkpoint.\n"
   ]
  },
  {
   "cell_type": "code",
   "execution_count": 73,
   "metadata": {
    "cell_id": "fff8a0b6efd74cedb10278c819a3cf38",
    "deepnote_cell_type": "code",
    "deepnote_to_be_reexecuted": true,
    "execution_millis": 7,
    "execution_start": 1652173965964,
    "source_hash": "3701ce5c",
    "tags": []
   },
   "outputs": [],
   "source": [
    "def Train_CNN_Model(epochs_num, model, train_iter, valid_iter, export_dir=\"./export\", name=\"default\"):\n",
    "    # -------------------------------------------------------------------------\n",
    "    #                        Train CNN Model\n",
    "    # -------------------------------------------------------------------------\n",
    "\n",
    "    epochs = epochs_num\n",
    "\n",
    "    es = EarlyStopping(monitor=\"val_accuracy\", mode=\"max\", verbose=1, patience=40)\n",
    "\n",
    "    mc = ModelCheckpoint(f\"{export_dir}/model_{name}.h5\", monitor=\"val_accuracy\", mode=\"max\", save_best_only=True)\n",
    "\n",
    "    history = model.fit(\n",
    "        train_iter,\n",
    "        steps_per_epoch=len(train_iter),\n",
    "        validation_data=valid_iter,\n",
    "        validation_steps=len(valid_iter),\n",
    "        epochs=epochs,\n",
    "        verbose=1,\n",
    "        callbacks=[mc, es],\n",
    "    )\n",
    "\n",
    "    return history\n"
   ]
  },
  {
   "cell_type": "markdown",
   "metadata": {
    "cell_id": "224ae7935edc41c0a0a4fecc037e9667",
    "deepnote_cell_type": "markdown"
   },
   "source": [
    "We also develop evaluation function to evaluate each model, in here we also check for overfitting and underfitting by evaluate the training and validation iteration. After the evaluation we will export the result of each model to the csv file for further evaluation on overall\n"
   ]
  },
  {
   "cell_type": "code",
   "execution_count": 74,
   "metadata": {
    "cell_id": "dbdf7d00e9724478a452fee7559715aa",
    "deepnote_cell_type": "code",
    "deepnote_to_be_reexecuted": true,
    "execution_millis": 1,
    "execution_start": 1652173850530,
    "source_hash": "8263f9cb",
    "tags": []
   },
   "outputs": [],
   "source": [
    "def Evaluate_CNN_Model(model, test_iter, train_iter, val_iter, model_name):\n",
    "    # -------------------------------------------------------------------------\n",
    "    #                        Evaluate CNN Model\n",
    "    # -------------------------------------------------------------------------\n",
    "\n",
    "    model_evaluation_test = model.evaluate(test_iter)\n",
    "    model_evaluation_train = model.evaluate(train_iter)\n",
    "    model_evaluation_val = model.evaluate(val_iter)\n",
    "\n",
    "    # metrics = ['accuracy', 'precision', 'recall','f1']\n",
    "    METRICS_EVAL = [\"loss\", \"accuracy\", \"recall\", \"precision\", \"f1\"]\n",
    "    print(\"Model Evaluation\")\n",
    "    for i in range(len(METRICS_EVAL)):\n",
    "\n",
    "        print(\"----------------------------------------------\")\n",
    "\n",
    "        print(f\"{METRICS_EVAL[i]} - test: {model_evaluation_test[i]} \")\n",
    "\n",
    "        print(f\"{METRICS_EVAL[i]} - train : {model_evaluation_train[i]} \")\n",
    "\n",
    "        print(f\"{METRICS_EVAL[i]} - val: {model_evaluation_val[i]} \")\n",
    "\n",
    "        # we will be using this function to log each model run to a csv file\n",
    "\n",
    "    run = {\n",
    "        \"model\": [model_name],\n",
    "        \"loss_test\": [model_evaluation_test[0]],\n",
    "        \"acc_test\": [model_evaluation_test[1]],\n",
    "        \"recall_test\": [model_evaluation_test[2]],\n",
    "        \"precision_test\": [model_evaluation_test[3]],\n",
    "        \"f1_test\": [model_evaluation_test[4]],\n",
    "        \"loss_train\": [model_evaluation_train[0]],\n",
    "        \"acc_train\": [model_evaluation_train[1]],\n",
    "        \"recall_train\": [model_evaluation_train[2]],\n",
    "        \"precision_train\": [model_evaluation_train[3]],\n",
    "        \"f1_train\": [model_evaluation_train[4]],\n",
    "    }\n",
    "    try:\n",
    "        pred_cnn_df = pd.read_csv(\"prediction_cnn.csv\")\n",
    "\n",
    "        # logging the metrics as a new row in the csv\n",
    "        pred_cnn_df = pred_cnn_df.append(pd.DataFrame(run), ignore_index=True)\n",
    "        pred_cnn_df.to_csv(\"prediction_cnn.csv\", header=True, index=False)\n",
    "    except:\n",
    "        pd.DataFrame(run).to_csv(\"prediction_cnn.csv\", header=True, index=False)\n"
   ]
  },
  {
   "cell_type": "markdown",
   "metadata": {
    "cell_id": "5806a6e294fd4d29be750cc685dea156",
    "deepnote_cell_height": 62,
    "deepnote_cell_type": "markdown",
    "tags": []
   },
   "source": [
    "### Train test split and create data iterator\n"
   ]
  },
  {
   "cell_type": "markdown",
   "metadata": {
    "cell_id": "5a9bbe8b0d61449d9432b959f7cd0f20",
    "deepnote_cell_type": "markdown"
   },
   "source": [
    "- In developing Convotional Neural Network (CNN) we will mention in detail below in the CNN architecture. But here, it is necessary to divide the training and testing sets for the data.\n"
   ]
  },
  {
   "cell_type": "code",
   "execution_count": 75,
   "metadata": {
    "cell_id": "1c745ae47e1440fdb0f079e22a1025d1",
    "deepnote_cell_type": "code",
    "deepnote_to_be_reexecuted": true,
    "execution_millis": 0,
    "execution_start": 1652173802061,
    "source_hash": "1e4cab53",
    "tags": []
   },
   "outputs": [],
   "source": [
    "from sklearn.model_selection import train_test_split\n",
    "\n",
    "train_cnn_task1, test_cnn_task1 = train_test_split(cancer_df_cnn, test_size=0.2, random_state=9999)\n",
    "train_cnn_task1, val_cnn_task1 = train_test_split(train_cnn_task1, test_size=0.25, random_state=9999)\n"
   ]
  },
  {
   "cell_type": "code",
   "execution_count": 76,
   "metadata": {
    "cell_id": "746ab0dd10be420a8362dc14354821da",
    "deepnote_cell_type": "code",
    "deepnote_to_be_reexecuted": true,
    "execution_millis": 148,
    "execution_start": 1652173804848,
    "source_hash": "ba01e236",
    "tags": []
   },
   "outputs": [
    {
     "name": "stdout",
     "output_type": "stream",
     "text": [
      "Training size: 4875\n",
      "Testing size: 1626\n",
      "Validation size: 1625\n",
      "Sum 8126\n"
     ]
    }
   ],
   "source": [
    "print(f\"Training size: {train_cnn_task1.shape[0]}\")\n",
    "print(f\"Testing size: {test_cnn_task1.shape[0]}\")\n",
    "print(f\"Validation size: {val_cnn_task1.shape[0]}\")\n",
    "print(f\"Sum {train_cnn_task1.shape[0]+test_cnn_task1.shape[0] + val_cnn_task1.shape[0]}\")"
   ]
  },
  {
   "cell_type": "markdown",
   "metadata": {
    "cell_id": "ae6ee39c63fd44369ae9e50e80289357",
    "deepnote_cell_type": "markdown"
   },
   "source": [
    "#### Data Augmentation\n"
   ]
  },
  {
   "cell_type": "markdown",
   "metadata": {
    "cell_id": "dde90526fc8a4b38a8bd5bfbdf9f9324",
    "deepnote_cell_type": "markdown"
   },
   "source": [
    "- Data augmentation is a technique that can be used to artificially increase the size of a training dataset by generating modified versions of the dataset's images.\n",
    "\n",
    "- Training deep learning neural network models on more data can result in more proficient models, and augmentation approaches can provide variants of the images that increase the fit models' ability to generalize what they have learnt to new images.\n",
    "- We set:\n",
    "  - `rescale` to new scale of 1./255\n",
    "    `shear_range and zoom_range` of 0.2 for shearing and zooming the cell image to 20% bigger.\n",
    "  - `horizontal flip` flipping the image horizontally to reverse the rows or columns of pixels to make the model have ability to generalize the image to prevent bias.\n",
    "    - `width and height shift range` is set to 0.2 since we want to move image means for all pixels in one direction while keeping the image dimensions the same.\n",
    "    - `rotation range` rotating image clockwise by 20 degree, this rotation leaves areas of the frame with no pixel data that must be filled in.\n",
    "- We will make data augmentation to be used in the generator\n"
   ]
  },
  {
   "cell_type": "code",
   "execution_count": 91,
   "metadata": {
    "cell_id": "05d57a271f2f4632a1cef6e3ca8c1b41",
    "deepnote_cell_type": "code",
    "deepnote_to_be_reexecuted": true,
    "execution_millis": 12,
    "execution_start": 1652173806755,
    "source_hash": "58041864",
    "tags": []
   },
   "outputs": [],
   "source": [
    "train_generator = ImageDataGenerator(\n",
    "    rescale=1.0 / 255,\n",
    "    shear_range=0.2,\n",
    "    zoom_range=0.2,\n",
    "    horizontal_flip=True,\n",
    "    width_shift_range=0.2,\n",
    "    height_shift_range=0.2,\n",
    "    rotation_range=20,\n",
    ")\n",
    "\n",
    "test_generator = ImageDataGenerator(rescale=1.0 / 255)\n"
   ]
  },
  {
   "cell_type": "code",
   "execution_count": 92,
   "metadata": {
    "cell_id": "ce2449f82b6b4159a7f110895e55eb51",
    "deepnote_cell_type": "code",
    "deepnote_to_be_reexecuted": true,
    "execution_millis": 7109,
    "execution_start": 1652173819890,
    "source_hash": "8d3ad53d",
    "tags": []
   },
   "outputs": [
    {
     "name": "stdout",
     "output_type": "stream",
     "text": [
      "Found 4875 validated image filenames belonging to 2 classes.\n",
      "Found 1625 validated image filenames belonging to 2 classes.\n",
      "Found 1626 validated image filenames belonging to 2 classes.\n"
     ]
    }
   ],
   "source": [
    "train_iter_t1 = train_generator.flow_from_dataframe(\n",
    "    dataframe=train_cnn_task1,\n",
    "    directory=\"./patch_images\",\n",
    "    x_col=\"imagename\",\n",
    "    y_col=\"iscancerous\",\n",
    "    class_mode=\"categorical\",\n",
    "    target_size=(27, 27),\n",
    ")\n",
    "\n",
    "val_iter_t1 = test_generator.flow_from_dataframe(\n",
    "    dataframe=val_cnn_task1,\n",
    "    directory=\"./patch_images\",\n",
    "    x_col=\"imagename\",\n",
    "    y_col=\"iscancerous\",\n",
    "    class_mode=\"categorical\",\n",
    "    target_size=(27, 27),\n",
    ")\n",
    "\n",
    "test_iter_t1 = test_generator.flow_from_dataframe(\n",
    "    dataframe=test_cnn_task1,\n",
    "    directory=\"./patch_images\",\n",
    "    x_col=\"imagename\",\n",
    "    y_col=\"iscancerous\",\n",
    "    class_mode=\"categorical\",\n",
    "    target_size=(27, 27),\n",
    ")\n"
   ]
  },
  {
   "cell_type": "code",
   "execution_count": 93,
   "metadata": {
    "cell_id": "791ac0f5deb84ee6a926e749dfff2845",
    "deepnote_cell_type": "code",
    "deepnote_to_be_reexecuted": true,
    "execution_millis": 15,
    "execution_start": 1652173827010,
    "source_hash": "eaa0250b",
    "tags": []
   },
   "outputs": [
    {
     "name": "stdout",
     "output_type": "stream",
     "text": [
      "Image iteration training shape: (27, 27, 3)\n",
      "Image iteration testing shape: (27, 27, 3)\n",
      "Image iteration validation shape: (27, 27, 3)\n"
     ]
    }
   ],
   "source": [
    "print(f\"Image iteration training shape: {train_iter_t1.image_shape}\")\n",
    "print(f\"Image iteration testing shape: {test_iter_t1.image_shape}\")\n",
    "print(f\"Image iteration validation shape: {val_iter_t1.image_shape}\")\n"
   ]
  },
  {
   "cell_type": "markdown",
   "metadata": {
    "cell_id": "4ac70a46406a4eefa1893bb2e3ff54aa",
    "deepnote_cell_height": 62,
    "deepnote_cell_type": "markdown",
    "tags": []
   },
   "source": [
    "### Modelling\n"
   ]
  },
  {
   "cell_type": "markdown",
   "metadata": {
    "cell_id": "b7e8bce409484b85924d62f954652151",
    "deepnote_cell_type": "markdown"
   },
   "source": [
    "_Note: All neural networks except RCCNet will be running only 50 epochs to avoiding overtraining, which usually leads to overfitting, and lack of computing power. RCCNet will be running with 100 epochs._\n"
   ]
  },
  {
   "cell_type": "markdown",
   "metadata": {
    "cell_id": "12019cb8c65e474094a7b8cac7a99e11",
    "deepnote_cell_type": "markdown"
   },
   "source": [
    "#### RCCNet\n"
   ]
  },
  {
   "cell_type": "markdown",
   "metadata": {
    "cell_id": "12a585f532e94af0b33e2d066aebb197",
    "deepnote_cell_type": "markdown"
   },
   "source": [
    "RCCNet is a Convolutional Neural Network (CNN)-based architecture that was proposed in 2018. This network's primary goal is to keep the CNN model as simple as possible. The RCCNet model has 1,512,868 learnable parameters, which is significantly less than the popular CNN models AlexNet, CIFAR-VGG, GoogLeNet, and WRN [5]. It is also highly efficient in terms of the training time as compared to deeper and complex networks [5].\n",
    "RCCNet is more generic and efficient in terms of training time and data overfitting, respectively.\n",
    "\n",
    "**RCCNet: Advantages and Disadvantages**\n",
    "\n",
    "> Advantages\n",
    "\n",
    "1. RCCNet model has the lowest number of trainable parameters, whereas AlexNet has the most [5]\n",
    "\n",
    "2. Since it is simpler than other models and small enough, it significantly reduces training time\n",
    "\n",
    "**RCCNet: Architecture**\n",
    "\n",
    "![RCCNet Architecture](https://i.imgur.com/rYCZnj5.png \"RCCNet Architecture\")\n",
    "\n",
    "\n",
    "* `1 st block` two convolutional layers, Conv1 and Conv2 are used just after the input layer. The Conv2 layer is followed by a pooling layer (Pool1) to reduce the spatial dimension by half. Both of conv 1 and 2 have stride and subsampling with the receptive field of 2 x 2 which is the maxpooling after the first block. \n",
    "\n",
    "\t* The 1st convolutional layer Conv1 produces a 32×32×32 dimensional feature map by convolving 32 filters of dimension 3×3×3. The zero padding by 1 pixel in each direction is done in Conv1 layer to retain the same spatial dimensional feature map. \n",
    "\t* The Conv2 layer has the 32 filters of dimension 3×3×32 with no padding which produces a 30 × 30 × 32 dimensional feature map and stride of 1. \n",
    "\n",
    "\t\n",
    "* `2nd block` two convolutional layers  Conv3 and Conv4 layers are followed by second pooling layer (Pool2). They are call two middle convolutional layers (Conv3 and Conv4).Both have 64 filters of size 3x3\n",
    "\n",
    "* `3rd block` three fully connected layers, namely FC1,FC2, and FC3 are used . The final three fully connected layers (FC1, FC2, and FC3) have 512, 512, and 4 neurons, respectively. \n",
    "\n",
    "* On top of the last fully connected layer FC3 of proposed RCCNet model, a ‘softmax classifier’ for multi-class classification is used to generate the probabilities for each class."
   ]
  },
  {
   "cell_type": "code",
   "execution_count": 94,
   "metadata": {
    "cell_id": "b974876bc2d04e33ace56f4cc7b181e5",
    "deepnote_cell_type": "code",
    "deepnote_to_be_reexecuted": true,
    "execution_millis": 69,
    "execution_start": 1652174055398,
    "source_hash": "d437fad1",
    "tags": []
   },
   "outputs": [],
   "source": [
    "def Build_RCC(h, w, output_no, activation_type, k_size, p_size, padding_mode):\n",
    "    model = Sequential()\n",
    "    # First block of RCC is constructed with 2 convolutional blocks. Conv1 is 32 filter with kernel size of 3x3 following by batch normalization.\n",
    "    # Conv2 is also 32 filters with kernel size of 3x3 following by batch normalization. At the end of the block a max pooling with size of 2x2 to reduce the input dimension with\n",
    "    model.add(Conv2D(32, kernel_size=(k_size, k_size), activation=\"relu\", padding=padding_mode, input_shape=(h, w, 3)))\n",
    "    model.add(BatchNormalization())\n",
    "    model.add(Conv2D(32, kernel_size=(k_size, k_size), activation=\"relu\"))\n",
    "    model.add(BatchNormalization())\n",
    "    model.add(MaxPooling2D(pool_size=(p_size, p_size)))\n",
    "\n",
    "    # Second Block of RCC is constructed with 2 convolutional blocks with 64 filter for both with 3x3 kernel size with not padding. At the end of the block, max pooling size of 2x2\n",
    "    model.add(Conv2D(64, kernel_size=(k_size, k_size), activation=\"relu\", padding=padding_mode))\n",
    "    model.add(BatchNormalization())\n",
    "    model.add(Conv2D(64, kernel_size=(k_size, k_size), activation=\"relu\"))\n",
    "    model.add(BatchNormalization())\n",
    "    model.add(MaxPooling2D(pool_size=(p_size, p_size)))\n",
    "\n",
    "    # Fully Connected Layers\n",
    "    model.add(Flatten())\n",
    "    model.add(Dense(512, activation=\"relu\"))\n",
    "    model.add(BatchNormalization())\n",
    "    model.add(Dropout(0.2))\n",
    "    model.add(Dense(512, activation=\"relu\"))\n",
    "    model.add(BatchNormalization())\n",
    "    model.add(Dropout(0.0001))  # small drop out rate to avoid overfit\n",
    "    model.add(Dense(output_no, activation=activation_type))\n",
    "\n",
    "    return model\n"
   ]
  },
  {
   "cell_type": "code",
   "execution_count": 95,
   "metadata": {
    "cell_id": "5206d5c328a04bd084ca8e4d7246da6d",
    "deepnote_cell_type": "code",
    "deepnote_to_be_reexecuted": true,
    "execution_millis": 959,
    "execution_start": 1652174059137,
    "source_hash": "1294c6f5",
    "tags": []
   },
   "outputs": [
    {
     "name": "stdout",
     "output_type": "stream",
     "text": [
      "Model: \"sequential_1\"\n",
      "_________________________________________________________________\n",
      " Layer (type)                Output Shape              Param #   \n",
      "=================================================================\n",
      " conv2d_4 (Conv2D)           (None, 27, 27, 32)        896       \n",
      "                                                                 \n",
      " batch_normalization_6 (Batc  (None, 27, 27, 32)       128       \n",
      " hNormalization)                                                 \n",
      "                                                                 \n",
      " conv2d_5 (Conv2D)           (None, 25, 25, 32)        9248      \n",
      "                                                                 \n",
      " batch_normalization_7 (Batc  (None, 25, 25, 32)       128       \n",
      " hNormalization)                                                 \n",
      "                                                                 \n",
      " max_pooling2d_2 (MaxPooling  (None, 12, 12, 32)       0         \n",
      " 2D)                                                             \n",
      "                                                                 \n",
      " conv2d_6 (Conv2D)           (None, 12, 12, 64)        18496     \n",
      "                                                                 \n",
      " batch_normalization_8 (Batc  (None, 12, 12, 64)       256       \n",
      " hNormalization)                                                 \n",
      "                                                                 \n",
      " conv2d_7 (Conv2D)           (None, 10, 10, 64)        36928     \n",
      "                                                                 \n",
      " batch_normalization_9 (Batc  (None, 10, 10, 64)       256       \n",
      " hNormalization)                                                 \n",
      "                                                                 \n",
      " max_pooling2d_3 (MaxPooling  (None, 5, 5, 64)         0         \n",
      " 2D)                                                             \n",
      "                                                                 \n",
      " flatten_1 (Flatten)         (None, 1600)              0         \n",
      "                                                                 \n",
      " dense_3 (Dense)             (None, 512)               819712    \n",
      "                                                                 \n",
      " batch_normalization_10 (Bat  (None, 512)              2048      \n",
      " chNormalization)                                                \n",
      "                                                                 \n",
      " dropout_2 (Dropout)         (None, 512)               0         \n",
      "                                                                 \n",
      " dense_4 (Dense)             (None, 512)               262656    \n",
      "                                                                 \n",
      " batch_normalization_11 (Bat  (None, 512)              2048      \n",
      " chNormalization)                                                \n",
      "                                                                 \n",
      " dropout_3 (Dropout)         (None, 512)               0         \n",
      "                                                                 \n",
      " dense_5 (Dense)             (None, 2)                 1026      \n",
      "                                                                 \n",
      "=================================================================\n",
      "Total params: 1,153,826\n",
      "Trainable params: 1,151,394\n",
      "Non-trainable params: 2,432\n",
      "_________________________________________________________________\n"
     ]
    }
   ],
   "source": [
    "RCC_model_t1 = Build_RCC(27, 27, 2, \"sigmoid\", 3, 2, \"same\")\n",
    "RCC_model_t1.summary()\n"
   ]
  },
  {
   "cell_type": "code",
   "execution_count": 96,
   "metadata": {
    "cell_id": "7a632d14e2bf46dd993ac77b596306db",
    "deepnote_cell_type": "code",
    "deepnote_to_be_reexecuted": true,
    "source_hash": "e996b7a",
    "tags": []
   },
   "outputs": [
    {
     "name": "stdout",
     "output_type": "stream",
     "text": [
      "Epoch 1/200\n",
      "153/153 [==============================] - 10s 59ms/step - loss: 0.4275 - accuracy: 0.8234 - recall_cnn: 0.8203 - precision_cnn: 0.8099 - f1_cnn: 0.8144 - val_loss: 0.9445 - val_accuracy: 0.5040 - val_recall_cnn: 0.5050 - val_precision_cnn: 0.5047 - val_f1_cnn: 0.5049\n",
      "Epoch 2/200\n",
      "153/153 [==============================] - 4s 24ms/step - loss: 0.3427 - accuracy: 0.8578 - recall_cnn: 0.8544 - precision_cnn: 0.8535 - f1_cnn: 0.8534 - val_loss: 1.1992 - val_accuracy: 0.5040 - val_recall_cnn: 0.5061 - val_precision_cnn: 0.5051 - val_f1_cnn: 0.5056\n",
      "Epoch 3/200\n",
      "153/153 [==============================] - 4s 24ms/step - loss: 0.3163 - accuracy: 0.8751 - recall_cnn: 0.8705 - precision_cnn: 0.8695 - f1_cnn: 0.8696 - val_loss: 0.6799 - val_accuracy: 0.6308 - val_recall_cnn: 0.7106 - val_precision_cnn: 0.6229 - val_f1_cnn: 0.6634\n",
      "Epoch 4/200\n",
      "153/153 [==============================] - 4s 24ms/step - loss: 0.3095 - accuracy: 0.8751 - recall_cnn: 0.8685 - precision_cnn: 0.8694 - f1_cnn: 0.8686 - val_loss: 0.2834 - val_accuracy: 0.8855 - val_recall_cnn: 0.9002 - val_precision_cnn: 0.8502 - val_f1_cnn: 0.8741\n",
      "Epoch 5/200\n",
      "153/153 [==============================] - 4s 25ms/step - loss: 0.3086 - accuracy: 0.8763 - recall_cnn: 0.8738 - precision_cnn: 0.8736 - f1_cnn: 0.8734 - val_loss: 0.2540 - val_accuracy: 0.8911 - val_recall_cnn: 0.9063 - val_precision_cnn: 0.8796 - val_f1_cnn: 0.8924\n",
      "Epoch 6/200\n",
      "153/153 [==============================] - 4s 24ms/step - loss: 0.2936 - accuracy: 0.8769 - recall_cnn: 0.8775 - precision_cnn: 0.8757 - f1_cnn: 0.8762 - val_loss: 0.2399 - val_accuracy: 0.9052 - val_recall_cnn: 0.9133 - val_precision_cnn: 0.8855 - val_f1_cnn: 0.8989\n",
      "Epoch 7/200\n",
      "153/153 [==============================] - 4s 24ms/step - loss: 0.2811 - accuracy: 0.8816 - recall_cnn: 0.8830 - precision_cnn: 0.8812 - f1_cnn: 0.8818 - val_loss: 0.2410 - val_accuracy: 0.9028 - val_recall_cnn: 0.9133 - val_precision_cnn: 0.8974 - val_f1_cnn: 0.9050\n",
      "Epoch 8/200\n",
      "153/153 [==============================] - 4s 24ms/step - loss: 0.2904 - accuracy: 0.8802 - recall_cnn: 0.8803 - precision_cnn: 0.8809 - f1_cnn: 0.8803 - val_loss: 0.2532 - val_accuracy: 0.9052 - val_recall_cnn: 0.9110 - val_precision_cnn: 0.8922 - val_f1_cnn: 0.9012\n",
      "Epoch 9/200\n",
      "153/153 [==============================] - 4s 24ms/step - loss: 0.2889 - accuracy: 0.8851 - recall_cnn: 0.8793 - precision_cnn: 0.8792 - f1_cnn: 0.8790 - val_loss: 0.3154 - val_accuracy: 0.8652 - val_recall_cnn: 0.8826 - val_precision_cnn: 0.8562 - val_f1_cnn: 0.8689\n",
      "Epoch 10/200\n",
      "153/153 [==============================] - 4s 24ms/step - loss: 0.2749 - accuracy: 0.8874 - recall_cnn: 0.8864 - precision_cnn: 0.8827 - f1_cnn: 0.8843 - val_loss: 0.2467 - val_accuracy: 0.9102 - val_recall_cnn: 0.9174 - val_precision_cnn: 0.8974 - val_f1_cnn: 0.9070\n",
      "Epoch 11/200\n",
      "153/153 [==============================] - 4s 25ms/step - loss: 0.2622 - accuracy: 0.8970 - recall_cnn: 0.8958 - precision_cnn: 0.8920 - f1_cnn: 0.8937 - val_loss: 0.2486 - val_accuracy: 0.9145 - val_recall_cnn: 0.9182 - val_precision_cnn: 0.9060 - val_f1_cnn: 0.9119\n",
      "Epoch 12/200\n",
      "153/153 [==============================] - 4s 24ms/step - loss: 0.2692 - accuracy: 0.8866 - recall_cnn: 0.8873 - precision_cnn: 0.8834 - f1_cnn: 0.8850 - val_loss: 0.2309 - val_accuracy: 0.9163 - val_recall_cnn: 0.9249 - val_precision_cnn: 0.9076 - val_f1_cnn: 0.9160\n",
      "Epoch 13/200\n",
      "153/153 [==============================] - 4s 24ms/step - loss: 0.2504 - accuracy: 0.8968 - recall_cnn: 0.8969 - precision_cnn: 0.8946 - f1_cnn: 0.8954 - val_loss: 0.2228 - val_accuracy: 0.9132 - val_recall_cnn: 0.9180 - val_precision_cnn: 0.9018 - val_f1_cnn: 0.9096\n",
      "Epoch 14/200\n",
      "153/153 [==============================] - 4s 24ms/step - loss: 0.2585 - accuracy: 0.8976 - recall_cnn: 0.8948 - precision_cnn: 0.8933 - f1_cnn: 0.8938 - val_loss: 0.2265 - val_accuracy: 0.9138 - val_recall_cnn: 0.9106 - val_precision_cnn: 0.9026 - val_f1_cnn: 0.9064\n",
      "Epoch 15/200\n",
      "153/153 [==============================] - 4s 24ms/step - loss: 0.2566 - accuracy: 0.8939 - recall_cnn: 0.8916 - precision_cnn: 0.8899 - f1_cnn: 0.8904 - val_loss: 0.2445 - val_accuracy: 0.9102 - val_recall_cnn: 0.9149 - val_precision_cnn: 0.9015 - val_f1_cnn: 0.9079\n",
      "Epoch 16/200\n",
      "153/153 [==============================] - 4s 24ms/step - loss: 0.2641 - accuracy: 0.8919 - recall_cnn: 0.8920 - precision_cnn: 0.8868 - f1_cnn: 0.8891 - val_loss: 0.2345 - val_accuracy: 0.9138 - val_recall_cnn: 0.9177 - val_precision_cnn: 0.9003 - val_f1_cnn: 0.9087\n",
      "Epoch 17/200\n",
      "153/153 [==============================] - 4s 24ms/step - loss: 0.2582 - accuracy: 0.8931 - recall_cnn: 0.8920 - precision_cnn: 0.8893 - f1_cnn: 0.8905 - val_loss: 0.2484 - val_accuracy: 0.9083 - val_recall_cnn: 0.9147 - val_precision_cnn: 0.8982 - val_f1_cnn: 0.9061\n",
      "Epoch 18/200\n",
      "153/153 [==============================] - 4s 24ms/step - loss: 0.2577 - accuracy: 0.8997 - recall_cnn: 0.8993 - precision_cnn: 0.8984 - f1_cnn: 0.8986 - val_loss: 0.2471 - val_accuracy: 0.9065 - val_recall_cnn: 0.9179 - val_precision_cnn: 0.8923 - val_f1_cnn: 0.9046\n",
      "Epoch 19/200\n",
      "153/153 [==============================] - 4s 24ms/step - loss: 0.2518 - accuracy: 0.9005 - recall_cnn: 0.8989 - precision_cnn: 0.9020 - f1_cnn: 0.9002 - val_loss: 0.2056 - val_accuracy: 0.9237 - val_recall_cnn: 0.9269 - val_precision_cnn: 0.9139 - val_f1_cnn: 0.9202\n",
      "Epoch 20/200\n",
      "153/153 [==============================] - 4s 24ms/step - loss: 0.2516 - accuracy: 0.8978 - recall_cnn: 0.8938 - precision_cnn: 0.8963 - f1_cnn: 0.8948 - val_loss: 0.2594 - val_accuracy: 0.9065 - val_recall_cnn: 0.9104 - val_precision_cnn: 0.8984 - val_f1_cnn: 0.9042\n",
      "Epoch 21/200\n",
      "153/153 [==============================] - 4s 24ms/step - loss: 0.2420 - accuracy: 0.9050 - recall_cnn: 0.9032 - precision_cnn: 0.9030 - f1_cnn: 0.9029 - val_loss: 0.2246 - val_accuracy: 0.9151 - val_recall_cnn: 0.9251 - val_precision_cnn: 0.9056 - val_f1_cnn: 0.9151\n",
      "Epoch 22/200\n",
      "153/153 [==============================] - 4s 24ms/step - loss: 0.2463 - accuracy: 0.8989 - recall_cnn: 0.8983 - precision_cnn: 0.9005 - f1_cnn: 0.8992 - val_loss: 0.2089 - val_accuracy: 0.9175 - val_recall_cnn: 0.9194 - val_precision_cnn: 0.9118 - val_f1_cnn: 0.9154\n",
      "Epoch 23/200\n",
      "153/153 [==============================] - 4s 24ms/step - loss: 0.2450 - accuracy: 0.8970 - recall_cnn: 0.8969 - precision_cnn: 0.8988 - f1_cnn: 0.8976 - val_loss: 0.2042 - val_accuracy: 0.9138 - val_recall_cnn: 0.9163 - val_precision_cnn: 0.9064 - val_f1_cnn: 0.9112\n",
      "Epoch 24/200\n",
      "153/153 [==============================] - 4s 24ms/step - loss: 0.2248 - accuracy: 0.9091 - recall_cnn: 0.9083 - precision_cnn: 0.9086 - f1_cnn: 0.9082 - val_loss: 0.2421 - val_accuracy: 0.9182 - val_recall_cnn: 0.9222 - val_precision_cnn: 0.9132 - val_f1_cnn: 0.9175\n",
      "Epoch 25/200\n",
      "153/153 [==============================] - 4s 24ms/step - loss: 0.2356 - accuracy: 0.9079 - recall_cnn: 0.9024 - precision_cnn: 0.9033 - f1_cnn: 0.9027 - val_loss: 0.2172 - val_accuracy: 0.9169 - val_recall_cnn: 0.9234 - val_precision_cnn: 0.9101 - val_f1_cnn: 0.9166\n",
      "Epoch 26/200\n",
      "153/153 [==============================] - 4s 24ms/step - loss: 0.2335 - accuracy: 0.9042 - recall_cnn: 0.9048 - precision_cnn: 0.9003 - f1_cnn: 0.9024 - val_loss: 0.2021 - val_accuracy: 0.9243 - val_recall_cnn: 0.9294 - val_precision_cnn: 0.9189 - val_f1_cnn: 0.9240\n",
      "Epoch 27/200\n",
      "153/153 [==============================] - 4s 24ms/step - loss: 0.2322 - accuracy: 0.9069 - recall_cnn: 0.9056 - precision_cnn: 0.9044 - f1_cnn: 0.9049 - val_loss: 0.2089 - val_accuracy: 0.9182 - val_recall_cnn: 0.9282 - val_precision_cnn: 0.9101 - val_f1_cnn: 0.9189\n",
      "Epoch 28/200\n",
      "153/153 [==============================] - 4s 24ms/step - loss: 0.2309 - accuracy: 0.9069 - recall_cnn: 0.9060 - precision_cnn: 0.9068 - f1_cnn: 0.9063 - val_loss: 0.2004 - val_accuracy: 0.9182 - val_recall_cnn: 0.9237 - val_precision_cnn: 0.9089 - val_f1_cnn: 0.9160\n",
      "Epoch 29/200\n",
      "153/153 [==============================] - 4s 24ms/step - loss: 0.2284 - accuracy: 0.9054 - recall_cnn: 0.9056 - precision_cnn: 0.9039 - f1_cnn: 0.9046 - val_loss: 0.1938 - val_accuracy: 0.9237 - val_recall_cnn: 0.9320 - val_precision_cnn: 0.9147 - val_f1_cnn: 0.9231\n",
      "Epoch 30/200\n",
      "153/153 [==============================] - 4s 24ms/step - loss: 0.2262 - accuracy: 0.9058 - recall_cnn: 0.9036 - precision_cnn: 0.9047 - f1_cnn: 0.9040 - val_loss: 0.3083 - val_accuracy: 0.8905 - val_recall_cnn: 0.8950 - val_precision_cnn: 0.8809 - val_f1_cnn: 0.8877\n",
      "Epoch 31/200\n",
      "153/153 [==============================] - 4s 24ms/step - loss: 0.2319 - accuracy: 0.9028 - recall_cnn: 0.9042 - precision_cnn: 0.9014 - f1_cnn: 0.9027 - val_loss: 0.2342 - val_accuracy: 0.9083 - val_recall_cnn: 0.9114 - val_precision_cnn: 0.9051 - val_f1_cnn: 0.9081\n",
      "Epoch 32/200\n",
      "153/153 [==============================] - 4s 24ms/step - loss: 0.2247 - accuracy: 0.9061 - recall_cnn: 0.9022 - precision_cnn: 0.9059 - f1_cnn: 0.9039 - val_loss: 0.1956 - val_accuracy: 0.9237 - val_recall_cnn: 0.9281 - val_precision_cnn: 0.9172 - val_f1_cnn: 0.9225\n",
      "Epoch 33/200\n",
      "153/153 [==============================] - 4s 24ms/step - loss: 0.2335 - accuracy: 0.9026 - recall_cnn: 0.8995 - precision_cnn: 0.9026 - f1_cnn: 0.9008 - val_loss: 0.2102 - val_accuracy: 0.9126 - val_recall_cnn: 0.9147 - val_precision_cnn: 0.9061 - val_f1_cnn: 0.9102\n",
      "Epoch 34/200\n",
      "153/153 [==============================] - 4s 24ms/step - loss: 0.2250 - accuracy: 0.9050 - recall_cnn: 0.9030 - precision_cnn: 0.9040 - f1_cnn: 0.9032 - val_loss: 0.1975 - val_accuracy: 0.9194 - val_recall_cnn: 0.9290 - val_precision_cnn: 0.9151 - val_f1_cnn: 0.9219\n",
      "Epoch 35/200\n",
      "153/153 [==============================] - 4s 25ms/step - loss: 0.2206 - accuracy: 0.9069 - recall_cnn: 0.9071 - precision_cnn: 0.9070 - f1_cnn: 0.9069 - val_loss: 0.1991 - val_accuracy: 0.9194 - val_recall_cnn: 0.9283 - val_precision_cnn: 0.9167 - val_f1_cnn: 0.9223\n",
      "Epoch 36/200\n",
      "153/153 [==============================] - 4s 24ms/step - loss: 0.2178 - accuracy: 0.9095 - recall_cnn: 0.9087 - precision_cnn: 0.9091 - f1_cnn: 0.9088 - val_loss: 0.1973 - val_accuracy: 0.9182 - val_recall_cnn: 0.9223 - val_precision_cnn: 0.9094 - val_f1_cnn: 0.9157\n",
      "Epoch 37/200\n",
      "153/153 [==============================] - 4s 25ms/step - loss: 0.2269 - accuracy: 0.9124 - recall_cnn: 0.9099 - precision_cnn: 0.9104 - f1_cnn: 0.9100 - val_loss: 0.1913 - val_accuracy: 0.9194 - val_recall_cnn: 0.9252 - val_precision_cnn: 0.9151 - val_f1_cnn: 0.9200\n",
      "Epoch 38/200\n",
      "153/153 [==============================] - 4s 24ms/step - loss: 0.2203 - accuracy: 0.9089 - recall_cnn: 0.9081 - precision_cnn: 0.9079 - f1_cnn: 0.9078 - val_loss: 0.1959 - val_accuracy: 0.9268 - val_recall_cnn: 0.9315 - val_precision_cnn: 0.9228 - val_f1_cnn: 0.9270\n",
      "Epoch 39/200\n",
      "153/153 [==============================] - 4s 25ms/step - loss: 0.2231 - accuracy: 0.9102 - recall_cnn: 0.9082 - precision_cnn: 0.9088 - f1_cnn: 0.9083 - val_loss: 0.2117 - val_accuracy: 0.9145 - val_recall_cnn: 0.9169 - val_precision_cnn: 0.9157 - val_f1_cnn: 0.9162\n",
      "Epoch 40/200\n",
      "153/153 [==============================] - 4s 24ms/step - loss: 0.2173 - accuracy: 0.9114 - recall_cnn: 0.9101 - precision_cnn: 0.9103 - f1_cnn: 0.9100 - val_loss: 0.1974 - val_accuracy: 0.9194 - val_recall_cnn: 0.9189 - val_precision_cnn: 0.9133 - val_f1_cnn: 0.9160\n",
      "Epoch 41/200\n",
      "153/153 [==============================] - 4s 24ms/step - loss: 0.2167 - accuracy: 0.9134 - recall_cnn: 0.9120 - precision_cnn: 0.9099 - f1_cnn: 0.9108 - val_loss: 0.2093 - val_accuracy: 0.9182 - val_recall_cnn: 0.9245 - val_precision_cnn: 0.9121 - val_f1_cnn: 0.9181\n",
      "Epoch 42/200\n",
      "153/153 [==============================] - 4s 24ms/step - loss: 0.2216 - accuracy: 0.9132 - recall_cnn: 0.9110 - precision_cnn: 0.9098 - f1_cnn: 0.9102 - val_loss: 0.2120 - val_accuracy: 0.9169 - val_recall_cnn: 0.9188 - val_precision_cnn: 0.9136 - val_f1_cnn: 0.9160\n",
      "Epoch 43/200\n",
      "153/153 [==============================] - 4s 24ms/step - loss: 0.2082 - accuracy: 0.9163 - recall_cnn: 0.9143 - precision_cnn: 0.9152 - f1_cnn: 0.9145 - val_loss: 0.1994 - val_accuracy: 0.9145 - val_recall_cnn: 0.9183 - val_precision_cnn: 0.9113 - val_f1_cnn: 0.9147\n",
      "Epoch 44/200\n",
      "153/153 [==============================] - 4s 25ms/step - loss: 0.2078 - accuracy: 0.9182 - recall_cnn: 0.9189 - precision_cnn: 0.9177 - f1_cnn: 0.9181 - val_loss: 0.2024 - val_accuracy: 0.9286 - val_recall_cnn: 0.9338 - val_precision_cnn: 0.9255 - val_f1_cnn: 0.9296\n",
      "Epoch 45/200\n",
      "153/153 [==============================] - 4s 25ms/step - loss: 0.1994 - accuracy: 0.9165 - recall_cnn: 0.9151 - precision_cnn: 0.9133 - f1_cnn: 0.9140 - val_loss: 0.1933 - val_accuracy: 0.9268 - val_recall_cnn: 0.9294 - val_precision_cnn: 0.9222 - val_f1_cnn: 0.9257\n",
      "Epoch 46/200\n",
      "153/153 [==============================] - 4s 24ms/step - loss: 0.2137 - accuracy: 0.9128 - recall_cnn: 0.9122 - precision_cnn: 0.9131 - f1_cnn: 0.9125 - val_loss: 0.1865 - val_accuracy: 0.9255 - val_recall_cnn: 0.9286 - val_precision_cnn: 0.9215 - val_f1_cnn: 0.9249\n",
      "Epoch 47/200\n",
      "153/153 [==============================] - 4s 24ms/step - loss: 0.2053 - accuracy: 0.9165 - recall_cnn: 0.9165 - precision_cnn: 0.9163 - f1_cnn: 0.9163 - val_loss: 0.1918 - val_accuracy: 0.9157 - val_recall_cnn: 0.9220 - val_precision_cnn: 0.9086 - val_f1_cnn: 0.9151\n",
      "Epoch 48/200\n",
      "153/153 [==============================] - 4s 24ms/step - loss: 0.1978 - accuracy: 0.9169 - recall_cnn: 0.9169 - precision_cnn: 0.9162 - f1_cnn: 0.9164 - val_loss: 0.2464 - val_accuracy: 0.9114 - val_recall_cnn: 0.9160 - val_precision_cnn: 0.9061 - val_f1_cnn: 0.9109\n",
      "Epoch 49/200\n",
      "153/153 [==============================] - 4s 25ms/step - loss: 0.2054 - accuracy: 0.9145 - recall_cnn: 0.9139 - precision_cnn: 0.9143 - f1_cnn: 0.9139 - val_loss: 0.2353 - val_accuracy: 0.9009 - val_recall_cnn: 0.9061 - val_precision_cnn: 0.8954 - val_f1_cnn: 0.9006\n",
      "Epoch 50/200\n",
      "153/153 [==============================] - 4s 24ms/step - loss: 0.2079 - accuracy: 0.9173 - recall_cnn: 0.9177 - precision_cnn: 0.9170 - f1_cnn: 0.9172 - val_loss: 0.1898 - val_accuracy: 0.9225 - val_recall_cnn: 0.9240 - val_precision_cnn: 0.9154 - val_f1_cnn: 0.9196\n",
      "Epoch 51/200\n",
      "153/153 [==============================] - 4s 24ms/step - loss: 0.2039 - accuracy: 0.9171 - recall_cnn: 0.9130 - precision_cnn: 0.9156 - f1_cnn: 0.9141 - val_loss: 0.1979 - val_accuracy: 0.9206 - val_recall_cnn: 0.9260 - val_precision_cnn: 0.9170 - val_f1_cnn: 0.9214\n",
      "Epoch 52/200\n",
      "153/153 [==============================] - 4s 25ms/step - loss: 0.2032 - accuracy: 0.9200 - recall_cnn: 0.9192 - precision_cnn: 0.9184 - f1_cnn: 0.9186 - val_loss: 0.1785 - val_accuracy: 0.9323 - val_recall_cnn: 0.9316 - val_precision_cnn: 0.9268 - val_f1_cnn: 0.9291\n",
      "Epoch 53/200\n",
      "153/153 [==============================] - 4s 24ms/step - loss: 0.2104 - accuracy: 0.9124 - recall_cnn: 0.9118 - precision_cnn: 0.9126 - f1_cnn: 0.9120 - val_loss: 0.3431 - val_accuracy: 0.8825 - val_recall_cnn: 0.8826 - val_precision_cnn: 0.8754 - val_f1_cnn: 0.8789\n",
      "Epoch 54/200\n",
      "153/153 [==============================] - 4s 24ms/step - loss: 0.1969 - accuracy: 0.9159 - recall_cnn: 0.9138 - precision_cnn: 0.9157 - f1_cnn: 0.9146 - val_loss: 0.2254 - val_accuracy: 0.9065 - val_recall_cnn: 0.9077 - val_precision_cnn: 0.8995 - val_f1_cnn: 0.9034\n",
      "Epoch 55/200\n",
      "153/153 [==============================] - 4s 24ms/step - loss: 0.1965 - accuracy: 0.9190 - recall_cnn: 0.9165 - precision_cnn: 0.9183 - f1_cnn: 0.9173 - val_loss: 0.1845 - val_accuracy: 0.9255 - val_recall_cnn: 0.9298 - val_precision_cnn: 0.9254 - val_f1_cnn: 0.9276\n",
      "Epoch 56/200\n",
      "153/153 [==============================] - 4s 24ms/step - loss: 0.1963 - accuracy: 0.9202 - recall_cnn: 0.9183 - precision_cnn: 0.9188 - f1_cnn: 0.9184 - val_loss: 0.1948 - val_accuracy: 0.9255 - val_recall_cnn: 0.9298 - val_precision_cnn: 0.9230 - val_f1_cnn: 0.9262\n",
      "Epoch 57/200\n",
      "153/153 [==============================] - 4s 25ms/step - loss: 0.1935 - accuracy: 0.9262 - recall_cnn: 0.9255 - precision_cnn: 0.9233 - f1_cnn: 0.9243 - val_loss: 0.2020 - val_accuracy: 0.9329 - val_recall_cnn: 0.9335 - val_precision_cnn: 0.9290 - val_f1_cnn: 0.9311\n",
      "Epoch 58/200\n",
      "153/153 [==============================] - 4s 24ms/step - loss: 0.1852 - accuracy: 0.9235 - recall_cnn: 0.9236 - precision_cnn: 0.9228 - f1_cnn: 0.9231 - val_loss: 0.1843 - val_accuracy: 0.9311 - val_recall_cnn: 0.9379 - val_precision_cnn: 0.9281 - val_f1_cnn: 0.9329\n",
      "Epoch 59/200\n",
      "153/153 [==============================] - 4s 25ms/step - loss: 0.2002 - accuracy: 0.9210 - recall_cnn: 0.9228 - precision_cnn: 0.9196 - f1_cnn: 0.9211 - val_loss: 0.1936 - val_accuracy: 0.9335 - val_recall_cnn: 0.9345 - val_precision_cnn: 0.9284 - val_f1_cnn: 0.9314\n",
      "Epoch 60/200\n",
      "153/153 [==============================] - 4s 24ms/step - loss: 0.1904 - accuracy: 0.9229 - recall_cnn: 0.9238 - precision_cnn: 0.9251 - f1_cnn: 0.9243 - val_loss: 0.2359 - val_accuracy: 0.9114 - val_recall_cnn: 0.9166 - val_precision_cnn: 0.9047 - val_f1_cnn: 0.9105\n",
      "Epoch 61/200\n",
      "153/153 [==============================] - 4s 24ms/step - loss: 0.1865 - accuracy: 0.9257 - recall_cnn: 0.9214 - precision_cnn: 0.9212 - f1_cnn: 0.9211 - val_loss: 0.2071 - val_accuracy: 0.9157 - val_recall_cnn: 0.9223 - val_precision_cnn: 0.9158 - val_f1_cnn: 0.9189\n",
      "Epoch 62/200\n",
      "153/153 [==============================] - 4s 24ms/step - loss: 0.1918 - accuracy: 0.9221 - recall_cnn: 0.9232 - precision_cnn: 0.9215 - f1_cnn: 0.9222 - val_loss: 0.2055 - val_accuracy: 0.9243 - val_recall_cnn: 0.9287 - val_precision_cnn: 0.9222 - val_f1_cnn: 0.9254\n",
      "Epoch 63/200\n",
      "153/153 [==============================] - 4s 24ms/step - loss: 0.1940 - accuracy: 0.9241 - recall_cnn: 0.9228 - precision_cnn: 0.9232 - f1_cnn: 0.9229 - val_loss: 0.2651 - val_accuracy: 0.9145 - val_recall_cnn: 0.9131 - val_precision_cnn: 0.9137 - val_f1_cnn: 0.9133\n",
      "Epoch 64/200\n",
      "153/153 [==============================] - 4s 24ms/step - loss: 0.1994 - accuracy: 0.9188 - recall_cnn: 0.9190 - precision_cnn: 0.9175 - f1_cnn: 0.9181 - val_loss: 0.1901 - val_accuracy: 0.9255 - val_recall_cnn: 0.9275 - val_precision_cnn: 0.9235 - val_f1_cnn: 0.9254\n",
      "Epoch 65/200\n",
      "153/153 [==============================] - 4s 24ms/step - loss: 0.1925 - accuracy: 0.9208 - recall_cnn: 0.9191 - precision_cnn: 0.9203 - f1_cnn: 0.9196 - val_loss: 0.2029 - val_accuracy: 0.9243 - val_recall_cnn: 0.9300 - val_precision_cnn: 0.9185 - val_f1_cnn: 0.9241\n",
      "Epoch 66/200\n",
      "153/153 [==============================] - 4s 24ms/step - loss: 0.1931 - accuracy: 0.9198 - recall_cnn: 0.9171 - precision_cnn: 0.9189 - f1_cnn: 0.9178 - val_loss: 0.2036 - val_accuracy: 0.9249 - val_recall_cnn: 0.9307 - val_precision_cnn: 0.9218 - val_f1_cnn: 0.9261\n",
      "Epoch 67/200\n",
      "153/153 [==============================] - 4s 24ms/step - loss: 0.1855 - accuracy: 0.9259 - recall_cnn: 0.9251 - precision_cnn: 0.9242 - f1_cnn: 0.9246 - val_loss: 0.1849 - val_accuracy: 0.9335 - val_recall_cnn: 0.9359 - val_precision_cnn: 0.9321 - val_f1_cnn: 0.9339\n",
      "Epoch 68/200\n",
      "153/153 [==============================] - 4s 24ms/step - loss: 0.1776 - accuracy: 0.9268 - recall_cnn: 0.9249 - precision_cnn: 0.9256 - f1_cnn: 0.9251 - val_loss: 0.1882 - val_accuracy: 0.9335 - val_recall_cnn: 0.9358 - val_precision_cnn: 0.9305 - val_f1_cnn: 0.9330\n",
      "Epoch 69/200\n",
      "153/153 [==============================] - 4s 25ms/step - loss: 0.1825 - accuracy: 0.9276 - recall_cnn: 0.9263 - precision_cnn: 0.9250 - f1_cnn: 0.9255 - val_loss: 0.1743 - val_accuracy: 0.9372 - val_recall_cnn: 0.9350 - val_precision_cnn: 0.9341 - val_f1_cnn: 0.9345\n",
      "Epoch 70/200\n",
      "153/153 [==============================] - 4s 25ms/step - loss: 0.1863 - accuracy: 0.9231 - recall_cnn: 0.9237 - precision_cnn: 0.9223 - f1_cnn: 0.9228 - val_loss: 0.1715 - val_accuracy: 0.9397 - val_recall_cnn: 0.9405 - val_precision_cnn: 0.9368 - val_f1_cnn: 0.9385\n",
      "Epoch 71/200\n",
      "153/153 [==============================] - 4s 24ms/step - loss: 0.1830 - accuracy: 0.9296 - recall_cnn: 0.9289 - precision_cnn: 0.9301 - f1_cnn: 0.9294 - val_loss: 0.2179 - val_accuracy: 0.9212 - val_recall_cnn: 0.9243 - val_precision_cnn: 0.9168 - val_f1_cnn: 0.9204\n",
      "Epoch 72/200\n",
      "153/153 [==============================] - 4s 25ms/step - loss: 0.1800 - accuracy: 0.9307 - recall_cnn: 0.9298 - precision_cnn: 0.9280 - f1_cnn: 0.9288 - val_loss: 0.1837 - val_accuracy: 0.9366 - val_recall_cnn: 0.9398 - val_precision_cnn: 0.9332 - val_f1_cnn: 0.9364\n",
      "Epoch 73/200\n",
      "153/153 [==============================] - 4s 24ms/step - loss: 0.1830 - accuracy: 0.9276 - recall_cnn: 0.9285 - precision_cnn: 0.9278 - f1_cnn: 0.9280 - val_loss: 0.1737 - val_accuracy: 0.9323 - val_recall_cnn: 0.9359 - val_precision_cnn: 0.9307 - val_f1_cnn: 0.9333\n",
      "Epoch 74/200\n",
      "153/153 [==============================] - 4s 24ms/step - loss: 0.1715 - accuracy: 0.9329 - recall_cnn: 0.9344 - precision_cnn: 0.9342 - f1_cnn: 0.9342 - val_loss: 0.1719 - val_accuracy: 0.9335 - val_recall_cnn: 0.9373 - val_precision_cnn: 0.9323 - val_f1_cnn: 0.9347\n",
      "Epoch 75/200\n",
      "153/153 [==============================] - 4s 24ms/step - loss: 0.1799 - accuracy: 0.9233 - recall_cnn: 0.9243 - precision_cnn: 0.9220 - f1_cnn: 0.9230 - val_loss: 0.2284 - val_accuracy: 0.9274 - val_recall_cnn: 0.9304 - val_precision_cnn: 0.9251 - val_f1_cnn: 0.9277\n",
      "Epoch 76/200\n",
      "153/153 [==============================] - 4s 24ms/step - loss: 0.1846 - accuracy: 0.9264 - recall_cnn: 0.9291 - precision_cnn: 0.9262 - f1_cnn: 0.9275 - val_loss: 0.1864 - val_accuracy: 0.9194 - val_recall_cnn: 0.9198 - val_precision_cnn: 0.9161 - val_f1_cnn: 0.9179\n",
      "Epoch 77/200\n",
      "153/153 [==============================] - 4s 24ms/step - loss: 0.1849 - accuracy: 0.9239 - recall_cnn: 0.9212 - precision_cnn: 0.9218 - f1_cnn: 0.9214 - val_loss: 0.1905 - val_accuracy: 0.9329 - val_recall_cnn: 0.9345 - val_precision_cnn: 0.9319 - val_f1_cnn: 0.9332\n",
      "Epoch 78/200\n",
      "153/153 [==============================] - 4s 24ms/step - loss: 0.1783 - accuracy: 0.9270 - recall_cnn: 0.9263 - precision_cnn: 0.9254 - f1_cnn: 0.9257 - val_loss: 0.1843 - val_accuracy: 0.9305 - val_recall_cnn: 0.9337 - val_precision_cnn: 0.9278 - val_f1_cnn: 0.9307\n",
      "Epoch 79/200\n",
      "153/153 [==============================] - 4s 25ms/step - loss: 0.1812 - accuracy: 0.9278 - recall_cnn: 0.9261 - precision_cnn: 0.9281 - f1_cnn: 0.9270 - val_loss: 0.1722 - val_accuracy: 0.9298 - val_recall_cnn: 0.9353 - val_precision_cnn: 0.9318 - val_f1_cnn: 0.9334\n",
      "Epoch 80/200\n",
      "153/153 [==============================] - 4s 24ms/step - loss: 0.1693 - accuracy: 0.9325 - recall_cnn: 0.9312 - precision_cnn: 0.9309 - f1_cnn: 0.9309 - val_loss: 0.1717 - val_accuracy: 0.9366 - val_recall_cnn: 0.9378 - val_precision_cnn: 0.9351 - val_f1_cnn: 0.9364\n",
      "Epoch 81/200\n",
      "153/153 [==============================] - 4s 25ms/step - loss: 0.1762 - accuracy: 0.9266 - recall_cnn: 0.9271 - precision_cnn: 0.9259 - f1_cnn: 0.9264 - val_loss: 0.1812 - val_accuracy: 0.9305 - val_recall_cnn: 0.9314 - val_precision_cnn: 0.9292 - val_f1_cnn: 0.9302\n",
      "Epoch 82/200\n",
      "153/153 [==============================] - 4s 24ms/step - loss: 0.1783 - accuracy: 0.9272 - recall_cnn: 0.9267 - precision_cnn: 0.9284 - f1_cnn: 0.9275 - val_loss: 0.1792 - val_accuracy: 0.9366 - val_recall_cnn: 0.9375 - val_precision_cnn: 0.9314 - val_f1_cnn: 0.9344\n",
      "Epoch 83/200\n",
      "153/153 [==============================] - 4s 24ms/step - loss: 0.1702 - accuracy: 0.9294 - recall_cnn: 0.9289 - precision_cnn: 0.9307 - f1_cnn: 0.9297 - val_loss: 0.2047 - val_accuracy: 0.9212 - val_recall_cnn: 0.9217 - val_precision_cnn: 0.9174 - val_f1_cnn: 0.9194\n",
      "Epoch 84/200\n",
      "153/153 [==============================] - 4s 24ms/step - loss: 0.1812 - accuracy: 0.9276 - recall_cnn: 0.9263 - precision_cnn: 0.9280 - f1_cnn: 0.9271 - val_loss: 0.1733 - val_accuracy: 0.9335 - val_recall_cnn: 0.9351 - val_precision_cnn: 0.9275 - val_f1_cnn: 0.9312\n",
      "Epoch 85/200\n",
      "153/153 [==============================] - 4s 24ms/step - loss: 0.1702 - accuracy: 0.9305 - recall_cnn: 0.9310 - precision_cnn: 0.9312 - f1_cnn: 0.9310 - val_loss: 0.2121 - val_accuracy: 0.9114 - val_recall_cnn: 0.9195 - val_precision_cnn: 0.9092 - val_f1_cnn: 0.9142\n",
      "Epoch 86/200\n",
      "153/153 [==============================] - 4s 26ms/step - loss: 0.1715 - accuracy: 0.9323 - recall_cnn: 0.9300 - precision_cnn: 0.9309 - f1_cnn: 0.9303 - val_loss: 0.1684 - val_accuracy: 0.9372 - val_recall_cnn: 0.9404 - val_precision_cnn: 0.9338 - val_f1_cnn: 0.9370\n",
      "Epoch 87/200\n",
      "153/153 [==============================] - 4s 24ms/step - loss: 0.1747 - accuracy: 0.9290 - recall_cnn: 0.9281 - precision_cnn: 0.9285 - f1_cnn: 0.9282 - val_loss: 0.1800 - val_accuracy: 0.9249 - val_recall_cnn: 0.9287 - val_precision_cnn: 0.9247 - val_f1_cnn: 0.9267\n",
      "Epoch 88/200\n",
      "153/153 [==============================] - 4s 24ms/step - loss: 0.1705 - accuracy: 0.9317 - recall_cnn: 0.9328 - precision_cnn: 0.9322 - f1_cnn: 0.9324 - val_loss: 0.1802 - val_accuracy: 0.9305 - val_recall_cnn: 0.9324 - val_precision_cnn: 0.9303 - val_f1_cnn: 0.9313\n",
      "Epoch 89/200\n",
      "153/153 [==============================] - 4s 24ms/step - loss: 0.1709 - accuracy: 0.9331 - recall_cnn: 0.9334 - precision_cnn: 0.9314 - f1_cnn: 0.9323 - val_loss: 0.1805 - val_accuracy: 0.9280 - val_recall_cnn: 0.9284 - val_precision_cnn: 0.9262 - val_f1_cnn: 0.9273\n",
      "Epoch 90/200\n",
      "153/153 [==============================] - 4s 24ms/step - loss: 0.1703 - accuracy: 0.9335 - recall_cnn: 0.9326 - precision_cnn: 0.9295 - f1_cnn: 0.9310 - val_loss: 0.1997 - val_accuracy: 0.9280 - val_recall_cnn: 0.9312 - val_precision_cnn: 0.9282 - val_f1_cnn: 0.9296\n",
      "Epoch 91/200\n",
      "153/153 [==============================] - 4s 23ms/step - loss: 0.1636 - accuracy: 0.9337 - recall_cnn: 0.9346 - precision_cnn: 0.9355 - f1_cnn: 0.9350 - val_loss: 0.1710 - val_accuracy: 0.9305 - val_recall_cnn: 0.9314 - val_precision_cnn: 0.9326 - val_f1_cnn: 0.9319\n",
      "Epoch 92/200\n",
      "153/153 [==============================] - 4s 24ms/step - loss: 0.1743 - accuracy: 0.9294 - recall_cnn: 0.9265 - precision_cnn: 0.9287 - f1_cnn: 0.9275 - val_loss: 0.1826 - val_accuracy: 0.9311 - val_recall_cnn: 0.9324 - val_precision_cnn: 0.9273 - val_f1_cnn: 0.9298\n",
      "Epoch 93/200\n",
      "153/153 [==============================] - 4s 24ms/step - loss: 0.1625 - accuracy: 0.9356 - recall_cnn: 0.9341 - precision_cnn: 0.9350 - f1_cnn: 0.9344 - val_loss: 0.1764 - val_accuracy: 0.9360 - val_recall_cnn: 0.9347 - val_precision_cnn: 0.9325 - val_f1_cnn: 0.9335\n",
      "Epoch 94/200\n",
      "153/153 [==============================] - 4s 24ms/step - loss: 0.1593 - accuracy: 0.9352 - recall_cnn: 0.9339 - precision_cnn: 0.9364 - f1_cnn: 0.9351 - val_loss: 0.1958 - val_accuracy: 0.9305 - val_recall_cnn: 0.9272 - val_precision_cnn: 0.9274 - val_f1_cnn: 0.9272\n",
      "Epoch 95/200\n",
      "153/153 [==============================] - 4s 24ms/step - loss: 0.1611 - accuracy: 0.9346 - recall_cnn: 0.9336 - precision_cnn: 0.9366 - f1_cnn: 0.9350 - val_loss: 0.1945 - val_accuracy: 0.9317 - val_recall_cnn: 0.9355 - val_precision_cnn: 0.9304 - val_f1_cnn: 0.9329\n",
      "Epoch 96/200\n",
      "153/153 [==============================] - 4s 24ms/step - loss: 0.1865 - accuracy: 0.9253 - recall_cnn: 0.9251 - precision_cnn: 0.9250 - f1_cnn: 0.9250 - val_loss: 0.1715 - val_accuracy: 0.9268 - val_recall_cnn: 0.9308 - val_precision_cnn: 0.9242 - val_f1_cnn: 0.9274\n",
      "Epoch 97/200\n",
      "153/153 [==============================] - 4s 24ms/step - loss: 0.1650 - accuracy: 0.9348 - recall_cnn: 0.9348 - precision_cnn: 0.9335 - f1_cnn: 0.9341 - val_loss: 0.2089 - val_accuracy: 0.9243 - val_recall_cnn: 0.9295 - val_precision_cnn: 0.9217 - val_f1_cnn: 0.9255\n",
      "Epoch 98/200\n",
      "153/153 [==============================] - 4s 24ms/step - loss: 0.1656 - accuracy: 0.9360 - recall_cnn: 0.9353 - precision_cnn: 0.9350 - f1_cnn: 0.9350 - val_loss: 0.1915 - val_accuracy: 0.9280 - val_recall_cnn: 0.9284 - val_precision_cnn: 0.9252 - val_f1_cnn: 0.9267\n",
      "Epoch 99/200\n",
      "153/153 [==============================] - 4s 24ms/step - loss: 0.1623 - accuracy: 0.9360 - recall_cnn: 0.9351 - precision_cnn: 0.9360 - f1_cnn: 0.9354 - val_loss: 0.1707 - val_accuracy: 0.9354 - val_recall_cnn: 0.9363 - val_precision_cnn: 0.9328 - val_f1_cnn: 0.9345\n",
      "Epoch 100/200\n",
      "153/153 [==============================] - 4s 24ms/step - loss: 0.1565 - accuracy: 0.9378 - recall_cnn: 0.9377 - precision_cnn: 0.9377 - f1_cnn: 0.9376 - val_loss: 0.1919 - val_accuracy: 0.9225 - val_recall_cnn: 0.9277 - val_precision_cnn: 0.9250 - val_f1_cnn: 0.9262\n",
      "Epoch 101/200\n",
      "153/153 [==============================] - 4s 25ms/step - loss: 0.1575 - accuracy: 0.9376 - recall_cnn: 0.9363 - precision_cnn: 0.9370 - f1_cnn: 0.9366 - val_loss: 0.1595 - val_accuracy: 0.9428 - val_recall_cnn: 0.9461 - val_precision_cnn: 0.9416 - val_f1_cnn: 0.9438\n",
      "Epoch 102/200\n",
      "153/153 [==============================] - 4s 24ms/step - loss: 0.1615 - accuracy: 0.9358 - recall_cnn: 0.9343 - precision_cnn: 0.9363 - f1_cnn: 0.9352 - val_loss: 0.1501 - val_accuracy: 0.9415 - val_recall_cnn: 0.9418 - val_precision_cnn: 0.9407 - val_f1_cnn: 0.9412\n",
      "Epoch 103/200\n",
      "153/153 [==============================] - 4s 25ms/step - loss: 0.1697 - accuracy: 0.9319 - recall_cnn: 0.9316 - precision_cnn: 0.9315 - f1_cnn: 0.9315 - val_loss: 0.1740 - val_accuracy: 0.9305 - val_recall_cnn: 0.9312 - val_precision_cnn: 0.9291 - val_f1_cnn: 0.9301\n",
      "Epoch 104/200\n",
      "153/153 [==============================] - 4s 24ms/step - loss: 0.1642 - accuracy: 0.9362 - recall_cnn: 0.9346 - precision_cnn: 0.9351 - f1_cnn: 0.9348 - val_loss: 0.1953 - val_accuracy: 0.9311 - val_recall_cnn: 0.9318 - val_precision_cnn: 0.9291 - val_f1_cnn: 0.9304\n",
      "Epoch 105/200\n",
      "153/153 [==============================] - 4s 24ms/step - loss: 0.1609 - accuracy: 0.9354 - recall_cnn: 0.9346 - precision_cnn: 0.9332 - f1_cnn: 0.9338 - val_loss: 0.1858 - val_accuracy: 0.9329 - val_recall_cnn: 0.9357 - val_precision_cnn: 0.9340 - val_f1_cnn: 0.9348\n",
      "Epoch 106/200\n",
      "153/153 [==============================] - 4s 24ms/step - loss: 0.1609 - accuracy: 0.9368 - recall_cnn: 0.9371 - precision_cnn: 0.9380 - f1_cnn: 0.9375 - val_loss: 0.1914 - val_accuracy: 0.9280 - val_recall_cnn: 0.9289 - val_precision_cnn: 0.9261 - val_f1_cnn: 0.9275\n",
      "Epoch 107/200\n",
      "153/153 [==============================] - 4s 24ms/step - loss: 0.1603 - accuracy: 0.9356 - recall_cnn: 0.9349 - precision_cnn: 0.9342 - f1_cnn: 0.9345 - val_loss: 0.1742 - val_accuracy: 0.9280 - val_recall_cnn: 0.9320 - val_precision_cnn: 0.9272 - val_f1_cnn: 0.9295\n",
      "Epoch 108/200\n",
      "153/153 [==============================] - 4s 24ms/step - loss: 0.1585 - accuracy: 0.9393 - recall_cnn: 0.9381 - precision_cnn: 0.9381 - f1_cnn: 0.9380 - val_loss: 0.1718 - val_accuracy: 0.9286 - val_recall_cnn: 0.9300 - val_precision_cnn: 0.9288 - val_f1_cnn: 0.9293\n",
      "Epoch 109/200\n",
      "153/153 [==============================] - 4s 24ms/step - loss: 0.1616 - accuracy: 0.9376 - recall_cnn: 0.9359 - precision_cnn: 0.9391 - f1_cnn: 0.9374 - val_loss: 0.1800 - val_accuracy: 0.9286 - val_recall_cnn: 0.9287 - val_precision_cnn: 0.9255 - val_f1_cnn: 0.9271\n",
      "Epoch 110/200\n",
      "153/153 [==============================] - 4s 24ms/step - loss: 0.1590 - accuracy: 0.9385 - recall_cnn: 0.9392 - precision_cnn: 0.9387 - f1_cnn: 0.9388 - val_loss: 0.1716 - val_accuracy: 0.9378 - val_recall_cnn: 0.9355 - val_precision_cnn: 0.9357 - val_f1_cnn: 0.9355\n",
      "Epoch 111/200\n",
      "153/153 [==============================] - 4s 24ms/step - loss: 0.1598 - accuracy: 0.9354 - recall_cnn: 0.9349 - precision_cnn: 0.9342 - f1_cnn: 0.9344 - val_loss: 0.2011 - val_accuracy: 0.9298 - val_recall_cnn: 0.9294 - val_precision_cnn: 0.9283 - val_f1_cnn: 0.9288\n",
      "Epoch 112/200\n",
      "153/153 [==============================] - 4s 24ms/step - loss: 0.1480 - accuracy: 0.9407 - recall_cnn: 0.9414 - precision_cnn: 0.9419 - f1_cnn: 0.9416 - val_loss: 0.1809 - val_accuracy: 0.9397 - val_recall_cnn: 0.9387 - val_precision_cnn: 0.9381 - val_f1_cnn: 0.9384\n",
      "Epoch 113/200\n",
      "153/153 [==============================] - 4s 24ms/step - loss: 0.1627 - accuracy: 0.9381 - recall_cnn: 0.9345 - precision_cnn: 0.9377 - f1_cnn: 0.9360 - val_loss: 0.1712 - val_accuracy: 0.9292 - val_recall_cnn: 0.9323 - val_precision_cnn: 0.9279 - val_f1_cnn: 0.9300\n",
      "Epoch 114/200\n",
      "153/153 [==============================] - 4s 24ms/step - loss: 0.1603 - accuracy: 0.9350 - recall_cnn: 0.9343 - precision_cnn: 0.9323 - f1_cnn: 0.9332 - val_loss: 0.1537 - val_accuracy: 0.9415 - val_recall_cnn: 0.9450 - val_precision_cnn: 0.9395 - val_f1_cnn: 0.9421\n",
      "Epoch 115/200\n",
      "153/153 [==============================] - 4s 24ms/step - loss: 0.1503 - accuracy: 0.9415 - recall_cnn: 0.9416 - precision_cnn: 0.9407 - f1_cnn: 0.9411 - val_loss: 0.1625 - val_accuracy: 0.9378 - val_recall_cnn: 0.9386 - val_precision_cnn: 0.9370 - val_f1_cnn: 0.9377\n",
      "Epoch 116/200\n",
      "153/153 [==============================] - 4s 24ms/step - loss: 0.1548 - accuracy: 0.9397 - recall_cnn: 0.9390 - precision_cnn: 0.9395 - f1_cnn: 0.9392 - val_loss: 0.1749 - val_accuracy: 0.9317 - val_recall_cnn: 0.9323 - val_precision_cnn: 0.9304 - val_f1_cnn: 0.9313\n",
      "Epoch 117/200\n",
      "153/153 [==============================] - 4s 24ms/step - loss: 0.1556 - accuracy: 0.9387 - recall_cnn: 0.9395 - precision_cnn: 0.9386 - f1_cnn: 0.9390 - val_loss: 0.1547 - val_accuracy: 0.9348 - val_recall_cnn: 0.9367 - val_precision_cnn: 0.9318 - val_f1_cnn: 0.9342\n",
      "Epoch 118/200\n",
      "153/153 [==============================] - 4s 24ms/step - loss: 0.1429 - accuracy: 0.9428 - recall_cnn: 0.9438 - precision_cnn: 0.9412 - f1_cnn: 0.9424 - val_loss: 0.1641 - val_accuracy: 0.9366 - val_recall_cnn: 0.9406 - val_precision_cnn: 0.9372 - val_f1_cnn: 0.9388\n",
      "Epoch 119/200\n",
      "153/153 [==============================] - 4s 24ms/step - loss: 0.1553 - accuracy: 0.9391 - recall_cnn: 0.9385 - precision_cnn: 0.9406 - f1_cnn: 0.9395 - val_loss: 0.1855 - val_accuracy: 0.9360 - val_recall_cnn: 0.9373 - val_precision_cnn: 0.9350 - val_f1_cnn: 0.9361\n",
      "Epoch 120/200\n",
      "153/153 [==============================] - 4s 24ms/step - loss: 0.1594 - accuracy: 0.9370 - recall_cnn: 0.9373 - precision_cnn: 0.9371 - f1_cnn: 0.9371 - val_loss: 0.1898 - val_accuracy: 0.9237 - val_recall_cnn: 0.9259 - val_precision_cnn: 0.9220 - val_f1_cnn: 0.9239\n",
      "Epoch 121/200\n",
      "153/153 [==============================] - 4s 24ms/step - loss: 0.1594 - accuracy: 0.9352 - recall_cnn: 0.9337 - precision_cnn: 0.9337 - f1_cnn: 0.9336 - val_loss: 0.1779 - val_accuracy: 0.9329 - val_recall_cnn: 0.9341 - val_precision_cnn: 0.9308 - val_f1_cnn: 0.9324\n",
      "Epoch 122/200\n",
      "153/153 [==============================] - 4s 24ms/step - loss: 0.1564 - accuracy: 0.9364 - recall_cnn: 0.9347 - precision_cnn: 0.9366 - f1_cnn: 0.9356 - val_loss: 0.2602 - val_accuracy: 0.9071 - val_recall_cnn: 0.9102 - val_precision_cnn: 0.9053 - val_f1_cnn: 0.9077\n",
      "Epoch 123/200\n",
      "153/153 [==============================] - 4s 24ms/step - loss: 0.1560 - accuracy: 0.9366 - recall_cnn: 0.9357 - precision_cnn: 0.9370 - f1_cnn: 0.9362 - val_loss: 0.1669 - val_accuracy: 0.9323 - val_recall_cnn: 0.9330 - val_precision_cnn: 0.9300 - val_f1_cnn: 0.9315\n",
      "Epoch 124/200\n",
      "153/153 [==============================] - 4s 24ms/step - loss: 0.1495 - accuracy: 0.9399 - recall_cnn: 0.9414 - precision_cnn: 0.9386 - f1_cnn: 0.9399 - val_loss: 0.1560 - val_accuracy: 0.9391 - val_recall_cnn: 0.9422 - val_precision_cnn: 0.9354 - val_f1_cnn: 0.9387\n",
      "Epoch 125/200\n",
      "153/153 [==============================] - 4s 24ms/step - loss: 0.1560 - accuracy: 0.9387 - recall_cnn: 0.9377 - precision_cnn: 0.9373 - f1_cnn: 0.9375 - val_loss: 0.1527 - val_accuracy: 0.9397 - val_recall_cnn: 0.9410 - val_precision_cnn: 0.9381 - val_f1_cnn: 0.9395\n",
      "Epoch 126/200\n",
      "153/153 [==============================] - 4s 24ms/step - loss: 0.1395 - accuracy: 0.9456 - recall_cnn: 0.9467 - precision_cnn: 0.9442 - f1_cnn: 0.9454 - val_loss: 0.1714 - val_accuracy: 0.9366 - val_recall_cnn: 0.9392 - val_precision_cnn: 0.9353 - val_f1_cnn: 0.9372\n",
      "Epoch 127/200\n",
      "153/153 [==============================] - 4s 24ms/step - loss: 0.1468 - accuracy: 0.9415 - recall_cnn: 0.9418 - precision_cnn: 0.9422 - f1_cnn: 0.9419 - val_loss: 0.1914 - val_accuracy: 0.9169 - val_recall_cnn: 0.9166 - val_precision_cnn: 0.9162 - val_f1_cnn: 0.9163\n",
      "Epoch 128/200\n",
      "153/153 [==============================] - 4s 24ms/step - loss: 0.1476 - accuracy: 0.9419 - recall_cnn: 0.9428 - precision_cnn: 0.9410 - f1_cnn: 0.9418 - val_loss: 0.1622 - val_accuracy: 0.9366 - val_recall_cnn: 0.9349 - val_precision_cnn: 0.9366 - val_f1_cnn: 0.9357\n",
      "Epoch 129/200\n",
      "153/153 [==============================] - 4s 24ms/step - loss: 0.1490 - accuracy: 0.9417 - recall_cnn: 0.9420 - precision_cnn: 0.9423 - f1_cnn: 0.9421 - val_loss: 0.2252 - val_accuracy: 0.9212 - val_recall_cnn: 0.9217 - val_precision_cnn: 0.9157 - val_f1_cnn: 0.9186\n",
      "Epoch 130/200\n",
      "153/153 [==============================] - 4s 24ms/step - loss: 0.1454 - accuracy: 0.9446 - recall_cnn: 0.9416 - precision_cnn: 0.9451 - f1_cnn: 0.9433 - val_loss: 0.1698 - val_accuracy: 0.9366 - val_recall_cnn: 0.9359 - val_precision_cnn: 0.9344 - val_f1_cnn: 0.9351\n",
      "Epoch 131/200\n",
      "153/153 [==============================] - 4s 24ms/step - loss: 0.1541 - accuracy: 0.9378 - recall_cnn: 0.9365 - precision_cnn: 0.9363 - f1_cnn: 0.9363 - val_loss: 0.1647 - val_accuracy: 0.9385 - val_recall_cnn: 0.9416 - val_precision_cnn: 0.9364 - val_f1_cnn: 0.9389\n",
      "Epoch 132/200\n",
      "153/153 [==============================] - 4s 24ms/step - loss: 0.1466 - accuracy: 0.9438 - recall_cnn: 0.9431 - precision_cnn: 0.9431 - f1_cnn: 0.9430 - val_loss: 0.1609 - val_accuracy: 0.9409 - val_recall_cnn: 0.9428 - val_precision_cnn: 0.9390 - val_f1_cnn: 0.9409\n",
      "Epoch 133/200\n",
      "153/153 [==============================] - 4s 24ms/step - loss: 0.1534 - accuracy: 0.9417 - recall_cnn: 0.9412 - precision_cnn: 0.9410 - f1_cnn: 0.9410 - val_loss: 0.1743 - val_accuracy: 0.9348 - val_recall_cnn: 0.9349 - val_precision_cnn: 0.9351 - val_f1_cnn: 0.9349\n",
      "Epoch 134/200\n",
      "153/153 [==============================] - 4s 24ms/step - loss: 0.1357 - accuracy: 0.9469 - recall_cnn: 0.9487 - precision_cnn: 0.9489 - f1_cnn: 0.9487 - val_loss: 0.1890 - val_accuracy: 0.9317 - val_recall_cnn: 0.9327 - val_precision_cnn: 0.9276 - val_f1_cnn: 0.9301\n",
      "Epoch 135/200\n",
      "153/153 [==============================] - 4s 24ms/step - loss: 0.1526 - accuracy: 0.9383 - recall_cnn: 0.9387 - precision_cnn: 0.9381 - f1_cnn: 0.9383 - val_loss: 0.1574 - val_accuracy: 0.9422 - val_recall_cnn: 0.9416 - val_precision_cnn: 0.9414 - val_f1_cnn: 0.9414\n",
      "Epoch 136/200\n",
      "153/153 [==============================] - 4s 24ms/step - loss: 0.1377 - accuracy: 0.9444 - recall_cnn: 0.9443 - precision_cnn: 0.9441 - f1_cnn: 0.9441 - val_loss: 0.1705 - val_accuracy: 0.9415 - val_recall_cnn: 0.9441 - val_precision_cnn: 0.9402 - val_f1_cnn: 0.9421\n",
      "Epoch 137/200\n",
      "153/153 [==============================] - 4s 24ms/step - loss: 0.1446 - accuracy: 0.9438 - recall_cnn: 0.9446 - precision_cnn: 0.9437 - f1_cnn: 0.9441 - val_loss: 0.2174 - val_accuracy: 0.9262 - val_recall_cnn: 0.9276 - val_precision_cnn: 0.9223 - val_f1_cnn: 0.9249\n",
      "Epoch 138/200\n",
      "153/153 [==============================] - 4s 24ms/step - loss: 0.1398 - accuracy: 0.9499 - recall_cnn: 0.9489 - precision_cnn: 0.9502 - f1_cnn: 0.9495 - val_loss: 0.1511 - val_accuracy: 0.9403 - val_recall_cnn: 0.9404 - val_precision_cnn: 0.9400 - val_f1_cnn: 0.9401\n",
      "Epoch 139/200\n",
      "153/153 [==============================] - 4s 24ms/step - loss: 0.1470 - accuracy: 0.9403 - recall_cnn: 0.9385 - precision_cnn: 0.9408 - f1_cnn: 0.9396 - val_loss: 0.1588 - val_accuracy: 0.9329 - val_recall_cnn: 0.9320 - val_precision_cnn: 0.9325 - val_f1_cnn: 0.9322\n",
      "Epoch 140/200\n",
      "153/153 [==============================] - 4s 24ms/step - loss: 0.1306 - accuracy: 0.9483 - recall_cnn: 0.9479 - precision_cnn: 0.9484 - f1_cnn: 0.9481 - val_loss: 0.1684 - val_accuracy: 0.9317 - val_recall_cnn: 0.9324 - val_precision_cnn: 0.9326 - val_f1_cnn: 0.9325\n",
      "Epoch 141/200\n",
      "153/153 [==============================] - 4s 24ms/step - loss: 0.1391 - accuracy: 0.9444 - recall_cnn: 0.9455 - precision_cnn: 0.9451 - f1_cnn: 0.9452 - val_loss: 0.1695 - val_accuracy: 0.9329 - val_recall_cnn: 0.9319 - val_precision_cnn: 0.9310 - val_f1_cnn: 0.9314\n",
      "Epoch 141: early stopping\n",
      "Wall time: 9min 16s\n"
     ]
    }
   ],
   "source": [
    "%%time\n",
    "K.clear_session()\n",
    "adam = Adam(learning_rate=0.00006, beta_1=0.9,\n",
    "            beta_2=0.999, epsilon=None, amsgrad=False)\n",
    "RCC_model_t1.compile(loss='binary_crossentropy',\n",
    "                     optimizer=adam, metrics=METRICS)\n",
    "rcc_history_t1 = Train_CNN_Model(\n",
    "    200, RCC_model_t1, train_iter_t1, val_iter_t1, export_dir='./model_result', name=\"rcc_t1\")\n"
   ]
  },
  {
   "cell_type": "code",
   "execution_count": 97,
   "metadata": {
    "cell_id": "6664dbfd96bd4df5bb01669ecd3f1cba",
    "deepnote_cell_type": "code",
    "deepnote_to_be_reexecuted": true,
    "source_hash": "7488ade4"
   },
   "outputs": [
    {
     "data": {
      "image/png": "[encoded data removed]",
      "text/plain": [
       "<Figure size 640x480 with 1 Axes>"
      ]
     },
     "metadata": {},
     "output_type": "display_data"
    },
    {
     "data": {
      "image/png": "[encoded data removed]",
      "text/plain": [
       "<Figure size 640x480 with 1 Axes>"
      ]
     },
     "metadata": {},
     "output_type": "display_data"
    }
   ],
   "source": [
    "visualize_history(rcc_history_t1)\n"
   ]
  },
  {
   "cell_type": "markdown",
   "metadata": {
    "cell_id": "6c3b26c2605f4f7091a968e24aa602e9",
    "deepnote_cell_height": 54,
    "deepnote_cell_type": "markdown",
    "tags": []
   },
   "source": [
    "##### Load model from file and evaluate\n"
   ]
  },
  {
   "cell_type": "code",
   "execution_count": 28,
   "metadata": {
    "cell_id": "3db97c1688e34da686c66997e57e50e0",
    "deepnote_cell_type": "code",
    "deepnote_to_be_reexecuted": true,
    "source_hash": "22a7c17d"
   },
   "outputs": [],
   "source": [
    "RCCNet_model_trained1 = load_model(\n",
    "    \"./model_result/model_rcc_t1.h5\",\n",
    "    custom_objects={\"recall_cnn\": recall_cnn, \"precision_cnn\": precision_cnn, \"f1_cnn\": f1_cnn},\n",
    ")\n"
   ]
  },
  {
   "cell_type": "code",
   "execution_count": 29,
   "metadata": {
    "cell_id": "cf9eabaa8b2342b7817463e43a8a9ddd",
    "deepnote_cell_type": "code",
    "deepnote_to_be_reexecuted": true,
    "source_hash": "cc339ded"
   },
   "outputs": [
    {
     "name": "stdout",
     "output_type": "stream",
     "text": [
      "51/51 [==============================] - 1s 11ms/step - loss: 0.1840 - accuracy: 0.9330 - recall_cnn: 0.9311 - precision_cnn: 0.9325 - f1_cnn: 0.9317\n",
      "153/153 [==============================] - 3s 20ms/step - loss: 0.0964 - accuracy: 0.9668 - recall_cnn: 0.9657 - precision_cnn: 0.9674 - f1_cnn: 0.9665\n",
      "51/51 [==============================] - 1s 10ms/step - loss: 0.1683 - accuracy: 0.9483 - recall_cnn: 0.9473 - precision_cnn: 0.9492 - f1_cnn: 0.9482\n",
      "Model Evaluation\n",
      "----------------------------------------------\n",
      "loss - test: 0.18401867151260376 \n",
      "loss - train : 0.09642554074525833 \n",
      "loss - val: 0.1682843416929245 \n",
      "----------------------------------------------\n",
      "accuracy - test: 0.9329643249511719 \n",
      "accuracy - train : 0.9667692184448242 \n",
      "accuracy - val: 0.9483076930046082 \n",
      "----------------------------------------------\n",
      "recall - test: 0.9310897588729858 \n",
      "recall - train : 0.9657047986984253 \n",
      "recall - val: 0.9473039507865906 \n",
      "----------------------------------------------\n",
      "precision - test: 0.9324603080749512 \n",
      "precision - train : 0.967363715171814 \n",
      "precision - val: 0.9491523504257202 \n",
      "----------------------------------------------\n",
      "f1 - test: 0.9317014217376709 \n",
      "f1 - train : 0.9664754271507263 \n",
      "f1 - val: 0.9481966495513916 \n"
     ]
    },
    {
     "name": "stderr",
     "output_type": "stream",
     "text": [
      "C:\\Users\\Admin\\AppData\\Local\\Temp\\ipykernel_22932\\351448186.py:42: FutureWarning: The frame.append method is deprecated and will be removed from pandas in a future version. Use pandas.concat instead.\n",
      "  pred_cnn_df = pred_cnn_df.append(pd.DataFrame(run), ignore_index=True)\n"
     ]
    }
   ],
   "source": [
    "Evaluate_CNN_Model(RCCNet_model_trained1, test_iter_t1, train_iter_t1, val_iter_t1, \"RCC Net Task 1\")\n"
   ]
  },
  {
   "cell_type": "markdown",
   "metadata": {
    "cell_id": "b6ac73110aa543008749bf87c7900c66",
    "deepnote_cell_type": "markdown"
   },
   "source": [
    "##### EVALUATION\n",
    "\n",
    "- `Loss: `The loss values across three sets is not so different from each other just around 0.03 to 0.05, which consider a small amount for neural network model. The loss value for RCC net is one of the smallest value among the models above, which is suitable for our problem here, cancer prediction.\n",
    "- `Accuracy: `The accuracy for different set is also small when we compare them with each other. Train set is 2% bigger than the test and validation sets. Accuracy for test set and validation are the highest values across the models.\n",
    "- `Recall: ` Percentage of recall of 92% in testing and validation sets can tell that this model can predict \"Of all patients who really have cancer, 92% were predicted to have cancer\". This is a very good value, and extremely fit with the problem in the task 1. Since we don't want to miss any patient who is likely to have cancer to be predicted as is not cancer. This will lead to life-threatening scenario, which is extremely dangerous for health care sector. In task 1, we aim to detect as many patient with cancer as possible to prevent death consequence.\n",
    "- `Precision: ` Percentage of precision of \"Of all patients predicted to have cancer, nearly 92% really have cancer”. Since we don't want to mistakenly predict patient who is not likely to have caner as cancerous patient. Since this will lead to hospital's overload in terms of staff, bed and treatment. More important, patient will have side effect when they use drugs and treatment for cancer but they don't really have cancer.\n",
    "- `F1: ` Since recall and precision is nearly equal each other at 92%, the harmony or them which is F1 score, also stays high at 92%. In our problem, since it is imbalance dataset, we care more about recall, precision and f1 above other metrics.\n",
    "- `Overall :` RCC Net seems to outperform other models in terms of all metrics, it have the lowest loss value with highest accuracy, recall, precision and f1. This is extremely amazed us, since RCCNet have the smallest amount of layer, but has the highest performance among models. Also, the measurement across training, testing and validation sets shows no potential of overfitting or underfitting in the model. Althought, the measurement of RCC Net is slightly smaller than VGG-16 model in all metrics, but the range is not big e.g accuracy of RCC and VGG-16 on test det are 92.1% and 92.5% - only 0.4% difference. This is a better model compared to VGG-16 since VGG-16 have a complex architecture with many layers and stage, resulting in high complexity and consume huger amount of training time. The trainable parameter for RCC and VGG-16 are `1,151,394` and `33,613,890`, respectively. Comparing trainable parameters of two models' architecture, VGG-16 have more than 33 times of trainable params than RCCNet. The more trainable parameter, the more resource we need for the training process of neural network. For large datasets in healthcare section, VGG will need to more cost of trainings both in terms of time and technologies resource needed.\n",
    "- `Graph analysis` In addition, the train history of RCCNet shows small gap in loss and accuracy graph. RCCNet also indicates that it slightly fluctuated between training and validation set for loss and accuracy. Both training and testing sets shows a kind of exponential of decreasing in loss and increasing in accuracy in above graphs. This indicate that the model is neither underfitting nor overfitting.\n",
    "- `Therefore, we consider RCC Net to be our best model for task 1`\n"
   ]
  },
  {
   "cell_type": "markdown",
   "metadata": {
    "cell_id": "cb9b933ff11a46619001ea8be4a6f406",
    "deepnote_cell_type": "markdown"
   },
   "source": [
    "## TASK 1 EVALUATION:\n",
    "\n",
    "- As analysed above, the accuracy graph illustrates that RCCNet architecture has the best accuracy curve where the gap between the training and validation accuracy is minimal compared to all other models architectures. Particularly Alexnet, VGG-16, and ResNet-50 architectures are revealed to exhibit highly fluctuating validation curves, indicating that the architectures are slightly overfit and that some regions of images are classified arbitrarily, thereby generating noise. According to these definitions, RCCNet has the lowest likelihood of overfitting, whereas AlexNet is prone to overfitting because the validation accuracy fluctuates the greatest.\n",
    "- The loss graph demonstrates that RCCNet has the most acceptable loss curves, since the volatility of validation loss is less pronounced than that of the other networks. At a given point of experience, it is observed that the validation losses of all three structures are increasing (rather than reducing to a point of stability), indicating that the architectures are overfitted. A significant loss fluctuation for ResNet50 and AlexNet may suggest that the validation dataset contains too few instances relative to the training dataset and should be expanded in the future.\n",
    "\n",
    "**Conclusion:**\n",
    "\n",
    "- With the supervised machine learning models being extremely overfitted to the training set, therefore, it is safe to infer that RCCNet is the most promising CNN architecture among all 5v-implemented designs for Task 1 and surpasses the supervised machine learning models in every way.\n"
   ]
  },
  {
   "cell_type": "markdown",
   "metadata": {},
   "source": [
    "### Preprocessing\n"
   ]
  },
  {
   "cell_type": "code",
   "execution_count": 30,
   "metadata": {},
   "outputs": [],
   "source": [
    "converted_data = pd.read_csv('./converted_data/df_labels_balanced_converted.csv')"
   ]
  },
  {
   "cell_type": "code",
   "execution_count": 31,
   "metadata": {},
   "outputs": [],
   "source": [
    "X = cancer_df.drop(\"celltype\", axis=1)\n",
    "y = cancer_df[[\"celltype\"]]"
   ]
  },
  {
   "cell_type": "code",
   "execution_count": 32,
   "metadata": {},
   "outputs": [],
   "source": [
    "X[\"celltype\"] = y\n",
    "label_df_t2 = X.copy()\n"
   ]
  },
  {
   "cell_type": "code",
   "execution_count": 33,
   "metadata": {},
   "outputs": [
    {
     "data": {
      "text/html": [
       "<div>\n",
       "<style scoped>\n",
       "    .dataframe tbody tr th:only-of-type {\n",
       "        vertical-align: middle;\n",
       "    }\n",
       "\n",
       "    .dataframe tbody tr th {\n",
       "        vertical-align: top;\n",
       "    }\n",
       "\n",
       "    .dataframe thead th {\n",
       "        text-align: right;\n",
       "    }\n",
       "</style>\n",
       "<table border=\"1\" class=\"dataframe\">\n",
       "  <thead>\n",
       "    <tr style=\"text-align: right;\">\n",
       "      <th></th>\n",
       "      <th>imagename</th>\n",
       "      <th>celltype</th>\n",
       "    </tr>\n",
       "  </thead>\n",
       "  <tbody>\n",
       "    <tr>\n",
       "      <th>0</th>\n",
       "      <td>22405.png</td>\n",
       "      <td>0</td>\n",
       "    </tr>\n",
       "    <tr>\n",
       "      <th>1</th>\n",
       "      <td>22406.png</td>\n",
       "      <td>0</td>\n",
       "    </tr>\n",
       "    <tr>\n",
       "      <th>2</th>\n",
       "      <td>22407.png</td>\n",
       "      <td>0</td>\n",
       "    </tr>\n",
       "    <tr>\n",
       "      <th>3</th>\n",
       "      <td>22408.png</td>\n",
       "      <td>0</td>\n",
       "    </tr>\n",
       "    <tr>\n",
       "      <th>4</th>\n",
       "      <td>22409.png</td>\n",
       "      <td>0</td>\n",
       "    </tr>\n",
       "    <tr>\n",
       "      <th>...</th>\n",
       "      <td>...</td>\n",
       "      <td>...</td>\n",
       "    </tr>\n",
       "    <tr>\n",
       "      <th>16247</th>\n",
       "      <td>13803.png</td>\n",
       "      <td>3</td>\n",
       "    </tr>\n",
       "    <tr>\n",
       "      <th>16248</th>\n",
       "      <td>16604.png</td>\n",
       "      <td>3</td>\n",
       "    </tr>\n",
       "    <tr>\n",
       "      <th>16249</th>\n",
       "      <td>8687.png</td>\n",
       "      <td>3</td>\n",
       "    </tr>\n",
       "    <tr>\n",
       "      <th>16250</th>\n",
       "      <td>12080.png</td>\n",
       "      <td>3</td>\n",
       "    </tr>\n",
       "    <tr>\n",
       "      <th>16251</th>\n",
       "      <td>16651.png</td>\n",
       "      <td>3</td>\n",
       "    </tr>\n",
       "  </tbody>\n",
       "</table>\n",
       "<p>16252 rows × 2 columns</p>\n",
       "</div>"
      ],
      "text/plain": [
       "       imagename  celltype\n",
       "0      22405.png         0\n",
       "1      22406.png         0\n",
       "2      22407.png         0\n",
       "3      22408.png         0\n",
       "4      22409.png         0\n",
       "...          ...       ...\n",
       "16247  13803.png         3\n",
       "16248  16604.png         3\n",
       "16249   8687.png         3\n",
       "16250  12080.png         3\n",
       "16251  16651.png         3\n",
       "\n",
       "[16252 rows x 2 columns]"
      ]
     },
     "execution_count": 82,
     "metadata": {},
     "output_type": "execute_result"
    }
   ],
   "source": [
    "label_df_t2 = label_df_t2.drop([\"iscancerous\"], axis=1)\n",
    "label_df_t2\n"
   ]
  },
  {
   "cell_type": "code",
   "execution_count": 34,
   "metadata": {},
   "outputs": [
    {
     "data": {
      "text/plain": [
       "0    4063\n",
       "1    4063\n",
       "3    4063\n",
       "2    4063\n",
       "Name: celltype, dtype: int64"
      ]
     },
     "execution_count": 83,
     "metadata": {},
     "output_type": "execute_result"
    }
   ],
   "source": [
    "label_df_t2[\"celltype\"].value_counts()\n"
   ]
  },
  {
   "cell_type": "markdown",
   "metadata": {},
   "source": [
    "### Train test split and create data iterator\n"
   ]
  },
  {
   "cell_type": "code",
   "execution_count": 35,
   "metadata": {},
   "outputs": [],
   "source": [
    "train_df_task2, test_df_task2 = train_test_split(label_df_t2, test_size=0.2, random_state=1)\n",
    "train_df_task2, val_df_task2 = train_test_split(train_df_task2, test_size=0.25, random_state=1)\n"
   ]
  },
  {
   "cell_type": "code",
   "execution_count": 36,
   "metadata": {},
   "outputs": [],
   "source": [
    "train_df_task2[\"celltype\"] = train_df_task2[\"celltype\"].astype(str)\n",
    "test_df_task2[\"celltype\"] = test_df_task2[\"celltype\"].astype(str)\n",
    "val_df_task2[\"celltype\"] = val_df_task2[\"celltype\"].astype(str)\n"
   ]
  },
  {
   "cell_type": "code",
   "execution_count": 38,
   "metadata": {},
   "outputs": [],
   "source": [
    "train_generator = ImageDataGenerator(\n",
    "    rescale=1.0 / 255,\n",
    "    shear_range=0.2,\n",
    "    zoom_range=0.2,\n",
    "    horizontal_flip=True,\n",
    "    width_shift_range=0.2,\n",
    "    height_shift_range=0.2,\n",
    "    rotation_range=20,\n",
    ")\n",
    "\n",
    "test_generator = ImageDataGenerator(rescale=1.0 / 255)\n"
   ]
  },
  {
   "cell_type": "code",
   "execution_count": 39,
   "metadata": {},
   "outputs": [
    {
     "name": "stdout",
     "output_type": "stream",
     "text": [
      "Found 9750 validated image filenames belonging to 4 classes.\n",
      "Found 3251 validated image filenames belonging to 4 classes.\n",
      "Found 3251 validated image filenames belonging to 4 classes.\n"
     ]
    }
   ],
   "source": [
    "train_iter_t2 = train_generator.flow_from_dataframe(\n",
    "    dataframe=train_df_task2,\n",
    "    directory=\"./patch_images\",\n",
    "    x_col=\"imagename\",\n",
    "    y_col=\"celltype\",\n",
    "    class_mode=\"categorical\",\n",
    "    target_size=(27, 27),\n",
    ")\n",
    "\n",
    "val_iter_t2 = test_generator.flow_from_dataframe(\n",
    "    dataframe=val_df_task2,\n",
    "    directory=\"./patch_images\",\n",
    "    x_col=\"imagename\",\n",
    "    y_col=\"celltype\",\n",
    "    class_mode=\"categorical\",\n",
    "    target_size=(27, 27),\n",
    ")\n",
    "test_iter_t2 = test_generator.flow_from_dataframe(\n",
    "    dataframe=test_df_task2,\n",
    "    directory=\"./patch_images\",\n",
    "    x_col=\"imagename\",\n",
    "    y_col=\"celltype\",\n",
    "    class_mode=\"categorical\",\n",
    "    target_size=(27, 27),\n",
    ")\n"
   ]
  },
  {
   "cell_type": "markdown",
   "metadata": {},
   "source": [
    "#### RCC Net task 2\n"
   ]
  },
  {
   "cell_type": "code",
   "execution_count": 40,
   "metadata": {},
   "outputs": [
    {
     "name": "stdout",
     "output_type": "stream",
     "text": [
      "Model: \"sequential\"\n",
      "_________________________________________________________________\n",
      " Layer (type)                Output Shape              Param #   \n",
      "=================================================================\n",
      " conv2d (Conv2D)             (None, 27, 27, 32)        896       \n",
      "                                                                 \n",
      " batch_normalization (BatchN  (None, 27, 27, 32)       128       \n",
      " ormalization)                                                   \n",
      "                                                                 \n",
      " conv2d_1 (Conv2D)           (None, 25, 25, 32)        9248      \n",
      "                                                                 \n",
      " batch_normalization_1 (Batc  (None, 25, 25, 32)       128       \n",
      " hNormalization)                                                 \n",
      "                                                                 \n",
      " max_pooling2d (MaxPooling2D  (None, 12, 12, 32)       0         \n",
      " )                                                               \n",
      "                                                                 \n",
      " conv2d_2 (Conv2D)           (None, 12, 12, 64)        18496     \n",
      "                                                                 \n",
      " batch_normalization_2 (Batc  (None, 12, 12, 64)       256       \n",
      " hNormalization)                                                 \n",
      "                                                                 \n",
      " conv2d_3 (Conv2D)           (None, 10, 10, 64)        36928     \n",
      "                                                                 \n",
      " batch_normalization_3 (Batc  (None, 10, 10, 64)       256       \n",
      " hNormalization)                                                 \n",
      "                                                                 \n",
      " max_pooling2d_1 (MaxPooling  (None, 5, 5, 64)         0         \n",
      " 2D)                                                             \n",
      "                                                                 \n",
      " flatten (Flatten)           (None, 1600)              0         \n",
      "                                                                 \n",
      " dense (Dense)               (None, 512)               819712    \n",
      "                                                                 \n",
      " batch_normalization_4 (Batc  (None, 512)              2048      \n",
      " hNormalization)                                                 \n",
      "                                                                 \n",
      " dropout (Dropout)           (None, 512)               0         \n",
      "                                                                 \n",
      " dense_1 (Dense)             (None, 512)               262656    \n",
      "                                                                 \n",
      " batch_normalization_5 (Batc  (None, 512)              2048      \n",
      " hNormalization)                                                 \n",
      "                                                                 \n",
      " dropout_1 (Dropout)         (None, 512)               0         \n",
      "                                                                 \n",
      " dense_2 (Dense)             (None, 4)                 2052      \n",
      "                                                                 \n",
      "=================================================================\n",
      "Total params: 1,154,852\n",
      "Trainable params: 1,152,420\n",
      "Non-trainable params: 2,432\n",
      "_________________________________________________________________\n"
     ]
    }
   ],
   "source": [
    "K.clear_session()\n",
    "\n",
    "model_rcc_t2 = Build_RCC(27, 27, 4, \"softmax\", 3, 2, \"same\")\n",
    "adam = Adam(learning_rate=0.00006, beta_1=0.9, beta_2=0.999, epsilon=None, amsgrad=False)\n",
    "model_rcc_t2.compile(loss=\"categorical_crossentropy\", optimizer=adam, metrics=METRICS)\n",
    "model_rcc_t2.summary()\n"
   ]
  },
  {
   "cell_type": "code",
   "execution_count": 89,
   "metadata": {},
   "outputs": [
    {
     "name": "stdout",
     "output_type": "stream",
     "text": [
      "Epoch 1/100\n",
      "305/305 [==============================] - 8s 25ms/step - loss: 0.6355 - accuracy: 0.7518 - recall_cnn: 0.7014 - precision_cnn: 0.7956 - f1_cnn: 0.7447 - val_loss: 0.6965 - val_accuracy: 0.7229 - val_recall_cnn: 0.6864 - val_precision_cnn: 0.7543 - val_f1_cnn: 0.7181\n",
      "Epoch 2/100\n",
      "305/305 [==============================] - 7s 24ms/step - loss: 0.6295 - accuracy: 0.7542 - recall_cnn: 0.7061 - precision_cnn: 0.8002 - f1_cnn: 0.7495 - val_loss: 0.6031 - val_accuracy: 0.7635 - val_recall_cnn: 0.7235 - val_precision_cnn: 0.7978 - val_f1_cnn: 0.7583\n",
      "Epoch 3/100\n",
      "305/305 [==============================] - 7s 24ms/step - loss: 0.6301 - accuracy: 0.7527 - recall_cnn: 0.7018 - precision_cnn: 0.7962 - f1_cnn: 0.7453 - val_loss: 0.7023 - val_accuracy: 0.7315 - val_recall_cnn: 0.6971 - val_precision_cnn: 0.7615 - val_f1_cnn: 0.7274\n",
      "Epoch 4/100\n",
      "305/305 [==============================] - 7s 24ms/step - loss: 0.6140 - accuracy: 0.7588 - recall_cnn: 0.7111 - precision_cnn: 0.8007 - f1_cnn: 0.7526 - val_loss: 0.5718 - val_accuracy: 0.7770 - val_recall_cnn: 0.7415 - val_precision_cnn: 0.8135 - val_f1_cnn: 0.7752\n",
      "Epoch 5/100\n",
      "305/305 [==============================] - 7s 24ms/step - loss: 0.6258 - accuracy: 0.7521 - recall_cnn: 0.7063 - precision_cnn: 0.7968 - f1_cnn: 0.7481 - val_loss: 0.6894 - val_accuracy: 0.7269 - val_recall_cnn: 0.6916 - val_precision_cnn: 0.7573 - val_f1_cnn: 0.7224\n",
      "Epoch 6/100\n",
      "305/305 [==============================] - 7s 24ms/step - loss: 0.6011 - accuracy: 0.7632 - recall_cnn: 0.7153 - precision_cnn: 0.8075 - f1_cnn: 0.7579 - val_loss: 0.6130 - val_accuracy: 0.7622 - val_recall_cnn: 0.7310 - val_precision_cnn: 0.7937 - val_f1_cnn: 0.7606\n",
      "Epoch 7/100\n",
      "305/305 [==============================] - 7s 24ms/step - loss: 0.6127 - accuracy: 0.7612 - recall_cnn: 0.7114 - precision_cnn: 0.7974 - f1_cnn: 0.7512 - val_loss: 0.6077 - val_accuracy: 0.7567 - val_recall_cnn: 0.7191 - val_precision_cnn: 0.7997 - val_f1_cnn: 0.7567\n",
      "Epoch 8/100\n",
      "305/305 [==============================] - 7s 24ms/step - loss: 0.5908 - accuracy: 0.7701 - recall_cnn: 0.7205 - precision_cnn: 0.8086 - f1_cnn: 0.7614 - val_loss: 0.5762 - val_accuracy: 0.7758 - val_recall_cnn: 0.7378 - val_precision_cnn: 0.8035 - val_f1_cnn: 0.7687\n",
      "Epoch 9/100\n",
      "305/305 [==============================] - 7s 24ms/step - loss: 0.6031 - accuracy: 0.7646 - recall_cnn: 0.7151 - precision_cnn: 0.8018 - f1_cnn: 0.7553 - val_loss: 0.6850 - val_accuracy: 0.7355 - val_recall_cnn: 0.6928 - val_precision_cnn: 0.7651 - val_f1_cnn: 0.7265\n",
      "Epoch 10/100\n",
      "305/305 [==============================] - 7s 24ms/step - loss: 0.5814 - accuracy: 0.7694 - recall_cnn: 0.7209 - precision_cnn: 0.8094 - f1_cnn: 0.7619 - val_loss: 0.5836 - val_accuracy: 0.7788 - val_recall_cnn: 0.7445 - val_precision_cnn: 0.8049 - val_f1_cnn: 0.7730\n",
      "Epoch 11/100\n",
      "305/305 [==============================] - 7s 24ms/step - loss: 0.6013 - accuracy: 0.7661 - recall_cnn: 0.7184 - precision_cnn: 0.8048 - f1_cnn: 0.7585 - val_loss: 0.5816 - val_accuracy: 0.7758 - val_recall_cnn: 0.7301 - val_precision_cnn: 0.8033 - val_f1_cnn: 0.7644\n",
      "Epoch 12/100\n",
      "305/305 [==============================] - 7s 24ms/step - loss: 0.5932 - accuracy: 0.7725 - recall_cnn: 0.7224 - precision_cnn: 0.8050 - f1_cnn: 0.7607 - val_loss: 0.5293 - val_accuracy: 0.7954 - val_recall_cnn: 0.7586 - val_precision_cnn: 0.8356 - val_f1_cnn: 0.7946\n",
      "Epoch 13/100\n",
      "305/305 [==============================] - 7s 24ms/step - loss: 0.5839 - accuracy: 0.7739 - recall_cnn: 0.7327 - precision_cnn: 0.8135 - f1_cnn: 0.7704 - val_loss: 0.6809 - val_accuracy: 0.7247 - val_recall_cnn: 0.6913 - val_precision_cnn: 0.7492 - val_f1_cnn: 0.7186\n",
      "Epoch 14/100\n",
      "305/305 [==============================] - 7s 24ms/step - loss: 0.5820 - accuracy: 0.7750 - recall_cnn: 0.7315 - precision_cnn: 0.8126 - f1_cnn: 0.7693 - val_loss: 0.6027 - val_accuracy: 0.7693 - val_recall_cnn: 0.7321 - val_precision_cnn: 0.7946 - val_f1_cnn: 0.7615\n",
      "Epoch 15/100\n",
      "305/305 [==============================] - 7s 24ms/step - loss: 0.5785 - accuracy: 0.7744 - recall_cnn: 0.7311 - precision_cnn: 0.8135 - f1_cnn: 0.7695 - val_loss: 0.5200 - val_accuracy: 0.8065 - val_recall_cnn: 0.7728 - val_precision_cnn: 0.8340 - val_f1_cnn: 0.8018\n",
      "Epoch 16/100\n",
      "305/305 [==============================] - 7s 24ms/step - loss: 0.5748 - accuracy: 0.7794 - recall_cnn: 0.7337 - precision_cnn: 0.8153 - f1_cnn: 0.7718 - val_loss: 0.5392 - val_accuracy: 0.7936 - val_recall_cnn: 0.7628 - val_precision_cnn: 0.8149 - val_f1_cnn: 0.7876\n",
      "Epoch 17/100\n",
      "305/305 [==============================] - 7s 24ms/step - loss: 0.5666 - accuracy: 0.7833 - recall_cnn: 0.7402 - precision_cnn: 0.8183 - f1_cnn: 0.7766 - val_loss: 0.7233 - val_accuracy: 0.7130 - val_recall_cnn: 0.6856 - val_precision_cnn: 0.7288 - val_f1_cnn: 0.7062\n",
      "Epoch 18/100\n",
      "305/305 [==============================] - 7s 24ms/step - loss: 0.5639 - accuracy: 0.7837 - recall_cnn: 0.7376 - precision_cnn: 0.8174 - f1_cnn: 0.7748 - val_loss: 0.5152 - val_accuracy: 0.8108 - val_recall_cnn: 0.7762 - val_precision_cnn: 0.8357 - val_f1_cnn: 0.8044\n",
      "Epoch 19/100\n",
      "305/305 [==============================] - 7s 24ms/step - loss: 0.5599 - accuracy: 0.7793 - recall_cnn: 0.7381 - precision_cnn: 0.8180 - f1_cnn: 0.7754 - val_loss: 0.5776 - val_accuracy: 0.7850 - val_recall_cnn: 0.7478 - val_precision_cnn: 0.8214 - val_f1_cnn: 0.7822\n",
      "Epoch 20/100\n",
      "305/305 [==============================] - 7s 24ms/step - loss: 0.5628 - accuracy: 0.7819 - recall_cnn: 0.7386 - precision_cnn: 0.8199 - f1_cnn: 0.7765 - val_loss: 0.5250 - val_accuracy: 0.8004 - val_recall_cnn: 0.7727 - val_precision_cnn: 0.8297 - val_f1_cnn: 0.7997\n",
      "Epoch 21/100\n",
      "305/305 [==============================] - 7s 24ms/step - loss: 0.5573 - accuracy: 0.7833 - recall_cnn: 0.7422 - precision_cnn: 0.8205 - f1_cnn: 0.7788 - val_loss: 0.5048 - val_accuracy: 0.8044 - val_recall_cnn: 0.7736 - val_precision_cnn: 0.8320 - val_f1_cnn: 0.8012\n",
      "Epoch 22/100\n",
      "305/305 [==============================] - 8s 26ms/step - loss: 0.5626 - accuracy: 0.7802 - recall_cnn: 0.7448 - precision_cnn: 0.8165 - f1_cnn: 0.7784 - val_loss: 0.5284 - val_accuracy: 0.7973 - val_recall_cnn: 0.7696 - val_precision_cnn: 0.8235 - val_f1_cnn: 0.7951\n",
      "Epoch 23/100\n",
      "305/305 [==============================] - 7s 24ms/step - loss: 0.5578 - accuracy: 0.7830 - recall_cnn: 0.7409 - precision_cnn: 0.8189 - f1_cnn: 0.7774 - val_loss: 0.5463 - val_accuracy: 0.7914 - val_recall_cnn: 0.7639 - val_precision_cnn: 0.8216 - val_f1_cnn: 0.7913\n",
      "Epoch 24/100\n",
      "305/305 [==============================] - 7s 24ms/step - loss: 0.5506 - accuracy: 0.7856 - recall_cnn: 0.7450 - precision_cnn: 0.8186 - f1_cnn: 0.7795 - val_loss: 0.5203 - val_accuracy: 0.7979 - val_recall_cnn: 0.7668 - val_precision_cnn: 0.8303 - val_f1_cnn: 0.7968\n",
      "Epoch 25/100\n",
      "305/305 [==============================] - 7s 24ms/step - loss: 0.5398 - accuracy: 0.7884 - recall_cnn: 0.7505 - precision_cnn: 0.8244 - f1_cnn: 0.7852 - val_loss: 0.5104 - val_accuracy: 0.8065 - val_recall_cnn: 0.7754 - val_precision_cnn: 0.8329 - val_f1_cnn: 0.8026\n",
      "Epoch 26/100\n",
      "305/305 [==============================] - 7s 24ms/step - loss: 0.5389 - accuracy: 0.7928 - recall_cnn: 0.7539 - precision_cnn: 0.8271 - f1_cnn: 0.7882 - val_loss: 0.5675 - val_accuracy: 0.7841 - val_recall_cnn: 0.7528 - val_precision_cnn: 0.8126 - val_f1_cnn: 0.7812\n",
      "Epoch 27/100\n",
      "305/305 [==============================] - 7s 24ms/step - loss: 0.5419 - accuracy: 0.7876 - recall_cnn: 0.7490 - precision_cnn: 0.8272 - f1_cnn: 0.7855 - val_loss: 0.5375 - val_accuracy: 0.7948 - val_recall_cnn: 0.7684 - val_precision_cnn: 0.8239 - val_f1_cnn: 0.7946\n",
      "Epoch 28/100\n",
      "305/305 [==============================] - 7s 24ms/step - loss: 0.5326 - accuracy: 0.7935 - recall_cnn: 0.7562 - precision_cnn: 0.8306 - f1_cnn: 0.7912 - val_loss: 0.5174 - val_accuracy: 0.8034 - val_recall_cnn: 0.7735 - val_precision_cnn: 0.8288 - val_f1_cnn: 0.7997\n",
      "Epoch 29/100\n",
      "305/305 [==============================] - 7s 24ms/step - loss: 0.5384 - accuracy: 0.7907 - recall_cnn: 0.7503 - precision_cnn: 0.8288 - f1_cnn: 0.7870 - val_loss: 0.5079 - val_accuracy: 0.8028 - val_recall_cnn: 0.7737 - val_precision_cnn: 0.8291 - val_f1_cnn: 0.7999\n",
      "Epoch 30/100\n",
      "305/305 [==============================] - 7s 24ms/step - loss: 0.5246 - accuracy: 0.8015 - recall_cnn: 0.7640 - precision_cnn: 0.8347 - f1_cnn: 0.7973 - val_loss: 0.5070 - val_accuracy: 0.8108 - val_recall_cnn: 0.7797 - val_precision_cnn: 0.8347 - val_f1_cnn: 0.8057\n",
      "Epoch 31/100\n",
      "305/305 [==============================] - 7s 24ms/step - loss: 0.5173 - accuracy: 0.8039 - recall_cnn: 0.7680 - precision_cnn: 0.8381 - f1_cnn: 0.8010 - val_loss: 0.4976 - val_accuracy: 0.8133 - val_recall_cnn: 0.7858 - val_precision_cnn: 0.8441 - val_f1_cnn: 0.8134\n",
      "Epoch 32/100\n",
      "305/305 [==============================] - 7s 24ms/step - loss: 0.5246 - accuracy: 0.7999 - recall_cnn: 0.7612 - precision_cnn: 0.8296 - f1_cnn: 0.7933 - val_loss: 0.5018 - val_accuracy: 0.8087 - val_recall_cnn: 0.7797 - val_precision_cnn: 0.8390 - val_f1_cnn: 0.8077\n",
      "Epoch 33/100\n",
      "305/305 [==============================] - 7s 24ms/step - loss: 0.5269 - accuracy: 0.7987 - recall_cnn: 0.7607 - precision_cnn: 0.8339 - f1_cnn: 0.7951 - val_loss: 0.4928 - val_accuracy: 0.8133 - val_recall_cnn: 0.7780 - val_precision_cnn: 0.8410 - val_f1_cnn: 0.8078\n",
      "Epoch 34/100\n",
      "305/305 [==============================] - 7s 24ms/step - loss: 0.5137 - accuracy: 0.8052 - recall_cnn: 0.7728 - precision_cnn: 0.8375 - f1_cnn: 0.8034 - val_loss: 0.5228 - val_accuracy: 0.8034 - val_recall_cnn: 0.7733 - val_precision_cnn: 0.8327 - val_f1_cnn: 0.8014\n",
      "Epoch 35/100\n",
      "305/305 [==============================] - 7s 24ms/step - loss: 0.5165 - accuracy: 0.8026 - recall_cnn: 0.7638 - precision_cnn: 0.8333 - f1_cnn: 0.7965 - val_loss: 0.5350 - val_accuracy: 0.8013 - val_recall_cnn: 0.7727 - val_precision_cnn: 0.8289 - val_f1_cnn: 0.7994\n",
      "Epoch 36/100\n",
      "305/305 [==============================] - 7s 24ms/step - loss: 0.5156 - accuracy: 0.8026 - recall_cnn: 0.7693 - precision_cnn: 0.8389 - f1_cnn: 0.8020 - val_loss: 0.5864 - val_accuracy: 0.7702 - val_recall_cnn: 0.7425 - val_precision_cnn: 0.7965 - val_f1_cnn: 0.7680\n",
      "Epoch 37/100\n",
      "305/305 [==============================] - 7s 24ms/step - loss: 0.5131 - accuracy: 0.8000 - recall_cnn: 0.7648 - precision_cnn: 0.8377 - f1_cnn: 0.7989 - val_loss: 0.5025 - val_accuracy: 0.8090 - val_recall_cnn: 0.7785 - val_precision_cnn: 0.8410 - val_f1_cnn: 0.8080\n",
      "Epoch 38/100\n",
      "305/305 [==============================] - 7s 24ms/step - loss: 0.5161 - accuracy: 0.8031 - recall_cnn: 0.7631 - precision_cnn: 0.8356 - f1_cnn: 0.7972 - val_loss: 0.5001 - val_accuracy: 0.8154 - val_recall_cnn: 0.7866 - val_precision_cnn: 0.8391 - val_f1_cnn: 0.8117\n",
      "Epoch 39/100\n",
      "305/305 [==============================] - 7s 24ms/step - loss: 0.5006 - accuracy: 0.8076 - recall_cnn: 0.7715 - precision_cnn: 0.8400 - f1_cnn: 0.8038 - val_loss: 0.5714 - val_accuracy: 0.7804 - val_recall_cnn: 0.7476 - val_precision_cnn: 0.8105 - val_f1_cnn: 0.7773\n",
      "Epoch 40/100\n",
      "305/305 [==============================] - 7s 24ms/step - loss: 0.5047 - accuracy: 0.8082 - recall_cnn: 0.7730 - precision_cnn: 0.8394 - f1_cnn: 0.8044 - val_loss: 0.7330 - val_accuracy: 0.7315 - val_recall_cnn: 0.7142 - val_precision_cnn: 0.7481 - val_f1_cnn: 0.7305\n",
      "Epoch 41/100\n",
      "305/305 [==============================] - 7s 24ms/step - loss: 0.5066 - accuracy: 0.8040 - recall_cnn: 0.7702 - precision_cnn: 0.8385 - f1_cnn: 0.8024 - val_loss: 0.5151 - val_accuracy: 0.7976 - val_recall_cnn: 0.7760 - val_precision_cnn: 0.8236 - val_f1_cnn: 0.7987\n",
      "Epoch 42/100\n",
      "305/305 [==============================] - 7s 24ms/step - loss: 0.4996 - accuracy: 0.8119 - recall_cnn: 0.7762 - precision_cnn: 0.8438 - f1_cnn: 0.8081 - val_loss: 0.5471 - val_accuracy: 0.7899 - val_recall_cnn: 0.7637 - val_precision_cnn: 0.8151 - val_f1_cnn: 0.7881\n",
      "Epoch 43/100\n",
      "305/305 [==============================] - 7s 24ms/step - loss: 0.4826 - accuracy: 0.8173 - recall_cnn: 0.7808 - precision_cnn: 0.8483 - f1_cnn: 0.8126 - val_loss: 0.4971 - val_accuracy: 0.8142 - val_recall_cnn: 0.7917 - val_precision_cnn: 0.8388 - val_f1_cnn: 0.8143\n",
      "Epoch 44/100\n",
      "305/305 [==============================] - 7s 24ms/step - loss: 0.5000 - accuracy: 0.8073 - recall_cnn: 0.7733 - precision_cnn: 0.8387 - f1_cnn: 0.8042 - val_loss: 0.6283 - val_accuracy: 0.7635 - val_recall_cnn: 0.7383 - val_precision_cnn: 0.7843 - val_f1_cnn: 0.7603\n",
      "Epoch 45/100\n",
      "305/305 [==============================] - 7s 24ms/step - loss: 0.4829 - accuracy: 0.8141 - recall_cnn: 0.7783 - precision_cnn: 0.8454 - f1_cnn: 0.8099 - val_loss: 0.5556 - val_accuracy: 0.7844 - val_recall_cnn: 0.7610 - val_precision_cnn: 0.8076 - val_f1_cnn: 0.7832\n",
      "Epoch 46/100\n",
      "305/305 [==============================] - 7s 24ms/step - loss: 0.4889 - accuracy: 0.8160 - recall_cnn: 0.7796 - precision_cnn: 0.8447 - f1_cnn: 0.8102 - val_loss: 0.5149 - val_accuracy: 0.8059 - val_recall_cnn: 0.7723 - val_precision_cnn: 0.8310 - val_f1_cnn: 0.8001\n",
      "Epoch 47/100\n",
      "305/305 [==============================] - 7s 24ms/step - loss: 0.4869 - accuracy: 0.8178 - recall_cnn: 0.7825 - precision_cnn: 0.8474 - f1_cnn: 0.8131 - val_loss: 0.5107 - val_accuracy: 0.8078 - val_recall_cnn: 0.7805 - val_precision_cnn: 0.8271 - val_f1_cnn: 0.8027\n",
      "Epoch 48/100\n",
      "305/305 [==============================] - 7s 24ms/step - loss: 0.4832 - accuracy: 0.8144 - recall_cnn: 0.7793 - precision_cnn: 0.8462 - f1_cnn: 0.8109 - val_loss: 0.5939 - val_accuracy: 0.7641 - val_recall_cnn: 0.7407 - val_precision_cnn: 0.7907 - val_f1_cnn: 0.7644\n",
      "Epoch 49/100\n",
      "305/305 [==============================] - 7s 24ms/step - loss: 0.4928 - accuracy: 0.8070 - recall_cnn: 0.7743 - precision_cnn: 0.8434 - f1_cnn: 0.8067 - val_loss: 0.4818 - val_accuracy: 0.8201 - val_recall_cnn: 0.7921 - val_precision_cnn: 0.8425 - val_f1_cnn: 0.8161\n",
      "Epoch 50/100\n",
      "305/305 [==============================] - 7s 24ms/step - loss: 0.4914 - accuracy: 0.8106 - recall_cnn: 0.7769 - precision_cnn: 0.8391 - f1_cnn: 0.8063 - val_loss: 0.5129 - val_accuracy: 0.8022 - val_recall_cnn: 0.7742 - val_precision_cnn: 0.8291 - val_f1_cnn: 0.8002\n",
      "Epoch 51/100\n",
      "305/305 [==============================] - 7s 24ms/step - loss: 0.4791 - accuracy: 0.8215 - recall_cnn: 0.7884 - precision_cnn: 0.8491 - f1_cnn: 0.8172 - val_loss: 0.4770 - val_accuracy: 0.8161 - val_recall_cnn: 0.7878 - val_precision_cnn: 0.8383 - val_f1_cnn: 0.8118\n",
      "Epoch 52/100\n",
      "305/305 [==============================] - 7s 24ms/step - loss: 0.4757 - accuracy: 0.8184 - recall_cnn: 0.7838 - precision_cnn: 0.8493 - f1_cnn: 0.8148 - val_loss: 0.4453 - val_accuracy: 0.8336 - val_recall_cnn: 0.8105 - val_precision_cnn: 0.8574 - val_f1_cnn: 0.8330\n",
      "Epoch 53/100\n",
      "305/305 [==============================] - 7s 24ms/step - loss: 0.4805 - accuracy: 0.8145 - recall_cnn: 0.7829 - precision_cnn: 0.8468 - f1_cnn: 0.8131 - val_loss: 0.6059 - val_accuracy: 0.7724 - val_recall_cnn: 0.7406 - val_precision_cnn: 0.7983 - val_f1_cnn: 0.7679\n",
      "Epoch 54/100\n",
      "305/305 [==============================] - 7s 24ms/step - loss: 0.4706 - accuracy: 0.8198 - recall_cnn: 0.7896 - precision_cnn: 0.8511 - f1_cnn: 0.8188 - val_loss: 0.5346 - val_accuracy: 0.7905 - val_recall_cnn: 0.7685 - val_precision_cnn: 0.8158 - val_f1_cnn: 0.7911\n",
      "Epoch 55/100\n",
      "305/305 [==============================] - 7s 24ms/step - loss: 0.4750 - accuracy: 0.8154 - recall_cnn: 0.7826 - precision_cnn: 0.8464 - f1_cnn: 0.8127 - val_loss: 0.5770 - val_accuracy: 0.7724 - val_recall_cnn: 0.7462 - val_precision_cnn: 0.7921 - val_f1_cnn: 0.7682\n",
      "Epoch 56/100\n",
      "305/305 [==============================] - 7s 24ms/step - loss: 0.4724 - accuracy: 0.8188 - recall_cnn: 0.7846 - precision_cnn: 0.8481 - f1_cnn: 0.8146 - val_loss: 0.4678 - val_accuracy: 0.8308 - val_recall_cnn: 0.8091 - val_precision_cnn: 0.8513 - val_f1_cnn: 0.8293\n",
      "Epoch 57/100\n",
      "305/305 [==============================] - 7s 24ms/step - loss: 0.4684 - accuracy: 0.8206 - recall_cnn: 0.7877 - precision_cnn: 0.8492 - f1_cnn: 0.8169 - val_loss: 0.5770 - val_accuracy: 0.7927 - val_recall_cnn: 0.7661 - val_precision_cnn: 0.8234 - val_f1_cnn: 0.7933\n",
      "Epoch 58/100\n",
      "305/305 [==============================] - 7s 24ms/step - loss: 0.4700 - accuracy: 0.8237 - recall_cnn: 0.7926 - precision_cnn: 0.8521 - f1_cnn: 0.8208 - val_loss: 0.4367 - val_accuracy: 0.8397 - val_recall_cnn: 0.8159 - val_precision_cnn: 0.8651 - val_f1_cnn: 0.8394\n",
      "Epoch 59/100\n",
      "305/305 [==============================] - 7s 24ms/step - loss: 0.4716 - accuracy: 0.8196 - recall_cnn: 0.7872 - precision_cnn: 0.8478 - f1_cnn: 0.8159 - val_loss: 0.4959 - val_accuracy: 0.8047 - val_recall_cnn: 0.7809 - val_precision_cnn: 0.8282 - val_f1_cnn: 0.8035\n",
      "Epoch 60/100\n",
      "305/305 [==============================] - 7s 24ms/step - loss: 0.4774 - accuracy: 0.8178 - recall_cnn: 0.7844 - precision_cnn: 0.8478 - f1_cnn: 0.8143 - val_loss: 0.5327 - val_accuracy: 0.8022 - val_recall_cnn: 0.7764 - val_precision_cnn: 0.8283 - val_f1_cnn: 0.8011\n",
      "Epoch 61/100\n",
      "305/305 [==============================] - 7s 24ms/step - loss: 0.4643 - accuracy: 0.8248 - recall_cnn: 0.7917 - precision_cnn: 0.8556 - f1_cnn: 0.8219 - val_loss: 0.5024 - val_accuracy: 0.8074 - val_recall_cnn: 0.7822 - val_precision_cnn: 0.8309 - val_f1_cnn: 0.8055\n",
      "Epoch 62/100\n",
      "305/305 [==============================] - 7s 24ms/step - loss: 0.4591 - accuracy: 0.8233 - recall_cnn: 0.7937 - precision_cnn: 0.8495 - f1_cnn: 0.8203 - val_loss: 0.5037 - val_accuracy: 0.8041 - val_recall_cnn: 0.7813 - val_precision_cnn: 0.8293 - val_f1_cnn: 0.8042\n",
      "Epoch 63/100\n",
      "305/305 [==============================] - 7s 24ms/step - loss: 0.4582 - accuracy: 0.8252 - recall_cnn: 0.7937 - precision_cnn: 0.8529 - f1_cnn: 0.8218 - val_loss: 0.5494 - val_accuracy: 0.7853 - val_recall_cnn: 0.7610 - val_precision_cnn: 0.8105 - val_f1_cnn: 0.7845\n",
      "Epoch 64/100\n",
      "305/305 [==============================] - 7s 24ms/step - loss: 0.4506 - accuracy: 0.8314 - recall_cnn: 0.8007 - precision_cnn: 0.8578 - f1_cnn: 0.8278 - val_loss: 0.4586 - val_accuracy: 0.8327 - val_recall_cnn: 0.8116 - val_precision_cnn: 0.8505 - val_f1_cnn: 0.8302\n",
      "Epoch 65/100\n",
      "305/305 [==============================] - 7s 24ms/step - loss: 0.4604 - accuracy: 0.8217 - recall_cnn: 0.7912 - precision_cnn: 0.8460 - f1_cnn: 0.8172 - val_loss: 0.4744 - val_accuracy: 0.8237 - val_recall_cnn: 0.8032 - val_precision_cnn: 0.8438 - val_f1_cnn: 0.8227\n",
      "Epoch 66/100\n",
      "305/305 [==============================] - 7s 24ms/step - loss: 0.4548 - accuracy: 0.8293 - recall_cnn: 0.7972 - precision_cnn: 0.8561 - f1_cnn: 0.8251 - val_loss: 0.4744 - val_accuracy: 0.8250 - val_recall_cnn: 0.7987 - val_precision_cnn: 0.8453 - val_f1_cnn: 0.8209\n",
      "Epoch 67/100\n",
      "305/305 [==============================] - 7s 24ms/step - loss: 0.4520 - accuracy: 0.8286 - recall_cnn: 0.7978 - precision_cnn: 0.8568 - f1_cnn: 0.8258 - val_loss: 0.6058 - val_accuracy: 0.7576 - val_recall_cnn: 0.7319 - val_precision_cnn: 0.7797 - val_f1_cnn: 0.7546\n",
      "Epoch 68/100\n",
      "305/305 [==============================] - 7s 24ms/step - loss: 0.4494 - accuracy: 0.8287 - recall_cnn: 0.7973 - precision_cnn: 0.8558 - f1_cnn: 0.8251 - val_loss: 0.5273 - val_accuracy: 0.8065 - val_recall_cnn: 0.7756 - val_precision_cnn: 0.8267 - val_f1_cnn: 0.7999\n",
      "Epoch 69/100\n",
      "305/305 [==============================] - 7s 24ms/step - loss: 0.4321 - accuracy: 0.8352 - recall_cnn: 0.8046 - precision_cnn: 0.8632 - f1_cnn: 0.8325 - val_loss: 0.5507 - val_accuracy: 0.7884 - val_recall_cnn: 0.7627 - val_precision_cnn: 0.8170 - val_f1_cnn: 0.7885\n",
      "Epoch 70/100\n",
      "305/305 [==============================] - 7s 24ms/step - loss: 0.4530 - accuracy: 0.8276 - recall_cnn: 0.7992 - precision_cnn: 0.8567 - f1_cnn: 0.8266 - val_loss: 0.4996 - val_accuracy: 0.8019 - val_recall_cnn: 0.7867 - val_precision_cnn: 0.8230 - val_f1_cnn: 0.8042\n",
      "Epoch 71/100\n",
      "305/305 [==============================] - 7s 24ms/step - loss: 0.4479 - accuracy: 0.8335 - recall_cnn: 0.8020 - precision_cnn: 0.8600 - f1_cnn: 0.8296 - val_loss: 0.5352 - val_accuracy: 0.7942 - val_recall_cnn: 0.7707 - val_precision_cnn: 0.8230 - val_f1_cnn: 0.7957\n",
      "Epoch 72/100\n",
      "305/305 [==============================] - 7s 24ms/step - loss: 0.4468 - accuracy: 0.8287 - recall_cnn: 0.7971 - precision_cnn: 0.8564 - f1_cnn: 0.8252 - val_loss: 0.4613 - val_accuracy: 0.8385 - val_recall_cnn: 0.8179 - val_precision_cnn: 0.8604 - val_f1_cnn: 0.8383\n",
      "Epoch 73/100\n",
      "305/305 [==============================] - 7s 24ms/step - loss: 0.4461 - accuracy: 0.8289 - recall_cnn: 0.7996 - precision_cnn: 0.8571 - f1_cnn: 0.8269 - val_loss: 0.5419 - val_accuracy: 0.8001 - val_recall_cnn: 0.7792 - val_precision_cnn: 0.8158 - val_f1_cnn: 0.7968\n",
      "Epoch 74/100\n",
      "305/305 [==============================] - 7s 24ms/step - loss: 0.4352 - accuracy: 0.8350 - recall_cnn: 0.8050 - precision_cnn: 0.8615 - f1_cnn: 0.8319 - val_loss: 0.4528 - val_accuracy: 0.8357 - val_recall_cnn: 0.8121 - val_precision_cnn: 0.8537 - val_f1_cnn: 0.8321\n",
      "Epoch 75/100\n",
      "305/305 [==============================] - 7s 24ms/step - loss: 0.4393 - accuracy: 0.8344 - recall_cnn: 0.8063 - precision_cnn: 0.8589 - f1_cnn: 0.8313 - val_loss: 0.5329 - val_accuracy: 0.7942 - val_recall_cnn: 0.7717 - val_precision_cnn: 0.8111 - val_f1_cnn: 0.7906\n",
      "Epoch 76/100\n",
      "305/305 [==============================] - 7s 24ms/step - loss: 0.4378 - accuracy: 0.8348 - recall_cnn: 0.8081 - precision_cnn: 0.8618 - f1_cnn: 0.8336 - val_loss: 0.4691 - val_accuracy: 0.8216 - val_recall_cnn: 0.8018 - val_precision_cnn: 0.8424 - val_f1_cnn: 0.8213\n",
      "Epoch 77/100\n",
      "305/305 [==============================] - 7s 24ms/step - loss: 0.4378 - accuracy: 0.8343 - recall_cnn: 0.8065 - precision_cnn: 0.8614 - f1_cnn: 0.8326 - val_loss: 0.6980 - val_accuracy: 0.7278 - val_recall_cnn: 0.7098 - val_precision_cnn: 0.7483 - val_f1_cnn: 0.7281\n",
      "Epoch 78/100\n",
      "305/305 [==============================] - 8s 25ms/step - loss: 0.4337 - accuracy: 0.8343 - recall_cnn: 0.8070 - precision_cnn: 0.8599 - f1_cnn: 0.8322 - val_loss: 0.4253 - val_accuracy: 0.8416 - val_recall_cnn: 0.8161 - val_precision_cnn: 0.8657 - val_f1_cnn: 0.8397\n",
      "Epoch 79/100\n",
      "305/305 [==============================] - 7s 24ms/step - loss: 0.4445 - accuracy: 0.8274 - recall_cnn: 0.7980 - precision_cnn: 0.8556 - f1_cnn: 0.8253 - val_loss: 0.4380 - val_accuracy: 0.8400 - val_recall_cnn: 0.8238 - val_precision_cnn: 0.8641 - val_f1_cnn: 0.8431\n",
      "Epoch 80/100\n",
      "305/305 [==============================] - 7s 24ms/step - loss: 0.4247 - accuracy: 0.8354 - recall_cnn: 0.8051 - precision_cnn: 0.8632 - f1_cnn: 0.8327 - val_loss: 0.3918 - val_accuracy: 0.8637 - val_recall_cnn: 0.8427 - val_precision_cnn: 0.8823 - val_f1_cnn: 0.8618\n",
      "Epoch 81/100\n",
      "305/305 [==============================] - 7s 24ms/step - loss: 0.4258 - accuracy: 0.8406 - recall_cnn: 0.8137 - precision_cnn: 0.8645 - f1_cnn: 0.8379 - val_loss: 0.4709 - val_accuracy: 0.8191 - val_recall_cnn: 0.7984 - val_precision_cnn: 0.8417 - val_f1_cnn: 0.8192\n",
      "Epoch 82/100\n",
      "305/305 [==============================] - 7s 24ms/step - loss: 0.4320 - accuracy: 0.8354 - recall_cnn: 0.8103 - precision_cnn: 0.8616 - f1_cnn: 0.8347 - val_loss: 0.4364 - val_accuracy: 0.8487 - val_recall_cnn: 0.8246 - val_precision_cnn: 0.8624 - val_f1_cnn: 0.8428\n",
      "Epoch 83/100\n",
      "305/305 [==============================] - 7s 24ms/step - loss: 0.4186 - accuracy: 0.8408 - recall_cnn: 0.8165 - precision_cnn: 0.8668 - f1_cnn: 0.8404 - val_loss: 0.5287 - val_accuracy: 0.8016 - val_recall_cnn: 0.7772 - val_precision_cnn: 0.8247 - val_f1_cnn: 0.7999\n",
      "Epoch 84/100\n",
      "305/305 [==============================] - 7s 24ms/step - loss: 0.4272 - accuracy: 0.8383 - recall_cnn: 0.8097 - precision_cnn: 0.8631 - f1_cnn: 0.8351 - val_loss: 0.4462 - val_accuracy: 0.8302 - val_recall_cnn: 0.8049 - val_precision_cnn: 0.8513 - val_f1_cnn: 0.8270\n",
      "Epoch 85/100\n",
      "305/305 [==============================] - 7s 24ms/step - loss: 0.4155 - accuracy: 0.8468 - recall_cnn: 0.8193 - precision_cnn: 0.8704 - f1_cnn: 0.8436 - val_loss: 0.4708 - val_accuracy: 0.8201 - val_recall_cnn: 0.8000 - val_precision_cnn: 0.8415 - val_f1_cnn: 0.8199\n",
      "Epoch 86/100\n",
      "305/305 [==============================] - 7s 24ms/step - loss: 0.4254 - accuracy: 0.8405 - recall_cnn: 0.8164 - precision_cnn: 0.8640 - f1_cnn: 0.8391 - val_loss: 0.5533 - val_accuracy: 0.7856 - val_recall_cnn: 0.7681 - val_precision_cnn: 0.8038 - val_f1_cnn: 0.7852\n",
      "Epoch 87/100\n",
      "305/305 [==============================] - 7s 24ms/step - loss: 0.4184 - accuracy: 0.8431 - recall_cnn: 0.8149 - precision_cnn: 0.8648 - f1_cnn: 0.8387 - val_loss: 0.4311 - val_accuracy: 0.8394 - val_recall_cnn: 0.8171 - val_precision_cnn: 0.8609 - val_f1_cnn: 0.8381\n",
      "Epoch 88/100\n",
      "305/305 [==============================] - 7s 24ms/step - loss: 0.4237 - accuracy: 0.8403 - recall_cnn: 0.8112 - precision_cnn: 0.8665 - f1_cnn: 0.8376 - val_loss: 0.4500 - val_accuracy: 0.8342 - val_recall_cnn: 0.8156 - val_precision_cnn: 0.8552 - val_f1_cnn: 0.8346\n",
      "Epoch 89/100\n",
      "305/305 [==============================] - 7s 24ms/step - loss: 0.4150 - accuracy: 0.8431 - recall_cnn: 0.8172 - precision_cnn: 0.8698 - f1_cnn: 0.8423 - val_loss: 0.4719 - val_accuracy: 0.8176 - val_recall_cnn: 0.7954 - val_precision_cnn: 0.8430 - val_f1_cnn: 0.8180\n",
      "Epoch 90/100\n",
      "305/305 [==============================] - 7s 24ms/step - loss: 0.4095 - accuracy: 0.8463 - recall_cnn: 0.8196 - precision_cnn: 0.8705 - f1_cnn: 0.8439 - val_loss: 0.4668 - val_accuracy: 0.8219 - val_recall_cnn: 0.7962 - val_precision_cnn: 0.8391 - val_f1_cnn: 0.8166\n",
      "Epoch 91/100\n",
      "305/305 [==============================] - 7s 24ms/step - loss: 0.4070 - accuracy: 0.8440 - recall_cnn: 0.8183 - precision_cnn: 0.8655 - f1_cnn: 0.8409 - val_loss: 0.4139 - val_accuracy: 0.8514 - val_recall_cnn: 0.8326 - val_precision_cnn: 0.8673 - val_f1_cnn: 0.8493\n",
      "Epoch 92/100\n",
      "305/305 [==============================] - 7s 24ms/step - loss: 0.4075 - accuracy: 0.8437 - recall_cnn: 0.8214 - precision_cnn: 0.8690 - f1_cnn: 0.8441 - val_loss: 0.3882 - val_accuracy: 0.8604 - val_recall_cnn: 0.8385 - val_precision_cnn: 0.8783 - val_f1_cnn: 0.8576\n",
      "Epoch 93/100\n",
      "305/305 [==============================] - 7s 24ms/step - loss: 0.4149 - accuracy: 0.8433 - recall_cnn: 0.8200 - precision_cnn: 0.8689 - f1_cnn: 0.8433 - val_loss: 0.5989 - val_accuracy: 0.7751 - val_recall_cnn: 0.7527 - val_precision_cnn: 0.7931 - val_f1_cnn: 0.7721\n",
      "Epoch 94/100\n",
      "305/305 [==============================] - 7s 24ms/step - loss: 0.4046 - accuracy: 0.8447 - recall_cnn: 0.8193 - precision_cnn: 0.8714 - f1_cnn: 0.8441 - val_loss: 0.5312 - val_accuracy: 0.8093 - val_recall_cnn: 0.7888 - val_precision_cnn: 0.8245 - val_f1_cnn: 0.8059\n",
      "Epoch 95/100\n",
      "305/305 [==============================] - 8s 25ms/step - loss: 0.4060 - accuracy: 0.8479 - recall_cnn: 0.8224 - precision_cnn: 0.8706 - f1_cnn: 0.8454 - val_loss: 0.5014 - val_accuracy: 0.8145 - val_recall_cnn: 0.7947 - val_precision_cnn: 0.8337 - val_f1_cnn: 0.8134\n",
      "Epoch 96/100\n",
      "305/305 [==============================] - 7s 24ms/step - loss: 0.4022 - accuracy: 0.8496 - recall_cnn: 0.8236 - precision_cnn: 0.8745 - f1_cnn: 0.8479 - val_loss: 0.4981 - val_accuracy: 0.8136 - val_recall_cnn: 0.7961 - val_precision_cnn: 0.8312 - val_f1_cnn: 0.8130\n",
      "Epoch 97/100\n",
      "305/305 [==============================] - 7s 24ms/step - loss: 0.4055 - accuracy: 0.8448 - recall_cnn: 0.8185 - precision_cnn: 0.8703 - f1_cnn: 0.8432 - val_loss: 0.5506 - val_accuracy: 0.7921 - val_recall_cnn: 0.7744 - val_precision_cnn: 0.8048 - val_f1_cnn: 0.7890\n",
      "Epoch 98/100\n",
      "305/305 [==============================] - 7s 24ms/step - loss: 0.4018 - accuracy: 0.8481 - recall_cnn: 0.8241 - precision_cnn: 0.8714 - f1_cnn: 0.8467 - val_loss: 0.4391 - val_accuracy: 0.8373 - val_recall_cnn: 0.8204 - val_precision_cnn: 0.8578 - val_f1_cnn: 0.8384\n",
      "Epoch 99/100\n",
      "305/305 [==============================] - 7s 24ms/step - loss: 0.4082 - accuracy: 0.8495 - recall_cnn: 0.8243 - precision_cnn: 0.8695 - f1_cnn: 0.8460 - val_loss: 0.3681 - val_accuracy: 0.8760 - val_recall_cnn: 0.8549 - val_precision_cnn: 0.8927 - val_f1_cnn: 0.8731\n",
      "Epoch 100/100\n",
      "305/305 [==============================] - 7s 24ms/step - loss: 0.3981 - accuracy: 0.8504 - recall_cnn: 0.8261 - precision_cnn: 0.8736 - f1_cnn: 0.8488 - val_loss: 0.4066 - val_accuracy: 0.8564 - val_recall_cnn: 0.8409 - val_precision_cnn: 0.8723 - val_f1_cnn: 0.8561\n"
     ]
    }
   ],
   "source": [
    "history_rcc_t2 = Train_CNN_Model(100, model_rcc_t2, train_iter_t2, val_iter_t2, export_dir=\"./model_result\", name=\"RCC_t2\")"
   ]
  },
  {
   "cell_type": "code",
   "execution_count": 90,
   "metadata": {},
   "outputs": [
    {
     "data": {
      "image/png": "[encoded data removed]",
      "text/plain": [
       "<Figure size 640x480 with 1 Axes>"
      ]
     },
     "metadata": {},
     "output_type": "display_data"
    },
    {
     "data": {
      "image/png": "[encoded data removed]",
      "text/plain": [
       "<Figure size 640x480 with 1 Axes>"
      ]
     },
     "metadata": {},
     "output_type": "display_data"
    }
   ],
   "source": [
    "visualize_history(history_rcc_t2)\n"
   ]
  },
  {
   "cell_type": "code",
   "execution_count": 98,
   "metadata": {},
   "outputs": [],
   "source": [
    "RCCNet_model_t2 = load_model(\n",
    "    \"./model_result/model_RCC_t2.h5\",\n",
    "    custom_objects={\"recall_cnn\": recall_cnn, \"precision_cnn\": precision_cnn, \"f1_cnn\": f1_cnn},\n",
    ")\n",
    "\n"
   ]
  },
  {
   "cell_type": "code",
   "execution_count": 99,
   "metadata": {},
   "outputs": [
    {
     "name": "stdout",
     "output_type": "stream",
     "text": [
      "102/102 [==============================] - 5s 31ms/step - loss: 0.3998 - accuracy: 0.8604 - recall_cnn: 0.8404 - precision_cnn: 0.8803 - f1_cnn: 0.8595\n",
      "305/305 [==============================] - 8s 26ms/step - loss: 0.3382 - accuracy: 0.8728 - recall_cnn: 0.8451 - precision_cnn: 0.8960 - f1_cnn: 0.8693\n",
      "102/102 [==============================] - 1s 10ms/step - loss: 0.3681 - accuracy: 0.8760 - recall_cnn: 0.8542 - precision_cnn: 0.8931 - f1_cnn: 0.8728\n",
      "Model Evaluation\n",
      "----------------------------------------------\n",
      "loss - test: 0.3998308479785919 \n",
      "loss - train : 0.3382495045661926 \n",
      "loss - val: 0.3680887520313263 \n",
      "----------------------------------------------\n",
      "accuracy - test: 0.8603506684303284 \n",
      "accuracy - train : 0.8728204965591431 \n",
      "accuracy - val: 0.876038134098053 \n",
      "----------------------------------------------\n",
      "recall - test: 0.8403637409210205 \n",
      "recall - train : 0.8450912833213806 \n",
      "recall - val: 0.8542472720146179 \n",
      "----------------------------------------------\n",
      "precision - test: 0.8802827596664429 \n",
      "precision - train : 0.8960369229316711 \n",
      "precision - val: 0.8930943012237549 \n",
      "----------------------------------------------\n",
      "f1 - test: 0.8595331311225891 \n",
      "f1 - train : 0.869326114654541 \n",
      "f1 - val: 0.8728362917900085 \n"
     ]
    },
    {
     "name": "stderr",
     "output_type": "stream",
     "text": [
      "C:\\Users\\Admin\\AppData\\Local\\Temp\\ipykernel_22932\\351448186.py:42: FutureWarning: The frame.append method is deprecated and will be removed from pandas in a future version. Use pandas.concat instead.\n",
      "  pred_cnn_df = pred_cnn_df.append(pd.DataFrame(run), ignore_index=True)\n"
     ]
    }
   ],
   "source": [
    "Evaluate_CNN_Model(RCCNet_model_t2, test_iter_t2, train_iter_t2, val_iter_t2, \"RCC Task 2\")\n"
   ]
  }
 ],
 "metadata": {
  "deepnote": {},
  "deepnote_execution_queue": [],
  "deepnote_notebook_id": "5b58397afca0413c8935c789db75791b",
  "kernelspec": {
   "display_name": "Python 3",
   "language": "python",
   "name": "python3"
  },
  "language_info": {
   "codemirror_mode": {
    "name": "ipython",
    "version": 3
   },
   "file_extension": ".py",
   "mimetype": "text/x-python",
   "name": "python",
   "nbconvert_exporter": "python",
   "pygments_lexer": "ipython3",
   "version": "3.10.8 (main, Oct 13 2022, 09:48:40) [Clang 14.0.0 (clang-1400.0.29.102)]"
  },
  "vscode": {
   "interpreter": {
    "hash": "b0fa6594d8f4cbf19f97940f81e996739fb7646882a419484c72d19e05852a7e"
   }
  }
 },
 "nbformat": 4,
 "nbformat_minor": 4
}
